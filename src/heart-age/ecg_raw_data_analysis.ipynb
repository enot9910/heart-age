{
 "cells": [
  {
   "cell_type": "code",
   "execution_count": 6,
   "id": "58b14058",
   "metadata": {},
   "outputs": [
    {
     "name": "stdout",
     "output_type": "stream",
     "text": [
      "The autoreload extension is already loaded. To reload it, use:\n",
      "  %reload_ext autoreload\n"
     ]
    }
   ],
   "source": [
    "%load_ext autoreload\n",
    "%autoreload 2\n",
    "from pathlib import Path\n",
    "import pandas as pd\n",
    "import warnings\n",
    "\n",
    "warnings.filterwarnings(\"ignore\") "
   ]
  },
  {
   "cell_type": "code",
   "execution_count": null,
   "id": "566cf6ff",
   "metadata": {},
   "outputs": [],
   "source": [
    "from cycles_signal_process import (\n",
    "    calc_average_signal\n",
    ")\n",
    "from features_process import (\n",
    " \n",
    "    get_waves_peak,\n",
    ")\n",
    "from pathlib import Path\n",
    "import neurokit2 as nk\n",
    "from tqdm import tqdm\n",
    "import numpy as np\n",
    "\n",
    "channel_names = ['I', 'II', 'III', 'aVR', 'aVL', 'aVF', 'V1', 'V2', 'V3', 'V4', 'V5', 'V6']\n",
    "\n",
    "\n",
    "def get_age_group(age, age_groups):\n",
    "    if age_groups is None:\n",
    "        return age\n",
    "    \n",
    "    age_groups_sorted = sorted(age_groups)\n",
    "    age_key = None\n",
    "    \n",
    "    for i in range(len(age_groups_sorted)-1):\n",
    "        if age_groups_sorted[i] <= age < age_groups_sorted[i+1]:\n",
    "            age_key = age_groups_sorted[i]\n",
    "            break\n",
    "    \n",
    "    if age_key is None and age >= age_groups_sorted[-1]:\n",
    "        age_key = age_groups_sorted[-1]\n",
    "    \n",
    "    return age_key\n",
    "\n",
    "\n",
    "def get_average_signals_by_age(\n",
    "    processed_dir, \n",
    "    fs=500,\n",
    "    npz_files=None,\n",
    "    output_dir='ptb_xl_average_signals',\n",
    "    age_groups=None,\n",
    "    method=\"dwt\",\n",
    "    output_dir_peaks='ptb_xl_peaks', \n",
    "    show_plot=False,\n",
    "    calc_waves_peak=False\n",
    "):\n",
    "    if npz_files is None:\n",
    "        npz_files = list(processed_dir.glob(\"*.npz\"))\n",
    "        print(f\"Found {len(npz_files)} patient files\")\n",
    "    \n",
    "    output_dir = Path(output_dir)\n",
    "    output_dir.mkdir(parents=True, exist_ok=True)\n",
    "    age_data = {}\n",
    "    \n",
    "    for file_path in tqdm(npz_files, desc=\"Processing patients\"):\n",
    "        output_dir_peaks = processed_dir.parent / output_dir_peaks / method\n",
    "        try:\n",
    "            data = np.load(file_path, allow_pickle=True)\n",
    "            signal = data['signal']\n",
    "            patient_id = int(data['patient_id'].item())\n",
    "            age = int(data['age'].item()) if 'age' in data else None\n",
    "            \n",
    "            if age is None:\n",
    "                continue\n",
    "\n",
    "            age_key = get_age_group(age, age_groups)\n",
    "            if age_key is None:\n",
    "                continue\n",
    "                \n",
    "            if age_key not in age_data:\n",
    "                age_data[age_key] = {channel: [] for channel in channel_names}\n",
    "            \n",
    "            waves_peak_filename = output_dir_peaks / f\"{file_path.stem}_features.npz\" #TODO _features -> _peaks\n",
    "            if waves_peak_filename.exists() and calc_waves_peak==False:\n",
    "                loaded_waves_peak = np.load(waves_peak_filename, allow_pickle=True)\n",
    "                #waves_peak_info = {key: loaded_waves_peak[key] for key in loaded_waves_peak.files}\n",
    "                waves_peak_info = {\n",
    "                    key: loaded_waves_peak[key].item() for key in loaded_waves_peak if not key.startswith('__')\n",
    "                }\n",
    "            for i, channel_name in enumerate(channel_names):\n",
    "                lead_signal = signal[i]\n",
    "                signal_cleaned = nk.ecg_clean(lead_signal, sampling_rate=fs)\n",
    "                \n",
    "                waves_peak = get_waves_peak(signal_cleaned, fs, method=method)\n",
    "                r_peaks = waves_peak['ECG_R_Peaks']\n",
    "                \n",
    "                if len(r_peaks) > 0:\n",
    "                    avg_signal, _, _ = calc_average_signal(signal_cleaned, r_peaks, fs)\n",
    "                    age_data[age_key][channel_name].append(avg_signal)\n",
    "                    \n",
    "        except Exception as e:\n",
    "            print(f\"Error processing {file_path}: {e}\")\n",
    "    return age_data\n",
    "\n",
    "def save_age_group_data(age_data, output_dir):\n",
    "    output_dir = Path(output_dir)\n",
    "    output_dir.mkdir(parents=True, exist_ok=True)\n",
    "    \n",
    "    np.savez(output_dir / \"age_group_info.npz\", age_data=age_data)\n",
    "    \n",
    "    for age, channels_data in age_data.items():\n",
    "        age_dir = output_dir / str(age)\n",
    "        age_dir.mkdir(exist_ok=True)\n",
    "        \n",
    "        for channel, signals in channels_data.items():\n",
    "            if len(signals) > 0:\n",
    "                final_avg_signal = np.mean(signals, axis=0)\n",
    "                np.savez(\n",
    "                    age_dir / f\"{channel}_avg.npz\",\n",
    "                    signal=final_avg_signal,\n",
    "                    age=age,\n",
    "                    channel=channel,\n",
    "                    num_patients=len(signals)\n",
    "                )\n",
    "    \n",
    "    print(f\"Results saved to {output_dir}\")\n",
    "    return output_dir"
   ]
  },
  {
   "cell_type": "code",
   "execution_count": 8,
   "id": "354af49b",
   "metadata": {},
   "outputs": [],
   "source": [
    "from paths import data_dir"
   ]
  },
  {
   "cell_type": "code",
   "execution_count": 9,
   "id": "cfc3f845",
   "metadata": {},
   "outputs": [
    {
     "data": {
      "text/plain": [
       "(WindowsPath('C:/Users/lenovo/Desktop/sci/data/ecg'), True)"
      ]
     },
     "execution_count": 9,
     "metadata": {},
     "output_type": "execute_result"
    }
   ],
   "source": [
    "data_dir, data_dir.exists()"
   ]
  },
  {
   "cell_type": "code",
   "execution_count": 10,
   "id": "923eed3a",
   "metadata": {},
   "outputs": [],
   "source": [
    "dataset = 'ptb_xl'\n",
    "path_to_zip=data_dir / dataset\n",
    "frequency = 500\n",
    "\n",
    "channel_names = ['I', 'II', 'III', 'aVR', 'aVL', 'aVF', 'V1', 'V2', 'V3', 'V4', 'V5', 'V6']\n",
    "fs = 500"
   ]
  },
  {
   "cell_type": "code",
   "execution_count": null,
   "id": "8f4edf41",
   "metadata": {},
   "outputs": [],
   "source": []
  },
  {
   "cell_type": "code",
   "execution_count": null,
   "id": "fd1be393",
   "metadata": {},
   "outputs": [
    {
     "name": "stdout",
     "output_type": "stream",
     "text": [
      "Found 18868 patient files\n"
     ]
    },
    {
     "name": "stderr",
     "output_type": "stream",
     "text": [
      "Processing patients:   1%|          | 105/18868 [00:44<2:10:43,  2.39it/s]"
     ]
    },
    {
     "name": "stdout",
     "output_type": "stream",
     "text": [
      "Error processing C:\\Users\\lenovo\\Desktop\\sci\\data\\ecg\\ptb_xl\\ptb_xl_npz\\ecg_10108.npz: integer division or modulo by zero\n"
     ]
    },
    {
     "name": "stderr",
     "output_type": "stream",
     "text": [
      "Processing patients:   1%|          | 123/18868 [00:51<1:41:23,  3.08it/s]"
     ]
    },
    {
     "name": "stdout",
     "output_type": "stream",
     "text": [
      "Error processing C:\\Users\\lenovo\\Desktop\\sci\\data\\ecg\\ptb_xl\\ptb_xl_npz\\ecg_10124.npz: cannot convert float NaN to integer\n"
     ]
    },
    {
     "name": "stderr",
     "output_type": "stream",
     "text": [
      "Processing patients:   1%|          | 134/18868 [00:56<2:05:07,  2.50it/s]"
     ]
    },
    {
     "name": "stdout",
     "output_type": "stream",
     "text": [
      "Error processing C:\\Users\\lenovo\\Desktop\\sci\\data\\ecg\\ptb_xl\\ptb_xl_npz\\ecg_10134.npz: cannot convert float NaN to integer\n"
     ]
    },
    {
     "name": "stderr",
     "output_type": "stream",
     "text": [
      "Processing patients:   1%|          | 137/18868 [00:57<2:07:36,  2.45it/s]"
     ]
    },
    {
     "name": "stdout",
     "output_type": "stream",
     "text": [
      "Error processing C:\\Users\\lenovo\\Desktop\\sci\\data\\ecg\\ptb_xl\\ptb_xl_npz\\ecg_10137.npz: cannot convert float NaN to integer\n"
     ]
    },
    {
     "name": "stderr",
     "output_type": "stream",
     "text": [
      "Processing patients:   1%|          | 161/18868 [01:08<2:37:02,  1.99it/s]"
     ]
    },
    {
     "name": "stdout",
     "output_type": "stream",
     "text": [
      "Error processing C:\\Users\\lenovo\\Desktop\\sci\\data\\ecg\\ptb_xl\\ptb_xl_npz\\ecg_10161.npz: integer division or modulo by zero\n"
     ]
    },
    {
     "name": "stderr",
     "output_type": "stream",
     "text": [
      "Processing patients:   1%|          | 166/18868 [01:10<2:41:58,  1.92it/s]"
     ]
    },
    {
     "name": "stdout",
     "output_type": "stream",
     "text": [
      "Error processing C:\\Users\\lenovo\\Desktop\\sci\\data\\ecg\\ptb_xl\\ptb_xl_npz\\ecg_10166.npz: cannot convert float NaN to integer\n"
     ]
    },
    {
     "name": "stderr",
     "output_type": "stream",
     "text": [
      "Processing patients:   1%|          | 192/18868 [01:25<3:01:15,  1.72it/s]"
     ]
    },
    {
     "name": "stdout",
     "output_type": "stream",
     "text": [
      "Error processing C:\\Users\\lenovo\\Desktop\\sci\\data\\ecg\\ptb_xl\\ptb_xl_npz\\ecg_10193.npz: cannot convert float NaN to integer\n"
     ]
    },
    {
     "name": "stderr",
     "output_type": "stream",
     "text": [
      "Processing patients:   1%|          | 202/18868 [01:29<2:29:15,  2.08it/s]"
     ]
    },
    {
     "name": "stdout",
     "output_type": "stream",
     "text": [
      "Error processing C:\\Users\\lenovo\\Desktop\\sci\\data\\ecg\\ptb_xl\\ptb_xl_npz\\ecg_10201.npz: cannot convert float NaN to integer\n"
     ]
    },
    {
     "name": "stderr",
     "output_type": "stream",
     "text": [
      "Processing patients:   1%|          | 227/18868 [01:43<2:12:04,  2.35it/s]"
     ]
    },
    {
     "name": "stdout",
     "output_type": "stream",
     "text": [
      "Error processing C:\\Users\\lenovo\\Desktop\\sci\\data\\ecg\\ptb_xl\\ptb_xl_npz\\ecg_10227.npz: cannot convert float NaN to integer\n"
     ]
    },
    {
     "name": "stderr",
     "output_type": "stream",
     "text": [
      "Processing patients:   1%|▏         | 282/18868 [02:14<2:39:33,  1.94it/s]"
     ]
    },
    {
     "name": "stdout",
     "output_type": "stream",
     "text": [
      "Error processing C:\\Users\\lenovo\\Desktop\\sci\\data\\ecg\\ptb_xl\\ptb_xl_npz\\ecg_10283.npz: cannot convert float NaN to integer\n"
     ]
    },
    {
     "name": "stderr",
     "output_type": "stream",
     "text": [
      "Processing patients:   2%|▏         | 308/18868 [02:29<2:38:56,  1.95it/s]"
     ]
    },
    {
     "name": "stdout",
     "output_type": "stream",
     "text": [
      "Error processing C:\\Users\\lenovo\\Desktop\\sci\\data\\ecg\\ptb_xl\\ptb_xl_npz\\ecg_10308.npz: integer division or modulo by zero\n"
     ]
    },
    {
     "name": "stderr",
     "output_type": "stream",
     "text": [
      "Processing patients:   2%|▏         | 318/18868 [02:34<2:18:00,  2.24it/s]"
     ]
    },
    {
     "name": "stdout",
     "output_type": "stream",
     "text": [
      "Error processing C:\\Users\\lenovo\\Desktop\\sci\\data\\ecg\\ptb_xl\\ptb_xl_npz\\ecg_10317.npz: cannot convert float NaN to integer\n"
     ]
    },
    {
     "name": "stderr",
     "output_type": "stream",
     "text": [
      "Processing patients:   2%|▏         | 341/18868 [02:47<2:28:16,  2.08it/s]"
     ]
    },
    {
     "name": "stdout",
     "output_type": "stream",
     "text": [
      "Error processing C:\\Users\\lenovo\\Desktop\\sci\\data\\ecg\\ptb_xl\\ptb_xl_npz\\ecg_10338.npz: cannot convert float NaN to integer\n"
     ]
    },
    {
     "name": "stderr",
     "output_type": "stream",
     "text": [
      "Processing patients:   3%|▎         | 485/18868 [03:58<2:10:38,  2.35it/s]"
     ]
    },
    {
     "name": "stdout",
     "output_type": "stream",
     "text": [
      "Error processing C:\\Users\\lenovo\\Desktop\\sci\\data\\ecg\\ptb_xl\\ptb_xl_npz\\ecg_10488.npz: integer division or modulo by zero\n"
     ]
    },
    {
     "name": "stderr",
     "output_type": "stream",
     "text": [
      "Processing patients:   3%|▎         | 543/18868 [04:23<1:54:25,  2.67it/s]"
     ]
    },
    {
     "name": "stdout",
     "output_type": "stream",
     "text": [
      "Error processing C:\\Users\\lenovo\\Desktop\\sci\\data\\ecg\\ptb_xl\\ptb_xl_npz\\ecg_10546.npz: cannot convert float NaN to integer\n",
      "Error processing C:\\Users\\lenovo\\Desktop\\sci\\data\\ecg\\ptb_xl\\ptb_xl_npz\\ecg_10548.npz: cannot convert float NaN to integer\n"
     ]
    },
    {
     "name": "stderr",
     "output_type": "stream",
     "text": [
      "Processing patients:   3%|▎         | 565/18868 [04:32<1:37:41,  3.12it/s]"
     ]
    },
    {
     "name": "stdout",
     "output_type": "stream",
     "text": [
      "Error processing C:\\Users\\lenovo\\Desktop\\sci\\data\\ecg\\ptb_xl\\ptb_xl_npz\\ecg_10577.npz: integer division or modulo by zero\n"
     ]
    },
    {
     "name": "stderr",
     "output_type": "stream",
     "text": [
      "Processing patients:   3%|▎         | 609/18868 [04:49<1:58:31,  2.57it/s]"
     ]
    },
    {
     "name": "stdout",
     "output_type": "stream",
     "text": [
      "Error processing C:\\Users\\lenovo\\Desktop\\sci\\data\\ecg\\ptb_xl\\ptb_xl_npz\\ecg_10622.npz: cannot convert float NaN to integer\n"
     ]
    },
    {
     "name": "stderr",
     "output_type": "stream",
     "text": [
      "Processing patients:   4%|▎         | 681/18868 [05:19<1:51:09,  2.73it/s]"
     ]
    },
    {
     "name": "stdout",
     "output_type": "stream",
     "text": [
      "Error processing C:\\Users\\lenovo\\Desktop\\sci\\data\\ecg\\ptb_xl\\ptb_xl_npz\\ecg_10709.npz: cannot convert float NaN to integer\n"
     ]
    },
    {
     "name": "stderr",
     "output_type": "stream",
     "text": [
      "Processing patients:   4%|▎         | 685/18868 [05:21<1:58:06,  2.57it/s]"
     ]
    },
    {
     "name": "stdout",
     "output_type": "stream",
     "text": [
      "Error processing C:\\Users\\lenovo\\Desktop\\sci\\data\\ecg\\ptb_xl\\ptb_xl_npz\\ecg_10712.npz: integer division or modulo by zero\n"
     ]
    },
    {
     "name": "stderr",
     "output_type": "stream",
     "text": [
      "Processing patients:   4%|▎         | 699/18868 [05:26<1:52:24,  2.69it/s]"
     ]
    },
    {
     "name": "stdout",
     "output_type": "stream",
     "text": [
      "Error processing C:\\Users\\lenovo\\Desktop\\sci\\data\\ecg\\ptb_xl\\ptb_xl_npz\\ecg_10726.npz: cannot convert float NaN to integer\n"
     ]
    },
    {
     "name": "stderr",
     "output_type": "stream",
     "text": [
      "Processing patients:   4%|▍         | 727/18868 [05:38<1:35:43,  3.16it/s]"
     ]
    },
    {
     "name": "stdout",
     "output_type": "stream",
     "text": [
      "Error processing C:\\Users\\lenovo\\Desktop\\sci\\data\\ecg\\ptb_xl\\ptb_xl_npz\\ecg_10755.npz: cannot convert float NaN to integer\n"
     ]
    },
    {
     "name": "stderr",
     "output_type": "stream",
     "text": [
      "Processing patients:   4%|▍         | 796/18868 [06:07<1:47:50,  2.79it/s]"
     ]
    },
    {
     "name": "stdout",
     "output_type": "stream",
     "text": [
      "Error processing C:\\Users\\lenovo\\Desktop\\sci\\data\\ecg\\ptb_xl\\ptb_xl_npz\\ecg_10823.npz: cannot convert float NaN to integer\n"
     ]
    },
    {
     "name": "stderr",
     "output_type": "stream",
     "text": [
      "Processing patients:   4%|▍         | 802/18868 [06:09<1:33:07,  3.23it/s]"
     ]
    },
    {
     "name": "stdout",
     "output_type": "stream",
     "text": [
      "Error processing C:\\Users\\lenovo\\Desktop\\sci\\data\\ecg\\ptb_xl\\ptb_xl_npz\\ecg_10829.npz: cannot convert float NaN to integer\n"
     ]
    },
    {
     "name": "stderr",
     "output_type": "stream",
     "text": [
      "Processing patients:   5%|▍         | 896/18868 [06:48<1:39:10,  3.02it/s]"
     ]
    },
    {
     "name": "stdout",
     "output_type": "stream",
     "text": [
      "Error processing C:\\Users\\lenovo\\Desktop\\sci\\data\\ecg\\ptb_xl\\ptb_xl_npz\\ecg_10930.npz: cannot convert float NaN to integer\n"
     ]
    },
    {
     "name": "stderr",
     "output_type": "stream",
     "text": [
      "Processing patients:   5%|▌         | 973/18868 [07:22<1:53:21,  2.63it/s]"
     ]
    },
    {
     "name": "stdout",
     "output_type": "stream",
     "text": [
      "Error processing C:\\Users\\lenovo\\Desktop\\sci\\data\\ecg\\ptb_xl\\ptb_xl_npz\\ecg_11010.npz: cannot convert float NaN to integer\n"
     ]
    },
    {
     "name": "stderr",
     "output_type": "stream",
     "text": [
      "Processing patients:   5%|▌         | 979/18868 [07:24<1:45:17,  2.83it/s]"
     ]
    },
    {
     "name": "stdout",
     "output_type": "stream",
     "text": [
      "Error processing C:\\Users\\lenovo\\Desktop\\sci\\data\\ecg\\ptb_xl\\ptb_xl_npz\\ecg_11017.npz: cannot convert float NaN to integer\n"
     ]
    },
    {
     "name": "stderr",
     "output_type": "stream",
     "text": [
      "Processing patients:   5%|▌         | 984/18868 [07:26<2:00:35,  2.47it/s]"
     ]
    },
    {
     "name": "stdout",
     "output_type": "stream",
     "text": [
      "Error processing C:\\Users\\lenovo\\Desktop\\sci\\data\\ecg\\ptb_xl\\ptb_xl_npz\\ecg_11022.npz: cannot convert float NaN to integer\n"
     ]
    },
    {
     "name": "stderr",
     "output_type": "stream",
     "text": [
      "Processing patients:   5%|▌         | 1022/18868 [07:42<1:46:13,  2.80it/s]"
     ]
    },
    {
     "name": "stdout",
     "output_type": "stream",
     "text": [
      "Error processing C:\\Users\\lenovo\\Desktop\\sci\\data\\ecg\\ptb_xl\\ptb_xl_npz\\ecg_11065.npz: cannot convert float NaN to integer\n"
     ]
    },
    {
     "name": "stderr",
     "output_type": "stream",
     "text": [
      "Processing patients:   5%|▌         | 1031/18868 [07:45<1:33:11,  3.19it/s]"
     ]
    },
    {
     "name": "stdout",
     "output_type": "stream",
     "text": [
      "Error processing C:\\Users\\lenovo\\Desktop\\sci\\data\\ecg\\ptb_xl\\ptb_xl_npz\\ecg_11074.npz: cannot convert float NaN to integer\n"
     ]
    },
    {
     "name": "stderr",
     "output_type": "stream",
     "text": [
      "Processing patients:   6%|▌         | 1147/18868 [08:38<1:52:09,  2.63it/s]"
     ]
    },
    {
     "name": "stdout",
     "output_type": "stream",
     "text": [
      "Error processing C:\\Users\\lenovo\\Desktop\\sci\\data\\ecg\\ptb_xl\\ptb_xl_npz\\ecg_11203.npz: integer division or modulo by zero\n"
     ]
    },
    {
     "name": "stderr",
     "output_type": "stream",
     "text": [
      "Processing patients:   6%|▌         | 1152/18868 [08:40<1:46:29,  2.77it/s]"
     ]
    },
    {
     "name": "stdout",
     "output_type": "stream",
     "text": [
      "Error processing C:\\Users\\lenovo\\Desktop\\sci\\data\\ecg\\ptb_xl\\ptb_xl_npz\\ecg_11208.npz: cannot convert float NaN to integer\n"
     ]
    },
    {
     "name": "stderr",
     "output_type": "stream",
     "text": [
      "Processing patients:   6%|▋         | 1204/18868 [09:02<2:07:05,  2.32it/s]"
     ]
    },
    {
     "name": "stdout",
     "output_type": "stream",
     "text": [
      "Error processing C:\\Users\\lenovo\\Desktop\\sci\\data\\ecg\\ptb_xl\\ptb_xl_npz\\ecg_11260.npz: integer division or modulo by zero\n"
     ]
    },
    {
     "name": "stderr",
     "output_type": "stream",
     "text": [
      "Processing patients:   7%|▋         | 1240/18868 [09:18<2:06:07,  2.33it/s]"
     ]
    },
    {
     "name": "stdout",
     "output_type": "stream",
     "text": [
      "Error processing C:\\Users\\lenovo\\Desktop\\sci\\data\\ecg\\ptb_xl\\ptb_xl_npz\\ecg_1130.npz: cannot convert float NaN to integer\n"
     ]
    },
    {
     "name": "stderr",
     "output_type": "stream",
     "text": [
      "Processing patients:   7%|▋         | 1276/18868 [09:34<2:02:43,  2.39it/s]"
     ]
    },
    {
     "name": "stdout",
     "output_type": "stream",
     "text": [
      "Error processing C:\\Users\\lenovo\\Desktop\\sci\\data\\ecg\\ptb_xl\\ptb_xl_npz\\ecg_11335.npz: cannot convert float NaN to integer\n"
     ]
    },
    {
     "name": "stderr",
     "output_type": "stream",
     "text": [
      "Processing patients:   7%|▋         | 1283/18868 [09:37<1:54:03,  2.57it/s]"
     ]
    },
    {
     "name": "stdout",
     "output_type": "stream",
     "text": [
      "Error processing C:\\Users\\lenovo\\Desktop\\sci\\data\\ecg\\ptb_xl\\ptb_xl_npz\\ecg_11344.npz: cannot convert float NaN to integer\n"
     ]
    },
    {
     "name": "stderr",
     "output_type": "stream",
     "text": [
      "Processing patients:   7%|▋         | 1293/18868 [09:41<1:51:31,  2.63it/s]"
     ]
    },
    {
     "name": "stdout",
     "output_type": "stream",
     "text": [
      "Error processing C:\\Users\\lenovo\\Desktop\\sci\\data\\ecg\\ptb_xl\\ptb_xl_npz\\ecg_11353.npz: cannot convert float NaN to integer\n"
     ]
    },
    {
     "name": "stderr",
     "output_type": "stream",
     "text": [
      "Processing patients:   7%|▋         | 1306/18868 [09:47<2:05:07,  2.34it/s]"
     ]
    },
    {
     "name": "stdout",
     "output_type": "stream",
     "text": [
      "Error processing C:\\Users\\lenovo\\Desktop\\sci\\data\\ecg\\ptb_xl\\ptb_xl_npz\\ecg_11370.npz: integer division or modulo by zero\n"
     ]
    },
    {
     "name": "stderr",
     "output_type": "stream",
     "text": [
      "Processing patients:   7%|▋         | 1325/18868 [09:54<1:49:03,  2.68it/s]"
     ]
    },
    {
     "name": "stdout",
     "output_type": "stream",
     "text": [
      "Error processing C:\\Users\\lenovo\\Desktop\\sci\\data\\ecg\\ptb_xl\\ptb_xl_npz\\ecg_11390.npz: cannot convert float NaN to integer\n"
     ]
    },
    {
     "name": "stderr",
     "output_type": "stream",
     "text": [
      "Processing patients:   7%|▋         | 1358/18868 [10:08<2:12:46,  2.20it/s]"
     ]
    },
    {
     "name": "stdout",
     "output_type": "stream",
     "text": [
      "Error processing C:\\Users\\lenovo\\Desktop\\sci\\data\\ecg\\ptb_xl\\ptb_xl_npz\\ecg_11425.npz: integer division or modulo by zero\n"
     ]
    },
    {
     "name": "stderr",
     "output_type": "stream",
     "text": [
      "Processing patients:   7%|▋         | 1395/18868 [10:24<1:44:33,  2.79it/s]"
     ]
    },
    {
     "name": "stdout",
     "output_type": "stream",
     "text": [
      "Error processing C:\\Users\\lenovo\\Desktop\\sci\\data\\ecg\\ptb_xl\\ptb_xl_npz\\ecg_11460.npz: integer division or modulo by zero\n"
     ]
    },
    {
     "name": "stderr",
     "output_type": "stream",
     "text": [
      "Processing patients:   8%|▊         | 1471/18868 [10:57<1:58:49,  2.44it/s]"
     ]
    },
    {
     "name": "stdout",
     "output_type": "stream",
     "text": [
      "Error processing C:\\Users\\lenovo\\Desktop\\sci\\data\\ecg\\ptb_xl\\ptb_xl_npz\\ecg_1154.npz: cannot convert float NaN to integer\n"
     ]
    },
    {
     "name": "stderr",
     "output_type": "stream",
     "text": [
      "Processing patients:   8%|▊         | 1490/18868 [11:04<1:40:12,  2.89it/s]"
     ]
    },
    {
     "name": "stdout",
     "output_type": "stream",
     "text": [
      "Error processing C:\\Users\\lenovo\\Desktop\\sci\\data\\ecg\\ptb_xl\\ptb_xl_npz\\ecg_11561.npz: integer division or modulo by zero\n"
     ]
    },
    {
     "name": "stderr",
     "output_type": "stream",
     "text": [
      "Processing patients:   8%|▊         | 1550/18868 [11:30<2:14:07,  2.15it/s]"
     ]
    },
    {
     "name": "stdout",
     "output_type": "stream",
     "text": [
      "Error processing C:\\Users\\lenovo\\Desktop\\sci\\data\\ecg\\ptb_xl\\ptb_xl_npz\\ecg_11621.npz: integer division or modulo by zero\n"
     ]
    },
    {
     "name": "stderr",
     "output_type": "stream",
     "text": [
      "Processing patients:   8%|▊         | 1557/18868 [11:32<1:45:38,  2.73it/s]"
     ]
    },
    {
     "name": "stdout",
     "output_type": "stream",
     "text": [
      "Error processing C:\\Users\\lenovo\\Desktop\\sci\\data\\ecg\\ptb_xl\\ptb_xl_npz\\ecg_11627.npz: cannot convert float NaN to integer\n"
     ]
    },
    {
     "name": "stderr",
     "output_type": "stream",
     "text": [
      "Processing patients:   8%|▊         | 1588/18868 [11:45<1:58:07,  2.44it/s]"
     ]
    },
    {
     "name": "stdout",
     "output_type": "stream",
     "text": [
      "Error processing C:\\Users\\lenovo\\Desktop\\sci\\data\\ecg\\ptb_xl\\ptb_xl_npz\\ecg_11659.npz: integer division or modulo by zero\n"
     ]
    },
    {
     "name": "stderr",
     "output_type": "stream",
     "text": [
      "Processing patients:   8%|▊         | 1594/18868 [11:47<1:35:30,  3.01it/s]"
     ]
    },
    {
     "name": "stdout",
     "output_type": "stream",
     "text": [
      "Error processing C:\\Users\\lenovo\\Desktop\\sci\\data\\ecg\\ptb_xl\\ptb_xl_npz\\ecg_11663.npz: cannot convert float NaN to integer\n"
     ]
    },
    {
     "name": "stderr",
     "output_type": "stream",
     "text": [
      "Processing patients:   9%|▊         | 1604/18868 [11:52<1:59:57,  2.40it/s]"
     ]
    },
    {
     "name": "stdout",
     "output_type": "stream",
     "text": [
      "Error processing C:\\Users\\lenovo\\Desktop\\sci\\data\\ecg\\ptb_xl\\ptb_xl_npz\\ecg_11676.npz: cannot convert float NaN to integer\n"
     ]
    },
    {
     "name": "stderr",
     "output_type": "stream",
     "text": [
      "Processing patients:   9%|▊         | 1644/18868 [12:08<1:34:22,  3.04it/s]"
     ]
    },
    {
     "name": "stdout",
     "output_type": "stream",
     "text": [
      "Error processing C:\\Users\\lenovo\\Desktop\\sci\\data\\ecg\\ptb_xl\\ptb_xl_npz\\ecg_11713.npz: cannot convert float NaN to integer\n"
     ]
    },
    {
     "name": "stderr",
     "output_type": "stream",
     "text": [
      "Processing patients:   9%|▉         | 1663/18868 [12:15<2:01:38,  2.36it/s]"
     ]
    },
    {
     "name": "stdout",
     "output_type": "stream",
     "text": [
      "Error processing C:\\Users\\lenovo\\Desktop\\sci\\data\\ecg\\ptb_xl\\ptb_xl_npz\\ecg_11732.npz: cannot convert float NaN to integer\n"
     ]
    },
    {
     "name": "stderr",
     "output_type": "stream",
     "text": [
      "Processing patients:   9%|▉         | 1666/18868 [12:16<1:55:59,  2.47it/s]"
     ]
    },
    {
     "name": "stdout",
     "output_type": "stream",
     "text": [
      "Error processing C:\\Users\\lenovo\\Desktop\\sci\\data\\ecg\\ptb_xl\\ptb_xl_npz\\ecg_11736.npz: cannot convert float NaN to integer\n"
     ]
    },
    {
     "name": "stderr",
     "output_type": "stream",
     "text": [
      "Processing patients:   9%|▉         | 1678/18868 [12:22<2:03:19,  2.32it/s]"
     ]
    },
    {
     "name": "stdout",
     "output_type": "stream",
     "text": [
      "Error processing C:\\Users\\lenovo\\Desktop\\sci\\data\\ecg\\ptb_xl\\ptb_xl_npz\\ecg_11752.npz: cannot convert float NaN to integer\n"
     ]
    },
    {
     "name": "stderr",
     "output_type": "stream",
     "text": [
      "Processing patients:   9%|▉         | 1683/18868 [12:23<1:37:29,  2.94it/s]"
     ]
    },
    {
     "name": "stdout",
     "output_type": "stream",
     "text": [
      "Error processing C:\\Users\\lenovo\\Desktop\\sci\\data\\ecg\\ptb_xl\\ptb_xl_npz\\ecg_11757.npz: cannot convert float NaN to integer\n"
     ]
    },
    {
     "name": "stderr",
     "output_type": "stream",
     "text": [
      "Processing patients:   9%|▉         | 1708/18868 [12:33<2:00:02,  2.38it/s]"
     ]
    },
    {
     "name": "stdout",
     "output_type": "stream",
     "text": [
      "Error processing C:\\Users\\lenovo\\Desktop\\sci\\data\\ecg\\ptb_xl\\ptb_xl_npz\\ecg_11783.npz: cannot convert float NaN to integer\n"
     ]
    },
    {
     "name": "stderr",
     "output_type": "stream",
     "text": [
      "Processing patients:   9%|▉         | 1713/18868 [12:35<1:54:55,  2.49it/s]"
     ]
    }
   ],
   "source": [
    "average_signals = get_average_signals_by_age(path_to_zip / 'ptb_xl_npz')"
   ]
  },
  {
   "cell_type": "code",
   "execution_count": null,
   "id": "8a6779b3",
   "metadata": {},
   "outputs": [],
   "source": [
    "def save_age_group_data(age_data, output_dir):\n",
    "    output_dir = Path(output_dir)\n",
    "    output_dir.mkdir(parents=True, exist_ok=True)\n",
    "    \n",
    "    np.savez(output_dir / \"age_group_signal.npz\", age_data=age_data)\n",
    "    \n",
    "    for age, channels_data in age_data.items():\n",
    "        age_dir = output_dir / str(age)\n",
    "        age_dir.mkdir(exist_ok=True)\n",
    "        \n",
    "        for channel, signals in channels_data.items():\n",
    "            if len(signals) > 0:\n",
    "                final_avg_signal = np.mean(signals, axis=0)\n",
    "                np.savez(\n",
    "                    age_dir / f\"{channel}_avg.npz\",\n",
    "                    signal=final_avg_signal,\n",
    "                    age=age,\n",
    "                    channel=channel,\n",
    "                    num_patients=len(signals)\n",
    "                )\n",
    "    \n",
    "    print(f\"Results saved to {output_dir}\")\n",
    "    return output_dir\n",
    "\n",
    "save_age_group_data(average_signals, path_to_zip / 'signal_age_group')\n"
   ]
  },
  {
   "cell_type": "code",
   "execution_count": null,
   "id": "a0379fca",
   "metadata": {},
   "outputs": [
    {
     "data": {
      "text/plain": [
       "'\\ndef plot_ecg_cycle_with_features(cycle, signal, fs, cycle_num=0):\\n    fig, ax = plt.subplots(figsize=(15, 8))\\n\\n    # 1. Автоматическое определение границ цикла --------------------------------------\\n    available_points = []\\n    for point in [\\'ECG_P_Onsets\\', \\'ECG_Q_Peaks\\', \\'ECG_R_Peaks\\', \\'ECG_S_Peaks\\', \\'ECG_T_Offsets\\']:\\n        if point in cycle and len(cycle[point]) > 0:\\n            available_points.append(int(cycle[point][0]))\\n\\n    if not available_points:\\n        print(f\"Цикл {cycle_num}: нет точек для отрисовки\")\\n        return fig\\n\\n    # Границы цикла (с запасом 10% по краям)\\n    start = max(0, min(available_points) - int(0.1*fs))\\n    end = min(len(signal), max(available_points) + int(0.1*fs))\\n\\n    # 2. Отрисовка сигнала ----------------------------------------------------------\\n    time = np.arange(start, end) / fs\\n    ax.plot(time, signal[start:end], \\'b-\\', linewidth=1.5, label=\\'ЭКГ сигнал\\')\\n\\n    # 3. Разметка точек (только существующие) ---------------------------------------\\n    point_style = {\\n        \\'ECG_P_Onsets\\': (\\'<\\', \\'green\\', \\'P начало\\'),\\n        \\'ECG_P_Peaks\\': (\\'o\\', \\'lime\\', \\'P пик\\'),\\n        \\'ECG_P_Offsets\\': (\\'>\\', \\'darkgreen\\', \\'P конец\\'),\\n        \\'ECG_Q_Peaks\\': (\\'x\\', \\'red\\', \\'Q\\'),\\n        \\'ECG_R_Peaks\\': (\\'o\\', \\'black\\', \\'R\\'),\\n        \\'ECG_S_Peaks\\': (\\'x\\', \\'blue\\', \\'S\\'),\\n        \\'ECG_T_Onsets\\': (\\'<\\', \\'purple\\', \\'T начало\\'),\\n        \\'ECG_T_Peaks\\': (\\'o\\', \\'magenta\\', \\'T пик\\'),\\n        \\'ECG_T_Offsets\\': (\\'>\\', \\'darkviolet\\', \\'T конец\\')\\n    }\\n\\n    for point, (marker, color, label) in point_style.items():\\n        if point in cycle and len(cycle[point]) > 0:\\n            x = cycle[point][0] / fs\\n            y = signal[int(cycle[point][0])]\\n            ax.plot(x, y, marker=marker, color=color, markersize=10, label=label)\\n\\n    # 4. Отрисовка интервалов (только для существующих пар) -------------------------\\n    def draw_interval_if_exists(start_point, end_point, y_pos, label):\\n        if (start_point in cycle and len(cycle[start_point]) > 0 and \\n            end_point in cycle and len(cycle[end_point]) > 0):\\n            x1 = cycle[start_point][0] / fs\\n            x2 = cycle[end_point][0] / fs\\n            ax.add_patch(Rectangle((x1, y_pos), x2-x1, 0.1, alpha=0.3, color=\\'gray\\'))\\n            ax.text((x1+x2)/2, y_pos+0.15, f\\'{label}\\n{(x2-x1)*1000:.1f} мс\\', \\n                    ha=\\'center\\', va=\\'bottom\\', fontsize=9, bbox=dict(facecolor=\\'white\\', alpha=0.7))\\n\\n    y_min = np.min(signal[start:end])\\n    draw_interval_if_exists(\\'ECG_P_Onsets\\', \\'ECG_P_Offsets\\', y_min-0.3, \\'P\\')\\n    draw_interval_if_exists(\\'ECG_Q_Peaks\\', \\'ECG_S_Peaks\\', y_min-0.5, \\'QRS\\')\\n    draw_interval_if_exists(\\'ECG_Q_Peaks\\', \\'ECG_T_Offsets\\', y_min-0.7, \\'QT\\')\\n\\n    # 5. Настройка графика ----------------------------------------------------------\\n    ax.set_xlabel(\\'Время (с)\\', fontsize=12)\\n    ax.set_ylabel(\\'Амплитуда (мВ)\\', fontsize=12)\\n    ax.set_title(f\\'Цикл {cycle_num}\\', fontsize=14)\\n    ax.grid(True, linestyle=\\'--\\', alpha=0.5)\\n\\n    # Убираем дубликаты в легенде\\n    handles, labels = ax.get_legend_handles_labels()\\n    unique_labels = dict(zip(labels, handles))\\n    ax.legend(unique_labels.values(), unique_labels.keys(), loc=\\'upper right\\')\\n\\n    plt.tight_layout()\\n    return fig\\n\\ndef plot_averaged_signal(avg_signal, before_r, after_r, fs):\\n    if avg_signal is None:\\n        print(\"Невозможно построить график: недостаточно данных\")\\n        return\\n\\n    fig, ax = plt.subplots(figsize=(14, 7))\\n\\n    # 1. Временная ось (в мс относительно R-пика)\\n    time = (np.arange(len(avg_signal)) - before_r) / fs * 1000  # мс\\n\\n    # 2. Отрисовка сигнала\\n    ax.plot(time, avg_signal, \\'b-\\', linewidth=2, label=\\'Усредненный ЭКГ\\')\\n\\n    # 3. Разметка ключевых элементов\\n    ax.axvline(x=0, color=\\'r\\', linestyle=\\'--\\', label=\\'R-пик (0 мс)\\')\\n    ax.axvline(x=-before_r, color=\\'gray\\', linestyle=\\':\\', label=f\\'Начало окна (-{before_r/fs*1000:.0f} мс)\\')\\n    ax.axvline(x=after_r, color=\\'gray\\', linestyle=\\':\\', label=f\\'Конец окна (+{after_r/fs*1000:.0f} мс)\\')\\n\\n    # 4. Настройка графика\\n    ax.set_xlabel(\\'Время относительно R-пика (мс)\\', fontsize=12)\\n    ax.set_ylabel(\\'Амплитуда (мВ)\\', fontsize=12)\\n    ax.set_title(f\\'Усредненный PQRST комплекс (окно ±{before_r/fs*1000:.0f}/{after_r/fs*1000:.0f} мс)\\', fontsize=14)\\n    ax.grid(True, linestyle=\\'--\\', alpha=0.5)\\n    ax.legend(loc=\\'upper right\\')\\n\\n    plt.tight_layout()\\n    plt.show()\\n\\ndef plot_averaged_ecg(signal, cycles, fs):\\n    # 1. Подготовка данных для усреднения\\n    r_peaks = [int(cycle[\\'ECG_R_Peaks\\'][0]) for cycle in cycles if \\'ECG_R_Peaks\\' in cycle]\\n    if len(r_peaks) < 2:\\n        print(\"Недостаточно циклов для усреднения\")\\n        return\\n\\n    before_r = int(0.2 * fs)  # 200 мс до R\\n    after_r = int(0.5 * fs)   # 500 мс после R\\n    segments = []\\n\\n    for r in r_peaks:\\n        start = max(0, r - before_r)\\n        end = min(len(signal), r + after_r)\\n        segment = signal[start:end]\\n\\n        # Выравнивание по длине (если циклы у границ сигнала)\\n        if len(segment) < (before_r + after_r):\\n            pad_width = (before_r + after_r) - len(segment)\\n            segment = np.pad(segment, (0, pad_width), mode=\\'constant\\')\\n\\n        segments.append(segment)\\n\\n    # 3. Усреднение и построение\\n    avg_signal = np.mean(segments, axis=0)\\n    time = (np.arange(len(avg_signal)) / fs) - 0.2  # Время относительно R-пика\\n\\n    fig, ax = plt.subplots(figsize=(12, 6))\\n    ax.plot(time, avg_signal, \\'b-\\', linewidth=2, label=\\'Усредненный сигнал\\')\\n\\n    # 4. Разметка характерных точек (медианные положения)\\n    point_labels = {\\n        \\'ECG_P_Peaks\\': (\\'P\\', \\'green\\'),\\n        \\'ECG_Q_Peaks\\': (\\'Q\\', \\'red\\'),\\n        \\'ECG_S_Peaks\\': (\\'S\\', \\'blue\\'),\\n        \\'ECG_T_Peaks\\': (\\'T\\', \\'purple\\')\\n    }\\n\\n    for point_key, (label, color) in point_labels.items():\\n        points = []\\n        for cycle in cycles:\\n            if point_key in cycle and len(cycle[point_key]) > 0:\\n                points.append(cycle[point_key][0])\\n\\n        if len(points) > 0:\\n            median_pos = np.median(points) - r_peaks[0]  # Относительно первого R-пика\\n            median_time = median_pos / fs\\n            y_val = np.interp(median_pos, np.arange(len(avg_signal)), avg_signal)\\n            ax.plot(median_time, y_val, \\'o\\', color=color, markersize=8, label=label)\\n\\n    # 5. Настройка графика\\n    ax.axvline(x=0, color=\\'black\\', linestyle=\\'--\\', label=\\'R-пик\\')\\n    ax.set_xlabel(\\'Время относительно R-пика (с)\\')\\n    ax.set_ylabel(\\'Амплитуда (мВ)\\')\\n    ax.set_title(f\\'Усредненный PQRST комплекс (n={len(cycles)} циклов)\\')\\n    ax.grid(True, linestyle=\\'--\\', alpha=0.6)\\n    ax.legend()\\n\\n    plt.tight_layout()\\n    plt.show()\\n'"
      ]
     },
     "metadata": {},
     "output_type": "display_data"
    }
   ],
   "source": [
    "\n",
    "\"\"\"\n",
    "def plot_ecg_cycle_with_features(cycle, signal, fs, cycle_num=0):\n",
    "    fig, ax = plt.subplots(figsize=(15, 8))\n",
    "    \n",
    "    # 1. Автоматическое определение границ цикла --------------------------------------\n",
    "    available_points = []\n",
    "    for point in ['ECG_P_Onsets', 'ECG_Q_Peaks', 'ECG_R_Peaks', 'ECG_S_Peaks', 'ECG_T_Offsets']:\n",
    "        if point in cycle and len(cycle[point]) > 0:\n",
    "            available_points.append(int(cycle[point][0]))\n",
    "    \n",
    "    if not available_points:\n",
    "        print(f\"Цикл {cycle_num}: нет точек для отрисовки\")\n",
    "        return fig\n",
    "    \n",
    "    # Границы цикла (с запасом 10% по краям)\n",
    "    start = max(0, min(available_points) - int(0.1*fs))\n",
    "    end = min(len(signal), max(available_points) + int(0.1*fs))\n",
    "    \n",
    "    # 2. Отрисовка сигнала ----------------------------------------------------------\n",
    "    time = np.arange(start, end) / fs\n",
    "    ax.plot(time, signal[start:end], 'b-', linewidth=1.5, label='ЭКГ сигнал')\n",
    "    \n",
    "    # 3. Разметка точек (только существующие) ---------------------------------------\n",
    "    point_style = {\n",
    "        'ECG_P_Onsets': ('<', 'green', 'P начало'),\n",
    "        'ECG_P_Peaks': ('o', 'lime', 'P пик'),\n",
    "        'ECG_P_Offsets': ('>', 'darkgreen', 'P конец'),\n",
    "        'ECG_Q_Peaks': ('x', 'red', 'Q'),\n",
    "        'ECG_R_Peaks': ('o', 'black', 'R'),\n",
    "        'ECG_S_Peaks': ('x', 'blue', 'S'),\n",
    "        'ECG_T_Onsets': ('<', 'purple', 'T начало'),\n",
    "        'ECG_T_Peaks': ('o', 'magenta', 'T пик'),\n",
    "        'ECG_T_Offsets': ('>', 'darkviolet', 'T конец')\n",
    "    }\n",
    "    \n",
    "    for point, (marker, color, label) in point_style.items():\n",
    "        if point in cycle and len(cycle[point]) > 0:\n",
    "            x = cycle[point][0] / fs\n",
    "            y = signal[int(cycle[point][0])]\n",
    "            ax.plot(x, y, marker=marker, color=color, markersize=10, label=label)\n",
    "    \n",
    "    # 4. Отрисовка интервалов (только для существующих пар) -------------------------\n",
    "    def draw_interval_if_exists(start_point, end_point, y_pos, label):\n",
    "        if (start_point in cycle and len(cycle[start_point]) > 0 and \n",
    "            end_point in cycle and len(cycle[end_point]) > 0):\n",
    "            x1 = cycle[start_point][0] / fs\n",
    "            x2 = cycle[end_point][0] / fs\n",
    "            ax.add_patch(Rectangle((x1, y_pos), x2-x1, 0.1, alpha=0.3, color='gray'))\n",
    "            ax.text((x1+x2)/2, y_pos+0.15, f'{label}\\n{(x2-x1)*1000:.1f} мс', \n",
    "                    ha='center', va='bottom', fontsize=9, bbox=dict(facecolor='white', alpha=0.7))\n",
    "    \n",
    "    y_min = np.min(signal[start:end])\n",
    "    draw_interval_if_exists('ECG_P_Onsets', 'ECG_P_Offsets', y_min-0.3, 'P')\n",
    "    draw_interval_if_exists('ECG_Q_Peaks', 'ECG_S_Peaks', y_min-0.5, 'QRS')\n",
    "    draw_interval_if_exists('ECG_Q_Peaks', 'ECG_T_Offsets', y_min-0.7, 'QT')\n",
    "    \n",
    "    # 5. Настройка графика ----------------------------------------------------------\n",
    "    ax.set_xlabel('Время (с)', fontsize=12)\n",
    "    ax.set_ylabel('Амплитуда (мВ)', fontsize=12)\n",
    "    ax.set_title(f'Цикл {cycle_num}', fontsize=14)\n",
    "    ax.grid(True, linestyle='--', alpha=0.5)\n",
    "    \n",
    "    # Убираем дубликаты в легенде\n",
    "    handles, labels = ax.get_legend_handles_labels()\n",
    "    unique_labels = dict(zip(labels, handles))\n",
    "    ax.legend(unique_labels.values(), unique_labels.keys(), loc='upper right')\n",
    "    \n",
    "    plt.tight_layout()\n",
    "    return fig\n",
    "\n",
    "def plot_averaged_signal(avg_signal, before_r, after_r, fs):\n",
    "    if avg_signal is None:\n",
    "        print(\"Невозможно построить график: недостаточно данных\")\n",
    "        return\n",
    "    \n",
    "    fig, ax = plt.subplots(figsize=(14, 7))\n",
    "    \n",
    "    # 1. Временная ось (в мс относительно R-пика)\n",
    "    time = (np.arange(len(avg_signal)) - before_r) / fs * 1000  # мс\n",
    "    \n",
    "    # 2. Отрисовка сигнала\n",
    "    ax.plot(time, avg_signal, 'b-', linewidth=2, label='Усредненный ЭКГ')\n",
    "    \n",
    "    # 3. Разметка ключевых элементов\n",
    "    ax.axvline(x=0, color='r', linestyle='--', label='R-пик (0 мс)')\n",
    "    ax.axvline(x=-before_r, color='gray', linestyle=':', label=f'Начало окна (-{before_r/fs*1000:.0f} мс)')\n",
    "    ax.axvline(x=after_r, color='gray', linestyle=':', label=f'Конец окна (+{after_r/fs*1000:.0f} мс)')\n",
    "    \n",
    "    # 4. Настройка графика\n",
    "    ax.set_xlabel('Время относительно R-пика (мс)', fontsize=12)\n",
    "    ax.set_ylabel('Амплитуда (мВ)', fontsize=12)\n",
    "    ax.set_title(f'Усредненный PQRST комплекс (окно ±{before_r/fs*1000:.0f}/{after_r/fs*1000:.0f} мс)', fontsize=14)\n",
    "    ax.grid(True, linestyle='--', alpha=0.5)\n",
    "    ax.legend(loc='upper right')\n",
    "    \n",
    "    plt.tight_layout()\n",
    "    plt.show()\n",
    "\n",
    "def plot_averaged_ecg(signal, cycles, fs):\n",
    "    # 1. Подготовка данных для усреднения\n",
    "    r_peaks = [int(cycle['ECG_R_Peaks'][0]) for cycle in cycles if 'ECG_R_Peaks' in cycle]\n",
    "    if len(r_peaks) < 2:\n",
    "        print(\"Недостаточно циклов для усреднения\")\n",
    "        return\n",
    "    \n",
    "    before_r = int(0.2 * fs)  # 200 мс до R\n",
    "    after_r = int(0.5 * fs)   # 500 мс после R\n",
    "    segments = []\n",
    "    \n",
    "    for r in r_peaks:\n",
    "        start = max(0, r - before_r)\n",
    "        end = min(len(signal), r + after_r)\n",
    "        segment = signal[start:end]\n",
    "        \n",
    "        # Выравнивание по длине (если циклы у границ сигнала)\n",
    "        if len(segment) < (before_r + after_r):\n",
    "            pad_width = (before_r + after_r) - len(segment)\n",
    "            segment = np.pad(segment, (0, pad_width), mode='constant')\n",
    "        \n",
    "        segments.append(segment)\n",
    "    \n",
    "    # 3. Усреднение и построение\n",
    "    avg_signal = np.mean(segments, axis=0)\n",
    "    time = (np.arange(len(avg_signal)) / fs) - 0.2  # Время относительно R-пика\n",
    "    \n",
    "    fig, ax = plt.subplots(figsize=(12, 6))\n",
    "    ax.plot(time, avg_signal, 'b-', linewidth=2, label='Усредненный сигнал')\n",
    "    \n",
    "    # 4. Разметка характерных точек (медианные положения)\n",
    "    point_labels = {\n",
    "        'ECG_P_Peaks': ('P', 'green'),\n",
    "        'ECG_Q_Peaks': ('Q', 'red'),\n",
    "        'ECG_S_Peaks': ('S', 'blue'),\n",
    "        'ECG_T_Peaks': ('T', 'purple')\n",
    "    }\n",
    "    \n",
    "    for point_key, (label, color) in point_labels.items():\n",
    "        points = []\n",
    "        for cycle in cycles:\n",
    "            if point_key in cycle and len(cycle[point_key]) > 0:\n",
    "                points.append(cycle[point_key][0])\n",
    "        \n",
    "        if len(points) > 0:\n",
    "            median_pos = np.median(points) - r_peaks[0]  # Относительно первого R-пика\n",
    "            median_time = median_pos / fs\n",
    "            y_val = np.interp(median_pos, np.arange(len(avg_signal)), avg_signal)\n",
    "            ax.plot(median_time, y_val, 'o', color=color, markersize=8, label=label)\n",
    "    \n",
    "    # 5. Настройка графика\n",
    "    ax.axvline(x=0, color='black', linestyle='--', label='R-пик')\n",
    "    ax.set_xlabel('Время относительно R-пика (с)')\n",
    "    ax.set_ylabel('Амплитуда (мВ)')\n",
    "    ax.set_title(f'Усредненный PQRST комплекс (n={len(cycles)} циклов)')\n",
    "    ax.grid(True, linestyle='--', alpha=0.6)\n",
    "    ax.legend()\n",
    "    \n",
    "    plt.tight_layout()\n",
    "    plt.show()\n",
    "\"\"\""
   ]
  }
 ],
 "metadata": {
  "kernelspec": {
   "display_name": "venv_ecg",
   "language": "python",
   "name": "python3"
  },
  "language_info": {
   "codemirror_mode": {
    "name": "ipython",
    "version": 3
   },
   "file_extension": ".py",
   "mimetype": "text/x-python",
   "name": "python",
   "nbconvert_exporter": "python",
   "pygments_lexer": "ipython3",
   "version": "3.11.9"
  }
 },
 "nbformat": 4,
 "nbformat_minor": 5
}
