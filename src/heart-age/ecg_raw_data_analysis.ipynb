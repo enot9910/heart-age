{
 "cells": [
  {
   "cell_type": "code",
   "execution_count": 6,
   "id": "58b14058",
   "metadata": {},
   "outputs": [
    {
     "name": "stdout",
     "output_type": "stream",
     "text": [
      "The autoreload extension is already loaded. To reload it, use:\n",
      "  %reload_ext autoreload\n"
     ]
    }
   ],
   "source": [
    "%load_ext autoreload\n",
    "%autoreload 2\n",
    "from pathlib import Path\n",
    "import pandas as pd\n",
    "import warnings\n",
    "\n",
    "warnings.filterwarnings(\"ignore\") "
   ]
  },
  {
   "cell_type": "code",
   "execution_count": null,
   "id": "566cf6ff",
   "metadata": {},
   "outputs": [],
   "source": [
    "from cycles_signal_process import (\n",
    "    calc_average_signal\n",
    ")\n",
    "from features_process import (\n",
    " \n",
    "    get_waves_peak,\n",
    ")\n",
    "from pathlib import Path\n",
    "import neurokit2 as nk\n",
    "from tqdm import tqdm\n",
    "import numpy as np\n",
    "\n",
    "channel_names = ['I', 'II', 'III', 'aVR', 'aVL', 'aVF', 'V1', 'V2', 'V3', 'V4', 'V5', 'V6']\n",
    "\n",
    "\n",
    "def get_age_group(age, age_groups):\n",
    "    if age_groups is None:\n",
    "        return age\n",
    "    \n",
    "    age_groups_sorted = sorted(age_groups)\n",
    "    age_key = None\n",
    "    \n",
    "    for i in range(len(age_groups_sorted)-1):\n",
    "        if age_groups_sorted[i] <= age < age_groups_sorted[i+1]:\n",
    "            age_key = age_groups_sorted[i]\n",
    "            break\n",
    "    \n",
    "    if age_key is None and age >= age_groups_sorted[-1]:\n",
    "        age_key = age_groups_sorted[-1]\n",
    "    \n",
    "    return age_key\n",
    "\n",
    "\n",
    "def get_average_signals_by_age(\n",
    "    processed_dir, \n",
    "    fs=500,\n",
    "    npz_files=None,\n",
    "    output_dir='ptb_xl_average_signals',\n",
    "    age_groups=None,\n",
    "    method=\"dwt\",\n",
    "    output_dir_peaks='ptb_xl_peaks', \n",
    "    calc_waves_peak=False\n",
    "):\n",
    "    if npz_files is None:\n",
    "        npz_files = list(processed_dir.glob(\"*.npz\"))\n",
    "        print(f\"Found {len(npz_files)} patient files\")\n",
    "    \n",
    "    output_dir = Path(output_dir)\n",
    "    output_dir.mkdir(parents=True, exist_ok=True)\n",
    "    age_data = {}\n",
    "    \n",
    "    for file_path in tqdm(npz_files, desc=\"Processing patients\"):\n",
    "        output_dir_peaks = processed_dir.parent / output_dir_peaks / method\n",
    "        try:\n",
    "            data = np.load(file_path, allow_pickle=True)\n",
    "            signal = data['signal']\n",
    "            patient_id = int(data['patient_id'].item())\n",
    "            age = int(data['age'].item()) if 'age' in data else None\n",
    "            \n",
    "            if age is None:\n",
    "                continue\n",
    "\n",
    "            age_key = get_age_group(age, age_groups)\n",
    "            if age_key is None:\n",
    "                continue\n",
    "                \n",
    "            if age_key not in age_data:\n",
    "                age_data[age_key] = {channel: [] for channel in channel_names}\n",
    "            \n",
    "            waves_peak_filename = output_dir_peaks / f\"{file_path.stem}_features.npz\" #TODO _features -> _peaks\n",
    "            if waves_peak_filename.exists() and calc_waves_peak==False:\n",
    "                loaded_waves_peak = np.load(waves_peak_filename, allow_pickle=True)\n",
    "                #waves_peak_info = {key: loaded_waves_peak[key] for key in loaded_waves_peak.files}\n",
    "                waves_peak_info = {\n",
    "                    key: loaded_waves_peak[key].item() for key in loaded_waves_peak if not key.startswith('__')\n",
    "                }\n",
    "            for i, channel_name in enumerate(channel_names):\n",
    "                lead_signal = signal[i]\n",
    "                signal_cleaned = nk.ecg_clean(lead_signal, sampling_rate=fs)\n",
    "                \n",
    "                waves_peak = get_waves_peak(signal_cleaned, fs, method=method)\n",
    "                r_peaks = waves_peak['ECG_R_Peaks']\n",
    "                \n",
    "                if len(r_peaks) > 0:\n",
    "                    avg_signal, _, _ = calc_average_signal(signal_cleaned, r_peaks, fs)\n",
    "                    age_data[age_key][channel_name].append(avg_signal)\n",
    "                    \n",
    "        except Exception as e:\n",
    "            print(f\"Error processing {file_path}: {e}\")\n",
    "    return age_data\n",
    "\n",
    "def save_age_group_data(age_data, output_dir):\n",
    "    output_dir = Path(output_dir)\n",
    "    output_dir.mkdir(parents=True, exist_ok=True)\n",
    "    \n",
    "    np.savez(output_dir / \"age_group_info.npz\", age_data=age_data)\n",
    "    \n",
    "    for age, channels_data in age_data.items():\n",
    "        age_dir = output_dir / str(age)\n",
    "        age_dir.mkdir(exist_ok=True)\n",
    "        \n",
    "        for channel, signals in channels_data.items():\n",
    "            if len(signals) > 0:\n",
    "                final_avg_signal = np.mean(signals, axis=0)\n",
    "                np.savez(\n",
    "                    age_dir / f\"{channel}_avg.npz\",\n",
    "                    signal=final_avg_signal,\n",
    "                    age=age,\n",
    "                    channel=channel,\n",
    "                    num_patients=len(signals)\n",
    "                )\n",
    "    \n",
    "    print(f\"Results saved to {output_dir}\")\n",
    "    return output_dir"
   ]
  },
  {
   "cell_type": "code",
   "execution_count": 8,
   "id": "354af49b",
   "metadata": {},
   "outputs": [],
   "source": [
    "from paths import data_dir"
   ]
  },
  {
   "cell_type": "code",
   "execution_count": 9,
   "id": "cfc3f845",
   "metadata": {},
   "outputs": [
    {
     "data": {
      "text/plain": [
       "(WindowsPath('C:/Users/lenovo/Desktop/sci/data/ecg'), True)"
      ]
     },
     "execution_count": 9,
     "metadata": {},
     "output_type": "execute_result"
    }
   ],
   "source": [
    "data_dir, data_dir.exists()"
   ]
  },
  {
   "cell_type": "code",
   "execution_count": 10,
   "id": "923eed3a",
   "metadata": {},
   "outputs": [],
   "source": [
    "dataset = 'ptb_xl'\n",
    "path_to_zip=data_dir / dataset\n",
    "frequency = 500\n",
    "\n",
    "channel_names = ['I', 'II', 'III', 'aVR', 'aVL', 'aVF', 'V1', 'V2', 'V3', 'V4', 'V5', 'V6']\n",
    "fs = 500"
   ]
  },
  {
   "cell_type": "code",
   "execution_count": null,
   "id": "8f4edf41",
   "metadata": {},
   "outputs": [],
   "source": []
  },
  {
   "cell_type": "code",
   "execution_count": 13,
   "id": "fd1be393",
   "metadata": {},
   "outputs": [
    {
     "name": "stdout",
     "output_type": "stream",
     "text": [
      "Found 18868 patient files\n"
     ]
    },
    {
     "name": "stderr",
     "output_type": "stream",
     "text": [
      "Processing patients:   1%|          | 105/18868 [00:44<2:10:43,  2.39it/s]"
     ]
    },
    {
     "name": "stdout",
     "output_type": "stream",
     "text": [
      "Error processing C:\\Users\\lenovo\\Desktop\\sci\\data\\ecg\\ptb_xl\\ptb_xl_npz\\ecg_10108.npz: integer division or modulo by zero\n"
     ]
    },
    {
     "name": "stderr",
     "output_type": "stream",
     "text": [
      "Processing patients:   1%|          | 123/18868 [00:51<1:41:23,  3.08it/s]"
     ]
    },
    {
     "name": "stdout",
     "output_type": "stream",
     "text": [
      "Error processing C:\\Users\\lenovo\\Desktop\\sci\\data\\ecg\\ptb_xl\\ptb_xl_npz\\ecg_10124.npz: cannot convert float NaN to integer\n"
     ]
    },
    {
     "name": "stderr",
     "output_type": "stream",
     "text": [
      "Processing patients:   1%|          | 134/18868 [00:56<2:05:07,  2.50it/s]"
     ]
    },
    {
     "name": "stdout",
     "output_type": "stream",
     "text": [
      "Error processing C:\\Users\\lenovo\\Desktop\\sci\\data\\ecg\\ptb_xl\\ptb_xl_npz\\ecg_10134.npz: cannot convert float NaN to integer\n"
     ]
    },
    {
     "name": "stderr",
     "output_type": "stream",
     "text": [
      "Processing patients:   1%|          | 137/18868 [00:57<2:07:36,  2.45it/s]"
     ]
    },
    {
     "name": "stdout",
     "output_type": "stream",
     "text": [
      "Error processing C:\\Users\\lenovo\\Desktop\\sci\\data\\ecg\\ptb_xl\\ptb_xl_npz\\ecg_10137.npz: cannot convert float NaN to integer\n"
     ]
    },
    {
     "name": "stderr",
     "output_type": "stream",
     "text": [
      "Processing patients:   1%|          | 161/18868 [01:08<2:37:02,  1.99it/s]"
     ]
    },
    {
     "name": "stdout",
     "output_type": "stream",
     "text": [
      "Error processing C:\\Users\\lenovo\\Desktop\\sci\\data\\ecg\\ptb_xl\\ptb_xl_npz\\ecg_10161.npz: integer division or modulo by zero\n"
     ]
    },
    {
     "name": "stderr",
     "output_type": "stream",
     "text": [
      "Processing patients:   1%|          | 166/18868 [01:10<2:41:58,  1.92it/s]"
     ]
    },
    {
     "name": "stdout",
     "output_type": "stream",
     "text": [
      "Error processing C:\\Users\\lenovo\\Desktop\\sci\\data\\ecg\\ptb_xl\\ptb_xl_npz\\ecg_10166.npz: cannot convert float NaN to integer\n"
     ]
    },
    {
     "name": "stderr",
     "output_type": "stream",
     "text": [
      "Processing patients:   1%|          | 192/18868 [01:25<3:01:15,  1.72it/s]"
     ]
    },
    {
     "name": "stdout",
     "output_type": "stream",
     "text": [
      "Error processing C:\\Users\\lenovo\\Desktop\\sci\\data\\ecg\\ptb_xl\\ptb_xl_npz\\ecg_10193.npz: cannot convert float NaN to integer\n"
     ]
    },
    {
     "name": "stderr",
     "output_type": "stream",
     "text": [
      "Processing patients:   1%|          | 202/18868 [01:29<2:29:15,  2.08it/s]"
     ]
    },
    {
     "name": "stdout",
     "output_type": "stream",
     "text": [
      "Error processing C:\\Users\\lenovo\\Desktop\\sci\\data\\ecg\\ptb_xl\\ptb_xl_npz\\ecg_10201.npz: cannot convert float NaN to integer\n"
     ]
    },
    {
     "name": "stderr",
     "output_type": "stream",
     "text": [
      "Processing patients:   1%|          | 227/18868 [01:43<2:12:04,  2.35it/s]"
     ]
    },
    {
     "name": "stdout",
     "output_type": "stream",
     "text": [
      "Error processing C:\\Users\\lenovo\\Desktop\\sci\\data\\ecg\\ptb_xl\\ptb_xl_npz\\ecg_10227.npz: cannot convert float NaN to integer\n"
     ]
    },
    {
     "name": "stderr",
     "output_type": "stream",
     "text": [
      "Processing patients:   1%|▏         | 282/18868 [02:14<2:39:33,  1.94it/s]"
     ]
    },
    {
     "name": "stdout",
     "output_type": "stream",
     "text": [
      "Error processing C:\\Users\\lenovo\\Desktop\\sci\\data\\ecg\\ptb_xl\\ptb_xl_npz\\ecg_10283.npz: cannot convert float NaN to integer\n"
     ]
    },
    {
     "name": "stderr",
     "output_type": "stream",
     "text": [
      "Processing patients:   2%|▏         | 308/18868 [02:29<2:38:56,  1.95it/s]"
     ]
    },
    {
     "name": "stdout",
     "output_type": "stream",
     "text": [
      "Error processing C:\\Users\\lenovo\\Desktop\\sci\\data\\ecg\\ptb_xl\\ptb_xl_npz\\ecg_10308.npz: integer division or modulo by zero\n"
     ]
    },
    {
     "name": "stderr",
     "output_type": "stream",
     "text": [
      "Processing patients:   2%|▏         | 318/18868 [02:34<2:18:00,  2.24it/s]"
     ]
    },
    {
     "name": "stdout",
     "output_type": "stream",
     "text": [
      "Error processing C:\\Users\\lenovo\\Desktop\\sci\\data\\ecg\\ptb_xl\\ptb_xl_npz\\ecg_10317.npz: cannot convert float NaN to integer\n"
     ]
    },
    {
     "name": "stderr",
     "output_type": "stream",
     "text": [
      "Processing patients:   2%|▏         | 341/18868 [02:47<2:28:16,  2.08it/s]"
     ]
    },
    {
     "name": "stdout",
     "output_type": "stream",
     "text": [
      "Error processing C:\\Users\\lenovo\\Desktop\\sci\\data\\ecg\\ptb_xl\\ptb_xl_npz\\ecg_10338.npz: cannot convert float NaN to integer\n"
     ]
    },
    {
     "name": "stderr",
     "output_type": "stream",
     "text": [
      "Processing patients:   3%|▎         | 485/18868 [03:58<2:10:38,  2.35it/s]"
     ]
    },
    {
     "name": "stdout",
     "output_type": "stream",
     "text": [
      "Error processing C:\\Users\\lenovo\\Desktop\\sci\\data\\ecg\\ptb_xl\\ptb_xl_npz\\ecg_10488.npz: integer division or modulo by zero\n"
     ]
    },
    {
     "name": "stderr",
     "output_type": "stream",
     "text": [
      "Processing patients:   3%|▎         | 543/18868 [04:23<1:54:25,  2.67it/s]"
     ]
    },
    {
     "name": "stdout",
     "output_type": "stream",
     "text": [
      "Error processing C:\\Users\\lenovo\\Desktop\\sci\\data\\ecg\\ptb_xl\\ptb_xl_npz\\ecg_10546.npz: cannot convert float NaN to integer\n",
      "Error processing C:\\Users\\lenovo\\Desktop\\sci\\data\\ecg\\ptb_xl\\ptb_xl_npz\\ecg_10548.npz: cannot convert float NaN to integer\n"
     ]
    },
    {
     "name": "stderr",
     "output_type": "stream",
     "text": [
      "Processing patients:   3%|▎         | 565/18868 [04:32<1:37:41,  3.12it/s]"
     ]
    },
    {
     "name": "stdout",
     "output_type": "stream",
     "text": [
      "Error processing C:\\Users\\lenovo\\Desktop\\sci\\data\\ecg\\ptb_xl\\ptb_xl_npz\\ecg_10577.npz: integer division or modulo by zero\n"
     ]
    },
    {
     "name": "stderr",
     "output_type": "stream",
     "text": [
      "Processing patients:   3%|▎         | 609/18868 [04:49<1:58:31,  2.57it/s]"
     ]
    },
    {
     "name": "stdout",
     "output_type": "stream",
     "text": [
      "Error processing C:\\Users\\lenovo\\Desktop\\sci\\data\\ecg\\ptb_xl\\ptb_xl_npz\\ecg_10622.npz: cannot convert float NaN to integer\n"
     ]
    },
    {
     "name": "stderr",
     "output_type": "stream",
     "text": [
      "Processing patients:   4%|▎         | 681/18868 [05:19<1:51:09,  2.73it/s]"
     ]
    },
    {
     "name": "stdout",
     "output_type": "stream",
     "text": [
      "Error processing C:\\Users\\lenovo\\Desktop\\sci\\data\\ecg\\ptb_xl\\ptb_xl_npz\\ecg_10709.npz: cannot convert float NaN to integer\n"
     ]
    },
    {
     "name": "stderr",
     "output_type": "stream",
     "text": [
      "Processing patients:   4%|▎         | 685/18868 [05:21<1:58:06,  2.57it/s]"
     ]
    },
    {
     "name": "stdout",
     "output_type": "stream",
     "text": [
      "Error processing C:\\Users\\lenovo\\Desktop\\sci\\data\\ecg\\ptb_xl\\ptb_xl_npz\\ecg_10712.npz: integer division or modulo by zero\n"
     ]
    },
    {
     "name": "stderr",
     "output_type": "stream",
     "text": [
      "Processing patients:   4%|▎         | 699/18868 [05:26<1:52:24,  2.69it/s]"
     ]
    },
    {
     "name": "stdout",
     "output_type": "stream",
     "text": [
      "Error processing C:\\Users\\lenovo\\Desktop\\sci\\data\\ecg\\ptb_xl\\ptb_xl_npz\\ecg_10726.npz: cannot convert float NaN to integer\n"
     ]
    },
    {
     "name": "stderr",
     "output_type": "stream",
     "text": [
      "Processing patients:   4%|▍         | 727/18868 [05:38<1:35:43,  3.16it/s]"
     ]
    },
    {
     "name": "stdout",
     "output_type": "stream",
     "text": [
      "Error processing C:\\Users\\lenovo\\Desktop\\sci\\data\\ecg\\ptb_xl\\ptb_xl_npz\\ecg_10755.npz: cannot convert float NaN to integer\n"
     ]
    },
    {
     "name": "stderr",
     "output_type": "stream",
     "text": [
      "Processing patients:   4%|▍         | 796/18868 [06:07<1:47:50,  2.79it/s]"
     ]
    },
    {
     "name": "stdout",
     "output_type": "stream",
     "text": [
      "Error processing C:\\Users\\lenovo\\Desktop\\sci\\data\\ecg\\ptb_xl\\ptb_xl_npz\\ecg_10823.npz: cannot convert float NaN to integer\n"
     ]
    },
    {
     "name": "stderr",
     "output_type": "stream",
     "text": [
      "Processing patients:   4%|▍         | 802/18868 [06:09<1:33:07,  3.23it/s]"
     ]
    },
    {
     "name": "stdout",
     "output_type": "stream",
     "text": [
      "Error processing C:\\Users\\lenovo\\Desktop\\sci\\data\\ecg\\ptb_xl\\ptb_xl_npz\\ecg_10829.npz: cannot convert float NaN to integer\n"
     ]
    },
    {
     "name": "stderr",
     "output_type": "stream",
     "text": [
      "Processing patients:   5%|▍         | 896/18868 [06:48<1:39:10,  3.02it/s]"
     ]
    },
    {
     "name": "stdout",
     "output_type": "stream",
     "text": [
      "Error processing C:\\Users\\lenovo\\Desktop\\sci\\data\\ecg\\ptb_xl\\ptb_xl_npz\\ecg_10930.npz: cannot convert float NaN to integer\n"
     ]
    },
    {
     "name": "stderr",
     "output_type": "stream",
     "text": [
      "Processing patients:   5%|▌         | 973/18868 [07:22<1:53:21,  2.63it/s]"
     ]
    },
    {
     "name": "stdout",
     "output_type": "stream",
     "text": [
      "Error processing C:\\Users\\lenovo\\Desktop\\sci\\data\\ecg\\ptb_xl\\ptb_xl_npz\\ecg_11010.npz: cannot convert float NaN to integer\n"
     ]
    },
    {
     "name": "stderr",
     "output_type": "stream",
     "text": [
      "Processing patients:   5%|▌         | 979/18868 [07:24<1:45:17,  2.83it/s]"
     ]
    },
    {
     "name": "stdout",
     "output_type": "stream",
     "text": [
      "Error processing C:\\Users\\lenovo\\Desktop\\sci\\data\\ecg\\ptb_xl\\ptb_xl_npz\\ecg_11017.npz: cannot convert float NaN to integer\n"
     ]
    },
    {
     "name": "stderr",
     "output_type": "stream",
     "text": [
      "Processing patients:   5%|▌         | 984/18868 [07:26<2:00:35,  2.47it/s]"
     ]
    },
    {
     "name": "stdout",
     "output_type": "stream",
     "text": [
      "Error processing C:\\Users\\lenovo\\Desktop\\sci\\data\\ecg\\ptb_xl\\ptb_xl_npz\\ecg_11022.npz: cannot convert float NaN to integer\n"
     ]
    },
    {
     "name": "stderr",
     "output_type": "stream",
     "text": [
      "Processing patients:   5%|▌         | 1022/18868 [07:42<1:46:13,  2.80it/s]"
     ]
    },
    {
     "name": "stdout",
     "output_type": "stream",
     "text": [
      "Error processing C:\\Users\\lenovo\\Desktop\\sci\\data\\ecg\\ptb_xl\\ptb_xl_npz\\ecg_11065.npz: cannot convert float NaN to integer\n"
     ]
    },
    {
     "name": "stderr",
     "output_type": "stream",
     "text": [
      "Processing patients:   5%|▌         | 1031/18868 [07:45<1:33:11,  3.19it/s]"
     ]
    },
    {
     "name": "stdout",
     "output_type": "stream",
     "text": [
      "Error processing C:\\Users\\lenovo\\Desktop\\sci\\data\\ecg\\ptb_xl\\ptb_xl_npz\\ecg_11074.npz: cannot convert float NaN to integer\n"
     ]
    },
    {
     "name": "stderr",
     "output_type": "stream",
     "text": [
      "Processing patients:   6%|▌         | 1147/18868 [08:38<1:52:09,  2.63it/s]"
     ]
    },
    {
     "name": "stdout",
     "output_type": "stream",
     "text": [
      "Error processing C:\\Users\\lenovo\\Desktop\\sci\\data\\ecg\\ptb_xl\\ptb_xl_npz\\ecg_11203.npz: integer division or modulo by zero\n"
     ]
    },
    {
     "name": "stderr",
     "output_type": "stream",
     "text": [
      "Processing patients:   6%|▌         | 1152/18868 [08:40<1:46:29,  2.77it/s]"
     ]
    },
    {
     "name": "stdout",
     "output_type": "stream",
     "text": [
      "Error processing C:\\Users\\lenovo\\Desktop\\sci\\data\\ecg\\ptb_xl\\ptb_xl_npz\\ecg_11208.npz: cannot convert float NaN to integer\n"
     ]
    },
    {
     "name": "stderr",
     "output_type": "stream",
     "text": [
      "Processing patients:   6%|▋         | 1204/18868 [09:02<2:07:05,  2.32it/s]"
     ]
    },
    {
     "name": "stdout",
     "output_type": "stream",
     "text": [
      "Error processing C:\\Users\\lenovo\\Desktop\\sci\\data\\ecg\\ptb_xl\\ptb_xl_npz\\ecg_11260.npz: integer division or modulo by zero\n"
     ]
    },
    {
     "name": "stderr",
     "output_type": "stream",
     "text": [
      "Processing patients:   7%|▋         | 1240/18868 [09:18<2:06:07,  2.33it/s]"
     ]
    },
    {
     "name": "stdout",
     "output_type": "stream",
     "text": [
      "Error processing C:\\Users\\lenovo\\Desktop\\sci\\data\\ecg\\ptb_xl\\ptb_xl_npz\\ecg_1130.npz: cannot convert float NaN to integer\n"
     ]
    },
    {
     "name": "stderr",
     "output_type": "stream",
     "text": [
      "Processing patients:   7%|▋         | 1276/18868 [09:34<2:02:43,  2.39it/s]"
     ]
    },
    {
     "name": "stdout",
     "output_type": "stream",
     "text": [
      "Error processing C:\\Users\\lenovo\\Desktop\\sci\\data\\ecg\\ptb_xl\\ptb_xl_npz\\ecg_11335.npz: cannot convert float NaN to integer\n"
     ]
    },
    {
     "name": "stderr",
     "output_type": "stream",
     "text": [
      "Processing patients:   7%|▋         | 1283/18868 [09:37<1:54:03,  2.57it/s]"
     ]
    },
    {
     "name": "stdout",
     "output_type": "stream",
     "text": [
      "Error processing C:\\Users\\lenovo\\Desktop\\sci\\data\\ecg\\ptb_xl\\ptb_xl_npz\\ecg_11344.npz: cannot convert float NaN to integer\n"
     ]
    },
    {
     "name": "stderr",
     "output_type": "stream",
     "text": [
      "Processing patients:   7%|▋         | 1293/18868 [09:41<1:51:31,  2.63it/s]"
     ]
    },
    {
     "name": "stdout",
     "output_type": "stream",
     "text": [
      "Error processing C:\\Users\\lenovo\\Desktop\\sci\\data\\ecg\\ptb_xl\\ptb_xl_npz\\ecg_11353.npz: cannot convert float NaN to integer\n"
     ]
    },
    {
     "name": "stderr",
     "output_type": "stream",
     "text": [
      "Processing patients:   7%|▋         | 1306/18868 [09:47<2:05:07,  2.34it/s]"
     ]
    },
    {
     "name": "stdout",
     "output_type": "stream",
     "text": [
      "Error processing C:\\Users\\lenovo\\Desktop\\sci\\data\\ecg\\ptb_xl\\ptb_xl_npz\\ecg_11370.npz: integer division or modulo by zero\n"
     ]
    },
    {
     "name": "stderr",
     "output_type": "stream",
     "text": [
      "Processing patients:   7%|▋         | 1325/18868 [09:54<1:49:03,  2.68it/s]"
     ]
    },
    {
     "name": "stdout",
     "output_type": "stream",
     "text": [
      "Error processing C:\\Users\\lenovo\\Desktop\\sci\\data\\ecg\\ptb_xl\\ptb_xl_npz\\ecg_11390.npz: cannot convert float NaN to integer\n"
     ]
    },
    {
     "name": "stderr",
     "output_type": "stream",
     "text": [
      "Processing patients:   7%|▋         | 1358/18868 [10:08<2:12:46,  2.20it/s]"
     ]
    },
    {
     "name": "stdout",
     "output_type": "stream",
     "text": [
      "Error processing C:\\Users\\lenovo\\Desktop\\sci\\data\\ecg\\ptb_xl\\ptb_xl_npz\\ecg_11425.npz: integer division or modulo by zero\n"
     ]
    },
    {
     "name": "stderr",
     "output_type": "stream",
     "text": [
      "Processing patients:   7%|▋         | 1395/18868 [10:24<1:44:33,  2.79it/s]"
     ]
    },
    {
     "name": "stdout",
     "output_type": "stream",
     "text": [
      "Error processing C:\\Users\\lenovo\\Desktop\\sci\\data\\ecg\\ptb_xl\\ptb_xl_npz\\ecg_11460.npz: integer division or modulo by zero\n"
     ]
    },
    {
     "name": "stderr",
     "output_type": "stream",
     "text": [
      "Processing patients:   8%|▊         | 1471/18868 [10:57<1:58:49,  2.44it/s]"
     ]
    },
    {
     "name": "stdout",
     "output_type": "stream",
     "text": [
      "Error processing C:\\Users\\lenovo\\Desktop\\sci\\data\\ecg\\ptb_xl\\ptb_xl_npz\\ecg_1154.npz: cannot convert float NaN to integer\n"
     ]
    },
    {
     "name": "stderr",
     "output_type": "stream",
     "text": [
      "Processing patients:   8%|▊         | 1490/18868 [11:04<1:40:12,  2.89it/s]"
     ]
    },
    {
     "name": "stdout",
     "output_type": "stream",
     "text": [
      "Error processing C:\\Users\\lenovo\\Desktop\\sci\\data\\ecg\\ptb_xl\\ptb_xl_npz\\ecg_11561.npz: integer division or modulo by zero\n"
     ]
    },
    {
     "name": "stderr",
     "output_type": "stream",
     "text": [
      "Processing patients:   8%|▊         | 1550/18868 [11:30<2:14:07,  2.15it/s]"
     ]
    },
    {
     "name": "stdout",
     "output_type": "stream",
     "text": [
      "Error processing C:\\Users\\lenovo\\Desktop\\sci\\data\\ecg\\ptb_xl\\ptb_xl_npz\\ecg_11621.npz: integer division or modulo by zero\n"
     ]
    },
    {
     "name": "stderr",
     "output_type": "stream",
     "text": [
      "Processing patients:   8%|▊         | 1557/18868 [11:32<1:45:38,  2.73it/s]"
     ]
    },
    {
     "name": "stdout",
     "output_type": "stream",
     "text": [
      "Error processing C:\\Users\\lenovo\\Desktop\\sci\\data\\ecg\\ptb_xl\\ptb_xl_npz\\ecg_11627.npz: cannot convert float NaN to integer\n"
     ]
    },
    {
     "name": "stderr",
     "output_type": "stream",
     "text": [
      "Processing patients:   8%|▊         | 1588/18868 [11:45<1:58:07,  2.44it/s]"
     ]
    },
    {
     "name": "stdout",
     "output_type": "stream",
     "text": [
      "Error processing C:\\Users\\lenovo\\Desktop\\sci\\data\\ecg\\ptb_xl\\ptb_xl_npz\\ecg_11659.npz: integer division or modulo by zero\n"
     ]
    },
    {
     "name": "stderr",
     "output_type": "stream",
     "text": [
      "Processing patients:   8%|▊         | 1594/18868 [11:47<1:35:30,  3.01it/s]"
     ]
    },
    {
     "name": "stdout",
     "output_type": "stream",
     "text": [
      "Error processing C:\\Users\\lenovo\\Desktop\\sci\\data\\ecg\\ptb_xl\\ptb_xl_npz\\ecg_11663.npz: cannot convert float NaN to integer\n"
     ]
    },
    {
     "name": "stderr",
     "output_type": "stream",
     "text": [
      "Processing patients:   9%|▊         | 1604/18868 [11:52<1:59:57,  2.40it/s]"
     ]
    },
    {
     "name": "stdout",
     "output_type": "stream",
     "text": [
      "Error processing C:\\Users\\lenovo\\Desktop\\sci\\data\\ecg\\ptb_xl\\ptb_xl_npz\\ecg_11676.npz: cannot convert float NaN to integer\n"
     ]
    },
    {
     "name": "stderr",
     "output_type": "stream",
     "text": [
      "Processing patients:   9%|▊         | 1644/18868 [12:08<1:34:22,  3.04it/s]"
     ]
    },
    {
     "name": "stdout",
     "output_type": "stream",
     "text": [
      "Error processing C:\\Users\\lenovo\\Desktop\\sci\\data\\ecg\\ptb_xl\\ptb_xl_npz\\ecg_11713.npz: cannot convert float NaN to integer\n"
     ]
    },
    {
     "name": "stderr",
     "output_type": "stream",
     "text": [
      "Processing patients:   9%|▉         | 1663/18868 [12:15<2:01:38,  2.36it/s]"
     ]
    },
    {
     "name": "stdout",
     "output_type": "stream",
     "text": [
      "Error processing C:\\Users\\lenovo\\Desktop\\sci\\data\\ecg\\ptb_xl\\ptb_xl_npz\\ecg_11732.npz: cannot convert float NaN to integer\n"
     ]
    },
    {
     "name": "stderr",
     "output_type": "stream",
     "text": [
      "Processing patients:   9%|▉         | 1666/18868 [12:16<1:55:59,  2.47it/s]"
     ]
    },
    {
     "name": "stdout",
     "output_type": "stream",
     "text": [
      "Error processing C:\\Users\\lenovo\\Desktop\\sci\\data\\ecg\\ptb_xl\\ptb_xl_npz\\ecg_11736.npz: cannot convert float NaN to integer\n"
     ]
    },
    {
     "name": "stderr",
     "output_type": "stream",
     "text": [
      "Processing patients:   9%|▉         | 1678/18868 [12:22<2:03:19,  2.32it/s]"
     ]
    },
    {
     "name": "stdout",
     "output_type": "stream",
     "text": [
      "Error processing C:\\Users\\lenovo\\Desktop\\sci\\data\\ecg\\ptb_xl\\ptb_xl_npz\\ecg_11752.npz: cannot convert float NaN to integer\n"
     ]
    },
    {
     "name": "stderr",
     "output_type": "stream",
     "text": [
      "Processing patients:   9%|▉         | 1683/18868 [12:23<1:37:29,  2.94it/s]"
     ]
    },
    {
     "name": "stdout",
     "output_type": "stream",
     "text": [
      "Error processing C:\\Users\\lenovo\\Desktop\\sci\\data\\ecg\\ptb_xl\\ptb_xl_npz\\ecg_11757.npz: cannot convert float NaN to integer\n"
     ]
    },
    {
     "name": "stderr",
     "output_type": "stream",
     "text": [
      "Processing patients:   9%|▉         | 1708/18868 [12:33<2:00:02,  2.38it/s]"
     ]
    },
    {
     "name": "stdout",
     "output_type": "stream",
     "text": [
      "Error processing C:\\Users\\lenovo\\Desktop\\sci\\data\\ecg\\ptb_xl\\ptb_xl_npz\\ecg_11783.npz: cannot convert float NaN to integer\n"
     ]
    },
    {
     "name": "stderr",
     "output_type": "stream",
     "text": [
      "Processing patients:   9%|▉         | 1721/18868 [12:39<2:00:31,  2.37it/s]"
     ]
    },
    {
     "name": "stdout",
     "output_type": "stream",
     "text": [
      "Error processing C:\\Users\\lenovo\\Desktop\\sci\\data\\ecg\\ptb_xl\\ptb_xl_npz\\ecg_11798.npz: cannot convert float NaN to integer\n"
     ]
    },
    {
     "name": "stderr",
     "output_type": "stream",
     "text": [
      "Processing patients:   9%|▉         | 1769/18868 [12:59<1:47:02,  2.66it/s]"
     ]
    },
    {
     "name": "stdout",
     "output_type": "stream",
     "text": [
      "Error processing C:\\Users\\lenovo\\Desktop\\sci\\data\\ecg\\ptb_xl\\ptb_xl_npz\\ecg_11845.npz: cannot convert float NaN to integer\n"
     ]
    },
    {
     "name": "stderr",
     "output_type": "stream",
     "text": [
      "Processing patients:   9%|▉         | 1789/18868 [13:06<1:40:39,  2.83it/s]"
     ]
    },
    {
     "name": "stdout",
     "output_type": "stream",
     "text": [
      "Error processing C:\\Users\\lenovo\\Desktop\\sci\\data\\ecg\\ptb_xl\\ptb_xl_npz\\ecg_11868.npz: cannot convert float NaN to integer\n"
     ]
    },
    {
     "name": "stderr",
     "output_type": "stream",
     "text": [
      "Processing patients:   9%|▉         | 1791/18868 [13:07<1:54:12,  2.49it/s]"
     ]
    },
    {
     "name": "stdout",
     "output_type": "stream",
     "text": [
      "Error processing C:\\Users\\lenovo\\Desktop\\sci\\data\\ecg\\ptb_xl\\ptb_xl_npz\\ecg_11871.npz: cannot convert float NaN to integer\n"
     ]
    },
    {
     "name": "stderr",
     "output_type": "stream",
     "text": [
      "Processing patients:  10%|▉         | 1797/18868 [13:09<1:38:41,  2.88it/s]"
     ]
    },
    {
     "name": "stdout",
     "output_type": "stream",
     "text": [
      "Error processing C:\\Users\\lenovo\\Desktop\\sci\\data\\ecg\\ptb_xl\\ptb_xl_npz\\ecg_11876.npz: cannot convert float NaN to integer\n"
     ]
    },
    {
     "name": "stderr",
     "output_type": "stream",
     "text": [
      "Processing patients:  10%|▉         | 1802/18868 [13:11<1:52:14,  2.53it/s]"
     ]
    },
    {
     "name": "stdout",
     "output_type": "stream",
     "text": [
      "Error processing C:\\Users\\lenovo\\Desktop\\sci\\data\\ecg\\ptb_xl\\ptb_xl_npz\\ecg_11881.npz: integer division or modulo by zero\n"
     ]
    },
    {
     "name": "stderr",
     "output_type": "stream",
     "text": [
      "Processing patients:  10%|▉         | 1812/18868 [13:15<1:46:31,  2.67it/s]"
     ]
    },
    {
     "name": "stdout",
     "output_type": "stream",
     "text": [
      "Error processing C:\\Users\\lenovo\\Desktop\\sci\\data\\ecg\\ptb_xl\\ptb_xl_npz\\ecg_11890.npz: cannot convert float NaN to integer\n"
     ]
    },
    {
     "name": "stderr",
     "output_type": "stream",
     "text": [
      "Processing patients:  10%|▉         | 1818/18868 [13:18<1:52:26,  2.53it/s]"
     ]
    },
    {
     "name": "stdout",
     "output_type": "stream",
     "text": [
      "Error processing C:\\Users\\lenovo\\Desktop\\sci\\data\\ecg\\ptb_xl\\ptb_xl_npz\\ecg_11898.npz: cannot convert float NaN to integer\n"
     ]
    },
    {
     "name": "stderr",
     "output_type": "stream",
     "text": [
      "Processing patients:  10%|█         | 1888/18868 [13:47<1:48:41,  2.60it/s]"
     ]
    },
    {
     "name": "stdout",
     "output_type": "stream",
     "text": [
      "Error processing C:\\Users\\lenovo\\Desktop\\sci\\data\\ecg\\ptb_xl\\ptb_xl_npz\\ecg_11968.npz: cannot convert float NaN to integer\n"
     ]
    },
    {
     "name": "stderr",
     "output_type": "stream",
     "text": [
      "Processing patients:  10%|█         | 1916/18868 [13:58<2:00:21,  2.35it/s]"
     ]
    },
    {
     "name": "stdout",
     "output_type": "stream",
     "text": [
      "Error processing C:\\Users\\lenovo\\Desktop\\sci\\data\\ecg\\ptb_xl\\ptb_xl_npz\\ecg_11998.npz: cannot convert float NaN to integer\n"
     ]
    },
    {
     "name": "stderr",
     "output_type": "stream",
     "text": [
      "Processing patients:  10%|█         | 1922/18868 [14:01<1:57:34,  2.40it/s]"
     ]
    },
    {
     "name": "stdout",
     "output_type": "stream",
     "text": [
      "Error processing C:\\Users\\lenovo\\Desktop\\sci\\data\\ecg\\ptb_xl\\ptb_xl_npz\\ecg_12006.npz: cannot convert float NaN to integer\n"
     ]
    },
    {
     "name": "stderr",
     "output_type": "stream",
     "text": [
      "Processing patients:  10%|█         | 1950/18868 [14:14<1:52:36,  2.50it/s]"
     ]
    },
    {
     "name": "stdout",
     "output_type": "stream",
     "text": [
      "Error processing C:\\Users\\lenovo\\Desktop\\sci\\data\\ecg\\ptb_xl\\ptb_xl_npz\\ecg_1204.npz: cannot convert float NaN to integer\n"
     ]
    },
    {
     "name": "stderr",
     "output_type": "stream",
     "text": [
      "Processing patients:  10%|█         | 1980/18868 [14:27<1:54:46,  2.45it/s]"
     ]
    },
    {
     "name": "stdout",
     "output_type": "stream",
     "text": [
      "Error processing C:\\Users\\lenovo\\Desktop\\sci\\data\\ecg\\ptb_xl\\ptb_xl_npz\\ecg_12074.npz: integer division or modulo by zero\n"
     ]
    },
    {
     "name": "stderr",
     "output_type": "stream",
     "text": [
      "Processing patients:  11%|█         | 1983/18868 [14:27<1:31:26,  3.08it/s]"
     ]
    },
    {
     "name": "stdout",
     "output_type": "stream",
     "text": [
      "Error processing C:\\Users\\lenovo\\Desktop\\sci\\data\\ecg\\ptb_xl\\ptb_xl_npz\\ecg_12076.npz: cannot convert float NaN to integer\n"
     ]
    },
    {
     "name": "stderr",
     "output_type": "stream",
     "text": [
      "Processing patients:  11%|█         | 2054/18868 [15:01<2:01:00,  2.32it/s]"
     ]
    },
    {
     "name": "stdout",
     "output_type": "stream",
     "text": [
      "Error processing C:\\Users\\lenovo\\Desktop\\sci\\data\\ecg\\ptb_xl\\ptb_xl_npz\\ecg_12154.npz: cannot convert float NaN to integer\n"
     ]
    },
    {
     "name": "stderr",
     "output_type": "stream",
     "text": [
      "Processing patients:  11%|█         | 2069/18868 [15:07<1:53:28,  2.47it/s]"
     ]
    },
    {
     "name": "stdout",
     "output_type": "stream",
     "text": [
      "Error processing C:\\Users\\lenovo\\Desktop\\sci\\data\\ecg\\ptb_xl\\ptb_xl_npz\\ecg_12170.npz: cannot convert float NaN to integer\n"
     ]
    },
    {
     "name": "stderr",
     "output_type": "stream",
     "text": [
      "Processing patients:  11%|█         | 2070/18868 [15:08<1:53:59,  2.46it/s]"
     ]
    },
    {
     "name": "stdout",
     "output_type": "stream",
     "text": [
      "Error processing C:\\Users\\lenovo\\Desktop\\sci\\data\\ecg\\ptb_xl\\ptb_xl_npz\\ecg_12172.npz: integer division or modulo by zero\n"
     ]
    },
    {
     "name": "stderr",
     "output_type": "stream",
     "text": [
      "Processing patients:  11%|█         | 2079/18868 [15:11<1:55:35,  2.42it/s]"
     ]
    },
    {
     "name": "stdout",
     "output_type": "stream",
     "text": [
      "Error processing C:\\Users\\lenovo\\Desktop\\sci\\data\\ecg\\ptb_xl\\ptb_xl_npz\\ecg_12182.npz: integer division or modulo by zero\n"
     ]
    },
    {
     "name": "stderr",
     "output_type": "stream",
     "text": [
      "Processing patients:  11%|█         | 2107/18868 [15:25<1:42:49,  2.72it/s]"
     ]
    },
    {
     "name": "stdout",
     "output_type": "stream",
     "text": [
      "Error processing C:\\Users\\lenovo\\Desktop\\sci\\data\\ecg\\ptb_xl\\ptb_xl_npz\\ecg_12215.npz: cannot convert float NaN to integer\n"
     ]
    },
    {
     "name": "stderr",
     "output_type": "stream",
     "text": [
      "Processing patients:  11%|█         | 2117/18868 [15:29<1:49:28,  2.55it/s]"
     ]
    },
    {
     "name": "stdout",
     "output_type": "stream",
     "text": [
      "Error processing C:\\Users\\lenovo\\Desktop\\sci\\data\\ecg\\ptb_xl\\ptb_xl_npz\\ecg_12224.npz: integer division or modulo by zero\n"
     ]
    },
    {
     "name": "stderr",
     "output_type": "stream",
     "text": [
      "Processing patients:  11%|█▏        | 2123/18868 [15:32<2:21:20,  1.97it/s]"
     ]
    },
    {
     "name": "stdout",
     "output_type": "stream",
     "text": [
      "Error processing C:\\Users\\lenovo\\Desktop\\sci\\data\\ecg\\ptb_xl\\ptb_xl_npz\\ecg_1223.npz: cannot convert float NaN to integer\n"
     ]
    },
    {
     "name": "stderr",
     "output_type": "stream",
     "text": [
      "Processing patients:  11%|█▏        | 2127/18868 [15:34<1:45:43,  2.64it/s]"
     ]
    },
    {
     "name": "stdout",
     "output_type": "stream",
     "text": [
      "Error processing C:\\Users\\lenovo\\Desktop\\sci\\data\\ecg\\ptb_xl\\ptb_xl_npz\\ecg_12233.npz: cannot convert float NaN to integer\n"
     ]
    },
    {
     "name": "stderr",
     "output_type": "stream",
     "text": [
      "Processing patients:  11%|█▏        | 2149/18868 [15:44<1:49:04,  2.55it/s]"
     ]
    },
    {
     "name": "stdout",
     "output_type": "stream",
     "text": [
      "Error processing C:\\Users\\lenovo\\Desktop\\sci\\data\\ecg\\ptb_xl\\ptb_xl_npz\\ecg_12255.npz: cannot convert float NaN to integer\n"
     ]
    },
    {
     "name": "stderr",
     "output_type": "stream",
     "text": [
      "Processing patients:  12%|█▏        | 2236/18868 [16:23<1:40:25,  2.76it/s]"
     ]
    },
    {
     "name": "stdout",
     "output_type": "stream",
     "text": [
      "Error processing C:\\Users\\lenovo\\Desktop\\sci\\data\\ecg\\ptb_xl\\ptb_xl_npz\\ecg_12345.npz: cannot convert float NaN to integer\n",
      "Error processing C:\\Users\\lenovo\\Desktop\\sci\\data\\ecg\\ptb_xl\\ptb_xl_npz\\ecg_12346.npz: cannot convert float NaN to integer\n"
     ]
    },
    {
     "name": "stderr",
     "output_type": "stream",
     "text": [
      "Processing patients:  12%|█▏        | 2254/18868 [16:30<1:42:46,  2.69it/s]"
     ]
    },
    {
     "name": "stdout",
     "output_type": "stream",
     "text": [
      "Error processing C:\\Users\\lenovo\\Desktop\\sci\\data\\ecg\\ptb_xl\\ptb_xl_npz\\ecg_12362.npz: integer division or modulo by zero\n"
     ]
    },
    {
     "name": "stderr",
     "output_type": "stream",
     "text": [
      "Processing patients:  12%|█▏        | 2261/18868 [16:33<1:44:57,  2.64it/s]"
     ]
    },
    {
     "name": "stdout",
     "output_type": "stream",
     "text": [
      "Error processing C:\\Users\\lenovo\\Desktop\\sci\\data\\ecg\\ptb_xl\\ptb_xl_npz\\ecg_12371.npz: cannot convert float NaN to integer\n"
     ]
    },
    {
     "name": "stderr",
     "output_type": "stream",
     "text": [
      "Processing patients:  13%|█▎        | 2372/18868 [17:16<1:37:08,  2.83it/s]"
     ]
    },
    {
     "name": "stdout",
     "output_type": "stream",
     "text": [
      "Error processing C:\\Users\\lenovo\\Desktop\\sci\\data\\ecg\\ptb_xl\\ptb_xl_npz\\ecg_12481.npz: cannot convert float NaN to integer\n"
     ]
    },
    {
     "name": "stderr",
     "output_type": "stream",
     "text": [
      "Processing patients:  13%|█▎        | 2373/18868 [17:16<1:27:06,  3.16it/s]"
     ]
    },
    {
     "name": "stdout",
     "output_type": "stream",
     "text": [
      "Error processing C:\\Users\\lenovo\\Desktop\\sci\\data\\ecg\\ptb_xl\\ptb_xl_npz\\ecg_12482.npz: cannot convert float NaN to integer\n"
     ]
    },
    {
     "name": "stderr",
     "output_type": "stream",
     "text": [
      "Processing patients:  13%|█▎        | 2413/18868 [17:32<1:41:32,  2.70it/s]"
     ]
    },
    {
     "name": "stdout",
     "output_type": "stream",
     "text": [
      "Error processing C:\\Users\\lenovo\\Desktop\\sci\\data\\ecg\\ptb_xl\\ptb_xl_npz\\ecg_12526.npz: cannot convert float NaN to integer\n"
     ]
    },
    {
     "name": "stderr",
     "output_type": "stream",
     "text": [
      "Processing patients:  13%|█▎        | 2421/18868 [17:36<1:38:30,  2.78it/s]"
     ]
    },
    {
     "name": "stdout",
     "output_type": "stream",
     "text": [
      "Error processing C:\\Users\\lenovo\\Desktop\\sci\\data\\ecg\\ptb_xl\\ptb_xl_npz\\ecg_12533.npz: cannot convert float NaN to integer\n"
     ]
    },
    {
     "name": "stderr",
     "output_type": "stream",
     "text": [
      "Processing patients:  13%|█▎        | 2438/18868 [17:43<1:58:00,  2.32it/s]"
     ]
    },
    {
     "name": "stdout",
     "output_type": "stream",
     "text": [
      "Error processing C:\\Users\\lenovo\\Desktop\\sci\\data\\ecg\\ptb_xl\\ptb_xl_npz\\ecg_12552.npz: cannot convert float NaN to integer\n"
     ]
    },
    {
     "name": "stderr",
     "output_type": "stream",
     "text": [
      "Processing patients:  13%|█▎        | 2476/18868 [17:58<1:14:22,  3.67it/s]"
     ]
    },
    {
     "name": "stdout",
     "output_type": "stream",
     "text": [
      "Error processing C:\\Users\\lenovo\\Desktop\\sci\\data\\ecg\\ptb_xl\\ptb_xl_npz\\ecg_12591.npz: cannot convert float NaN to integer\n",
      "Error processing C:\\Users\\lenovo\\Desktop\\sci\\data\\ecg\\ptb_xl\\ptb_xl_npz\\ecg_12593.npz: integer division or modulo by zero\n",
      "Error processing C:\\Users\\lenovo\\Desktop\\sci\\data\\ecg\\ptb_xl\\ptb_xl_npz\\ecg_12595.npz: cannot convert float NaN to integer\n"
     ]
    },
    {
     "name": "stderr",
     "output_type": "stream",
     "text": [
      "Processing patients:  13%|█▎        | 2478/18868 [17:59<59:49,  4.57it/s]  "
     ]
    },
    {
     "name": "stdout",
     "output_type": "stream",
     "text": [
      "Error processing C:\\Users\\lenovo\\Desktop\\sci\\data\\ecg\\ptb_xl\\ptb_xl_npz\\ecg_12596.npz: cannot convert float NaN to integer\n"
     ]
    },
    {
     "name": "stderr",
     "output_type": "stream",
     "text": [
      "Processing patients:  14%|█▎        | 2591/18868 [18:46<1:46:40,  2.54it/s]"
     ]
    },
    {
     "name": "stdout",
     "output_type": "stream",
     "text": [
      "Error processing C:\\Users\\lenovo\\Desktop\\sci\\data\\ecg\\ptb_xl\\ptb_xl_npz\\ecg_12711.npz: integer division or modulo by zero\n"
     ]
    },
    {
     "name": "stderr",
     "output_type": "stream",
     "text": [
      "Processing patients:  14%|█▍        | 2616/18868 [18:56<1:58:05,  2.29it/s]"
     ]
    },
    {
     "name": "stdout",
     "output_type": "stream",
     "text": [
      "Error processing C:\\Users\\lenovo\\Desktop\\sci\\data\\ecg\\ptb_xl\\ptb_xl_npz\\ecg_12738.npz: integer division or modulo by zero\n"
     ]
    },
    {
     "name": "stderr",
     "output_type": "stream",
     "text": [
      "Processing patients:  14%|█▍        | 2636/18868 [19:05<1:41:51,  2.66it/s]"
     ]
    },
    {
     "name": "stdout",
     "output_type": "stream",
     "text": [
      "Error processing C:\\Users\\lenovo\\Desktop\\sci\\data\\ecg\\ptb_xl\\ptb_xl_npz\\ecg_12756.npz: cannot convert float NaN to integer\n"
     ]
    },
    {
     "name": "stderr",
     "output_type": "stream",
     "text": [
      "Processing patients:  14%|█▍        | 2659/18868 [19:15<1:59:18,  2.26it/s]"
     ]
    },
    {
     "name": "stdout",
     "output_type": "stream",
     "text": [
      "Error processing C:\\Users\\lenovo\\Desktop\\sci\\data\\ecg\\ptb_xl\\ptb_xl_npz\\ecg_12781.npz: cannot convert float NaN to integer\n"
     ]
    },
    {
     "name": "stderr",
     "output_type": "stream",
     "text": [
      "Processing patients:  14%|█▍        | 2665/18868 [19:17<1:47:38,  2.51it/s]"
     ]
    },
    {
     "name": "stdout",
     "output_type": "stream",
     "text": [
      "Error processing C:\\Users\\lenovo\\Desktop\\sci\\data\\ecg\\ptb_xl\\ptb_xl_npz\\ecg_12788.npz: cannot convert float NaN to integer\n"
     ]
    },
    {
     "name": "stderr",
     "output_type": "stream",
     "text": [
      "Processing patients:  14%|█▍        | 2687/18868 [19:27<1:39:56,  2.70it/s]"
     ]
    },
    {
     "name": "stdout",
     "output_type": "stream",
     "text": [
      "Error processing C:\\Users\\lenovo\\Desktop\\sci\\data\\ecg\\ptb_xl\\ptb_xl_npz\\ecg_12814.npz: cannot convert float NaN to integer\n"
     ]
    },
    {
     "name": "stderr",
     "output_type": "stream",
     "text": [
      "Processing patients:  14%|█▍        | 2734/18868 [19:55<2:33:54,  1.75it/s]"
     ]
    },
    {
     "name": "stdout",
     "output_type": "stream",
     "text": [
      "Error processing C:\\Users\\lenovo\\Desktop\\sci\\data\\ecg\\ptb_xl\\ptb_xl_npz\\ecg_12861.npz: integer division or modulo by zero\n"
     ]
    },
    {
     "name": "stderr",
     "output_type": "stream",
     "text": [
      "Processing patients:  15%|█▍        | 2749/18868 [20:02<2:25:21,  1.85it/s]"
     ]
    },
    {
     "name": "stdout",
     "output_type": "stream",
     "text": [
      "Error processing C:\\Users\\lenovo\\Desktop\\sci\\data\\ecg\\ptb_xl\\ptb_xl_npz\\ecg_12876.npz: cannot convert float NaN to integer\n"
     ]
    },
    {
     "name": "stderr",
     "output_type": "stream",
     "text": [
      "Processing patients:  15%|█▍        | 2812/18868 [20:34<1:29:45,  2.98it/s]"
     ]
    },
    {
     "name": "stdout",
     "output_type": "stream",
     "text": [
      "Error processing C:\\Users\\lenovo\\Desktop\\sci\\data\\ecg\\ptb_xl\\ptb_xl_npz\\ecg_12942.npz: cannot convert float NaN to integer\n"
     ]
    },
    {
     "name": "stderr",
     "output_type": "stream",
     "text": [
      "Processing patients:  15%|█▍        | 2815/18868 [20:35<1:56:08,  2.30it/s]"
     ]
    },
    {
     "name": "stdout",
     "output_type": "stream",
     "text": [
      "Error processing C:\\Users\\lenovo\\Desktop\\sci\\data\\ecg\\ptb_xl\\ptb_xl_npz\\ecg_12947.npz: cannot convert float NaN to integer\n"
     ]
    },
    {
     "name": "stderr",
     "output_type": "stream",
     "text": [
      "Processing patients:  16%|█▌        | 2978/18868 [21:39<1:23:58,  3.15it/s]"
     ]
    },
    {
     "name": "stdout",
     "output_type": "stream",
     "text": [
      "Error processing C:\\Users\\lenovo\\Desktop\\sci\\data\\ecg\\ptb_xl\\ptb_xl_npz\\ecg_13112.npz: cannot convert float NaN to integer\n"
     ]
    },
    {
     "name": "stderr",
     "output_type": "stream",
     "text": [
      "Processing patients:  16%|█▌        | 2988/18868 [21:43<1:21:15,  3.26it/s]"
     ]
    },
    {
     "name": "stdout",
     "output_type": "stream",
     "text": [
      "Error processing C:\\Users\\lenovo\\Desktop\\sci\\data\\ecg\\ptb_xl\\ptb_xl_npz\\ecg_13124.npz: cannot convert float NaN to integer\n"
     ]
    },
    {
     "name": "stderr",
     "output_type": "stream",
     "text": [
      "Processing patients:  16%|█▌        | 3005/18868 [21:49<1:30:08,  2.93it/s]"
     ]
    },
    {
     "name": "stdout",
     "output_type": "stream",
     "text": [
      "Error processing C:\\Users\\lenovo\\Desktop\\sci\\data\\ecg\\ptb_xl\\ptb_xl_npz\\ecg_13142.npz: cannot convert float NaN to integer\n"
     ]
    },
    {
     "name": "stderr",
     "output_type": "stream",
     "text": [
      "Processing patients:  16%|█▌        | 3058/18868 [22:08<1:28:19,  2.98it/s]"
     ]
    },
    {
     "name": "stdout",
     "output_type": "stream",
     "text": [
      "Error processing C:\\Users\\lenovo\\Desktop\\sci\\data\\ecg\\ptb_xl\\ptb_xl_npz\\ecg_13195.npz: cannot convert float NaN to integer\n"
     ]
    },
    {
     "name": "stderr",
     "output_type": "stream",
     "text": [
      "Processing patients:  16%|█▋        | 3077/18868 [22:15<1:37:54,  2.69it/s]"
     ]
    },
    {
     "name": "stdout",
     "output_type": "stream",
     "text": [
      "Error processing C:\\Users\\lenovo\\Desktop\\sci\\data\\ecg\\ptb_xl\\ptb_xl_npz\\ecg_13217.npz: integer division or modulo by zero\n"
     ]
    },
    {
     "name": "stderr",
     "output_type": "stream",
     "text": [
      "Processing patients:  16%|█▋        | 3100/18868 [22:23<1:33:33,  2.81it/s]"
     ]
    },
    {
     "name": "stdout",
     "output_type": "stream",
     "text": [
      "Error processing C:\\Users\\lenovo\\Desktop\\sci\\data\\ecg\\ptb_xl\\ptb_xl_npz\\ecg_13247.npz: cannot convert float NaN to integer\n"
     ]
    },
    {
     "name": "stderr",
     "output_type": "stream",
     "text": [
      "Processing patients:  16%|█▋        | 3112/18868 [22:28<1:47:59,  2.43it/s]"
     ]
    },
    {
     "name": "stdout",
     "output_type": "stream",
     "text": [
      "Error processing C:\\Users\\lenovo\\Desktop\\sci\\data\\ecg\\ptb_xl\\ptb_xl_npz\\ecg_13262.npz: cannot convert float NaN to integer\n"
     ]
    },
    {
     "name": "stderr",
     "output_type": "stream",
     "text": [
      "Processing patients:  17%|█▋        | 3145/18868 [22:39<1:24:06,  3.12it/s]"
     ]
    },
    {
     "name": "stdout",
     "output_type": "stream",
     "text": [
      "Error processing C:\\Users\\lenovo\\Desktop\\sci\\data\\ecg\\ptb_xl\\ptb_xl_npz\\ecg_13295.npz: integer division or modulo by zero\n"
     ]
    },
    {
     "name": "stderr",
     "output_type": "stream",
     "text": [
      "Processing patients:  17%|█▋        | 3151/18868 [22:41<1:30:33,  2.89it/s]"
     ]
    },
    {
     "name": "stdout",
     "output_type": "stream",
     "text": [
      "Error processing C:\\Users\\lenovo\\Desktop\\sci\\data\\ecg\\ptb_xl\\ptb_xl_npz\\ecg_13302.npz: integer division or modulo by zero\n"
     ]
    },
    {
     "name": "stderr",
     "output_type": "stream",
     "text": [
      "Processing patients:  17%|█▋        | 3170/18868 [22:48<1:31:34,  2.86it/s]"
     ]
    },
    {
     "name": "stdout",
     "output_type": "stream",
     "text": [
      "Error processing C:\\Users\\lenovo\\Desktop\\sci\\data\\ecg\\ptb_xl\\ptb_xl_npz\\ecg_13322.npz: integer division or modulo by zero\n"
     ]
    },
    {
     "name": "stderr",
     "output_type": "stream",
     "text": [
      "Processing patients:  17%|█▋        | 3174/18868 [22:49<1:24:22,  3.10it/s]"
     ]
    },
    {
     "name": "stdout",
     "output_type": "stream",
     "text": [
      "Error processing C:\\Users\\lenovo\\Desktop\\sci\\data\\ecg\\ptb_xl\\ptb_xl_npz\\ecg_13327.npz: cannot convert float NaN to integer\n"
     ]
    },
    {
     "name": "stderr",
     "output_type": "stream",
     "text": [
      "Processing patients:  17%|█▋        | 3188/18868 [22:54<1:17:56,  3.35it/s]"
     ]
    },
    {
     "name": "stdout",
     "output_type": "stream",
     "text": [
      "Error processing C:\\Users\\lenovo\\Desktop\\sci\\data\\ecg\\ptb_xl\\ptb_xl_npz\\ecg_1334.npz: cannot convert float NaN to integer\n"
     ]
    },
    {
     "name": "stderr",
     "output_type": "stream",
     "text": [
      "Processing patients:  17%|█▋        | 3194/18868 [22:56<1:17:14,  3.38it/s]"
     ]
    },
    {
     "name": "stdout",
     "output_type": "stream",
     "text": [
      "Error processing C:\\Users\\lenovo\\Desktop\\sci\\data\\ecg\\ptb_xl\\ptb_xl_npz\\ecg_13345.npz: cannot convert float NaN to integer\n"
     ]
    },
    {
     "name": "stderr",
     "output_type": "stream",
     "text": [
      "Processing patients:  17%|█▋        | 3204/18868 [22:59<1:21:30,  3.20it/s]"
     ]
    },
    {
     "name": "stdout",
     "output_type": "stream",
     "text": [
      "Error processing C:\\Users\\lenovo\\Desktop\\sci\\data\\ecg\\ptb_xl\\ptb_xl_npz\\ecg_13358.npz: cannot convert float NaN to integer\n"
     ]
    },
    {
     "name": "stderr",
     "output_type": "stream",
     "text": [
      "Processing patients:  17%|█▋        | 3272/18868 [23:24<1:25:31,  3.04it/s]"
     ]
    },
    {
     "name": "stdout",
     "output_type": "stream",
     "text": [
      "Error processing C:\\Users\\lenovo\\Desktop\\sci\\data\\ecg\\ptb_xl\\ptb_xl_npz\\ecg_13432.npz: cannot convert float NaN to integer\n"
     ]
    },
    {
     "name": "stderr",
     "output_type": "stream",
     "text": [
      "Processing patients:  17%|█▋        | 3280/18868 [23:27<1:37:56,  2.65it/s]"
     ]
    },
    {
     "name": "stdout",
     "output_type": "stream",
     "text": [
      "Error processing C:\\Users\\lenovo\\Desktop\\sci\\data\\ecg\\ptb_xl\\ptb_xl_npz\\ecg_13442.npz: integer division or modulo by zero\n"
     ]
    },
    {
     "name": "stderr",
     "output_type": "stream",
     "text": [
      "Processing patients:  17%|█▋        | 3294/18868 [23:31<1:15:35,  3.43it/s]"
     ]
    },
    {
     "name": "stdout",
     "output_type": "stream",
     "text": [
      "Error processing C:\\Users\\lenovo\\Desktop\\sci\\data\\ecg\\ptb_xl\\ptb_xl_npz\\ecg_13459.npz: cannot convert float NaN to integer\n"
     ]
    },
    {
     "name": "stderr",
     "output_type": "stream",
     "text": [
      "Processing patients:  18%|█▊        | 3304/18868 [23:35<1:19:52,  3.25it/s]"
     ]
    },
    {
     "name": "stdout",
     "output_type": "stream",
     "text": [
      "Error processing C:\\Users\\lenovo\\Desktop\\sci\\data\\ecg\\ptb_xl\\ptb_xl_npz\\ecg_13475.npz: cannot convert float NaN to integer\n"
     ]
    },
    {
     "name": "stderr",
     "output_type": "stream",
     "text": [
      "Processing patients:  18%|█▊        | 3311/18868 [23:37<1:23:31,  3.10it/s]"
     ]
    },
    {
     "name": "stdout",
     "output_type": "stream",
     "text": [
      "Error processing C:\\Users\\lenovo\\Desktop\\sci\\data\\ecg\\ptb_xl\\ptb_xl_npz\\ecg_13482.npz: cannot convert float NaN to integer\n"
     ]
    },
    {
     "name": "stderr",
     "output_type": "stream",
     "text": [
      "Processing patients:  18%|█▊        | 3317/18868 [23:39<1:19:57,  3.24it/s]"
     ]
    },
    {
     "name": "stdout",
     "output_type": "stream",
     "text": [
      "Error processing C:\\Users\\lenovo\\Desktop\\sci\\data\\ecg\\ptb_xl\\ptb_xl_npz\\ecg_1349.npz: integer division or modulo by zero\n"
     ]
    },
    {
     "name": "stderr",
     "output_type": "stream",
     "text": [
      "Processing patients:  18%|█▊        | 3335/18868 [23:45<1:17:48,  3.33it/s]"
     ]
    },
    {
     "name": "stdout",
     "output_type": "stream",
     "text": [
      "Error processing C:\\Users\\lenovo\\Desktop\\sci\\data\\ecg\\ptb_xl\\ptb_xl_npz\\ecg_1351.npz: integer division or modulo by zero\n"
     ]
    },
    {
     "name": "stderr",
     "output_type": "stream",
     "text": [
      "Processing patients:  18%|█▊        | 3351/18868 [23:51<1:40:07,  2.58it/s]"
     ]
    },
    {
     "name": "stdout",
     "output_type": "stream",
     "text": [
      "Error processing C:\\Users\\lenovo\\Desktop\\sci\\data\\ecg\\ptb_xl\\ptb_xl_npz\\ecg_13525.npz: cannot convert float NaN to integer\n"
     ]
    },
    {
     "name": "stderr",
     "output_type": "stream",
     "text": [
      "Processing patients:  18%|█▊        | 3372/18868 [23:59<1:10:18,  3.67it/s]"
     ]
    },
    {
     "name": "stdout",
     "output_type": "stream",
     "text": [
      "Error processing C:\\Users\\lenovo\\Desktop\\sci\\data\\ecg\\ptb_xl\\ptb_xl_npz\\ecg_13547.npz: cannot convert float NaN to integer\n"
     ]
    },
    {
     "name": "stderr",
     "output_type": "stream",
     "text": [
      "Processing patients:  18%|█▊        | 3383/18868 [24:03<1:16:30,  3.37it/s]"
     ]
    },
    {
     "name": "stdout",
     "output_type": "stream",
     "text": [
      "Error processing C:\\Users\\lenovo\\Desktop\\sci\\data\\ecg\\ptb_xl\\ptb_xl_npz\\ecg_13559.npz: integer division or modulo by zero\n"
     ]
    },
    {
     "name": "stderr",
     "output_type": "stream",
     "text": [
      "Processing patients:  18%|█▊        | 3422/18868 [24:17<1:16:20,  3.37it/s]"
     ]
    },
    {
     "name": "stdout",
     "output_type": "stream",
     "text": [
      "Error processing C:\\Users\\lenovo\\Desktop\\sci\\data\\ecg\\ptb_xl\\ptb_xl_npz\\ecg_13599.npz: cannot convert float NaN to integer\n"
     ]
    },
    {
     "name": "stderr",
     "output_type": "stream",
     "text": [
      "Processing patients:  18%|█▊        | 3443/18868 [24:25<1:31:47,  2.80it/s]"
     ]
    },
    {
     "name": "stdout",
     "output_type": "stream",
     "text": [
      "Error processing C:\\Users\\lenovo\\Desktop\\sci\\data\\ecg\\ptb_xl\\ptb_xl_npz\\ecg_13621.npz: integer division or modulo by zero\n"
     ]
    },
    {
     "name": "stderr",
     "output_type": "stream",
     "text": [
      "Processing patients:  18%|█▊        | 3451/18868 [24:28<1:19:42,  3.22it/s]"
     ]
    },
    {
     "name": "stdout",
     "output_type": "stream",
     "text": [
      "Error processing C:\\Users\\lenovo\\Desktop\\sci\\data\\ecg\\ptb_xl\\ptb_xl_npz\\ecg_1363.npz: cannot convert float NaN to integer\n"
     ]
    },
    {
     "name": "stderr",
     "output_type": "stream",
     "text": [
      "Processing patients:  19%|█▉        | 3572/18868 [25:15<1:41:51,  2.50it/s]"
     ]
    },
    {
     "name": "stdout",
     "output_type": "stream",
     "text": [
      "Error processing C:\\Users\\lenovo\\Desktop\\sci\\data\\ecg\\ptb_xl\\ptb_xl_npz\\ecg_13752.npz: cannot convert float NaN to integer\n"
     ]
    },
    {
     "name": "stderr",
     "output_type": "stream",
     "text": [
      "Processing patients:  19%|█▉        | 3610/18868 [25:30<1:42:43,  2.48it/s]"
     ]
    },
    {
     "name": "stdout",
     "output_type": "stream",
     "text": [
      "Error processing C:\\Users\\lenovo\\Desktop\\sci\\data\\ecg\\ptb_xl\\ptb_xl_npz\\ecg_13802.npz: integer division or modulo by zero\n"
     ]
    },
    {
     "name": "stderr",
     "output_type": "stream",
     "text": [
      "Processing patients:  19%|█▉        | 3620/18868 [25:33<1:32:29,  2.75it/s]"
     ]
    },
    {
     "name": "stdout",
     "output_type": "stream",
     "text": [
      "Error processing C:\\Users\\lenovo\\Desktop\\sci\\data\\ecg\\ptb_xl\\ptb_xl_npz\\ecg_13811.npz: integer division or modulo by zero\n"
     ]
    },
    {
     "name": "stderr",
     "output_type": "stream",
     "text": [
      "Processing patients:  20%|█▉        | 3704/18868 [26:06<1:41:14,  2.50it/s]"
     ]
    },
    {
     "name": "stdout",
     "output_type": "stream",
     "text": [
      "Error processing C:\\Users\\lenovo\\Desktop\\sci\\data\\ecg\\ptb_xl\\ptb_xl_npz\\ecg_13898.npz: cannot convert float NaN to integer\n"
     ]
    },
    {
     "name": "stderr",
     "output_type": "stream",
     "text": [
      "Processing patients:  20%|█▉        | 3721/18868 [26:13<1:32:44,  2.72it/s]"
     ]
    },
    {
     "name": "stdout",
     "output_type": "stream",
     "text": [
      "Error processing C:\\Users\\lenovo\\Desktop\\sci\\data\\ecg\\ptb_xl\\ptb_xl_npz\\ecg_13914.npz: cannot convert float NaN to integer\n"
     ]
    },
    {
     "name": "stderr",
     "output_type": "stream",
     "text": [
      "Processing patients:  20%|█▉        | 3745/18868 [26:22<1:14:57,  3.36it/s]"
     ]
    },
    {
     "name": "stdout",
     "output_type": "stream",
     "text": [
      "Error processing C:\\Users\\lenovo\\Desktop\\sci\\data\\ecg\\ptb_xl\\ptb_xl_npz\\ecg_13938.npz: integer division or modulo by zero\n"
     ]
    },
    {
     "name": "stderr",
     "output_type": "stream",
     "text": [
      "Processing patients:  20%|██        | 3829/18868 [26:54<1:30:41,  2.76it/s]"
     ]
    },
    {
     "name": "stdout",
     "output_type": "stream",
     "text": [
      "Error processing C:\\Users\\lenovo\\Desktop\\sci\\data\\ecg\\ptb_xl\\ptb_xl_npz\\ecg_1402.npz: cannot convert float NaN to integer\n"
     ]
    },
    {
     "name": "stderr",
     "output_type": "stream",
     "text": [
      "Processing patients:  20%|██        | 3830/18868 [26:54<1:30:12,  2.78it/s]"
     ]
    },
    {
     "name": "stdout",
     "output_type": "stream",
     "text": [
      "Error processing C:\\Users\\lenovo\\Desktop\\sci\\data\\ecg\\ptb_xl\\ptb_xl_npz\\ecg_14022.npz: cannot convert float NaN to integer\n"
     ]
    },
    {
     "name": "stderr",
     "output_type": "stream",
     "text": [
      "Processing patients:  20%|██        | 3844/18868 [26:59<1:23:40,  2.99it/s]"
     ]
    },
    {
     "name": "stdout",
     "output_type": "stream",
     "text": [
      "Error processing C:\\Users\\lenovo\\Desktop\\sci\\data\\ecg\\ptb_xl\\ptb_xl_npz\\ecg_14036.npz: cannot convert float NaN to integer\n"
     ]
    },
    {
     "name": "stderr",
     "output_type": "stream",
     "text": [
      "Processing patients:  20%|██        | 3855/18868 [27:03<1:19:33,  3.15it/s]"
     ]
    },
    {
     "name": "stdout",
     "output_type": "stream",
     "text": [
      "Error processing C:\\Users\\lenovo\\Desktop\\sci\\data\\ecg\\ptb_xl\\ptb_xl_npz\\ecg_14047.npz: cannot convert float NaN to integer\n"
     ]
    },
    {
     "name": "stderr",
     "output_type": "stream",
     "text": [
      "Processing patients:  20%|██        | 3862/18868 [27:06<1:36:13,  2.60it/s]"
     ]
    },
    {
     "name": "stdout",
     "output_type": "stream",
     "text": [
      "Error processing C:\\Users\\lenovo\\Desktop\\sci\\data\\ecg\\ptb_xl\\ptb_xl_npz\\ecg_14054.npz: cannot convert float NaN to integer\n"
     ]
    },
    {
     "name": "stderr",
     "output_type": "stream",
     "text": [
      "Processing patients:  21%|██        | 3888/18868 [27:15<1:22:44,  3.02it/s]"
     ]
    },
    {
     "name": "stdout",
     "output_type": "stream",
     "text": [
      "Error processing C:\\Users\\lenovo\\Desktop\\sci\\data\\ecg\\ptb_xl\\ptb_xl_npz\\ecg_14083.npz: cannot convert float NaN to integer\n"
     ]
    },
    {
     "name": "stderr",
     "output_type": "stream",
     "text": [
      "Processing patients:  21%|██        | 3910/18868 [27:24<1:33:33,  2.66it/s]"
     ]
    },
    {
     "name": "stdout",
     "output_type": "stream",
     "text": [
      "Error processing C:\\Users\\lenovo\\Desktop\\sci\\data\\ecg\\ptb_xl\\ptb_xl_npz\\ecg_14107.npz: cannot convert float NaN to integer\n"
     ]
    },
    {
     "name": "stderr",
     "output_type": "stream",
     "text": [
      "Processing patients:  21%|██        | 3919/18868 [27:27<1:23:22,  2.99it/s]"
     ]
    },
    {
     "name": "stdout",
     "output_type": "stream",
     "text": [
      "Error processing C:\\Users\\lenovo\\Desktop\\sci\\data\\ecg\\ptb_xl\\ptb_xl_npz\\ecg_14114.npz: integer division or modulo by zero\n"
     ]
    },
    {
     "name": "stderr",
     "output_type": "stream",
     "text": [
      "Processing patients:  21%|██        | 4001/18868 [27:59<1:24:21,  2.94it/s]"
     ]
    },
    {
     "name": "stdout",
     "output_type": "stream",
     "text": [
      "Error processing C:\\Users\\lenovo\\Desktop\\sci\\data\\ecg\\ptb_xl\\ptb_xl_npz\\ecg_14193.npz: cannot convert float NaN to integer\n"
     ]
    },
    {
     "name": "stderr",
     "output_type": "stream",
     "text": [
      "Processing patients:  21%|██▏       | 4050/18868 [28:17<1:24:16,  2.93it/s]"
     ]
    },
    {
     "name": "stdout",
     "output_type": "stream",
     "text": [
      "Error processing C:\\Users\\lenovo\\Desktop\\sci\\data\\ecg\\ptb_xl\\ptb_xl_npz\\ecg_14246.npz: integer division or modulo by zero\n"
     ]
    },
    {
     "name": "stderr",
     "output_type": "stream",
     "text": [
      "Processing patients:  21%|██▏       | 4052/18868 [28:18<1:15:25,  3.27it/s]"
     ]
    },
    {
     "name": "stdout",
     "output_type": "stream",
     "text": [
      "Error processing C:\\Users\\lenovo\\Desktop\\sci\\data\\ecg\\ptb_xl\\ptb_xl_npz\\ecg_14249.npz: cannot convert float NaN to integer\n"
     ]
    },
    {
     "name": "stderr",
     "output_type": "stream",
     "text": [
      "Processing patients:  21%|██▏       | 4055/18868 [28:19<1:21:04,  3.04it/s]"
     ]
    },
    {
     "name": "stdout",
     "output_type": "stream",
     "text": [
      "Error processing C:\\Users\\lenovo\\Desktop\\sci\\data\\ecg\\ptb_xl\\ptb_xl_npz\\ecg_14251.npz: cannot convert float NaN to integer\n"
     ]
    },
    {
     "name": "stderr",
     "output_type": "stream",
     "text": [
      "Processing patients:  22%|██▏       | 4105/18868 [28:38<1:19:58,  3.08it/s]"
     ]
    },
    {
     "name": "stdout",
     "output_type": "stream",
     "text": [
      "Error processing C:\\Users\\lenovo\\Desktop\\sci\\data\\ecg\\ptb_xl\\ptb_xl_npz\\ecg_14303.npz: cannot convert float NaN to integer\n"
     ]
    },
    {
     "name": "stderr",
     "output_type": "stream",
     "text": [
      "Processing patients:  22%|██▏       | 4109/18868 [28:39<1:17:48,  3.16it/s]"
     ]
    },
    {
     "name": "stdout",
     "output_type": "stream",
     "text": [
      "Error processing C:\\Users\\lenovo\\Desktop\\sci\\data\\ecg\\ptb_xl\\ptb_xl_npz\\ecg_14307.npz: cannot convert float NaN to integer\n"
     ]
    },
    {
     "name": "stderr",
     "output_type": "stream",
     "text": [
      "Processing patients:  22%|██▏       | 4115/18868 [28:41<1:25:28,  2.88it/s]"
     ]
    },
    {
     "name": "stdout",
     "output_type": "stream",
     "text": [
      "Error processing C:\\Users\\lenovo\\Desktop\\sci\\data\\ecg\\ptb_xl\\ptb_xl_npz\\ecg_14315.npz: cannot convert float NaN to integer\n"
     ]
    },
    {
     "name": "stderr",
     "output_type": "stream",
     "text": [
      "Processing patients:  22%|██▏       | 4130/18868 [28:46<1:21:36,  3.01it/s]"
     ]
    },
    {
     "name": "stdout",
     "output_type": "stream",
     "text": [
      "Error processing C:\\Users\\lenovo\\Desktop\\sci\\data\\ecg\\ptb_xl\\ptb_xl_npz\\ecg_14331.npz: cannot convert float NaN to integer\n"
     ]
    },
    {
     "name": "stderr",
     "output_type": "stream",
     "text": [
      "Processing patients:  22%|██▏       | 4157/18868 [28:57<1:18:55,  3.11it/s]"
     ]
    },
    {
     "name": "stdout",
     "output_type": "stream",
     "text": [
      "Error processing C:\\Users\\lenovo\\Desktop\\sci\\data\\ecg\\ptb_xl\\ptb_xl_npz\\ecg_14358.npz: cannot convert float NaN to integer\n"
     ]
    },
    {
     "name": "stderr",
     "output_type": "stream",
     "text": [
      "Processing patients:  22%|██▏       | 4170/18868 [29:01<1:10:39,  3.47it/s]"
     ]
    },
    {
     "name": "stdout",
     "output_type": "stream",
     "text": [
      "Error processing C:\\Users\\lenovo\\Desktop\\sci\\data\\ecg\\ptb_xl\\ptb_xl_npz\\ecg_1437.npz: cannot convert float NaN to integer\n"
     ]
    },
    {
     "name": "stderr",
     "output_type": "stream",
     "text": [
      "Processing patients:  23%|██▎       | 4294/18868 [29:49<1:23:22,  2.91it/s]"
     ]
    },
    {
     "name": "stdout",
     "output_type": "stream",
     "text": [
      "Error processing C:\\Users\\lenovo\\Desktop\\sci\\data\\ecg\\ptb_xl\\ptb_xl_npz\\ecg_1449.npz: cannot convert float NaN to integer\n"
     ]
    },
    {
     "name": "stderr",
     "output_type": "stream",
     "text": [
      "Processing patients:  23%|██▎       | 4317/18868 [29:58<1:31:30,  2.65it/s]"
     ]
    },
    {
     "name": "stdout",
     "output_type": "stream",
     "text": [
      "Error processing C:\\Users\\lenovo\\Desktop\\sci\\data\\ecg\\ptb_xl\\ptb_xl_npz\\ecg_14513.npz: integer division or modulo by zero\n"
     ]
    },
    {
     "name": "stderr",
     "output_type": "stream",
     "text": [
      "Processing patients:  23%|██▎       | 4329/18868 [30:02<1:21:46,  2.96it/s]"
     ]
    },
    {
     "name": "stdout",
     "output_type": "stream",
     "text": [
      "Error processing C:\\Users\\lenovo\\Desktop\\sci\\data\\ecg\\ptb_xl\\ptb_xl_npz\\ecg_14529.npz: cannot convert float NaN to integer\n"
     ]
    },
    {
     "name": "stderr",
     "output_type": "stream",
     "text": [
      "Processing patients:  23%|██▎       | 4361/18868 [30:14<1:18:55,  3.06it/s]"
     ]
    },
    {
     "name": "stdout",
     "output_type": "stream",
     "text": [
      "Error processing C:\\Users\\lenovo\\Desktop\\sci\\data\\ecg\\ptb_xl\\ptb_xl_npz\\ecg_14559.npz: cannot convert float NaN to integer\n"
     ]
    },
    {
     "name": "stderr",
     "output_type": "stream",
     "text": [
      "Processing patients:  23%|██▎       | 4401/18868 [30:29<1:25:24,  2.82it/s]"
     ]
    },
    {
     "name": "stdout",
     "output_type": "stream",
     "text": [
      "Error processing C:\\Users\\lenovo\\Desktop\\sci\\data\\ecg\\ptb_xl\\ptb_xl_npz\\ecg_14602.npz: cannot convert float NaN to integer\n"
     ]
    },
    {
     "name": "stderr",
     "output_type": "stream",
     "text": [
      "Processing patients:  23%|██▎       | 4418/18868 [30:35<1:15:15,  3.20it/s]"
     ]
    },
    {
     "name": "stdout",
     "output_type": "stream",
     "text": [
      "Error processing C:\\Users\\lenovo\\Desktop\\sci\\data\\ecg\\ptb_xl\\ptb_xl_npz\\ecg_1462.npz: cannot convert float NaN to integer\n"
     ]
    },
    {
     "name": "stderr",
     "output_type": "stream",
     "text": [
      "Processing patients:  24%|██▎       | 4464/18868 [30:53<1:12:41,  3.30it/s]"
     ]
    },
    {
     "name": "stdout",
     "output_type": "stream",
     "text": [
      "Error processing C:\\Users\\lenovo\\Desktop\\sci\\data\\ecg\\ptb_xl\\ptb_xl_npz\\ecg_14662.npz: cannot convert float NaN to integer\n"
     ]
    },
    {
     "name": "stderr",
     "output_type": "stream",
     "text": [
      "Processing patients:  24%|██▍       | 4488/18868 [31:01<1:10:34,  3.40it/s]"
     ]
    },
    {
     "name": "stdout",
     "output_type": "stream",
     "text": [
      "Error processing C:\\Users\\lenovo\\Desktop\\sci\\data\\ecg\\ptb_xl\\ptb_xl_npz\\ecg_14685.npz: cannot convert float NaN to integer\n"
     ]
    },
    {
     "name": "stderr",
     "output_type": "stream",
     "text": [
      "Processing patients:  24%|██▍       | 4512/18868 [31:11<1:25:12,  2.81it/s]"
     ]
    },
    {
     "name": "stdout",
     "output_type": "stream",
     "text": [
      "Error processing C:\\Users\\lenovo\\Desktop\\sci\\data\\ecg\\ptb_xl\\ptb_xl_npz\\ecg_14711.npz: cannot convert float NaN to integer\n",
      "Error processing C:\\Users\\lenovo\\Desktop\\sci\\data\\ecg\\ptb_xl\\ptb_xl_npz\\ecg_14712.npz: integer division or modulo by zero\n"
     ]
    },
    {
     "name": "stderr",
     "output_type": "stream",
     "text": [
      "Processing patients:  24%|██▍       | 4521/18868 [31:14<1:07:11,  3.56it/s]"
     ]
    },
    {
     "name": "stdout",
     "output_type": "stream",
     "text": [
      "Error processing C:\\Users\\lenovo\\Desktop\\sci\\data\\ecg\\ptb_xl\\ptb_xl_npz\\ecg_14721.npz: cannot convert float NaN to integer\n"
     ]
    },
    {
     "name": "stderr",
     "output_type": "stream",
     "text": [
      "Processing patients:  25%|██▍       | 4647/18868 [32:02<1:22:26,  2.87it/s]"
     ]
    },
    {
     "name": "stdout",
     "output_type": "stream",
     "text": [
      "Error processing C:\\Users\\lenovo\\Desktop\\sci\\data\\ecg\\ptb_xl\\ptb_xl_npz\\ecg_14850.npz: cannot convert float NaN to integer\n"
     ]
    },
    {
     "name": "stderr",
     "output_type": "stream",
     "text": [
      "Processing patients:  25%|██▍       | 4654/18868 [32:05<1:20:39,  2.94it/s]"
     ]
    },
    {
     "name": "stdout",
     "output_type": "stream",
     "text": [
      "Error processing C:\\Users\\lenovo\\Desktop\\sci\\data\\ecg\\ptb_xl\\ptb_xl_npz\\ecg_14857.npz: cannot convert float NaN to integer\n"
     ]
    },
    {
     "name": "stderr",
     "output_type": "stream",
     "text": [
      "Processing patients:  25%|██▍       | 4672/18868 [32:12<1:15:36,  3.13it/s]"
     ]
    },
    {
     "name": "stdout",
     "output_type": "stream",
     "text": [
      "Error processing C:\\Users\\lenovo\\Desktop\\sci\\data\\ecg\\ptb_xl\\ptb_xl_npz\\ecg_14875.npz: cannot convert float NaN to integer\n"
     ]
    },
    {
     "name": "stderr",
     "output_type": "stream",
     "text": [
      "Processing patients:  25%|██▌       | 4772/18868 [32:49<1:14:12,  3.17it/s]"
     ]
    },
    {
     "name": "stdout",
     "output_type": "stream",
     "text": [
      "Error processing C:\\Users\\lenovo\\Desktop\\sci\\data\\ecg\\ptb_xl\\ptb_xl_npz\\ecg_14983.npz: integer division or modulo by zero\n"
     ]
    },
    {
     "name": "stderr",
     "output_type": "stream",
     "text": [
      "Processing patients:  25%|██▌       | 4784/18868 [32:53<1:07:04,  3.50it/s]"
     ]
    },
    {
     "name": "stdout",
     "output_type": "stream",
     "text": [
      "Error processing C:\\Users\\lenovo\\Desktop\\sci\\data\\ecg\\ptb_xl\\ptb_xl_npz\\ecg_14994.npz: cannot convert float NaN to integer\n"
     ]
    },
    {
     "name": "stderr",
     "output_type": "stream",
     "text": [
      "Processing patients:  25%|██▌       | 4786/18868 [32:54<1:04:31,  3.64it/s]"
     ]
    },
    {
     "name": "stdout",
     "output_type": "stream",
     "text": [
      "Error processing C:\\Users\\lenovo\\Desktop\\sci\\data\\ecg\\ptb_xl\\ptb_xl_npz\\ecg_14996.npz: cannot convert float NaN to integer\n"
     ]
    },
    {
     "name": "stderr",
     "output_type": "stream",
     "text": [
      "Processing patients:  25%|██▌       | 4801/18868 [32:59<1:25:33,  2.74it/s]"
     ]
    },
    {
     "name": "stdout",
     "output_type": "stream",
     "text": [
      "Error processing C:\\Users\\lenovo\\Desktop\\sci\\data\\ecg\\ptb_xl\\ptb_xl_npz\\ecg_15010.npz: cannot convert float NaN to integer\n"
     ]
    },
    {
     "name": "stderr",
     "output_type": "stream",
     "text": [
      "Processing patients:  26%|██▌       | 4835/18868 [33:12<1:35:08,  2.46it/s]"
     ]
    },
    {
     "name": "stdout",
     "output_type": "stream",
     "text": [
      "Error processing C:\\Users\\lenovo\\Desktop\\sci\\data\\ecg\\ptb_xl\\ptb_xl_npz\\ecg_15045.npz: cannot convert float NaN to integer\n"
     ]
    },
    {
     "name": "stderr",
     "output_type": "stream",
     "text": [
      "Processing patients:  26%|██▌       | 4842/18868 [33:15<1:17:50,  3.00it/s]"
     ]
    },
    {
     "name": "stdout",
     "output_type": "stream",
     "text": [
      "Error processing C:\\Users\\lenovo\\Desktop\\sci\\data\\ecg\\ptb_xl\\ptb_xl_npz\\ecg_15051.npz: cannot convert float NaN to integer\n"
     ]
    },
    {
     "name": "stderr",
     "output_type": "stream",
     "text": [
      "Processing patients:  26%|██▌       | 4864/18868 [33:22<1:04:46,  3.60it/s]"
     ]
    },
    {
     "name": "stdout",
     "output_type": "stream",
     "text": [
      "Error processing C:\\Users\\lenovo\\Desktop\\sci\\data\\ecg\\ptb_xl\\ptb_xl_npz\\ecg_15083.npz: cannot convert float NaN to integer\n"
     ]
    },
    {
     "name": "stderr",
     "output_type": "stream",
     "text": [
      "Processing patients:  26%|██▌       | 4872/18868 [33:25<1:21:49,  2.85it/s]"
     ]
    },
    {
     "name": "stdout",
     "output_type": "stream",
     "text": [
      "Error processing C:\\Users\\lenovo\\Desktop\\sci\\data\\ecg\\ptb_xl\\ptb_xl_npz\\ecg_15092.npz: cannot convert float NaN to integer\n"
     ]
    },
    {
     "name": "stderr",
     "output_type": "stream",
     "text": [
      "Processing patients:  26%|██▌       | 4920/18868 [33:44<1:27:51,  2.65it/s]"
     ]
    },
    {
     "name": "stdout",
     "output_type": "stream",
     "text": [
      "Error processing C:\\Users\\lenovo\\Desktop\\sci\\data\\ecg\\ptb_xl\\ptb_xl_npz\\ecg_1514.npz: integer division or modulo by zero\n"
     ]
    },
    {
     "name": "stderr",
     "output_type": "stream",
     "text": [
      "Processing patients:  26%|██▌       | 4927/18868 [33:46<1:29:42,  2.59it/s]"
     ]
    },
    {
     "name": "stdout",
     "output_type": "stream",
     "text": [
      "Error processing C:\\Users\\lenovo\\Desktop\\sci\\data\\ecg\\ptb_xl\\ptb_xl_npz\\ecg_15147.npz: cannot convert float NaN to integer\n",
      "Error processing C:\\Users\\lenovo\\Desktop\\sci\\data\\ecg\\ptb_xl\\ptb_xl_npz\\ecg_15148.npz: cannot convert float NaN to integer\n"
     ]
    },
    {
     "name": "stderr",
     "output_type": "stream",
     "text": [
      "Processing patients:  26%|██▌       | 4938/18868 [33:50<1:11:02,  3.27it/s]"
     ]
    },
    {
     "name": "stdout",
     "output_type": "stream",
     "text": [
      "Error processing C:\\Users\\lenovo\\Desktop\\sci\\data\\ecg\\ptb_xl\\ptb_xl_npz\\ecg_15159.npz: integer division or modulo by zero\n"
     ]
    },
    {
     "name": "stderr",
     "output_type": "stream",
     "text": [
      "Processing patients:  26%|██▋       | 4958/18868 [33:58<1:19:36,  2.91it/s]"
     ]
    },
    {
     "name": "stdout",
     "output_type": "stream",
     "text": [
      "Error processing C:\\Users\\lenovo\\Desktop\\sci\\data\\ecg\\ptb_xl\\ptb_xl_npz\\ecg_15178.npz: cannot convert float NaN to integer\n"
     ]
    },
    {
     "name": "stderr",
     "output_type": "stream",
     "text": [
      "Processing patients:  26%|██▋       | 4974/18868 [34:03<1:09:26,  3.34it/s]"
     ]
    },
    {
     "name": "stdout",
     "output_type": "stream",
     "text": [
      "Error processing C:\\Users\\lenovo\\Desktop\\sci\\data\\ecg\\ptb_xl\\ptb_xl_npz\\ecg_15194.npz: cannot convert float NaN to integer\n"
     ]
    },
    {
     "name": "stderr",
     "output_type": "stream",
     "text": [
      "Processing patients:  26%|██▋       | 4979/18868 [34:05<1:20:17,  2.88it/s]"
     ]
    },
    {
     "name": "stdout",
     "output_type": "stream",
     "text": [
      "Error processing C:\\Users\\lenovo\\Desktop\\sci\\data\\ecg\\ptb_xl\\ptb_xl_npz\\ecg_15199.npz: cannot convert float NaN to integer\n"
     ]
    },
    {
     "name": "stderr",
     "output_type": "stream",
     "text": [
      "Processing patients:  27%|██▋       | 5004/18868 [34:15<1:18:25,  2.95it/s]"
     ]
    },
    {
     "name": "stdout",
     "output_type": "stream",
     "text": [
      "Error processing C:\\Users\\lenovo\\Desktop\\sci\\data\\ecg\\ptb_xl\\ptb_xl_npz\\ecg_15225.npz: cannot convert float NaN to integer\n"
     ]
    },
    {
     "name": "stderr",
     "output_type": "stream",
     "text": [
      "Processing patients:  27%|██▋       | 5068/18868 [34:40<1:20:48,  2.85it/s]"
     ]
    },
    {
     "name": "stdout",
     "output_type": "stream",
     "text": [
      "Error processing C:\\Users\\lenovo\\Desktop\\sci\\data\\ecg\\ptb_xl\\ptb_xl_npz\\ecg_15293.npz: cannot convert float NaN to integer\n"
     ]
    },
    {
     "name": "stderr",
     "output_type": "stream",
     "text": [
      "Processing patients:  27%|██▋       | 5072/18868 [34:41<1:06:56,  3.43it/s]"
     ]
    },
    {
     "name": "stdout",
     "output_type": "stream",
     "text": [
      "Error processing C:\\Users\\lenovo\\Desktop\\sci\\data\\ecg\\ptb_xl\\ptb_xl_npz\\ecg_15298.npz: integer division or modulo by zero\n"
     ]
    },
    {
     "name": "stderr",
     "output_type": "stream",
     "text": [
      "Processing patients:  27%|██▋       | 5155/18868 [35:13<1:07:48,  3.37it/s]"
     ]
    },
    {
     "name": "stdout",
     "output_type": "stream",
     "text": [
      "Error processing C:\\Users\\lenovo\\Desktop\\sci\\data\\ecg\\ptb_xl\\ptb_xl_npz\\ecg_15391.npz: cannot convert float NaN to integer\n"
     ]
    },
    {
     "name": "stderr",
     "output_type": "stream",
     "text": [
      "Processing patients:  27%|██▋       | 5156/18868 [35:13<1:15:44,  3.02it/s]"
     ]
    },
    {
     "name": "stdout",
     "output_type": "stream",
     "text": [
      "Error processing C:\\Users\\lenovo\\Desktop\\sci\\data\\ecg\\ptb_xl\\ptb_xl_npz\\ecg_15393.npz: cannot convert float NaN to integer\n"
     ]
    },
    {
     "name": "stderr",
     "output_type": "stream",
     "text": [
      "Processing patients:  27%|██▋       | 5188/18868 [35:25<1:13:10,  3.12it/s]"
     ]
    },
    {
     "name": "stdout",
     "output_type": "stream",
     "text": [
      "Error processing C:\\Users\\lenovo\\Desktop\\sci\\data\\ecg\\ptb_xl\\ptb_xl_npz\\ecg_15428.npz: cannot convert float NaN to integer\n"
     ]
    },
    {
     "name": "stderr",
     "output_type": "stream",
     "text": [
      "Processing patients:  28%|██▊       | 5212/18868 [35:34<1:17:01,  2.95it/s]"
     ]
    },
    {
     "name": "stdout",
     "output_type": "stream",
     "text": [
      "Error processing C:\\Users\\lenovo\\Desktop\\sci\\data\\ecg\\ptb_xl\\ptb_xl_npz\\ecg_15450.npz: cannot convert float NaN to integer\n"
     ]
    },
    {
     "name": "stderr",
     "output_type": "stream",
     "text": [
      "Processing patients:  28%|██▊       | 5214/18868 [35:35<1:10:37,  3.22it/s]"
     ]
    },
    {
     "name": "stdout",
     "output_type": "stream",
     "text": [
      "Error processing C:\\Users\\lenovo\\Desktop\\sci\\data\\ecg\\ptb_xl\\ptb_xl_npz\\ecg_15452.npz: cannot convert float NaN to integer\n"
     ]
    },
    {
     "name": "stderr",
     "output_type": "stream",
     "text": [
      "Processing patients:  28%|██▊       | 5262/18868 [35:53<1:05:09,  3.48it/s]"
     ]
    },
    {
     "name": "stdout",
     "output_type": "stream",
     "text": [
      "Error processing C:\\Users\\lenovo\\Desktop\\sci\\data\\ecg\\ptb_xl\\ptb_xl_npz\\ecg_15501.npz: cannot convert float NaN to integer\n"
     ]
    },
    {
     "name": "stderr",
     "output_type": "stream",
     "text": [
      "Processing patients:  28%|██▊       | 5275/18868 [35:58<1:18:54,  2.87it/s]"
     ]
    },
    {
     "name": "stdout",
     "output_type": "stream",
     "text": [
      "Error processing C:\\Users\\lenovo\\Desktop\\sci\\data\\ecg\\ptb_xl\\ptb_xl_npz\\ecg_15514.npz: cannot convert float NaN to integer\n"
     ]
    },
    {
     "name": "stderr",
     "output_type": "stream",
     "text": [
      "Processing patients:  28%|██▊       | 5304/18868 [36:09<1:16:48,  2.94it/s]"
     ]
    },
    {
     "name": "stdout",
     "output_type": "stream",
     "text": [
      "Error processing C:\\Users\\lenovo\\Desktop\\sci\\data\\ecg\\ptb_xl\\ptb_xl_npz\\ecg_15546.npz: cannot convert float NaN to integer\n"
     ]
    },
    {
     "name": "stderr",
     "output_type": "stream",
     "text": [
      "Processing patients:  28%|██▊       | 5312/18868 [36:12<1:13:03,  3.09it/s]"
     ]
    },
    {
     "name": "stdout",
     "output_type": "stream",
     "text": [
      "Error processing C:\\Users\\lenovo\\Desktop\\sci\\data\\ecg\\ptb_xl\\ptb_xl_npz\\ecg_15554.npz: integer division or modulo by zero\n"
     ]
    },
    {
     "name": "stderr",
     "output_type": "stream",
     "text": [
      "Processing patients:  28%|██▊       | 5348/18868 [36:26<1:02:58,  3.58it/s]"
     ]
    },
    {
     "name": "stdout",
     "output_type": "stream",
     "text": [
      "Error processing C:\\Users\\lenovo\\Desktop\\sci\\data\\ecg\\ptb_xl\\ptb_xl_npz\\ecg_15592.npz: cannot convert float NaN to integer\n"
     ]
    },
    {
     "name": "stderr",
     "output_type": "stream",
     "text": [
      "Processing patients:  29%|██▊       | 5408/18868 [36:49<1:12:19,  3.10it/s]"
     ]
    },
    {
     "name": "stdout",
     "output_type": "stream",
     "text": [
      "Error processing C:\\Users\\lenovo\\Desktop\\sci\\data\\ecg\\ptb_xl\\ptb_xl_npz\\ecg_15654.npz: integer division or modulo by zero\n"
     ]
    },
    {
     "name": "stderr",
     "output_type": "stream",
     "text": [
      "Processing patients:  29%|██▉       | 5425/18868 [36:56<1:30:53,  2.47it/s]"
     ]
    },
    {
     "name": "stdout",
     "output_type": "stream",
     "text": [
      "Error processing C:\\Users\\lenovo\\Desktop\\sci\\data\\ecg\\ptb_xl\\ptb_xl_npz\\ecg_15672.npz: cannot convert float NaN to integer\n"
     ]
    },
    {
     "name": "stderr",
     "output_type": "stream",
     "text": [
      "Processing patients:  29%|██▉       | 5443/18868 [37:02<1:07:10,  3.33it/s]"
     ]
    },
    {
     "name": "stdout",
     "output_type": "stream",
     "text": [
      "Error processing C:\\Users\\lenovo\\Desktop\\sci\\data\\ecg\\ptb_xl\\ptb_xl_npz\\ecg_15688.npz: cannot convert float NaN to integer\n"
     ]
    },
    {
     "name": "stderr",
     "output_type": "stream",
     "text": [
      "Processing patients:  29%|██▉       | 5449/18868 [37:04<1:22:23,  2.71it/s]"
     ]
    },
    {
     "name": "stdout",
     "output_type": "stream",
     "text": [
      "Error processing C:\\Users\\lenovo\\Desktop\\sci\\data\\ecg\\ptb_xl\\ptb_xl_npz\\ecg_15695.npz: cannot convert float NaN to integer\n"
     ]
    },
    {
     "name": "stderr",
     "output_type": "stream",
     "text": [
      "Processing patients:  29%|██▉       | 5459/18868 [37:08<1:25:06,  2.63it/s]"
     ]
    },
    {
     "name": "stdout",
     "output_type": "stream",
     "text": [
      "Error processing C:\\Users\\lenovo\\Desktop\\sci\\data\\ecg\\ptb_xl\\ptb_xl_npz\\ecg_15704.npz: cannot convert float NaN to integer\n"
     ]
    },
    {
     "name": "stderr",
     "output_type": "stream",
     "text": [
      "Processing patients:  29%|██▉       | 5505/18868 [37:25<1:16:07,  2.93it/s]"
     ]
    },
    {
     "name": "stdout",
     "output_type": "stream",
     "text": [
      "Error processing C:\\Users\\lenovo\\Desktop\\sci\\data\\ecg\\ptb_xl\\ptb_xl_npz\\ecg_15755.npz: cannot convert float NaN to integer\n"
     ]
    },
    {
     "name": "stderr",
     "output_type": "stream",
     "text": [
      "Processing patients:  29%|██▉       | 5529/18868 [37:35<1:28:32,  2.51it/s]"
     ]
    },
    {
     "name": "stdout",
     "output_type": "stream",
     "text": [
      "Error processing C:\\Users\\lenovo\\Desktop\\sci\\data\\ecg\\ptb_xl\\ptb_xl_npz\\ecg_15780.npz: cannot convert float NaN to integer\n"
     ]
    },
    {
     "name": "stderr",
     "output_type": "stream",
     "text": [
      "Processing patients:  30%|██▉       | 5589/18868 [37:58<1:13:47,  3.00it/s]"
     ]
    },
    {
     "name": "stdout",
     "output_type": "stream",
     "text": [
      "Error processing C:\\Users\\lenovo\\Desktop\\sci\\data\\ecg\\ptb_xl\\ptb_xl_npz\\ecg_15841.npz: integer division or modulo by zero\n"
     ]
    },
    {
     "name": "stderr",
     "output_type": "stream",
     "text": [
      "Processing patients:  30%|██▉       | 5599/18868 [38:01<1:27:54,  2.52it/s]"
     ]
    },
    {
     "name": "stdout",
     "output_type": "stream",
     "text": [
      "Error processing C:\\Users\\lenovo\\Desktop\\sci\\data\\ecg\\ptb_xl\\ptb_xl_npz\\ecg_15852.npz: integer division or modulo by zero\n"
     ]
    },
    {
     "name": "stderr",
     "output_type": "stream",
     "text": [
      "Processing patients:  30%|██▉       | 5610/18868 [38:05<1:11:32,  3.09it/s]"
     ]
    },
    {
     "name": "stdout",
     "output_type": "stream",
     "text": [
      "Error processing C:\\Users\\lenovo\\Desktop\\sci\\data\\ecg\\ptb_xl\\ptb_xl_npz\\ecg_15862.npz: cannot convert float NaN to integer\n"
     ]
    },
    {
     "name": "stderr",
     "output_type": "stream",
     "text": [
      "Processing patients:  30%|██▉       | 5645/18868 [38:18<1:18:20,  2.81it/s]"
     ]
    },
    {
     "name": "stdout",
     "output_type": "stream",
     "text": [
      "Error processing C:\\Users\\lenovo\\Desktop\\sci\\data\\ecg\\ptb_xl\\ptb_xl_npz\\ecg_15900.npz: cannot convert float NaN to integer\n"
     ]
    },
    {
     "name": "stderr",
     "output_type": "stream",
     "text": [
      "Processing patients:  30%|███       | 5661/18868 [38:24<1:11:41,  3.07it/s]"
     ]
    },
    {
     "name": "stdout",
     "output_type": "stream",
     "text": [
      "Error processing C:\\Users\\lenovo\\Desktop\\sci\\data\\ecg\\ptb_xl\\ptb_xl_npz\\ecg_15917.npz: cannot convert float NaN to integer\n"
     ]
    },
    {
     "name": "stderr",
     "output_type": "stream",
     "text": [
      "Processing patients:  30%|███       | 5683/18868 [38:33<1:28:58,  2.47it/s]"
     ]
    },
    {
     "name": "stdout",
     "output_type": "stream",
     "text": [
      "Error processing C:\\Users\\lenovo\\Desktop\\sci\\data\\ecg\\ptb_xl\\ptb_xl_npz\\ecg_15940.npz: cannot convert float NaN to integer\n"
     ]
    },
    {
     "name": "stderr",
     "output_type": "stream",
     "text": [
      "Processing patients:  30%|███       | 5686/18868 [38:33<1:03:29,  3.46it/s]"
     ]
    },
    {
     "name": "stdout",
     "output_type": "stream",
     "text": [
      "Error processing C:\\Users\\lenovo\\Desktop\\sci\\data\\ecg\\ptb_xl\\ptb_xl_npz\\ecg_15942.npz: cannot convert float NaN to integer\n"
     ]
    },
    {
     "name": "stderr",
     "output_type": "stream",
     "text": [
      "Processing patients:  30%|███       | 5727/18868 [38:50<1:22:36,  2.65it/s]"
     ]
    },
    {
     "name": "stdout",
     "output_type": "stream",
     "text": [
      "Error processing C:\\Users\\lenovo\\Desktop\\sci\\data\\ecg\\ptb_xl\\ptb_xl_npz\\ecg_15987.npz: cannot convert float NaN to integer\n"
     ]
    },
    {
     "name": "stderr",
     "output_type": "stream",
     "text": [
      "Processing patients:  31%|███       | 5805/18868 [39:23<1:15:20,  2.89it/s]"
     ]
    },
    {
     "name": "stdout",
     "output_type": "stream",
     "text": [
      "Error processing C:\\Users\\lenovo\\Desktop\\sci\\data\\ecg\\ptb_xl\\ptb_xl_npz\\ecg_16064.npz: cannot convert float NaN to integer\n"
     ]
    },
    {
     "name": "stderr",
     "output_type": "stream",
     "text": [
      "Processing patients:  31%|███▏      | 5930/18868 [40:16<1:47:15,  2.01it/s]"
     ]
    },
    {
     "name": "stdout",
     "output_type": "stream",
     "text": [
      "Error processing C:\\Users\\lenovo\\Desktop\\sci\\data\\ecg\\ptb_xl\\ptb_xl_npz\\ecg_16192.npz: integer division or modulo by zero\n"
     ]
    },
    {
     "name": "stderr",
     "output_type": "stream",
     "text": [
      "Processing patients:  31%|███▏      | 5934/18868 [40:19<1:45:51,  2.04it/s]"
     ]
    },
    {
     "name": "stdout",
     "output_type": "stream",
     "text": [
      "Error processing C:\\Users\\lenovo\\Desktop\\sci\\data\\ecg\\ptb_xl\\ptb_xl_npz\\ecg_16196.npz: integer division or modulo by zero\n"
     ]
    },
    {
     "name": "stderr",
     "output_type": "stream",
     "text": [
      "Processing patients:  32%|███▏      | 5985/18868 [40:43<1:18:16,  2.74it/s]"
     ]
    },
    {
     "name": "stdout",
     "output_type": "stream",
     "text": [
      "Error processing C:\\Users\\lenovo\\Desktop\\sci\\data\\ecg\\ptb_xl\\ptb_xl_npz\\ecg_16243.npz: cannot convert float NaN to integer\n"
     ]
    },
    {
     "name": "stderr",
     "output_type": "stream",
     "text": [
      "Processing patients:  32%|███▏      | 5992/18868 [40:46<1:19:51,  2.69it/s]"
     ]
    },
    {
     "name": "stdout",
     "output_type": "stream",
     "text": [
      "Error processing C:\\Users\\lenovo\\Desktop\\sci\\data\\ecg\\ptb_xl\\ptb_xl_npz\\ecg_1625.npz: cannot convert float NaN to integer\n"
     ]
    },
    {
     "name": "stderr",
     "output_type": "stream",
     "text": [
      "Processing patients:  32%|███▏      | 6011/18868 [40:55<1:34:41,  2.26it/s]"
     ]
    },
    {
     "name": "stdout",
     "output_type": "stream",
     "text": [
      "Error processing C:\\Users\\lenovo\\Desktop\\sci\\data\\ecg\\ptb_xl\\ptb_xl_npz\\ecg_16267.npz: cannot convert float NaN to integer\n"
     ]
    },
    {
     "name": "stderr",
     "output_type": "stream",
     "text": [
      "Processing patients:  32%|███▏      | 6032/18868 [41:07<1:50:02,  1.94it/s]"
     ]
    },
    {
     "name": "stdout",
     "output_type": "stream",
     "text": [
      "Error processing C:\\Users\\lenovo\\Desktop\\sci\\data\\ecg\\ptb_xl\\ptb_xl_npz\\ecg_16291.npz: cannot convert float NaN to integer\n"
     ]
    },
    {
     "name": "stderr",
     "output_type": "stream",
     "text": [
      "Processing patients:  32%|███▏      | 6040/18868 [41:11<1:53:51,  1.88it/s]"
     ]
    },
    {
     "name": "stdout",
     "output_type": "stream",
     "text": [
      "Error processing C:\\Users\\lenovo\\Desktop\\sci\\data\\ecg\\ptb_xl\\ptb_xl_npz\\ecg_16300.npz: integer division or modulo by zero\n"
     ]
    },
    {
     "name": "stderr",
     "output_type": "stream",
     "text": [
      "Processing patients:  32%|███▏      | 6043/18868 [41:12<1:20:03,  2.67it/s]"
     ]
    },
    {
     "name": "stdout",
     "output_type": "stream",
     "text": [
      "Error processing C:\\Users\\lenovo\\Desktop\\sci\\data\\ecg\\ptb_xl\\ptb_xl_npz\\ecg_16304.npz: cannot convert float NaN to integer\n"
     ]
    },
    {
     "name": "stderr",
     "output_type": "stream",
     "text": [
      "Processing patients:  33%|███▎      | 6140/18868 [41:53<1:18:30,  2.70it/s]"
     ]
    },
    {
     "name": "stdout",
     "output_type": "stream",
     "text": [
      "Error processing C:\\Users\\lenovo\\Desktop\\sci\\data\\ecg\\ptb_xl\\ptb_xl_npz\\ecg_16409.npz: integer division or modulo by zero\n"
     ]
    },
    {
     "name": "stderr",
     "output_type": "stream",
     "text": [
      "Processing patients:  33%|███▎      | 6152/18868 [41:58<1:13:19,  2.89it/s]"
     ]
    },
    {
     "name": "stdout",
     "output_type": "stream",
     "text": [
      "Error processing C:\\Users\\lenovo\\Desktop\\sci\\data\\ecg\\ptb_xl\\ptb_xl_npz\\ecg_16420.npz: cannot convert float NaN to integer\n"
     ]
    },
    {
     "name": "stderr",
     "output_type": "stream",
     "text": [
      "Processing patients:  33%|███▎      | 6165/18868 [42:04<1:13:39,  2.87it/s]"
     ]
    },
    {
     "name": "stdout",
     "output_type": "stream",
     "text": [
      "Error processing C:\\Users\\lenovo\\Desktop\\sci\\data\\ecg\\ptb_xl\\ptb_xl_npz\\ecg_16432.npz: cannot convert float NaN to integer\n"
     ]
    },
    {
     "name": "stderr",
     "output_type": "stream",
     "text": [
      "Processing patients:  33%|███▎      | 6180/18868 [42:10<1:23:24,  2.54it/s]"
     ]
    },
    {
     "name": "stdout",
     "output_type": "stream",
     "text": [
      "Error processing C:\\Users\\lenovo\\Desktop\\sci\\data\\ecg\\ptb_xl\\ptb_xl_npz\\ecg_16449.npz: cannot convert float NaN to integer\n"
     ]
    },
    {
     "name": "stderr",
     "output_type": "stream",
     "text": [
      "Processing patients:  33%|███▎      | 6191/18868 [42:14<1:14:26,  2.84it/s]"
     ]
    },
    {
     "name": "stdout",
     "output_type": "stream",
     "text": [
      "Error processing C:\\Users\\lenovo\\Desktop\\sci\\data\\ecg\\ptb_xl\\ptb_xl_npz\\ecg_16459.npz: cannot convert float NaN to integer\n"
     ]
    },
    {
     "name": "stderr",
     "output_type": "stream",
     "text": [
      "Processing patients:  33%|███▎      | 6194/18868 [42:15<59:37,  3.54it/s]  "
     ]
    },
    {
     "name": "stdout",
     "output_type": "stream",
     "text": [
      "Error processing C:\\Users\\lenovo\\Desktop\\sci\\data\\ecg\\ptb_xl\\ptb_xl_npz\\ecg_16461.npz: cannot convert float NaN to integer\n",
      "Error processing C:\\Users\\lenovo\\Desktop\\sci\\data\\ecg\\ptb_xl\\ptb_xl_npz\\ecg_16462.npz: cannot convert float NaN to integer\n"
     ]
    },
    {
     "name": "stderr",
     "output_type": "stream",
     "text": [
      "Processing patients:  33%|███▎      | 6237/18868 [42:33<1:27:02,  2.42it/s]"
     ]
    },
    {
     "name": "stdout",
     "output_type": "stream",
     "text": [
      "Error processing C:\\Users\\lenovo\\Desktop\\sci\\data\\ecg\\ptb_xl\\ptb_xl_npz\\ecg_16508.npz: cannot convert float NaN to integer\n"
     ]
    },
    {
     "name": "stderr",
     "output_type": "stream",
     "text": [
      "Processing patients:  33%|███▎      | 6260/18868 [42:43<1:14:42,  2.81it/s]"
     ]
    },
    {
     "name": "stdout",
     "output_type": "stream",
     "text": [
      "Error processing C:\\Users\\lenovo\\Desktop\\sci\\data\\ecg\\ptb_xl\\ptb_xl_npz\\ecg_16533.npz: integer division or modulo by zero\n"
     ]
    },
    {
     "name": "stderr",
     "output_type": "stream",
     "text": [
      "Processing patients:  33%|███▎      | 6271/18868 [42:47<1:10:51,  2.96it/s]"
     ]
    },
    {
     "name": "stdout",
     "output_type": "stream",
     "text": [
      "Error processing C:\\Users\\lenovo\\Desktop\\sci\\data\\ecg\\ptb_xl\\ptb_xl_npz\\ecg_16543.npz: integer division or modulo by zero\n"
     ]
    },
    {
     "name": "stderr",
     "output_type": "stream",
     "text": [
      "Processing patients:  33%|███▎      | 6280/18868 [42:51<1:26:01,  2.44it/s]"
     ]
    },
    {
     "name": "stdout",
     "output_type": "stream",
     "text": [
      "Error processing C:\\Users\\lenovo\\Desktop\\sci\\data\\ecg\\ptb_xl\\ptb_xl_npz\\ecg_16555.npz: cannot convert float NaN to integer\n"
     ]
    },
    {
     "name": "stderr",
     "output_type": "stream",
     "text": [
      "Processing patients:  34%|███▎      | 6355/18868 [43:22<1:22:42,  2.52it/s]"
     ]
    },
    {
     "name": "stdout",
     "output_type": "stream",
     "text": [
      "Error processing C:\\Users\\lenovo\\Desktop\\sci\\data\\ecg\\ptb_xl\\ptb_xl_npz\\ecg_16629.npz: cannot convert float NaN to integer\n"
     ]
    },
    {
     "name": "stderr",
     "output_type": "stream",
     "text": [
      "Processing patients:  34%|███▍      | 6391/18868 [43:37<1:27:59,  2.36it/s]"
     ]
    },
    {
     "name": "stdout",
     "output_type": "stream",
     "text": [
      "Error processing C:\\Users\\lenovo\\Desktop\\sci\\data\\ecg\\ptb_xl\\ptb_xl_npz\\ecg_16664.npz: cannot convert float NaN to integer\n"
     ]
    },
    {
     "name": "stderr",
     "output_type": "stream",
     "text": [
      "Processing patients:  34%|███▍      | 6410/18868 [43:44<1:08:49,  3.02it/s]"
     ]
    },
    {
     "name": "stdout",
     "output_type": "stream",
     "text": [
      "Error processing C:\\Users\\lenovo\\Desktop\\sci\\data\\ecg\\ptb_xl\\ptb_xl_npz\\ecg_16684.npz: cannot convert float NaN to integer\n"
     ]
    },
    {
     "name": "stderr",
     "output_type": "stream",
     "text": [
      "Processing patients:  34%|███▍      | 6429/18868 [43:52<1:09:39,  2.98it/s]"
     ]
    },
    {
     "name": "stdout",
     "output_type": "stream",
     "text": [
      "Error processing C:\\Users\\lenovo\\Desktop\\sci\\data\\ecg\\ptb_xl\\ptb_xl_npz\\ecg_16711.npz: cannot convert float NaN to integer\n"
     ]
    },
    {
     "name": "stderr",
     "output_type": "stream",
     "text": [
      "Processing patients:  34%|███▍      | 6439/18868 [43:55<1:09:15,  2.99it/s]"
     ]
    },
    {
     "name": "stdout",
     "output_type": "stream",
     "text": [
      "Error processing C:\\Users\\lenovo\\Desktop\\sci\\data\\ecg\\ptb_xl\\ptb_xl_npz\\ecg_16721.npz: cannot convert float NaN to integer\n"
     ]
    },
    {
     "name": "stderr",
     "output_type": "stream",
     "text": [
      "Processing patients:  34%|███▍      | 6480/18868 [44:12<1:23:06,  2.48it/s]"
     ]
    },
    {
     "name": "stdout",
     "output_type": "stream",
     "text": [
      "Error processing C:\\Users\\lenovo\\Desktop\\sci\\data\\ecg\\ptb_xl\\ptb_xl_npz\\ecg_16764.npz: cannot convert float NaN to integer\n"
     ]
    },
    {
     "name": "stderr",
     "output_type": "stream",
     "text": [
      "Processing patients:  35%|███▍      | 6549/18868 [44:40<1:10:31,  2.91it/s]"
     ]
    },
    {
     "name": "stdout",
     "output_type": "stream",
     "text": [
      "Error processing C:\\Users\\lenovo\\Desktop\\sci\\data\\ecg\\ptb_xl\\ptb_xl_npz\\ecg_16838.npz: cannot convert float NaN to integer\n"
     ]
    },
    {
     "name": "stderr",
     "output_type": "stream",
     "text": [
      "Processing patients:  35%|███▌      | 6624/18868 [45:12<1:24:11,  2.42it/s]"
     ]
    },
    {
     "name": "stdout",
     "output_type": "stream",
     "text": [
      "Error processing C:\\Users\\lenovo\\Desktop\\sci\\data\\ecg\\ptb_xl\\ptb_xl_npz\\ecg_16914.npz: cannot convert float NaN to integer\n"
     ]
    },
    {
     "name": "stderr",
     "output_type": "stream",
     "text": [
      "Processing patients:  35%|███▌      | 6627/18868 [45:13<1:12:13,  2.82it/s]"
     ]
    },
    {
     "name": "stdout",
     "output_type": "stream",
     "text": [
      "Error processing C:\\Users\\lenovo\\Desktop\\sci\\data\\ecg\\ptb_xl\\ptb_xl_npz\\ecg_16921.npz: integer division or modulo by zero\n"
     ]
    },
    {
     "name": "stderr",
     "output_type": "stream",
     "text": [
      "Processing patients:  35%|███▌      | 6637/18868 [45:16<1:20:52,  2.52it/s]"
     ]
    },
    {
     "name": "stdout",
     "output_type": "stream",
     "text": [
      "Error processing C:\\Users\\lenovo\\Desktop\\sci\\data\\ecg\\ptb_xl\\ptb_xl_npz\\ecg_16938.npz: cannot convert float NaN to integer\n"
     ]
    },
    {
     "name": "stderr",
     "output_type": "stream",
     "text": [
      "Processing patients:  35%|███▌      | 6666/18868 [45:28<1:11:32,  2.84it/s]"
     ]
    },
    {
     "name": "stdout",
     "output_type": "stream",
     "text": [
      "Error processing C:\\Users\\lenovo\\Desktop\\sci\\data\\ecg\\ptb_xl\\ptb_xl_npz\\ecg_16967.npz: cannot convert float NaN to integer\n"
     ]
    },
    {
     "name": "stderr",
     "output_type": "stream",
     "text": [
      "Processing patients:  35%|███▌      | 6682/18868 [45:34<1:15:02,  2.71it/s]"
     ]
    },
    {
     "name": "stdout",
     "output_type": "stream",
     "text": [
      "Error processing C:\\Users\\lenovo\\Desktop\\sci\\data\\ecg\\ptb_xl\\ptb_xl_npz\\ecg_16981.npz: cannot convert float NaN to integer\n"
     ]
    },
    {
     "name": "stderr",
     "output_type": "stream",
     "text": [
      "Processing patients:  35%|███▌      | 6685/18868 [45:35<1:15:57,  2.67it/s]"
     ]
    },
    {
     "name": "stdout",
     "output_type": "stream",
     "text": [
      "Error processing C:\\Users\\lenovo\\Desktop\\sci\\data\\ecg\\ptb_xl\\ptb_xl_npz\\ecg_16986.npz: cannot convert float NaN to integer\n"
     ]
    },
    {
     "name": "stderr",
     "output_type": "stream",
     "text": [
      "Processing patients:  35%|███▌      | 6688/18868 [45:36<1:00:04,  3.38it/s]"
     ]
    },
    {
     "name": "stdout",
     "output_type": "stream",
     "text": [
      "Error processing C:\\Users\\lenovo\\Desktop\\sci\\data\\ecg\\ptb_xl\\ptb_xl_npz\\ecg_16989.npz: cannot convert float NaN to integer\n"
     ]
    },
    {
     "name": "stderr",
     "output_type": "stream",
     "text": [
      "Processing patients:  35%|███▌      | 6695/18868 [45:39<1:17:54,  2.60it/s]"
     ]
    },
    {
     "name": "stdout",
     "output_type": "stream",
     "text": [
      "Error processing C:\\Users\\lenovo\\Desktop\\sci\\data\\ecg\\ptb_xl\\ptb_xl_npz\\ecg_16998.npz: integer division or modulo by zero\n"
     ]
    },
    {
     "name": "stderr",
     "output_type": "stream",
     "text": [
      "Processing patients:  36%|███▌      | 6701/18868 [45:41<1:09:09,  2.93it/s]"
     ]
    },
    {
     "name": "stdout",
     "output_type": "stream",
     "text": [
      "Error processing C:\\Users\\lenovo\\Desktop\\sci\\data\\ecg\\ptb_xl\\ptb_xl_npz\\ecg_17002.npz: integer division or modulo by zero\n"
     ]
    },
    {
     "name": "stderr",
     "output_type": "stream",
     "text": [
      "Processing patients:  36%|███▌      | 6721/18868 [45:49<1:09:43,  2.90it/s]"
     ]
    },
    {
     "name": "stdout",
     "output_type": "stream",
     "text": [
      "Error processing C:\\Users\\lenovo\\Desktop\\sci\\data\\ecg\\ptb_xl\\ptb_xl_npz\\ecg_17021.npz: cannot convert float NaN to integer\n"
     ]
    },
    {
     "name": "stderr",
     "output_type": "stream",
     "text": [
      "Processing patients:  36%|███▌      | 6729/18868 [45:53<1:30:44,  2.23it/s]"
     ]
    },
    {
     "name": "stdout",
     "output_type": "stream",
     "text": [
      "Error processing C:\\Users\\lenovo\\Desktop\\sci\\data\\ecg\\ptb_xl\\ptb_xl_npz\\ecg_17030.npz: cannot convert float NaN to integer\n"
     ]
    },
    {
     "name": "stderr",
     "output_type": "stream",
     "text": [
      "Processing patients:  36%|███▌      | 6733/18868 [45:54<1:02:38,  3.23it/s]"
     ]
    },
    {
     "name": "stdout",
     "output_type": "stream",
     "text": [
      "Error processing C:\\Users\\lenovo\\Desktop\\sci\\data\\ecg\\ptb_xl\\ptb_xl_npz\\ecg_17033.npz: cannot convert float NaN to integer\n"
     ]
    },
    {
     "name": "stderr",
     "output_type": "stream",
     "text": [
      "Processing patients:  36%|███▌      | 6752/18868 [46:01<1:29:50,  2.25it/s]"
     ]
    },
    {
     "name": "stdout",
     "output_type": "stream",
     "text": [
      "Error processing C:\\Users\\lenovo\\Desktop\\sci\\data\\ecg\\ptb_xl\\ptb_xl_npz\\ecg_17058.npz: integer division or modulo by zero\n"
     ]
    },
    {
     "name": "stderr",
     "output_type": "stream",
     "text": [
      "Processing patients:  36%|███▌      | 6756/18868 [46:02<59:11,  3.41it/s]  "
     ]
    },
    {
     "name": "stdout",
     "output_type": "stream",
     "text": [
      "Error processing C:\\Users\\lenovo\\Desktop\\sci\\data\\ecg\\ptb_xl\\ptb_xl_npz\\ecg_17061.npz: cannot convert float NaN to integer\n"
     ]
    },
    {
     "name": "stderr",
     "output_type": "stream",
     "text": [
      "Processing patients:  36%|███▌      | 6801/18868 [46:21<1:08:01,  2.96it/s]"
     ]
    },
    {
     "name": "stdout",
     "output_type": "stream",
     "text": [
      "Error processing C:\\Users\\lenovo\\Desktop\\sci\\data\\ecg\\ptb_xl\\ptb_xl_npz\\ecg_1711.npz: integer division or modulo by zero\n"
     ]
    },
    {
     "name": "stderr",
     "output_type": "stream",
     "text": [
      "Processing patients:  36%|███▌      | 6807/18868 [46:24<1:21:13,  2.47it/s]"
     ]
    },
    {
     "name": "stdout",
     "output_type": "stream",
     "text": [
      "Error processing C:\\Users\\lenovo\\Desktop\\sci\\data\\ecg\\ptb_xl\\ptb_xl_npz\\ecg_17115.npz: cannot convert float NaN to integer\n"
     ]
    },
    {
     "name": "stderr",
     "output_type": "stream",
     "text": [
      "Processing patients:  36%|███▋      | 6852/18868 [46:43<1:24:59,  2.36it/s]"
     ]
    },
    {
     "name": "stdout",
     "output_type": "stream",
     "text": [
      "Error processing C:\\Users\\lenovo\\Desktop\\sci\\data\\ecg\\ptb_xl\\ptb_xl_npz\\ecg_17161.npz: cannot convert float NaN to integer\n"
     ]
    },
    {
     "name": "stderr",
     "output_type": "stream",
     "text": [
      "Processing patients:  36%|███▋      | 6872/18868 [46:51<1:14:17,  2.69it/s]"
     ]
    },
    {
     "name": "stdout",
     "output_type": "stream",
     "text": [
      "Error processing C:\\Users\\lenovo\\Desktop\\sci\\data\\ecg\\ptb_xl\\ptb_xl_npz\\ecg_17181.npz: cannot convert float NaN to integer\n"
     ]
    },
    {
     "name": "stderr",
     "output_type": "stream",
     "text": [
      "Processing patients:  37%|███▋      | 6888/18868 [46:58<1:22:05,  2.43it/s]"
     ]
    },
    {
     "name": "stdout",
     "output_type": "stream",
     "text": [
      "Error processing C:\\Users\\lenovo\\Desktop\\sci\\data\\ecg\\ptb_xl\\ptb_xl_npz\\ecg_17210.npz: integer division or modulo by zero\n"
     ]
    },
    {
     "name": "stderr",
     "output_type": "stream",
     "text": [
      "Processing patients:  37%|███▋      | 6893/18868 [46:59<1:08:10,  2.93it/s]"
     ]
    },
    {
     "name": "stdout",
     "output_type": "stream",
     "text": [
      "Error processing C:\\Users\\lenovo\\Desktop\\sci\\data\\ecg\\ptb_xl\\ptb_xl_npz\\ecg_17214.npz: cannot convert float NaN to integer\n"
     ]
    },
    {
     "name": "stderr",
     "output_type": "stream",
     "text": [
      "Processing patients:  37%|███▋      | 6904/18868 [47:04<1:22:07,  2.43it/s]"
     ]
    },
    {
     "name": "stdout",
     "output_type": "stream",
     "text": [
      "Error processing C:\\Users\\lenovo\\Desktop\\sci\\data\\ecg\\ptb_xl\\ptb_xl_npz\\ecg_17227.npz: integer division or modulo by zero\n"
     ]
    },
    {
     "name": "stderr",
     "output_type": "stream",
     "text": [
      "Processing patients:  37%|███▋      | 6907/18868 [47:05<1:08:48,  2.90it/s]"
     ]
    },
    {
     "name": "stdout",
     "output_type": "stream",
     "text": [
      "Error processing C:\\Users\\lenovo\\Desktop\\sci\\data\\ecg\\ptb_xl\\ptb_xl_npz\\ecg_17229.npz: integer division or modulo by zero\n"
     ]
    },
    {
     "name": "stderr",
     "output_type": "stream",
     "text": [
      "Processing patients:  37%|███▋      | 6946/18868 [47:20<1:16:56,  2.58it/s]"
     ]
    },
    {
     "name": "stdout",
     "output_type": "stream",
     "text": [
      "Error processing C:\\Users\\lenovo\\Desktop\\sci\\data\\ecg\\ptb_xl\\ptb_xl_npz\\ecg_17273.npz: integer division or modulo by zero\n"
     ]
    },
    {
     "name": "stderr",
     "output_type": "stream",
     "text": [
      "Processing patients:  37%|███▋      | 6956/18868 [47:25<1:12:33,  2.74it/s]"
     ]
    },
    {
     "name": "stdout",
     "output_type": "stream",
     "text": [
      "Error processing C:\\Users\\lenovo\\Desktop\\sci\\data\\ecg\\ptb_xl\\ptb_xl_npz\\ecg_17285.npz: cannot convert float NaN to integer\n"
     ]
    },
    {
     "name": "stderr",
     "output_type": "stream",
     "text": [
      "Processing patients:  37%|███▋      | 7032/18868 [47:59<1:14:31,  2.65it/s]"
     ]
    },
    {
     "name": "stdout",
     "output_type": "stream",
     "text": [
      "Error processing C:\\Users\\lenovo\\Desktop\\sci\\data\\ecg\\ptb_xl\\ptb_xl_npz\\ecg_17369.npz: cannot convert float NaN to integer\n"
     ]
    },
    {
     "name": "stderr",
     "output_type": "stream",
     "text": [
      "Processing patients:  37%|███▋      | 7047/18868 [48:05<1:17:20,  2.55it/s]"
     ]
    },
    {
     "name": "stdout",
     "output_type": "stream",
     "text": [
      "Error processing C:\\Users\\lenovo\\Desktop\\sci\\data\\ecg\\ptb_xl\\ptb_xl_npz\\ecg_17383.npz: cannot convert float NaN to integer\n"
     ]
    },
    {
     "name": "stderr",
     "output_type": "stream",
     "text": [
      "Processing patients:  38%|███▊      | 7139/18868 [48:45<1:09:54,  2.80it/s]"
     ]
    },
    {
     "name": "stdout",
     "output_type": "stream",
     "text": [
      "Error processing C:\\Users\\lenovo\\Desktop\\sci\\data\\ecg\\ptb_xl\\ptb_xl_npz\\ecg_1748.npz: cannot convert float NaN to integer\n"
     ]
    },
    {
     "name": "stderr",
     "output_type": "stream",
     "text": [
      "Processing patients:  38%|███▊      | 7162/18868 [48:55<1:04:32,  3.02it/s]"
     ]
    },
    {
     "name": "stdout",
     "output_type": "stream",
     "text": [
      "Error processing C:\\Users\\lenovo\\Desktop\\sci\\data\\ecg\\ptb_xl\\ptb_xl_npz\\ecg_17501.npz: cannot convert float NaN to integer\n"
     ]
    },
    {
     "name": "stderr",
     "output_type": "stream",
     "text": [
      "Processing patients:  38%|███▊      | 7188/18868 [49:07<1:12:37,  2.68it/s]"
     ]
    },
    {
     "name": "stdout",
     "output_type": "stream",
     "text": [
      "Error processing C:\\Users\\lenovo\\Desktop\\sci\\data\\ecg\\ptb_xl\\ptb_xl_npz\\ecg_17528.npz: cannot convert float NaN to integer\n"
     ]
    },
    {
     "name": "stderr",
     "output_type": "stream",
     "text": [
      "Processing patients:  38%|███▊      | 7191/18868 [49:08<1:09:11,  2.81it/s]"
     ]
    },
    {
     "name": "stdout",
     "output_type": "stream",
     "text": [
      "Error processing C:\\Users\\lenovo\\Desktop\\sci\\data\\ecg\\ptb_xl\\ptb_xl_npz\\ecg_17531.npz: cannot convert float NaN to integer\n"
     ]
    },
    {
     "name": "stderr",
     "output_type": "stream",
     "text": [
      "Processing patients:  38%|███▊      | 7230/18868 [49:24<1:12:08,  2.69it/s]"
     ]
    },
    {
     "name": "stdout",
     "output_type": "stream",
     "text": [
      "Error processing C:\\Users\\lenovo\\Desktop\\sci\\data\\ecg\\ptb_xl\\ptb_xl_npz\\ecg_17572.npz: integer division or modulo by zero\n"
     ]
    },
    {
     "name": "stderr",
     "output_type": "stream",
     "text": [
      "Processing patients:  39%|███▉      | 7317/18868 [50:00<1:14:52,  2.57it/s]"
     ]
    },
    {
     "name": "stdout",
     "output_type": "stream",
     "text": [
      "Error processing C:\\Users\\lenovo\\Desktop\\sci\\data\\ecg\\ptb_xl\\ptb_xl_npz\\ecg_17664.npz: cannot convert float NaN to integer\n"
     ]
    },
    {
     "name": "stderr",
     "output_type": "stream",
     "text": [
      "Processing patients:  39%|███▉      | 7358/18868 [50:16<57:43,  3.32it/s]  "
     ]
    },
    {
     "name": "stdout",
     "output_type": "stream",
     "text": [
      "Error processing C:\\Users\\lenovo\\Desktop\\sci\\data\\ecg\\ptb_xl\\ptb_xl_npz\\ecg_17707.npz: cannot convert float NaN to integer\n"
     ]
    },
    {
     "name": "stderr",
     "output_type": "stream",
     "text": [
      "Processing patients:  39%|███▉      | 7377/18868 [50:24<1:10:33,  2.71it/s]"
     ]
    },
    {
     "name": "stdout",
     "output_type": "stream",
     "text": [
      "Error processing C:\\Users\\lenovo\\Desktop\\sci\\data\\ecg\\ptb_xl\\ptb_xl_npz\\ecg_17727.npz: integer division or modulo by zero\n"
     ]
    },
    {
     "name": "stderr",
     "output_type": "stream",
     "text": [
      "Processing patients:  39%|███▉      | 7402/18868 [50:33<1:07:36,  2.83it/s]"
     ]
    },
    {
     "name": "stdout",
     "output_type": "stream",
     "text": [
      "Error processing C:\\Users\\lenovo\\Desktop\\sci\\data\\ecg\\ptb_xl\\ptb_xl_npz\\ecg_17750.npz: cannot convert float NaN to integer\n"
     ]
    },
    {
     "name": "stderr",
     "output_type": "stream",
     "text": [
      "Processing patients:  39%|███▉      | 7420/18868 [50:41<1:13:11,  2.61it/s]"
     ]
    },
    {
     "name": "stdout",
     "output_type": "stream",
     "text": [
      "Error processing C:\\Users\\lenovo\\Desktop\\sci\\data\\ecg\\ptb_xl\\ptb_xl_npz\\ecg_17768.npz: cannot convert float NaN to integer\n"
     ]
    },
    {
     "name": "stderr",
     "output_type": "stream",
     "text": [
      "Processing patients:  40%|███▉      | 7462/18868 [50:58<1:14:55,  2.54it/s]"
     ]
    },
    {
     "name": "stdout",
     "output_type": "stream",
     "text": [
      "Error processing C:\\Users\\lenovo\\Desktop\\sci\\data\\ecg\\ptb_xl\\ptb_xl_npz\\ecg_17813.npz: cannot convert float NaN to integer\n"
     ]
    },
    {
     "name": "stderr",
     "output_type": "stream",
     "text": [
      "Processing patients:  40%|███▉      | 7472/18868 [51:02<1:17:11,  2.46it/s]"
     ]
    },
    {
     "name": "stdout",
     "output_type": "stream",
     "text": [
      "Error processing C:\\Users\\lenovo\\Desktop\\sci\\data\\ecg\\ptb_xl\\ptb_xl_npz\\ecg_17822.npz: cannot convert float NaN to integer\n"
     ]
    },
    {
     "name": "stderr",
     "output_type": "stream",
     "text": [
      "Processing patients:  40%|███▉      | 7476/18868 [51:03<1:10:27,  2.69it/s]"
     ]
    },
    {
     "name": "stdout",
     "output_type": "stream",
     "text": [
      "Error processing C:\\Users\\lenovo\\Desktop\\sci\\data\\ecg\\ptb_xl\\ptb_xl_npz\\ecg_17826.npz: integer division or modulo by zero\n"
     ]
    },
    {
     "name": "stderr",
     "output_type": "stream",
     "text": [
      "Processing patients:  40%|███▉      | 7481/18868 [51:04<54:37,  3.47it/s]  "
     ]
    },
    {
     "name": "stdout",
     "output_type": "stream",
     "text": [
      "Error processing C:\\Users\\lenovo\\Desktop\\sci\\data\\ecg\\ptb_xl\\ptb_xl_npz\\ecg_1783.npz: cannot convert float NaN to integer\n"
     ]
    },
    {
     "name": "stderr",
     "output_type": "stream",
     "text": [
      "Processing patients:  40%|███▉      | 7484/18868 [51:05<55:48,  3.40it/s]  "
     ]
    },
    {
     "name": "stdout",
     "output_type": "stream",
     "text": [
      "Error processing C:\\Users\\lenovo\\Desktop\\sci\\data\\ecg\\ptb_xl\\ptb_xl_npz\\ecg_17832.npz: cannot convert float NaN to integer\n"
     ]
    },
    {
     "name": "stderr",
     "output_type": "stream",
     "text": [
      "Processing patients:  40%|███▉      | 7486/18868 [51:06<1:03:12,  3.00it/s]"
     ]
    },
    {
     "name": "stdout",
     "output_type": "stream",
     "text": [
      "Error processing C:\\Users\\lenovo\\Desktop\\sci\\data\\ecg\\ptb_xl\\ptb_xl_npz\\ecg_17835.npz: cannot convert float NaN to integer\n"
     ]
    },
    {
     "name": "stderr",
     "output_type": "stream",
     "text": [
      "Processing patients:  40%|███▉      | 7494/18868 [51:09<1:01:59,  3.06it/s]"
     ]
    },
    {
     "name": "stdout",
     "output_type": "stream",
     "text": [
      "Error processing C:\\Users\\lenovo\\Desktop\\sci\\data\\ecg\\ptb_xl\\ptb_xl_npz\\ecg_17843.npz: cannot convert float NaN to integer\n"
     ]
    },
    {
     "name": "stderr",
     "output_type": "stream",
     "text": [
      "Processing patients:  40%|███▉      | 7540/18868 [51:28<1:21:27,  2.32it/s]"
     ]
    },
    {
     "name": "stdout",
     "output_type": "stream",
     "text": [
      "Error processing C:\\Users\\lenovo\\Desktop\\sci\\data\\ecg\\ptb_xl\\ptb_xl_npz\\ecg_17890.npz: cannot convert float NaN to integer\n"
     ]
    },
    {
     "name": "stderr",
     "output_type": "stream",
     "text": [
      "Processing patients:  40%|███▉      | 7542/18868 [51:28<56:34,  3.34it/s]  "
     ]
    },
    {
     "name": "stdout",
     "output_type": "stream",
     "text": [
      "Error processing C:\\Users\\lenovo\\Desktop\\sci\\data\\ecg\\ptb_xl\\ptb_xl_npz\\ecg_17891.npz: cannot convert float NaN to integer\n"
     ]
    },
    {
     "name": "stderr",
     "output_type": "stream",
     "text": [
      "Processing patients:  40%|████      | 7566/18868 [51:37<1:11:34,  2.63it/s]"
     ]
    },
    {
     "name": "stdout",
     "output_type": "stream",
     "text": [
      "Error processing C:\\Users\\lenovo\\Desktop\\sci\\data\\ecg\\ptb_xl\\ptb_xl_npz\\ecg_17916.npz: cannot convert float NaN to integer\n"
     ]
    },
    {
     "name": "stderr",
     "output_type": "stream",
     "text": [
      "Processing patients:  40%|████      | 7584/18868 [51:45<1:08:00,  2.77it/s]"
     ]
    },
    {
     "name": "stdout",
     "output_type": "stream",
     "text": [
      "Error processing C:\\Users\\lenovo\\Desktop\\sci\\data\\ecg\\ptb_xl\\ptb_xl_npz\\ecg_17934.npz: integer division or modulo by zero\n"
     ]
    },
    {
     "name": "stderr",
     "output_type": "stream",
     "text": [
      "Processing patients:  40%|████      | 7604/18868 [51:53<1:12:18,  2.60it/s]"
     ]
    },
    {
     "name": "stdout",
     "output_type": "stream",
     "text": [
      "Error processing C:\\Users\\lenovo\\Desktop\\sci\\data\\ecg\\ptb_xl\\ptb_xl_npz\\ecg_17953.npz: cannot convert float NaN to integer\n"
     ]
    },
    {
     "name": "stderr",
     "output_type": "stream",
     "text": [
      "Processing patients:  41%|████      | 7649/18868 [52:10<1:06:00,  2.83it/s]"
     ]
    },
    {
     "name": "stdout",
     "output_type": "stream",
     "text": [
      "Error processing C:\\Users\\lenovo\\Desktop\\sci\\data\\ecg\\ptb_xl\\ptb_xl_npz\\ecg_1800.npz: cannot convert float NaN to integer\n"
     ]
    },
    {
     "name": "stderr",
     "output_type": "stream",
     "text": [
      "Processing patients:  41%|████      | 7681/18868 [52:23<1:11:30,  2.61it/s]"
     ]
    },
    {
     "name": "stdout",
     "output_type": "stream",
     "text": [
      "Error processing C:\\Users\\lenovo\\Desktop\\sci\\data\\ecg\\ptb_xl\\ptb_xl_npz\\ecg_18037.npz: cannot convert float NaN to integer\n"
     ]
    },
    {
     "name": "stderr",
     "output_type": "stream",
     "text": [
      "Processing patients:  41%|████      | 7735/18868 [52:46<1:03:50,  2.91it/s]"
     ]
    },
    {
     "name": "stdout",
     "output_type": "stream",
     "text": [
      "Error processing C:\\Users\\lenovo\\Desktop\\sci\\data\\ecg\\ptb_xl\\ptb_xl_npz\\ecg_18092.npz: cannot convert float NaN to integer\n"
     ]
    },
    {
     "name": "stderr",
     "output_type": "stream",
     "text": [
      "Processing patients:  41%|████      | 7754/18868 [52:54<1:08:54,  2.69it/s]"
     ]
    },
    {
     "name": "stdout",
     "output_type": "stream",
     "text": [
      "Error processing C:\\Users\\lenovo\\Desktop\\sci\\data\\ecg\\ptb_xl\\ptb_xl_npz\\ecg_18110.npz: integer division or modulo by zero\n"
     ]
    },
    {
     "name": "stderr",
     "output_type": "stream",
     "text": [
      "Processing patients:  41%|████      | 7763/18868 [52:58<1:06:17,  2.79it/s]"
     ]
    },
    {
     "name": "stdout",
     "output_type": "stream",
     "text": [
      "Error processing C:\\Users\\lenovo\\Desktop\\sci\\data\\ecg\\ptb_xl\\ptb_xl_npz\\ecg_18119.npz: integer division or modulo by zero\n"
     ]
    },
    {
     "name": "stderr",
     "output_type": "stream",
     "text": [
      "Processing patients:  41%|████      | 7773/18868 [53:01<1:08:05,  2.72it/s]"
     ]
    },
    {
     "name": "stdout",
     "output_type": "stream",
     "text": [
      "Error processing C:\\Users\\lenovo\\Desktop\\sci\\data\\ecg\\ptb_xl\\ptb_xl_npz\\ecg_18131.npz: cannot convert float NaN to integer\n"
     ]
    },
    {
     "name": "stderr",
     "output_type": "stream",
     "text": [
      "Processing patients:  41%|████      | 7782/18868 [53:05<1:11:18,  2.59it/s]"
     ]
    },
    {
     "name": "stdout",
     "output_type": "stream",
     "text": [
      "Error processing C:\\Users\\lenovo\\Desktop\\sci\\data\\ecg\\ptb_xl\\ptb_xl_npz\\ecg_18140.npz: cannot convert float NaN to integer\n"
     ]
    },
    {
     "name": "stderr",
     "output_type": "stream",
     "text": [
      "Processing patients:  42%|████▏     | 7834/18868 [53:25<59:05,  3.11it/s]  "
     ]
    },
    {
     "name": "stdout",
     "output_type": "stream",
     "text": [
      "Error processing C:\\Users\\lenovo\\Desktop\\sci\\data\\ecg\\ptb_xl\\ptb_xl_npz\\ecg_18195.npz: integer division or modulo by zero\n"
     ]
    },
    {
     "name": "stderr",
     "output_type": "stream",
     "text": [
      "Processing patients:  42%|████▏     | 7859/18868 [53:35<1:13:12,  2.51it/s]"
     ]
    },
    {
     "name": "stdout",
     "output_type": "stream",
     "text": [
      "Error processing C:\\Users\\lenovo\\Desktop\\sci\\data\\ecg\\ptb_xl\\ptb_xl_npz\\ecg_18221.npz: cannot convert float NaN to integer\n"
     ]
    },
    {
     "name": "stderr",
     "output_type": "stream",
     "text": [
      "Processing patients:  42%|████▏     | 7862/18868 [53:36<59:18,  3.09it/s]  "
     ]
    },
    {
     "name": "stdout",
     "output_type": "stream",
     "text": [
      "Error processing C:\\Users\\lenovo\\Desktop\\sci\\data\\ecg\\ptb_xl\\ptb_xl_npz\\ecg_18224.npz: cannot convert float NaN to integer\n"
     ]
    },
    {
     "name": "stderr",
     "output_type": "stream",
     "text": [
      "Processing patients:  42%|████▏     | 7885/18868 [53:46<1:16:39,  2.39it/s]"
     ]
    },
    {
     "name": "stdout",
     "output_type": "stream",
     "text": [
      "Error processing C:\\Users\\lenovo\\Desktop\\sci\\data\\ecg\\ptb_xl\\ptb_xl_npz\\ecg_18252.npz: cannot convert float NaN to integer\n"
     ]
    },
    {
     "name": "stderr",
     "output_type": "stream",
     "text": [
      "Processing patients:  42%|████▏     | 7910/18868 [53:55<56:37,  3.23it/s]  "
     ]
    },
    {
     "name": "stdout",
     "output_type": "stream",
     "text": [
      "Error processing C:\\Users\\lenovo\\Desktop\\sci\\data\\ecg\\ptb_xl\\ptb_xl_npz\\ecg_18279.npz: cannot convert float NaN to integer\n"
     ]
    },
    {
     "name": "stderr",
     "output_type": "stream",
     "text": [
      "Processing patients:  42%|████▏     | 7944/18868 [54:08<1:16:07,  2.39it/s]"
     ]
    },
    {
     "name": "stdout",
     "output_type": "stream",
     "text": [
      "Error processing C:\\Users\\lenovo\\Desktop\\sci\\data\\ecg\\ptb_xl\\ptb_xl_npz\\ecg_18315.npz: integer division or modulo by zero\n"
     ]
    },
    {
     "name": "stderr",
     "output_type": "stream",
     "text": [
      "Processing patients:  42%|████▏     | 8008/18868 [54:35<1:03:22,  2.86it/s]"
     ]
    },
    {
     "name": "stdout",
     "output_type": "stream",
     "text": [
      "Error processing C:\\Users\\lenovo\\Desktop\\sci\\data\\ecg\\ptb_xl\\ptb_xl_npz\\ecg_18383.npz: cannot convert float NaN to integer\n"
     ]
    },
    {
     "name": "stderr",
     "output_type": "stream",
     "text": [
      "Processing patients:  42%|████▏     | 8010/18868 [54:36<57:58,  3.12it/s]  "
     ]
    },
    {
     "name": "stdout",
     "output_type": "stream",
     "text": [
      "Error processing C:\\Users\\lenovo\\Desktop\\sci\\data\\ecg\\ptb_xl\\ptb_xl_npz\\ecg_18386.npz: cannot convert float NaN to integer\n"
     ]
    },
    {
     "name": "stderr",
     "output_type": "stream",
     "text": [
      "Processing patients:  43%|████▎     | 8032/18868 [54:45<1:12:48,  2.48it/s]"
     ]
    },
    {
     "name": "stdout",
     "output_type": "stream",
     "text": [
      "Error processing C:\\Users\\lenovo\\Desktop\\sci\\data\\ecg\\ptb_xl\\ptb_xl_npz\\ecg_1841.npz: cannot convert float NaN to integer\n"
     ]
    },
    {
     "name": "stderr",
     "output_type": "stream",
     "text": [
      "Processing patients:  43%|████▎     | 8098/18868 [55:12<1:13:33,  2.44it/s]"
     ]
    },
    {
     "name": "stdout",
     "output_type": "stream",
     "text": [
      "Error processing C:\\Users\\lenovo\\Desktop\\sci\\data\\ecg\\ptb_xl\\ptb_xl_npz\\ecg_18475.npz: cannot convert float NaN to integer\n"
     ]
    },
    {
     "name": "stderr",
     "output_type": "stream",
     "text": [
      "Processing patients:  43%|████▎     | 8137/18868 [55:33<1:06:20,  2.70it/s]"
     ]
    },
    {
     "name": "stdout",
     "output_type": "stream",
     "text": [
      "Error processing C:\\Users\\lenovo\\Desktop\\sci\\data\\ecg\\ptb_xl\\ptb_xl_npz\\ecg_18511.npz: integer division or modulo by zero\n"
     ]
    },
    {
     "name": "stderr",
     "output_type": "stream",
     "text": [
      "Processing patients:  43%|████▎     | 8172/18868 [55:47<1:05:35,  2.72it/s]"
     ]
    },
    {
     "name": "stdout",
     "output_type": "stream",
     "text": [
      "Error processing C:\\Users\\lenovo\\Desktop\\sci\\data\\ecg\\ptb_xl\\ptb_xl_npz\\ecg_18549.npz: cannot convert float NaN to integer\n"
     ]
    },
    {
     "name": "stderr",
     "output_type": "stream",
     "text": [
      "Processing patients:  43%|████▎     | 8205/18868 [56:00<57:48,  3.07it/s]  "
     ]
    },
    {
     "name": "stdout",
     "output_type": "stream",
     "text": [
      "Error processing C:\\Users\\lenovo\\Desktop\\sci\\data\\ecg\\ptb_xl\\ptb_xl_npz\\ecg_18583.npz: cannot convert float NaN to integer\n"
     ]
    },
    {
     "name": "stderr",
     "output_type": "stream",
     "text": [
      "Processing patients:  44%|████▎     | 8231/18868 [56:11<55:28,  3.20it/s]  "
     ]
    },
    {
     "name": "stdout",
     "output_type": "stream",
     "text": [
      "Error processing C:\\Users\\lenovo\\Desktop\\sci\\data\\ecg\\ptb_xl\\ptb_xl_npz\\ecg_18607.npz: cannot convert float NaN to integer\n",
      "Error processing C:\\Users\\lenovo\\Desktop\\sci\\data\\ecg\\ptb_xl\\ptb_xl_npz\\ecg_18608.npz: cannot convert float NaN to integer\n"
     ]
    },
    {
     "name": "stderr",
     "output_type": "stream",
     "text": [
      "Processing patients:  44%|████▍     | 8302/18868 [56:38<1:11:35,  2.46it/s]"
     ]
    },
    {
     "name": "stdout",
     "output_type": "stream",
     "text": [
      "Error processing C:\\Users\\lenovo\\Desktop\\sci\\data\\ecg\\ptb_xl\\ptb_xl_npz\\ecg_18680.npz: cannot convert float NaN to integer\n"
     ]
    },
    {
     "name": "stderr",
     "output_type": "stream",
     "text": [
      "Processing patients:  44%|████▍     | 8327/18868 [56:48<1:06:58,  2.62it/s]"
     ]
    },
    {
     "name": "stdout",
     "output_type": "stream",
     "text": [
      "Error processing C:\\Users\\lenovo\\Desktop\\sci\\data\\ecg\\ptb_xl\\ptb_xl_npz\\ecg_18707.npz: cannot convert float NaN to integer\n"
     ]
    },
    {
     "name": "stderr",
     "output_type": "stream",
     "text": [
      "Processing patients:  44%|████▍     | 8335/18868 [56:51<1:05:03,  2.70it/s]"
     ]
    },
    {
     "name": "stdout",
     "output_type": "stream",
     "text": [
      "Error processing C:\\Users\\lenovo\\Desktop\\sci\\data\\ecg\\ptb_xl\\ptb_xl_npz\\ecg_18717.npz: cannot convert float NaN to integer\n"
     ]
    },
    {
     "name": "stderr",
     "output_type": "stream",
     "text": [
      "Processing patients:  44%|████▍     | 8338/18868 [56:52<1:04:41,  2.71it/s]"
     ]
    },
    {
     "name": "stdout",
     "output_type": "stream",
     "text": [
      "Error processing C:\\Users\\lenovo\\Desktop\\sci\\data\\ecg\\ptb_xl\\ptb_xl_npz\\ecg_1872.npz: cannot convert float NaN to integer\n"
     ]
    },
    {
     "name": "stderr",
     "output_type": "stream",
     "text": [
      "Processing patients:  44%|████▍     | 8378/18868 [57:07<1:05:17,  2.68it/s]"
     ]
    },
    {
     "name": "stdout",
     "output_type": "stream",
     "text": [
      "Error processing C:\\Users\\lenovo\\Desktop\\sci\\data\\ecg\\ptb_xl\\ptb_xl_npz\\ecg_18765.npz: cannot convert float NaN to integer\n"
     ]
    },
    {
     "name": "stderr",
     "output_type": "stream",
     "text": [
      "Processing patients:  44%|████▍     | 8382/18868 [57:08<48:30,  3.60it/s]  "
     ]
    },
    {
     "name": "stdout",
     "output_type": "stream",
     "text": [
      "Error processing C:\\Users\\lenovo\\Desktop\\sci\\data\\ecg\\ptb_xl\\ptb_xl_npz\\ecg_18767.npz: cannot convert float NaN to integer\n",
      "Error processing C:\\Users\\lenovo\\Desktop\\sci\\data\\ecg\\ptb_xl\\ptb_xl_npz\\ecg_18768.npz: cannot convert float NaN to integer\n"
     ]
    },
    {
     "name": "stderr",
     "output_type": "stream",
     "text": [
      "Processing patients:  45%|████▍     | 8439/18868 [57:30<59:26,  2.92it/s]  "
     ]
    },
    {
     "name": "stdout",
     "output_type": "stream",
     "text": [
      "Error processing C:\\Users\\lenovo\\Desktop\\sci\\data\\ecg\\ptb_xl\\ptb_xl_npz\\ecg_18825.npz: cannot convert float NaN to integer\n"
     ]
    },
    {
     "name": "stderr",
     "output_type": "stream",
     "text": [
      "Processing patients:  45%|████▍     | 8485/18868 [57:48<55:48,  3.10it/s]  "
     ]
    },
    {
     "name": "stdout",
     "output_type": "stream",
     "text": [
      "Error processing C:\\Users\\lenovo\\Desktop\\sci\\data\\ecg\\ptb_xl\\ptb_xl_npz\\ecg_18879.npz: cannot convert float NaN to integer\n"
     ]
    },
    {
     "name": "stderr",
     "output_type": "stream",
     "text": [
      "Processing patients:  45%|████▍     | 8489/18868 [57:49<55:09,  3.14it/s]  "
     ]
    },
    {
     "name": "stdout",
     "output_type": "stream",
     "text": [
      "Error processing C:\\Users\\lenovo\\Desktop\\sci\\data\\ecg\\ptb_xl\\ptb_xl_npz\\ecg_18882.npz: integer division or modulo by zero\n"
     ]
    },
    {
     "name": "stderr",
     "output_type": "stream",
     "text": [
      "Processing patients:  45%|████▌     | 8508/18868 [57:57<59:02,  2.92it/s]  "
     ]
    },
    {
     "name": "stdout",
     "output_type": "stream",
     "text": [
      "Error processing C:\\Users\\lenovo\\Desktop\\sci\\data\\ecg\\ptb_xl\\ptb_xl_npz\\ecg_1890.npz: cannot convert float NaN to integer\n"
     ]
    },
    {
     "name": "stderr",
     "output_type": "stream",
     "text": [
      "Processing patients:  45%|████▌     | 8510/18868 [57:58<1:08:58,  2.50it/s]"
     ]
    },
    {
     "name": "stdout",
     "output_type": "stream",
     "text": [
      "Error processing C:\\Users\\lenovo\\Desktop\\sci\\data\\ecg\\ptb_xl\\ptb_xl_npz\\ecg_18903.npz: cannot convert float NaN to integer\n"
     ]
    },
    {
     "name": "stderr",
     "output_type": "stream",
     "text": [
      "Processing patients:  45%|████▌     | 8558/18868 [58:16<1:08:53,  2.49it/s]"
     ]
    },
    {
     "name": "stdout",
     "output_type": "stream",
     "text": [
      "Error processing C:\\Users\\lenovo\\Desktop\\sci\\data\\ecg\\ptb_xl\\ptb_xl_npz\\ecg_1895.npz: cannot convert float NaN to integer\n"
     ]
    },
    {
     "name": "stderr",
     "output_type": "stream",
     "text": [
      "Processing patients:  46%|████▌     | 8600/18868 [58:33<59:19,  2.88it/s]  "
     ]
    },
    {
     "name": "stdout",
     "output_type": "stream",
     "text": [
      "Error processing C:\\Users\\lenovo\\Desktop\\sci\\data\\ecg\\ptb_xl\\ptb_xl_npz\\ecg_18991.npz: cannot convert float NaN to integer\n"
     ]
    },
    {
     "name": "stderr",
     "output_type": "stream",
     "text": [
      "Processing patients:  46%|████▌     | 8617/18868 [58:39<1:03:16,  2.70it/s]"
     ]
    },
    {
     "name": "stdout",
     "output_type": "stream",
     "text": [
      "Error processing C:\\Users\\lenovo\\Desktop\\sci\\data\\ecg\\ptb_xl\\ptb_xl_npz\\ecg_19009.npz: cannot convert float NaN to integer\n"
     ]
    },
    {
     "name": "stderr",
     "output_type": "stream",
     "text": [
      "Processing patients:  46%|████▌     | 8626/18868 [58:42<54:00,  3.16it/s]  "
     ]
    },
    {
     "name": "stdout",
     "output_type": "stream",
     "text": [
      "Error processing C:\\Users\\lenovo\\Desktop\\sci\\data\\ecg\\ptb_xl\\ptb_xl_npz\\ecg_19017.npz: cannot convert float NaN to integer\n"
     ]
    },
    {
     "name": "stderr",
     "output_type": "stream",
     "text": [
      "Processing patients:  46%|████▌     | 8629/18868 [58:43<1:01:18,  2.78it/s]"
     ]
    },
    {
     "name": "stdout",
     "output_type": "stream",
     "text": [
      "Error processing C:\\Users\\lenovo\\Desktop\\sci\\data\\ecg\\ptb_xl\\ptb_xl_npz\\ecg_19020.npz: cannot convert float NaN to integer\n"
     ]
    },
    {
     "name": "stderr",
     "output_type": "stream",
     "text": [
      "Processing patients:  46%|████▌     | 8648/18868 [58:50<1:06:28,  2.56it/s]"
     ]
    },
    {
     "name": "stdout",
     "output_type": "stream",
     "text": [
      "Error processing C:\\Users\\lenovo\\Desktop\\sci\\data\\ecg\\ptb_xl\\ptb_xl_npz\\ecg_19039.npz: cannot convert float NaN to integer\n"
     ]
    },
    {
     "name": "stderr",
     "output_type": "stream",
     "text": [
      "Processing patients:  46%|████▌     | 8665/18868 [58:56<1:08:39,  2.48it/s]"
     ]
    },
    {
     "name": "stdout",
     "output_type": "stream",
     "text": [
      "Error processing C:\\Users\\lenovo\\Desktop\\sci\\data\\ecg\\ptb_xl\\ptb_xl_npz\\ecg_19056.npz: cannot convert float NaN to integer\n"
     ]
    },
    {
     "name": "stderr",
     "output_type": "stream",
     "text": [
      "Processing patients:  46%|████▌     | 8676/18868 [59:00<53:15,  3.19it/s]  "
     ]
    },
    {
     "name": "stdout",
     "output_type": "stream",
     "text": [
      "Error processing C:\\Users\\lenovo\\Desktop\\sci\\data\\ecg\\ptb_xl\\ptb_xl_npz\\ecg_19066.npz: cannot convert float NaN to integer\n"
     ]
    },
    {
     "name": "stderr",
     "output_type": "stream",
     "text": [
      "Processing patients:  46%|████▌     | 8680/18868 [59:02<1:01:06,  2.78it/s]"
     ]
    },
    {
     "name": "stdout",
     "output_type": "stream",
     "text": [
      "Error processing C:\\Users\\lenovo\\Desktop\\sci\\data\\ecg\\ptb_xl\\ptb_xl_npz\\ecg_19070.npz: cannot convert float NaN to integer\n"
     ]
    },
    {
     "name": "stderr",
     "output_type": "stream",
     "text": [
      "Processing patients:  46%|████▌     | 8706/18868 [59:11<52:04,  3.25it/s]  "
     ]
    },
    {
     "name": "stdout",
     "output_type": "stream",
     "text": [
      "Error processing C:\\Users\\lenovo\\Desktop\\sci\\data\\ecg\\ptb_xl\\ptb_xl_npz\\ecg_19096.npz: cannot convert float NaN to integer\n"
     ]
    },
    {
     "name": "stderr",
     "output_type": "stream",
     "text": [
      "Processing patients:  46%|████▋     | 8747/18868 [59:27<1:06:21,  2.54it/s]"
     ]
    },
    {
     "name": "stdout",
     "output_type": "stream",
     "text": [
      "Error processing C:\\Users\\lenovo\\Desktop\\sci\\data\\ecg\\ptb_xl\\ptb_xl_npz\\ecg_19135.npz: cannot convert float NaN to integer\n"
     ]
    },
    {
     "name": "stderr",
     "output_type": "stream",
     "text": [
      "Processing patients:  47%|████▋     | 8820/18868 [59:55<1:02:52,  2.66it/s]"
     ]
    },
    {
     "name": "stdout",
     "output_type": "stream",
     "text": [
      "Error processing C:\\Users\\lenovo\\Desktop\\sci\\data\\ecg\\ptb_xl\\ptb_xl_npz\\ecg_19215.npz: cannot convert float NaN to integer\n"
     ]
    },
    {
     "name": "stderr",
     "output_type": "stream",
     "text": [
      "Processing patients:  47%|████▋     | 8843/18868 [1:00:04<1:02:17,  2.68it/s]"
     ]
    },
    {
     "name": "stdout",
     "output_type": "stream",
     "text": [
      "Error processing C:\\Users\\lenovo\\Desktop\\sci\\data\\ecg\\ptb_xl\\ptb_xl_npz\\ecg_19238.npz: cannot convert float NaN to integer\n"
     ]
    },
    {
     "name": "stderr",
     "output_type": "stream",
     "text": [
      "Processing patients:  47%|████▋     | 8869/18868 [1:00:14<1:02:38,  2.66it/s]"
     ]
    },
    {
     "name": "stdout",
     "output_type": "stream",
     "text": [
      "Error processing C:\\Users\\lenovo\\Desktop\\sci\\data\\ecg\\ptb_xl\\ptb_xl_npz\\ecg_19262.npz: cannot convert float NaN to integer\n"
     ]
    },
    {
     "name": "stderr",
     "output_type": "stream",
     "text": [
      "Processing patients:  47%|████▋     | 8900/18868 [1:00:26<1:08:34,  2.42it/s]"
     ]
    },
    {
     "name": "stdout",
     "output_type": "stream",
     "text": [
      "Error processing C:\\Users\\lenovo\\Desktop\\sci\\data\\ecg\\ptb_xl\\ptb_xl_npz\\ecg_19293.npz: cannot convert float NaN to integer\n"
     ]
    },
    {
     "name": "stderr",
     "output_type": "stream",
     "text": [
      "Processing patients:  48%|████▊     | 9027/18868 [1:01:18<58:11,  2.82it/s]  "
     ]
    },
    {
     "name": "stdout",
     "output_type": "stream",
     "text": [
      "Error processing C:\\Users\\lenovo\\Desktop\\sci\\data\\ecg\\ptb_xl\\ptb_xl_npz\\ecg_19420.npz: cannot convert float NaN to integer\n"
     ]
    },
    {
     "name": "stderr",
     "output_type": "stream",
     "text": [
      "Processing patients:  48%|████▊     | 9060/18868 [1:01:32<1:04:19,  2.54it/s]"
     ]
    },
    {
     "name": "stdout",
     "output_type": "stream",
     "text": [
      "Error processing C:\\Users\\lenovo\\Desktop\\sci\\data\\ecg\\ptb_xl\\ptb_xl_npz\\ecg_19458.npz: cannot convert float NaN to integer\n"
     ]
    },
    {
     "name": "stderr",
     "output_type": "stream",
     "text": [
      "Processing patients:  48%|████▊     | 9068/18868 [1:01:34<58:35,  2.79it/s]  "
     ]
    },
    {
     "name": "stdout",
     "output_type": "stream",
     "text": [
      "Error processing C:\\Users\\lenovo\\Desktop\\sci\\data\\ecg\\ptb_xl\\ptb_xl_npz\\ecg_19469.npz: cannot convert float NaN to integer\n"
     ]
    },
    {
     "name": "stderr",
     "output_type": "stream",
     "text": [
      "Processing patients:  48%|████▊     | 9136/18868 [1:02:02<51:38,  3.14it/s]  "
     ]
    },
    {
     "name": "stdout",
     "output_type": "stream",
     "text": [
      "Error processing C:\\Users\\lenovo\\Desktop\\sci\\data\\ecg\\ptb_xl\\ptb_xl_npz\\ecg_1954.npz: integer division or modulo by zero\n"
     ]
    },
    {
     "name": "stderr",
     "output_type": "stream",
     "text": [
      "Processing patients:  49%|████▊     | 9171/18868 [1:02:16<1:02:52,  2.57it/s]"
     ]
    },
    {
     "name": "stdout",
     "output_type": "stream",
     "text": [
      "Error processing C:\\Users\\lenovo\\Desktop\\sci\\data\\ecg\\ptb_xl\\ptb_xl_npz\\ecg_19579.npz: integer division or modulo by zero\n"
     ]
    },
    {
     "name": "stderr",
     "output_type": "stream",
     "text": [
      "Processing patients:  49%|████▊     | 9193/18868 [1:02:25<52:27,  3.07it/s]  "
     ]
    },
    {
     "name": "stdout",
     "output_type": "stream",
     "text": [
      "Error processing C:\\Users\\lenovo\\Desktop\\sci\\data\\ecg\\ptb_xl\\ptb_xl_npz\\ecg_19601.npz: cannot convert float NaN to integer\n"
     ]
    },
    {
     "name": "stderr",
     "output_type": "stream",
     "text": [
      "Processing patients:  49%|████▊     | 9197/18868 [1:02:26<58:36,  2.75it/s]  "
     ]
    },
    {
     "name": "stdout",
     "output_type": "stream",
     "text": [
      "Error processing C:\\Users\\lenovo\\Desktop\\sci\\data\\ecg\\ptb_xl\\ptb_xl_npz\\ecg_19606.npz: integer division or modulo by zero\n"
     ]
    },
    {
     "name": "stderr",
     "output_type": "stream",
     "text": [
      "Processing patients:  49%|████▉     | 9235/18868 [1:02:42<58:32,  2.74it/s]  "
     ]
    },
    {
     "name": "stdout",
     "output_type": "stream",
     "text": [
      "Error processing C:\\Users\\lenovo\\Desktop\\sci\\data\\ecg\\ptb_xl\\ptb_xl_npz\\ecg_19644.npz: cannot convert float NaN to integer\n"
     ]
    },
    {
     "name": "stderr",
     "output_type": "stream",
     "text": [
      "Processing patients:  49%|████▉     | 9236/18868 [1:02:42<1:01:31,  2.61it/s]"
     ]
    },
    {
     "name": "stdout",
     "output_type": "stream",
     "text": [
      "Error processing C:\\Users\\lenovo\\Desktop\\sci\\data\\ecg\\ptb_xl\\ptb_xl_npz\\ecg_19646.npz: cannot convert float NaN to integer\n"
     ]
    },
    {
     "name": "stderr",
     "output_type": "stream",
     "text": [
      "Processing patients:  50%|████▉     | 9401/18868 [1:03:53<42:32,  3.71it/s]  "
     ]
    },
    {
     "name": "stdout",
     "output_type": "stream",
     "text": [
      "Error processing C:\\Users\\lenovo\\Desktop\\sci\\data\\ecg\\ptb_xl\\ptb_xl_npz\\ecg_19816.npz: cannot convert float NaN to integer\n",
      "Error processing C:\\Users\\lenovo\\Desktop\\sci\\data\\ecg\\ptb_xl\\ptb_xl_npz\\ecg_19817.npz: integer division or modulo by zero\n"
     ]
    },
    {
     "name": "stderr",
     "output_type": "stream",
     "text": [
      "Processing patients:  50%|████▉     | 9428/18868 [1:04:05<57:45,  2.72it/s]  "
     ]
    },
    {
     "name": "stdout",
     "output_type": "stream",
     "text": [
      "Error processing C:\\Users\\lenovo\\Desktop\\sci\\data\\ecg\\ptb_xl\\ptb_xl_npz\\ecg_19844.npz: integer division or modulo by zero\n"
     ]
    },
    {
     "name": "stderr",
     "output_type": "stream",
     "text": [
      "Processing patients:  50%|█████     | 9438/18868 [1:04:09<51:26,  3.06it/s]  "
     ]
    },
    {
     "name": "stdout",
     "output_type": "stream",
     "text": [
      "Error processing C:\\Users\\lenovo\\Desktop\\sci\\data\\ecg\\ptb_xl\\ptb_xl_npz\\ecg_19854.npz: cannot convert float NaN to integer\n"
     ]
    },
    {
     "name": "stderr",
     "output_type": "stream",
     "text": [
      "Processing patients:  50%|█████     | 9443/18868 [1:04:10<51:51,  3.03it/s]"
     ]
    },
    {
     "name": "stdout",
     "output_type": "stream",
     "text": [
      "Error processing C:\\Users\\lenovo\\Desktop\\sci\\data\\ecg\\ptb_xl\\ptb_xl_npz\\ecg_1986.npz: cannot convert float NaN to integer\n"
     ]
    },
    {
     "name": "stderr",
     "output_type": "stream",
     "text": [
      "Processing patients:  50%|█████     | 9467/18868 [1:04:20<53:10,  2.95it/s]  "
     ]
    },
    {
     "name": "stdout",
     "output_type": "stream",
     "text": [
      "Error processing C:\\Users\\lenovo\\Desktop\\sci\\data\\ecg\\ptb_xl\\ptb_xl_npz\\ecg_19883.npz: cannot convert float NaN to integer\n"
     ]
    },
    {
     "name": "stderr",
     "output_type": "stream",
     "text": [
      "Processing patients:  50%|█████     | 9469/18868 [1:04:21<47:45,  3.28it/s]"
     ]
    },
    {
     "name": "stdout",
     "output_type": "stream",
     "text": [
      "Error processing C:\\Users\\lenovo\\Desktop\\sci\\data\\ecg\\ptb_xl\\ptb_xl_npz\\ecg_19885.npz: cannot convert float NaN to integer\n"
     ]
    },
    {
     "name": "stderr",
     "output_type": "stream",
     "text": [
      "Processing patients:  51%|█████     | 9531/18868 [1:04:47<55:54,  2.78it/s]  "
     ]
    },
    {
     "name": "stdout",
     "output_type": "stream",
     "text": [
      "Error processing C:\\Users\\lenovo\\Desktop\\sci\\data\\ecg\\ptb_xl\\ptb_xl_npz\\ecg_1995.npz: integer division or modulo by zero\n"
     ]
    },
    {
     "name": "stderr",
     "output_type": "stream",
     "text": [
      "Processing patients:  51%|█████     | 9545/18868 [1:04:53<1:09:57,  2.22it/s]"
     ]
    },
    {
     "name": "stdout",
     "output_type": "stream",
     "text": [
      "Error processing C:\\Users\\lenovo\\Desktop\\sci\\data\\ecg\\ptb_xl\\ptb_xl_npz\\ecg_19963.npz: cannot convert float NaN to integer\n"
     ]
    },
    {
     "name": "stderr",
     "output_type": "stream",
     "text": [
      "Processing patients:  51%|█████     | 9547/18868 [1:04:53<57:01,  2.72it/s]  "
     ]
    },
    {
     "name": "stdout",
     "output_type": "stream",
     "text": [
      "Error processing C:\\Users\\lenovo\\Desktop\\sci\\data\\ecg\\ptb_xl\\ptb_xl_npz\\ecg_19965.npz: cannot convert float NaN to integer\n"
     ]
    },
    {
     "name": "stderr",
     "output_type": "stream",
     "text": [
      "Processing patients:  51%|█████     | 9607/18868 [1:05:17<47:48,  3.23it/s]  "
     ]
    },
    {
     "name": "stdout",
     "output_type": "stream",
     "text": [
      "Error processing C:\\Users\\lenovo\\Desktop\\sci\\data\\ecg\\ptb_xl\\ptb_xl_npz\\ecg_20027.npz: cannot convert float NaN to integer\n",
      "Error processing C:\\Users\\lenovo\\Desktop\\sci\\data\\ecg\\ptb_xl\\ptb_xl_npz\\ecg_20028.npz: cannot convert float NaN to integer\n"
     ]
    },
    {
     "name": "stderr",
     "output_type": "stream",
     "text": [
      "Processing patients:  51%|█████     | 9628/18868 [1:05:26<1:00:07,  2.56it/s]"
     ]
    },
    {
     "name": "stdout",
     "output_type": "stream",
     "text": [
      "Error processing C:\\Users\\lenovo\\Desktop\\sci\\data\\ecg\\ptb_xl\\ptb_xl_npz\\ecg_20054.npz: integer division or modulo by zero\n"
     ]
    },
    {
     "name": "stderr",
     "output_type": "stream",
     "text": [
      "Processing patients:  51%|█████     | 9645/18868 [1:05:32<55:26,  2.77it/s]  "
     ]
    },
    {
     "name": "stdout",
     "output_type": "stream",
     "text": [
      "Error processing C:\\Users\\lenovo\\Desktop\\sci\\data\\ecg\\ptb_xl\\ptb_xl_npz\\ecg_20077.npz: cannot convert float NaN to integer\n"
     ]
    },
    {
     "name": "stderr",
     "output_type": "stream",
     "text": [
      "Processing patients:  51%|█████     | 9666/18868 [1:05:41<1:07:21,  2.28it/s]"
     ]
    },
    {
     "name": "stdout",
     "output_type": "stream",
     "text": [
      "Error processing C:\\Users\\lenovo\\Desktop\\sci\\data\\ecg\\ptb_xl\\ptb_xl_npz\\ecg_20097.npz: cannot convert float NaN to integer\n"
     ]
    },
    {
     "name": "stderr",
     "output_type": "stream",
     "text": [
      "Processing patients:  52%|█████▏    | 9744/18868 [1:06:13<1:07:50,  2.24it/s]"
     ]
    },
    {
     "name": "stdout",
     "output_type": "stream",
     "text": [
      "Error processing C:\\Users\\lenovo\\Desktop\\sci\\data\\ecg\\ptb_xl\\ptb_xl_npz\\ecg_20182.npz: cannot convert float NaN to integer\n"
     ]
    },
    {
     "name": "stderr",
     "output_type": "stream",
     "text": [
      "Processing patients:  52%|█████▏    | 9786/18868 [1:06:30<1:01:45,  2.45it/s]"
     ]
    },
    {
     "name": "stdout",
     "output_type": "stream",
     "text": [
      "Error processing C:\\Users\\lenovo\\Desktop\\sci\\data\\ecg\\ptb_xl\\ptb_xl_npz\\ecg_20224.npz: cannot convert float NaN to integer\n"
     ]
    },
    {
     "name": "stderr",
     "output_type": "stream",
     "text": [
      "Processing patients:  52%|█████▏    | 9863/18868 [1:07:01<47:24,  3.17it/s]  "
     ]
    },
    {
     "name": "stdout",
     "output_type": "stream",
     "text": [
      "Error processing C:\\Users\\lenovo\\Desktop\\sci\\data\\ecg\\ptb_xl\\ptb_xl_npz\\ecg_20306.npz: cannot convert float NaN to integer\n"
     ]
    },
    {
     "name": "stderr",
     "output_type": "stream",
     "text": [
      "Processing patients:  52%|█████▏    | 9881/18868 [1:07:09<57:31,  2.60it/s]  "
     ]
    },
    {
     "name": "stdout",
     "output_type": "stream",
     "text": [
      "Error processing C:\\Users\\lenovo\\Desktop\\sci\\data\\ecg\\ptb_xl\\ptb_xl_npz\\ecg_20325.npz: cannot convert float NaN to integer\n"
     ]
    },
    {
     "name": "stderr",
     "output_type": "stream",
     "text": [
      "Processing patients:  52%|█████▏    | 9897/18868 [1:07:15<1:01:28,  2.43it/s]"
     ]
    },
    {
     "name": "stdout",
     "output_type": "stream",
     "text": [
      "Error processing C:\\Users\\lenovo\\Desktop\\sci\\data\\ecg\\ptb_xl\\ptb_xl_npz\\ecg_20343.npz: cannot convert float NaN to integer\n"
     ]
    },
    {
     "name": "stderr",
     "output_type": "stream",
     "text": [
      "Processing patients:  53%|█████▎    | 9939/18868 [1:07:31<54:55,  2.71it/s]  "
     ]
    },
    {
     "name": "stdout",
     "output_type": "stream",
     "text": [
      "Error processing C:\\Users\\lenovo\\Desktop\\sci\\data\\ecg\\ptb_xl\\ptb_xl_npz\\ecg_20387.npz: integer division or modulo by zero\n"
     ]
    },
    {
     "name": "stderr",
     "output_type": "stream",
     "text": [
      "Processing patients:  53%|█████▎    | 10005/18868 [1:07:57<46:37,  3.17it/s] "
     ]
    },
    {
     "name": "stdout",
     "output_type": "stream",
     "text": [
      "Error processing C:\\Users\\lenovo\\Desktop\\sci\\data\\ecg\\ptb_xl\\ptb_xl_npz\\ecg_20452.npz: cannot convert float NaN to integer\n"
     ]
    },
    {
     "name": "stderr",
     "output_type": "stream",
     "text": [
      "Processing patients:  53%|█████▎    | 10006/18868 [1:07:57<41:42,  3.54it/s]"
     ]
    },
    {
     "name": "stdout",
     "output_type": "stream",
     "text": [
      "Error processing C:\\Users\\lenovo\\Desktop\\sci\\data\\ecg\\ptb_xl\\ptb_xl_npz\\ecg_20454.npz: cannot convert float NaN to integer\n"
     ]
    },
    {
     "name": "stderr",
     "output_type": "stream",
     "text": [
      "Processing patients:  53%|█████▎    | 10026/18868 [1:08:05<50:21,  2.93it/s]  "
     ]
    },
    {
     "name": "stdout",
     "output_type": "stream",
     "text": [
      "Error processing C:\\Users\\lenovo\\Desktop\\sci\\data\\ecg\\ptb_xl\\ptb_xl_npz\\ecg_20473.npz: cannot convert float NaN to integer\n"
     ]
    },
    {
     "name": "stderr",
     "output_type": "stream",
     "text": [
      "Processing patients:  53%|█████▎    | 10033/18868 [1:08:08<48:39,  3.03it/s]"
     ]
    },
    {
     "name": "stdout",
     "output_type": "stream",
     "text": [
      "Error processing C:\\Users\\lenovo\\Desktop\\sci\\data\\ecg\\ptb_xl\\ptb_xl_npz\\ecg_20482.npz: integer division or modulo by zero\n",
      "Error processing C:\\Users\\lenovo\\Desktop\\sci\\data\\ecg\\ptb_xl\\ptb_xl_npz\\ecg_20484.npz: cannot convert float NaN to integer\n"
     ]
    },
    {
     "name": "stderr",
     "output_type": "stream",
     "text": [
      "Processing patients:  53%|█████▎    | 10056/18868 [1:08:17<55:38,  2.64it/s]  "
     ]
    },
    {
     "name": "stdout",
     "output_type": "stream",
     "text": [
      "Error processing C:\\Users\\lenovo\\Desktop\\sci\\data\\ecg\\ptb_xl\\ptb_xl_npz\\ecg_20513.npz: cannot convert float NaN to integer\n"
     ]
    },
    {
     "name": "stderr",
     "output_type": "stream",
     "text": [
      "Processing patients:  53%|█████▎    | 10070/18868 [1:08:23<1:04:03,  2.29it/s]"
     ]
    },
    {
     "name": "stdout",
     "output_type": "stream",
     "text": [
      "Error processing C:\\Users\\lenovo\\Desktop\\sci\\data\\ecg\\ptb_xl\\ptb_xl_npz\\ecg_20528.npz: cannot convert float NaN to integer\n"
     ]
    },
    {
     "name": "stderr",
     "output_type": "stream",
     "text": [
      "Processing patients:  54%|█████▍    | 10143/18868 [1:08:53<58:38,  2.48it/s]  "
     ]
    },
    {
     "name": "stdout",
     "output_type": "stream",
     "text": [
      "Error processing C:\\Users\\lenovo\\Desktop\\sci\\data\\ecg\\ptb_xl\\ptb_xl_npz\\ecg_20599.npz: cannot convert float NaN to integer\n"
     ]
    },
    {
     "name": "stderr",
     "output_type": "stream",
     "text": [
      "Processing patients:  54%|█████▍    | 10149/18868 [1:08:55<50:18,  2.89it/s]"
     ]
    },
    {
     "name": "stdout",
     "output_type": "stream",
     "text": [
      "Error processing C:\\Users\\lenovo\\Desktop\\sci\\data\\ecg\\ptb_xl\\ptb_xl_npz\\ecg_20604.npz: cannot convert float NaN to integer\n"
     ]
    },
    {
     "name": "stderr",
     "output_type": "stream",
     "text": [
      "Processing patients:  54%|█████▍    | 10201/18868 [1:09:18<1:08:15,  2.12it/s]"
     ]
    },
    {
     "name": "stdout",
     "output_type": "stream",
     "text": [
      "Error processing C:\\Users\\lenovo\\Desktop\\sci\\data\\ecg\\ptb_xl\\ptb_xl_npz\\ecg_20655.npz: cannot convert float NaN to integer\n"
     ]
    },
    {
     "name": "stderr",
     "output_type": "stream",
     "text": [
      "Processing patients:  54%|█████▍    | 10234/18868 [1:09:33<55:19,  2.60it/s]  "
     ]
    },
    {
     "name": "stdout",
     "output_type": "stream",
     "text": [
      "Error processing C:\\Users\\lenovo\\Desktop\\sci\\data\\ecg\\ptb_xl\\ptb_xl_npz\\ecg_20687.npz: integer division or modulo by zero\n"
     ]
    },
    {
     "name": "stderr",
     "output_type": "stream",
     "text": [
      "Processing patients:  54%|█████▍    | 10262/18868 [1:09:45<57:40,  2.49it/s]  "
     ]
    },
    {
     "name": "stdout",
     "output_type": "stream",
     "text": [
      "Error processing C:\\Users\\lenovo\\Desktop\\sci\\data\\ecg\\ptb_xl\\ptb_xl_npz\\ecg_20717.npz: cannot convert float NaN to integer\n"
     ]
    },
    {
     "name": "stderr",
     "output_type": "stream",
     "text": [
      "Processing patients:  54%|█████▍    | 10273/18868 [1:09:50<57:08,  2.51it/s]  "
     ]
    },
    {
     "name": "stdout",
     "output_type": "stream",
     "text": [
      "Error processing C:\\Users\\lenovo\\Desktop\\sci\\data\\ecg\\ptb_xl\\ptb_xl_npz\\ecg_20727.npz: cannot convert float NaN to integer\n"
     ]
    },
    {
     "name": "stderr",
     "output_type": "stream",
     "text": [
      "Processing patients:  55%|█████▍    | 10313/18868 [1:10:07<55:04,  2.59it/s]  "
     ]
    },
    {
     "name": "stdout",
     "output_type": "stream",
     "text": [
      "Error processing C:\\Users\\lenovo\\Desktop\\sci\\data\\ecg\\ptb_xl\\ptb_xl_npz\\ecg_20770.npz: cannot convert float NaN to integer\n"
     ]
    },
    {
     "name": "stderr",
     "output_type": "stream",
     "text": [
      "Processing patients:  55%|█████▍    | 10319/18868 [1:10:09<46:57,  3.03it/s]"
     ]
    },
    {
     "name": "stdout",
     "output_type": "stream",
     "text": [
      "Error processing C:\\Users\\lenovo\\Desktop\\sci\\data\\ecg\\ptb_xl\\ptb_xl_npz\\ecg_20775.npz: cannot convert float NaN to integer\n"
     ]
    },
    {
     "name": "stderr",
     "output_type": "stream",
     "text": [
      "Processing patients:  55%|█████▍    | 10328/18868 [1:10:12<51:26,  2.77it/s]  "
     ]
    },
    {
     "name": "stdout",
     "output_type": "stream",
     "text": [
      "Error processing C:\\Users\\lenovo\\Desktop\\sci\\data\\ecg\\ptb_xl\\ptb_xl_npz\\ecg_20785.npz: cannot convert float NaN to integer\n"
     ]
    },
    {
     "name": "stderr",
     "output_type": "stream",
     "text": [
      "Processing patients:  55%|█████▍    | 10374/18868 [1:10:33<52:51,  2.68it/s]  "
     ]
    },
    {
     "name": "stdout",
     "output_type": "stream",
     "text": [
      "Error processing C:\\Users\\lenovo\\Desktop\\sci\\data\\ecg\\ptb_xl\\ptb_xl_npz\\ecg_20831.npz: integer division or modulo by zero\n"
     ]
    },
    {
     "name": "stderr",
     "output_type": "stream",
     "text": [
      "Processing patients:  55%|█████▌    | 10387/18868 [1:10:38<52:58,  2.67it/s]  "
     ]
    },
    {
     "name": "stdout",
     "output_type": "stream",
     "text": [
      "Error processing C:\\Users\\lenovo\\Desktop\\sci\\data\\ecg\\ptb_xl\\ptb_xl_npz\\ecg_20845.npz: integer division or modulo by zero\n"
     ]
    },
    {
     "name": "stderr",
     "output_type": "stream",
     "text": [
      "Processing patients:  55%|█████▌    | 10397/18868 [1:10:42<59:16,  2.38it/s]  "
     ]
    },
    {
     "name": "stdout",
     "output_type": "stream",
     "text": [
      "Error processing C:\\Users\\lenovo\\Desktop\\sci\\data\\ecg\\ptb_xl\\ptb_xl_npz\\ecg_20856.npz: cannot convert float NaN to integer\n"
     ]
    },
    {
     "name": "stderr",
     "output_type": "stream",
     "text": [
      "Processing patients:  56%|█████▌    | 10476/18868 [1:11:18<1:00:56,  2.29it/s]"
     ]
    },
    {
     "name": "stdout",
     "output_type": "stream",
     "text": [
      "Error processing C:\\Users\\lenovo\\Desktop\\sci\\data\\ecg\\ptb_xl\\ptb_xl_npz\\ecg_20942.npz: cannot convert float NaN to integer\n"
     ]
    },
    {
     "name": "stderr",
     "output_type": "stream",
     "text": [
      "Processing patients:  56%|█████▌    | 10504/18868 [1:11:30<53:41,  2.60it/s]  "
     ]
    },
    {
     "name": "stdout",
     "output_type": "stream",
     "text": [
      "Error processing C:\\Users\\lenovo\\Desktop\\sci\\data\\ecg\\ptb_xl\\ptb_xl_npz\\ecg_20971.npz: cannot convert float NaN to integer\n"
     ]
    },
    {
     "name": "stderr",
     "output_type": "stream",
     "text": [
      "Processing patients:  56%|█████▌    | 10517/18868 [1:11:35<49:38,  2.80it/s]  "
     ]
    },
    {
     "name": "stdout",
     "output_type": "stream",
     "text": [
      "Error processing C:\\Users\\lenovo\\Desktop\\sci\\data\\ecg\\ptb_xl\\ptb_xl_npz\\ecg_20986.npz: cannot convert float NaN to integer\n"
     ]
    },
    {
     "name": "stderr",
     "output_type": "stream",
     "text": [
      "Processing patients:  56%|█████▌    | 10572/18868 [1:11:58<36:45,  3.76it/s]  "
     ]
    },
    {
     "name": "stdout",
     "output_type": "stream",
     "text": [
      "Error processing C:\\Users\\lenovo\\Desktop\\sci\\data\\ecg\\ptb_xl\\ptb_xl_npz\\ecg_21040.npz: integer division or modulo by zero\n",
      "Error processing C:\\Users\\lenovo\\Desktop\\sci\\data\\ecg\\ptb_xl\\ptb_xl_npz\\ecg_21041.npz: integer division or modulo by zero\n"
     ]
    },
    {
     "name": "stderr",
     "output_type": "stream",
     "text": [
      "Processing patients:  57%|█████▋    | 10671/18868 [1:12:38<53:14,  2.57it/s]  "
     ]
    },
    {
     "name": "stdout",
     "output_type": "stream",
     "text": [
      "Error processing C:\\Users\\lenovo\\Desktop\\sci\\data\\ecg\\ptb_xl\\ptb_xl_npz\\ecg_21149.npz: integer division or modulo by zero\n"
     ]
    },
    {
     "name": "stderr",
     "output_type": "stream",
     "text": [
      "Processing patients:  57%|█████▋    | 10689/18868 [1:12:45<50:37,  2.69it/s]"
     ]
    },
    {
     "name": "stdout",
     "output_type": "stream",
     "text": [
      "Error processing C:\\Users\\lenovo\\Desktop\\sci\\data\\ecg\\ptb_xl\\ptb_xl_npz\\ecg_21167.npz: cannot convert float NaN to integer\n"
     ]
    },
    {
     "name": "stderr",
     "output_type": "stream",
     "text": [
      "Processing patients:  57%|█████▋    | 10735/18868 [1:13:03<45:43,  2.96it/s]  "
     ]
    },
    {
     "name": "stdout",
     "output_type": "stream",
     "text": [
      "Error processing C:\\Users\\lenovo\\Desktop\\sci\\data\\ecg\\ptb_xl\\ptb_xl_npz\\ecg_21212.npz: cannot convert float NaN to integer\n"
     ]
    },
    {
     "name": "stderr",
     "output_type": "stream",
     "text": [
      "Processing patients:  57%|█████▋    | 10738/18868 [1:13:04<39:47,  3.40it/s]"
     ]
    },
    {
     "name": "stdout",
     "output_type": "stream",
     "text": [
      "Error processing C:\\Users\\lenovo\\Desktop\\sci\\data\\ecg\\ptb_xl\\ptb_xl_npz\\ecg_21215.npz: cannot convert float NaN to integer\n"
     ]
    },
    {
     "name": "stderr",
     "output_type": "stream",
     "text": [
      "Processing patients:  57%|█████▋    | 10761/18868 [1:13:13<53:07,  2.54it/s]"
     ]
    },
    {
     "name": "stdout",
     "output_type": "stream",
     "text": [
      "Error processing C:\\Users\\lenovo\\Desktop\\sci\\data\\ecg\\ptb_xl\\ptb_xl_npz\\ecg_21243.npz: cannot convert float NaN to integer\n"
     ]
    },
    {
     "name": "stderr",
     "output_type": "stream",
     "text": [
      "Processing patients:  57%|█████▋    | 10793/18868 [1:13:24<42:23,  3.17it/s]"
     ]
    },
    {
     "name": "stdout",
     "output_type": "stream",
     "text": [
      "Error processing C:\\Users\\lenovo\\Desktop\\sci\\data\\ecg\\ptb_xl\\ptb_xl_npz\\ecg_21277.npz: cannot convert float NaN to integer\n"
     ]
    },
    {
     "name": "stderr",
     "output_type": "stream",
     "text": [
      "Processing patients:  57%|█████▋    | 10816/18868 [1:13:33<41:03,  3.27it/s]"
     ]
    },
    {
     "name": "stdout",
     "output_type": "stream",
     "text": [
      "Error processing C:\\Users\\lenovo\\Desktop\\sci\\data\\ecg\\ptb_xl\\ptb_xl_npz\\ecg_21302.npz: cannot convert float NaN to integer\n"
     ]
    },
    {
     "name": "stderr",
     "output_type": "stream",
     "text": [
      "Processing patients:  57%|█████▋    | 10817/18868 [1:13:33<47:29,  2.83it/s]"
     ]
    },
    {
     "name": "stdout",
     "output_type": "stream",
     "text": [
      "Error processing C:\\Users\\lenovo\\Desktop\\sci\\data\\ecg\\ptb_xl\\ptb_xl_npz\\ecg_21305.npz: cannot convert float NaN to integer\n"
     ]
    },
    {
     "name": "stderr",
     "output_type": "stream",
     "text": [
      "Processing patients:  57%|█████▋    | 10820/18868 [1:13:34<42:17,  3.17it/s]"
     ]
    },
    {
     "name": "stdout",
     "output_type": "stream",
     "text": [
      "Error processing C:\\Users\\lenovo\\Desktop\\sci\\data\\ecg\\ptb_xl\\ptb_xl_npz\\ecg_21309.npz: cannot convert float NaN to integer\n"
     ]
    },
    {
     "name": "stderr",
     "output_type": "stream",
     "text": [
      "Processing patients:  57%|█████▋    | 10842/18868 [1:13:42<56:40,  2.36it/s]"
     ]
    },
    {
     "name": "stdout",
     "output_type": "stream",
     "text": [
      "Error processing C:\\Users\\lenovo\\Desktop\\sci\\data\\ecg\\ptb_xl\\ptb_xl_npz\\ecg_21330.npz: cannot convert float NaN to integer\n"
     ]
    },
    {
     "name": "stderr",
     "output_type": "stream",
     "text": [
      "Processing patients:  58%|█████▊    | 10876/18868 [1:13:57<49:25,  2.69it/s]  "
     ]
    },
    {
     "name": "stdout",
     "output_type": "stream",
     "text": [
      "Error processing C:\\Users\\lenovo\\Desktop\\sci\\data\\ecg\\ptb_xl\\ptb_xl_npz\\ecg_21364.npz: cannot convert float NaN to integer\n"
     ]
    },
    {
     "name": "stderr",
     "output_type": "stream",
     "text": [
      "Processing patients:  58%|█████▊    | 10886/18868 [1:14:01<52:32,  2.53it/s]"
     ]
    },
    {
     "name": "stdout",
     "output_type": "stream",
     "text": [
      "Error processing C:\\Users\\lenovo\\Desktop\\sci\\data\\ecg\\ptb_xl\\ptb_xl_npz\\ecg_21375.npz: integer division or modulo by zero\n"
     ]
    },
    {
     "name": "stderr",
     "output_type": "stream",
     "text": [
      "Processing patients:  58%|█████▊    | 10888/18868 [1:14:02<43:17,  3.07it/s]"
     ]
    },
    {
     "name": "stdout",
     "output_type": "stream",
     "text": [
      "Error processing C:\\Users\\lenovo\\Desktop\\sci\\data\\ecg\\ptb_xl\\ptb_xl_npz\\ecg_21377.npz: cannot convert float NaN to integer\n"
     ]
    },
    {
     "name": "stderr",
     "output_type": "stream",
     "text": [
      "Processing patients:  58%|█████▊    | 10892/18868 [1:14:03<53:02,  2.51it/s]"
     ]
    },
    {
     "name": "stdout",
     "output_type": "stream",
     "text": [
      "Error processing C:\\Users\\lenovo\\Desktop\\sci\\data\\ecg\\ptb_xl\\ptb_xl_npz\\ecg_21381.npz: cannot convert float NaN to integer\n"
     ]
    },
    {
     "name": "stderr",
     "output_type": "stream",
     "text": [
      "Processing patients:  58%|█████▊    | 10964/18868 [1:14:35<52:44,  2.50it/s]  "
     ]
    },
    {
     "name": "stdout",
     "output_type": "stream",
     "text": [
      "Error processing C:\\Users\\lenovo\\Desktop\\sci\\data\\ecg\\ptb_xl\\ptb_xl_npz\\ecg_21452.npz: cannot convert float NaN to integer\n"
     ]
    },
    {
     "name": "stderr",
     "output_type": "stream",
     "text": [
      "Processing patients:  58%|█████▊    | 10970/18868 [1:14:37<50:52,  2.59it/s]"
     ]
    },
    {
     "name": "stdout",
     "output_type": "stream",
     "text": [
      "Error processing C:\\Users\\lenovo\\Desktop\\sci\\data\\ecg\\ptb_xl\\ptb_xl_npz\\ecg_21458.npz: cannot convert float NaN to integer\n"
     ]
    },
    {
     "name": "stderr",
     "output_type": "stream",
     "text": [
      "Processing patients:  58%|█████▊    | 10993/18868 [1:14:47<51:12,  2.56it/s]"
     ]
    },
    {
     "name": "stdout",
     "output_type": "stream",
     "text": [
      "Error processing C:\\Users\\lenovo\\Desktop\\sci\\data\\ecg\\ptb_xl\\ptb_xl_npz\\ecg_21481.npz: integer division or modulo by zero\n"
     ]
    },
    {
     "name": "stderr",
     "output_type": "stream",
     "text": [
      "Processing patients:  58%|█████▊    | 10996/18868 [1:14:47<38:38,  3.39it/s]"
     ]
    },
    {
     "name": "stdout",
     "output_type": "stream",
     "text": [
      "Error processing C:\\Users\\lenovo\\Desktop\\sci\\data\\ecg\\ptb_xl\\ptb_xl_npz\\ecg_21483.npz: integer division or modulo by zero\n"
     ]
    },
    {
     "name": "stderr",
     "output_type": "stream",
     "text": [
      "Processing patients:  58%|█████▊    | 11013/18868 [1:14:54<46:23,  2.82it/s]  "
     ]
    },
    {
     "name": "stdout",
     "output_type": "stream",
     "text": [
      "Error processing C:\\Users\\lenovo\\Desktop\\sci\\data\\ecg\\ptb_xl\\ptb_xl_npz\\ecg_2150.npz: cannot convert float NaN to integer\n"
     ]
    },
    {
     "name": "stderr",
     "output_type": "stream",
     "text": [
      "Processing patients:  58%|█████▊    | 11037/18868 [1:15:05<48:00,  2.72it/s]"
     ]
    },
    {
     "name": "stdout",
     "output_type": "stream",
     "text": [
      "Error processing C:\\Users\\lenovo\\Desktop\\sci\\data\\ecg\\ptb_xl\\ptb_xl_npz\\ecg_21524.npz: cannot convert float NaN to integer\n"
     ]
    },
    {
     "name": "stderr",
     "output_type": "stream",
     "text": [
      "Processing patients:  59%|█████▊    | 11053/18868 [1:15:11<47:18,  2.75it/s]  "
     ]
    },
    {
     "name": "stdout",
     "output_type": "stream",
     "text": [
      "Error processing C:\\Users\\lenovo\\Desktop\\sci\\data\\ecg\\ptb_xl\\ptb_xl_npz\\ecg_2154.npz: integer division or modulo by zero\n"
     ]
    },
    {
     "name": "stderr",
     "output_type": "stream",
     "text": [
      "Processing patients:  59%|█████▊    | 11056/18868 [1:15:12<44:59,  2.89it/s]"
     ]
    },
    {
     "name": "stdout",
     "output_type": "stream",
     "text": [
      "Error processing C:\\Users\\lenovo\\Desktop\\sci\\data\\ecg\\ptb_xl\\ptb_xl_npz\\ecg_21542.npz: cannot convert float NaN to integer\n"
     ]
    },
    {
     "name": "stderr",
     "output_type": "stream",
     "text": [
      "Processing patients:  59%|█████▊    | 11064/18868 [1:15:16<49:34,  2.62it/s]"
     ]
    },
    {
     "name": "stdout",
     "output_type": "stream",
     "text": [
      "Error processing C:\\Users\\lenovo\\Desktop\\sci\\data\\ecg\\ptb_xl\\ptb_xl_npz\\ecg_21551.npz: cannot convert float NaN to integer\n"
     ]
    },
    {
     "name": "stderr",
     "output_type": "stream",
     "text": [
      "Processing patients:  59%|█████▉    | 11090/18868 [1:15:26<51:18,  2.53it/s]"
     ]
    },
    {
     "name": "stdout",
     "output_type": "stream",
     "text": [
      "Error processing C:\\Users\\lenovo\\Desktop\\sci\\data\\ecg\\ptb_xl\\ptb_xl_npz\\ecg_21579.npz: cannot convert float NaN to integer\n"
     ]
    },
    {
     "name": "stderr",
     "output_type": "stream",
     "text": [
      "Processing patients:  59%|█████▉    | 11094/18868 [1:15:28<46:40,  2.78it/s]"
     ]
    },
    {
     "name": "stdout",
     "output_type": "stream",
     "text": [
      "Error processing C:\\Users\\lenovo\\Desktop\\sci\\data\\ecg\\ptb_xl\\ptb_xl_npz\\ecg_21583.npz: integer division or modulo by zero\n"
     ]
    },
    {
     "name": "stderr",
     "output_type": "stream",
     "text": [
      "Processing patients:  59%|█████▉    | 11107/18868 [1:15:33<44:14,  2.92it/s]"
     ]
    },
    {
     "name": "stdout",
     "output_type": "stream",
     "text": [
      "Error processing C:\\Users\\lenovo\\Desktop\\sci\\data\\ecg\\ptb_xl\\ptb_xl_npz\\ecg_21595.npz: cannot convert float NaN to integer\n"
     ]
    },
    {
     "name": "stderr",
     "output_type": "stream",
     "text": [
      "Processing patients:  59%|█████▉    | 11119/18868 [1:15:38<50:45,  2.54it/s]  "
     ]
    },
    {
     "name": "stdout",
     "output_type": "stream",
     "text": [
      "Error processing C:\\Users\\lenovo\\Desktop\\sci\\data\\ecg\\ptb_xl\\ptb_xl_npz\\ecg_21606.npz: cannot convert float NaN to integer\n"
     ]
    },
    {
     "name": "stderr",
     "output_type": "stream",
     "text": [
      "Processing patients:  59%|█████▉    | 11126/18868 [1:15:41<55:37,  2.32it/s]"
     ]
    },
    {
     "name": "stdout",
     "output_type": "stream",
     "text": [
      "Error processing C:\\Users\\lenovo\\Desktop\\sci\\data\\ecg\\ptb_xl\\ptb_xl_npz\\ecg_21616.npz: cannot convert float NaN to integer\n"
     ]
    },
    {
     "name": "stderr",
     "output_type": "stream",
     "text": [
      "Processing patients:  59%|█████▉    | 11151/18868 [1:15:51<42:39,  3.01it/s]"
     ]
    },
    {
     "name": "stdout",
     "output_type": "stream",
     "text": [
      "Error processing C:\\Users\\lenovo\\Desktop\\sci\\data\\ecg\\ptb_xl\\ptb_xl_npz\\ecg_21641.npz: cannot convert float NaN to integer\n"
     ]
    },
    {
     "name": "stderr",
     "output_type": "stream",
     "text": [
      "Processing patients:  59%|█████▉    | 11172/18868 [1:15:59<43:06,  2.98it/s]"
     ]
    },
    {
     "name": "stdout",
     "output_type": "stream",
     "text": [
      "Error processing C:\\Users\\lenovo\\Desktop\\sci\\data\\ecg\\ptb_xl\\ptb_xl_npz\\ecg_21665.npz: integer division or modulo by zero\n"
     ]
    },
    {
     "name": "stderr",
     "output_type": "stream",
     "text": [
      "Processing patients:  59%|█████▉    | 11176/18868 [1:16:00<36:35,  3.50it/s]"
     ]
    },
    {
     "name": "stdout",
     "output_type": "stream",
     "text": [
      "Error processing C:\\Users\\lenovo\\Desktop\\sci\\data\\ecg\\ptb_xl\\ptb_xl_npz\\ecg_21669.npz: cannot convert float NaN to integer\n"
     ]
    },
    {
     "name": "stderr",
     "output_type": "stream",
     "text": [
      "Processing patients:  59%|█████▉    | 11209/18868 [1:16:13<41:44,  3.06it/s]"
     ]
    },
    {
     "name": "stdout",
     "output_type": "stream",
     "text": [
      "Error processing C:\\Users\\lenovo\\Desktop\\sci\\data\\ecg\\ptb_xl\\ptb_xl_npz\\ecg_21704.npz: integer division or modulo by zero\n"
     ]
    },
    {
     "name": "stderr",
     "output_type": "stream",
     "text": [
      "Processing patients:  59%|█████▉    | 11222/18868 [1:16:18<41:09,  3.10it/s]"
     ]
    },
    {
     "name": "stdout",
     "output_type": "stream",
     "text": [
      "Error processing C:\\Users\\lenovo\\Desktop\\sci\\data\\ecg\\ptb_xl\\ptb_xl_npz\\ecg_21718.npz: integer division or modulo by zero\n"
     ]
    },
    {
     "name": "stderr",
     "output_type": "stream",
     "text": [
      "Processing patients:  60%|█████▉    | 11267/18868 [1:16:35<42:35,  2.97it/s]"
     ]
    },
    {
     "name": "stdout",
     "output_type": "stream",
     "text": [
      "Error processing C:\\Users\\lenovo\\Desktop\\sci\\data\\ecg\\ptb_xl\\ptb_xl_npz\\ecg_21765.npz: cannot convert float NaN to integer\n"
     ]
    },
    {
     "name": "stderr",
     "output_type": "stream",
     "text": [
      "Processing patients:  60%|█████▉    | 11280/18868 [1:16:40<45:49,  2.76it/s]"
     ]
    },
    {
     "name": "stdout",
     "output_type": "stream",
     "text": [
      "Error processing C:\\Users\\lenovo\\Desktop\\sci\\data\\ecg\\ptb_xl\\ptb_xl_npz\\ecg_2178.npz: cannot convert float NaN to integer\n"
     ]
    },
    {
     "name": "stderr",
     "output_type": "stream",
     "text": [
      "Processing patients:  60%|█████▉    | 11291/18868 [1:16:44<42:05,  3.00it/s]"
     ]
    },
    {
     "name": "stdout",
     "output_type": "stream",
     "text": [
      "Error processing C:\\Users\\lenovo\\Desktop\\sci\\data\\ecg\\ptb_xl\\ptb_xl_npz\\ecg_21790.npz: cannot convert float NaN to integer\n"
     ]
    },
    {
     "name": "stderr",
     "output_type": "stream",
     "text": [
      "Processing patients:  60%|█████▉    | 11299/18868 [1:16:47<38:44,  3.26it/s]"
     ]
    },
    {
     "name": "stdout",
     "output_type": "stream",
     "text": [
      "Error processing C:\\Users\\lenovo\\Desktop\\sci\\data\\ecg\\ptb_xl\\ptb_xl_npz\\ecg_2180.npz: cannot convert float NaN to integer\n"
     ]
    },
    {
     "name": "stderr",
     "output_type": "stream",
     "text": [
      "Processing patients:  60%|█████▉    | 11309/18868 [1:16:51<47:07,  2.67it/s]"
     ]
    },
    {
     "name": "stdout",
     "output_type": "stream",
     "text": [
      "Error processing C:\\Users\\lenovo\\Desktop\\sci\\data\\ecg\\ptb_xl\\ptb_xl_npz\\ecg_2191.npz: cannot convert float NaN to integer\n"
     ]
    },
    {
     "name": "stderr",
     "output_type": "stream",
     "text": [
      "Processing patients:  60%|██████    | 11325/18868 [1:16:57<46:36,  2.70it/s]"
     ]
    },
    {
     "name": "stdout",
     "output_type": "stream",
     "text": [
      "Error processing C:\\Users\\lenovo\\Desktop\\sci\\data\\ecg\\ptb_xl\\ptb_xl_npz\\ecg_2207.npz: cannot convert float NaN to integer\n"
     ]
    },
    {
     "name": "stderr",
     "output_type": "stream",
     "text": [
      "Processing patients:  60%|██████    | 11345/18868 [1:17:06<50:51,  2.47it/s]"
     ]
    },
    {
     "name": "stdout",
     "output_type": "stream",
     "text": [
      "Error processing C:\\Users\\lenovo\\Desktop\\sci\\data\\ecg\\ptb_xl\\ptb_xl_npz\\ecg_2232.npz: cannot convert float NaN to integer\n"
     ]
    },
    {
     "name": "stderr",
     "output_type": "stream",
     "text": [
      "Processing patients:  60%|██████    | 11388/18868 [1:17:24<49:53,  2.50it/s]"
     ]
    },
    {
     "name": "stdout",
     "output_type": "stream",
     "text": [
      "Error processing C:\\Users\\lenovo\\Desktop\\sci\\data\\ecg\\ptb_xl\\ptb_xl_npz\\ecg_2281.npz: cannot convert float NaN to integer\n"
     ]
    },
    {
     "name": "stderr",
     "output_type": "stream",
     "text": [
      "Processing patients:  61%|██████    | 11434/18868 [1:17:42<46:03,  2.69it/s]"
     ]
    },
    {
     "name": "stdout",
     "output_type": "stream",
     "text": [
      "Error processing C:\\Users\\lenovo\\Desktop\\sci\\data\\ecg\\ptb_xl\\ptb_xl_npz\\ecg_2330.npz: integer division or modulo by zero\n"
     ]
    },
    {
     "name": "stderr",
     "output_type": "stream",
     "text": [
      "Processing patients:  61%|██████    | 11452/18868 [1:17:49<45:37,  2.71it/s]"
     ]
    },
    {
     "name": "stdout",
     "output_type": "stream",
     "text": [
      "Error processing C:\\Users\\lenovo\\Desktop\\sci\\data\\ecg\\ptb_xl\\ptb_xl_npz\\ecg_2349.npz: cannot convert float NaN to integer\n"
     ]
    },
    {
     "name": "stderr",
     "output_type": "stream",
     "text": [
      "Processing patients:  61%|██████    | 11523/18868 [1:18:17<44:33,  2.75it/s]"
     ]
    },
    {
     "name": "stdout",
     "output_type": "stream",
     "text": [
      "Error processing C:\\Users\\lenovo\\Desktop\\sci\\data\\ecg\\ptb_xl\\ptb_xl_npz\\ecg_2425.npz: cannot convert float NaN to integer\n"
     ]
    },
    {
     "name": "stderr",
     "output_type": "stream",
     "text": [
      "Processing patients:  61%|██████▏   | 11564/18868 [1:18:33<38:25,  3.17it/s]"
     ]
    },
    {
     "name": "stdout",
     "output_type": "stream",
     "text": [
      "Error processing C:\\Users\\lenovo\\Desktop\\sci\\data\\ecg\\ptb_xl\\ptb_xl_npz\\ecg_2471.npz: cannot convert float NaN to integer\n"
     ]
    },
    {
     "name": "stderr",
     "output_type": "stream",
     "text": [
      "Processing patients:  61%|██████▏   | 11595/18868 [1:18:46<41:17,  2.94it/s]"
     ]
    },
    {
     "name": "stdout",
     "output_type": "stream",
     "text": [
      "Error processing C:\\Users\\lenovo\\Desktop\\sci\\data\\ecg\\ptb_xl\\ptb_xl_npz\\ecg_2504.npz: cannot convert float NaN to integer\n"
     ]
    },
    {
     "name": "stderr",
     "output_type": "stream",
     "text": [
      "Processing patients:  62%|██████▏   | 11623/18868 [1:18:57<44:20,  2.72it/s]"
     ]
    },
    {
     "name": "stdout",
     "output_type": "stream",
     "text": [
      "Error processing C:\\Users\\lenovo\\Desktop\\sci\\data\\ecg\\ptb_xl\\ptb_xl_npz\\ecg_2538.npz: cannot convert float NaN to integer\n"
     ]
    },
    {
     "name": "stderr",
     "output_type": "stream",
     "text": [
      "Processing patients:  62%|██████▏   | 11695/18868 [1:19:26<47:38,  2.51it/s]"
     ]
    },
    {
     "name": "stdout",
     "output_type": "stream",
     "text": [
      "Error processing C:\\Users\\lenovo\\Desktop\\sci\\data\\ecg\\ptb_xl\\ptb_xl_npz\\ecg_2619.npz: cannot convert float NaN to integer\n"
     ]
    },
    {
     "name": "stderr",
     "output_type": "stream",
     "text": [
      "Processing patients:  62%|██████▏   | 11715/18868 [1:19:35<43:38,  2.73it/s]"
     ]
    },
    {
     "name": "stdout",
     "output_type": "stream",
     "text": [
      "Error processing C:\\Users\\lenovo\\Desktop\\sci\\data\\ecg\\ptb_xl\\ptb_xl_npz\\ecg_2642.npz: cannot convert float NaN to integer\n"
     ]
    },
    {
     "name": "stderr",
     "output_type": "stream",
     "text": [
      "Processing patients:  62%|██████▏   | 11741/18868 [1:19:46<45:46,  2.59it/s]"
     ]
    },
    {
     "name": "stdout",
     "output_type": "stream",
     "text": [
      "Error processing C:\\Users\\lenovo\\Desktop\\sci\\data\\ecg\\ptb_xl\\ptb_xl_npz\\ecg_2671.npz: cannot convert float NaN to integer\n"
     ]
    },
    {
     "name": "stderr",
     "output_type": "stream",
     "text": [
      "Processing patients:  63%|██████▎   | 11810/18868 [1:20:15<50:52,  2.31it/s]"
     ]
    },
    {
     "name": "stdout",
     "output_type": "stream",
     "text": [
      "Error processing C:\\Users\\lenovo\\Desktop\\sci\\data\\ecg\\ptb_xl\\ptb_xl_npz\\ecg_2751.npz: cannot convert float NaN to integer\n"
     ]
    },
    {
     "name": "stderr",
     "output_type": "stream",
     "text": [
      "Processing patients:  63%|██████▎   | 11859/18868 [1:20:35<41:31,  2.81it/s]"
     ]
    },
    {
     "name": "stdout",
     "output_type": "stream",
     "text": [
      "Error processing C:\\Users\\lenovo\\Desktop\\sci\\data\\ecg\\ptb_xl\\ptb_xl_npz\\ecg_2804.npz: cannot convert float NaN to integer\n"
     ]
    },
    {
     "name": "stderr",
     "output_type": "stream",
     "text": [
      "Processing patients:  63%|██████▎   | 11901/18868 [1:20:52<43:13,  2.69it/s]"
     ]
    },
    {
     "name": "stdout",
     "output_type": "stream",
     "text": [
      "Error processing C:\\Users\\lenovo\\Desktop\\sci\\data\\ecg\\ptb_xl\\ptb_xl_npz\\ecg_2851.npz: integer division or modulo by zero\n"
     ]
    },
    {
     "name": "stderr",
     "output_type": "stream",
     "text": [
      "Processing patients:  63%|██████▎   | 11979/18868 [1:21:24<43:33,  2.64it/s]"
     ]
    },
    {
     "name": "stdout",
     "output_type": "stream",
     "text": [
      "Error processing C:\\Users\\lenovo\\Desktop\\sci\\data\\ecg\\ptb_xl\\ptb_xl_npz\\ecg_2937.npz: cannot convert float NaN to integer\n"
     ]
    },
    {
     "name": "stderr",
     "output_type": "stream",
     "text": [
      "Processing patients:  64%|██████▍   | 12095/18868 [1:22:11<35:04,  3.22it/s]"
     ]
    },
    {
     "name": "stdout",
     "output_type": "stream",
     "text": [
      "Error processing C:\\Users\\lenovo\\Desktop\\sci\\data\\ecg\\ptb_xl\\ptb_xl_npz\\ecg_3064.npz: cannot convert float NaN to integer\n"
     ]
    },
    {
     "name": "stderr",
     "output_type": "stream",
     "text": [
      "Processing patients:  64%|██████▍   | 12124/18868 [1:22:23<38:18,  2.93it/s]"
     ]
    },
    {
     "name": "stdout",
     "output_type": "stream",
     "text": [
      "Error processing C:\\Users\\lenovo\\Desktop\\sci\\data\\ecg\\ptb_xl\\ptb_xl_npz\\ecg_3091.npz: cannot convert float NaN to integer\n"
     ]
    },
    {
     "name": "stderr",
     "output_type": "stream",
     "text": [
      "Processing patients:  64%|██████▍   | 12132/18868 [1:22:26<44:42,  2.51it/s]"
     ]
    },
    {
     "name": "stdout",
     "output_type": "stream",
     "text": [
      "Error processing C:\\Users\\lenovo\\Desktop\\sci\\data\\ecg\\ptb_xl\\ptb_xl_npz\\ecg_3101.npz: cannot convert float NaN to integer\n"
     ]
    },
    {
     "name": "stderr",
     "output_type": "stream",
     "text": [
      "Processing patients:  64%|██████▍   | 12136/18868 [1:22:27<35:19,  3.18it/s]"
     ]
    },
    {
     "name": "stdout",
     "output_type": "stream",
     "text": [
      "Error processing C:\\Users\\lenovo\\Desktop\\sci\\data\\ecg\\ptb_xl\\ptb_xl_npz\\ecg_3104.npz: cannot convert float NaN to integer\n"
     ]
    },
    {
     "name": "stderr",
     "output_type": "stream",
     "text": [
      "Processing patients:  64%|██████▍   | 12146/18868 [1:22:31<42:50,  2.62it/s]"
     ]
    },
    {
     "name": "stdout",
     "output_type": "stream",
     "text": [
      "Error processing C:\\Users\\lenovo\\Desktop\\sci\\data\\ecg\\ptb_xl\\ptb_xl_npz\\ecg_3120.npz: cannot convert float NaN to integer\n"
     ]
    },
    {
     "name": "stderr",
     "output_type": "stream",
     "text": [
      "Processing patients:  65%|██████▍   | 12184/18868 [1:22:46<45:44,  2.44it/s]"
     ]
    },
    {
     "name": "stdout",
     "output_type": "stream",
     "text": [
      "Error processing C:\\Users\\lenovo\\Desktop\\sci\\data\\ecg\\ptb_xl\\ptb_xl_npz\\ecg_3157.npz: cannot convert float NaN to integer\n"
     ]
    },
    {
     "name": "stderr",
     "output_type": "stream",
     "text": [
      "Processing patients:  66%|██████▌   | 12462/18868 [1:24:45<34:13,  3.12it/s]  "
     ]
    },
    {
     "name": "stdout",
     "output_type": "stream",
     "text": [
      "Error processing C:\\Users\\lenovo\\Desktop\\sci\\data\\ecg\\ptb_xl\\ptb_xl_npz\\ecg_3433.npz: cannot convert float NaN to integer\n"
     ]
    },
    {
     "name": "stderr",
     "output_type": "stream",
     "text": [
      "Processing patients:  66%|██████▌   | 12489/18868 [1:24:55<29:08,  3.65it/s]"
     ]
    },
    {
     "name": "stdout",
     "output_type": "stream",
     "text": [
      "Error processing C:\\Users\\lenovo\\Desktop\\sci\\data\\ecg\\ptb_xl\\ptb_xl_npz\\ecg_346.npz: cannot convert float NaN to integer\n",
      "Error processing C:\\Users\\lenovo\\Desktop\\sci\\data\\ecg\\ptb_xl\\ptb_xl_npz\\ecg_3460.npz: cannot convert float NaN to integer\n"
     ]
    },
    {
     "name": "stderr",
     "output_type": "stream",
     "text": [
      "Processing patients:  66%|██████▋   | 12512/18868 [1:25:05<37:17,  2.84it/s]"
     ]
    },
    {
     "name": "stdout",
     "output_type": "stream",
     "text": [
      "Error processing C:\\Users\\lenovo\\Desktop\\sci\\data\\ecg\\ptb_xl\\ptb_xl_npz\\ecg_3488.npz: cannot convert float NaN to integer\n",
      "Error processing C:\\Users\\lenovo\\Desktop\\sci\\data\\ecg\\ptb_xl\\ptb_xl_npz\\ecg_3489.npz: cannot convert float NaN to integer\n"
     ]
    },
    {
     "name": "stderr",
     "output_type": "stream",
     "text": [
      "Processing patients:  67%|██████▋   | 12572/18868 [1:25:34<41:58,  2.50it/s]"
     ]
    },
    {
     "name": "stdout",
     "output_type": "stream",
     "text": [
      "Error processing C:\\Users\\lenovo\\Desktop\\sci\\data\\ecg\\ptb_xl\\ptb_xl_npz\\ecg_3546.npz: cannot convert float NaN to integer\n"
     ]
    },
    {
     "name": "stderr",
     "output_type": "stream",
     "text": [
      "Processing patients:  67%|██████▋   | 12604/18868 [1:25:48<43:27,  2.40it/s]"
     ]
    },
    {
     "name": "stdout",
     "output_type": "stream",
     "text": [
      "Error processing C:\\Users\\lenovo\\Desktop\\sci\\data\\ecg\\ptb_xl\\ptb_xl_npz\\ecg_358.npz: cannot convert float NaN to integer\n"
     ]
    },
    {
     "name": "stderr",
     "output_type": "stream",
     "text": [
      "Processing patients:  67%|██████▋   | 12622/18868 [1:25:55<39:54,  2.61it/s]"
     ]
    },
    {
     "name": "stdout",
     "output_type": "stream",
     "text": [
      "Error processing C:\\Users\\lenovo\\Desktop\\sci\\data\\ecg\\ptb_xl\\ptb_xl_npz\\ecg_3596.npz: integer division or modulo by zero\n"
     ]
    },
    {
     "name": "stderr",
     "output_type": "stream",
     "text": [
      "Processing patients:  67%|██████▋   | 12727/18868 [1:26:39<37:08,  2.76it/s]"
     ]
    },
    {
     "name": "stdout",
     "output_type": "stream",
     "text": [
      "Error processing C:\\Users\\lenovo\\Desktop\\sci\\data\\ecg\\ptb_xl\\ptb_xl_npz\\ecg_3700.npz: cannot convert float NaN to integer\n"
     ]
    },
    {
     "name": "stderr",
     "output_type": "stream",
     "text": [
      "Processing patients:  68%|██████▊   | 12743/18868 [1:26:46<38:59,  2.62it/s]"
     ]
    },
    {
     "name": "stdout",
     "output_type": "stream",
     "text": [
      "Error processing C:\\Users\\lenovo\\Desktop\\sci\\data\\ecg\\ptb_xl\\ptb_xl_npz\\ecg_3716.npz: cannot convert float NaN to integer\n"
     ]
    },
    {
     "name": "stderr",
     "output_type": "stream",
     "text": [
      "Processing patients:  68%|██████▊   | 12790/18868 [1:27:05<34:49,  2.91it/s]"
     ]
    },
    {
     "name": "stdout",
     "output_type": "stream",
     "text": [
      "Error processing C:\\Users\\lenovo\\Desktop\\sci\\data\\ecg\\ptb_xl\\ptb_xl_npz\\ecg_3763.npz: cannot convert float NaN to integer\n"
     ]
    },
    {
     "name": "stderr",
     "output_type": "stream",
     "text": [
      "Processing patients:  68%|██████▊   | 12802/18868 [1:27:10<41:12,  2.45it/s]"
     ]
    },
    {
     "name": "stdout",
     "output_type": "stream",
     "text": [
      "Error processing C:\\Users\\lenovo\\Desktop\\sci\\data\\ecg\\ptb_xl\\ptb_xl_npz\\ecg_3777.npz: cannot convert float NaN to integer\n"
     ]
    },
    {
     "name": "stderr",
     "output_type": "stream",
     "text": [
      "Processing patients:  68%|██████▊   | 12818/18868 [1:27:16<36:48,  2.74it/s]"
     ]
    },
    {
     "name": "stdout",
     "output_type": "stream",
     "text": [
      "Error processing C:\\Users\\lenovo\\Desktop\\sci\\data\\ecg\\ptb_xl\\ptb_xl_npz\\ecg_3792.npz: cannot convert float NaN to integer\n"
     ]
    },
    {
     "name": "stderr",
     "output_type": "stream",
     "text": [
      "Processing patients:  68%|██████▊   | 12824/18868 [1:27:19<38:20,  2.63it/s]"
     ]
    },
    {
     "name": "stdout",
     "output_type": "stream",
     "text": [
      "Error processing C:\\Users\\lenovo\\Desktop\\sci\\data\\ecg\\ptb_xl\\ptb_xl_npz\\ecg_3798.npz: cannot convert float NaN to integer\n"
     ]
    },
    {
     "name": "stderr",
     "output_type": "stream",
     "text": [
      "Processing patients:  68%|██████▊   | 12851/18868 [1:27:31<34:36,  2.90it/s]"
     ]
    },
    {
     "name": "stdout",
     "output_type": "stream",
     "text": [
      "Error processing C:\\Users\\lenovo\\Desktop\\sci\\data\\ecg\\ptb_xl\\ptb_xl_npz\\ecg_3824.npz: cannot convert float NaN to integer\n"
     ]
    },
    {
     "name": "stderr",
     "output_type": "stream",
     "text": [
      "Processing patients:  69%|██████▊   | 12963/18868 [1:28:18<33:31,  2.94it/s]"
     ]
    },
    {
     "name": "stdout",
     "output_type": "stream",
     "text": [
      "Error processing C:\\Users\\lenovo\\Desktop\\sci\\data\\ecg\\ptb_xl\\ptb_xl_npz\\ecg_3942.npz: integer division or modulo by zero\n"
     ]
    },
    {
     "name": "stderr",
     "output_type": "stream",
     "text": [
      "Processing patients:  69%|██████▉   | 12989/18868 [1:28:29<34:48,  2.82it/s]"
     ]
    },
    {
     "name": "stdout",
     "output_type": "stream",
     "text": [
      "Error processing C:\\Users\\lenovo\\Desktop\\sci\\data\\ecg\\ptb_xl\\ptb_xl_npz\\ecg_3968.npz: cannot convert float NaN to integer\n"
     ]
    },
    {
     "name": "stderr",
     "output_type": "stream",
     "text": [
      "Processing patients:  69%|██████▉   | 13037/18868 [1:28:49<34:17,  2.83it/s]"
     ]
    },
    {
     "name": "stdout",
     "output_type": "stream",
     "text": [
      "Error processing C:\\Users\\lenovo\\Desktop\\sci\\data\\ecg\\ptb_xl\\ptb_xl_npz\\ecg_4015.npz: cannot convert float NaN to integer\n"
     ]
    },
    {
     "name": "stderr",
     "output_type": "stream",
     "text": [
      "Processing patients:  69%|██████▉   | 13112/18868 [1:29:20<34:01,  2.82it/s]"
     ]
    },
    {
     "name": "stdout",
     "output_type": "stream",
     "text": [
      "Error processing C:\\Users\\lenovo\\Desktop\\sci\\data\\ecg\\ptb_xl\\ptb_xl_npz\\ecg_4094.npz: cannot convert float NaN to integer\n"
     ]
    },
    {
     "name": "stderr",
     "output_type": "stream",
     "text": [
      "Processing patients:  70%|██████▉   | 13114/18868 [1:29:20<28:47,  3.33it/s]"
     ]
    },
    {
     "name": "stdout",
     "output_type": "stream",
     "text": [
      "Error processing C:\\Users\\lenovo\\Desktop\\sci\\data\\ecg\\ptb_xl\\ptb_xl_npz\\ecg_4096.npz: integer division or modulo by zero\n"
     ]
    },
    {
     "name": "stderr",
     "output_type": "stream",
     "text": [
      "Processing patients:  70%|██████▉   | 13146/18868 [1:29:34<35:37,  2.68it/s]"
     ]
    },
    {
     "name": "stdout",
     "output_type": "stream",
     "text": [
      "Error processing C:\\Users\\lenovo\\Desktop\\sci\\data\\ecg\\ptb_xl\\ptb_xl_npz\\ecg_4126.npz: cannot convert float NaN to integer\n"
     ]
    },
    {
     "name": "stderr",
     "output_type": "stream",
     "text": [
      "Processing patients:  70%|███████   | 13232/18868 [1:30:10<30:53,  3.04it/s]"
     ]
    },
    {
     "name": "stdout",
     "output_type": "stream",
     "text": [
      "Error processing C:\\Users\\lenovo\\Desktop\\sci\\data\\ecg\\ptb_xl\\ptb_xl_npz\\ecg_4214.npz: cannot convert float NaN to integer\n"
     ]
    },
    {
     "name": "stderr",
     "output_type": "stream",
     "text": [
      "Processing patients:  71%|███████   | 13309/18868 [1:30:41<36:31,  2.54it/s]"
     ]
    },
    {
     "name": "stdout",
     "output_type": "stream",
     "text": [
      "Error processing C:\\Users\\lenovo\\Desktop\\sci\\data\\ecg\\ptb_xl\\ptb_xl_npz\\ecg_4295.npz: cannot convert float NaN to integer\n"
     ]
    },
    {
     "name": "stderr",
     "output_type": "stream",
     "text": [
      "Processing patients:  71%|███████   | 13317/18868 [1:30:44<31:43,  2.92it/s]"
     ]
    },
    {
     "name": "stdout",
     "output_type": "stream",
     "text": [
      "Error processing C:\\Users\\lenovo\\Desktop\\sci\\data\\ecg\\ptb_xl\\ptb_xl_npz\\ecg_4302.npz: cannot convert float NaN to integer\n"
     ]
    },
    {
     "name": "stderr",
     "output_type": "stream",
     "text": [
      "Processing patients:  71%|███████   | 13379/18868 [1:31:10<30:01,  3.05it/s]"
     ]
    },
    {
     "name": "stdout",
     "output_type": "stream",
     "text": [
      "Error processing C:\\Users\\lenovo\\Desktop\\sci\\data\\ecg\\ptb_xl\\ptb_xl_npz\\ecg_4362.npz: cannot convert float NaN to integer\n"
     ]
    },
    {
     "name": "stderr",
     "output_type": "stream",
     "text": [
      "Processing patients:  71%|███████   | 13396/18868 [1:31:17<39:50,  2.29it/s]"
     ]
    },
    {
     "name": "stdout",
     "output_type": "stream",
     "text": [
      "Error processing C:\\Users\\lenovo\\Desktop\\sci\\data\\ecg\\ptb_xl\\ptb_xl_npz\\ecg_4380.npz: cannot convert float NaN to integer\n"
     ]
    },
    {
     "name": "stderr",
     "output_type": "stream",
     "text": [
      "Processing patients:  71%|███████   | 13402/18868 [1:31:19<32:31,  2.80it/s]"
     ]
    },
    {
     "name": "stdout",
     "output_type": "stream",
     "text": [
      "Error processing C:\\Users\\lenovo\\Desktop\\sci\\data\\ecg\\ptb_xl\\ptb_xl_npz\\ecg_4385.npz: integer division or modulo by zero\n"
     ]
    },
    {
     "name": "stderr",
     "output_type": "stream",
     "text": [
      "Processing patients:  71%|███████   | 13414/18868 [1:31:24<37:24,  2.43it/s]"
     ]
    },
    {
     "name": "stdout",
     "output_type": "stream",
     "text": [
      "Error processing C:\\Users\\lenovo\\Desktop\\sci\\data\\ecg\\ptb_xl\\ptb_xl_npz\\ecg_4397.npz: integer division or modulo by zero\n"
     ]
    },
    {
     "name": "stderr",
     "output_type": "stream",
     "text": [
      "Processing patients:  71%|███████   | 13441/18868 [1:31:35<32:11,  2.81it/s]"
     ]
    },
    {
     "name": "stdout",
     "output_type": "stream",
     "text": [
      "Error processing C:\\Users\\lenovo\\Desktop\\sci\\data\\ecg\\ptb_xl\\ptb_xl_npz\\ecg_4422.npz: cannot convert float NaN to integer\n"
     ]
    },
    {
     "name": "stderr",
     "output_type": "stream",
     "text": [
      "Processing patients:  72%|███████▏  | 13535/18868 [1:32:13<28:22,  3.13it/s]"
     ]
    },
    {
     "name": "stdout",
     "output_type": "stream",
     "text": [
      "Error processing C:\\Users\\lenovo\\Desktop\\sci\\data\\ecg\\ptb_xl\\ptb_xl_npz\\ecg_452.npz: integer division or modulo by zero\n"
     ]
    },
    {
     "name": "stderr",
     "output_type": "stream",
     "text": [
      "Processing patients:  72%|███████▏  | 13589/18868 [1:32:35<31:18,  2.81it/s]"
     ]
    },
    {
     "name": "stdout",
     "output_type": "stream",
     "text": [
      "Error processing C:\\Users\\lenovo\\Desktop\\sci\\data\\ecg\\ptb_xl\\ptb_xl_npz\\ecg_4572.npz: cannot convert float NaN to integer\n"
     ]
    },
    {
     "name": "stderr",
     "output_type": "stream",
     "text": [
      "Processing patients:  72%|███████▏  | 13619/18868 [1:32:47<33:50,  2.59it/s]"
     ]
    },
    {
     "name": "stdout",
     "output_type": "stream",
     "text": [
      "Error processing C:\\Users\\lenovo\\Desktop\\sci\\data\\ecg\\ptb_xl\\ptb_xl_npz\\ecg_4604.npz: integer division or modulo by zero\n"
     ]
    },
    {
     "name": "stderr",
     "output_type": "stream",
     "text": [
      "Processing patients:  72%|███████▏  | 13631/18868 [1:32:51<28:29,  3.06it/s]"
     ]
    },
    {
     "name": "stdout",
     "output_type": "stream",
     "text": [
      "Error processing C:\\Users\\lenovo\\Desktop\\sci\\data\\ecg\\ptb_xl\\ptb_xl_npz\\ecg_4616.npz: cannot convert float NaN to integer\n"
     ]
    },
    {
     "name": "stderr",
     "output_type": "stream",
     "text": [
      "Processing patients:  72%|███████▏  | 13640/18868 [1:32:55<35:05,  2.48it/s]"
     ]
    },
    {
     "name": "stdout",
     "output_type": "stream",
     "text": [
      "Error processing C:\\Users\\lenovo\\Desktop\\sci\\data\\ecg\\ptb_xl\\ptb_xl_npz\\ecg_4626.npz: cannot convert float NaN to integer\n"
     ]
    },
    {
     "name": "stderr",
     "output_type": "stream",
     "text": [
      "Processing patients:  72%|███████▏  | 13661/18868 [1:33:02<29:19,  2.96it/s]"
     ]
    },
    {
     "name": "stdout",
     "output_type": "stream",
     "text": [
      "Error processing C:\\Users\\lenovo\\Desktop\\sci\\data\\ecg\\ptb_xl\\ptb_xl_npz\\ecg_465.npz: integer division or modulo by zero\n"
     ]
    },
    {
     "name": "stderr",
     "output_type": "stream",
     "text": [
      "Processing patients:  72%|███████▏  | 13671/18868 [1:33:06<29:36,  2.93it/s]"
     ]
    },
    {
     "name": "stdout",
     "output_type": "stream",
     "text": [
      "Error processing C:\\Users\\lenovo\\Desktop\\sci\\data\\ecg\\ptb_xl\\ptb_xl_npz\\ecg_4659.npz: integer division or modulo by zero\n"
     ]
    },
    {
     "name": "stderr",
     "output_type": "stream",
     "text": [
      "Processing patients:  73%|███████▎  | 13735/18868 [1:33:32<28:18,  3.02it/s]"
     ]
    },
    {
     "name": "stdout",
     "output_type": "stream",
     "text": [
      "Error processing C:\\Users\\lenovo\\Desktop\\sci\\data\\ecg\\ptb_xl\\ptb_xl_npz\\ecg_4725.npz: cannot convert float NaN to integer\n"
     ]
    },
    {
     "name": "stderr",
     "output_type": "stream",
     "text": [
      "Processing patients:  73%|███████▎  | 13745/18868 [1:33:36<29:36,  2.88it/s]"
     ]
    },
    {
     "name": "stdout",
     "output_type": "stream",
     "text": [
      "Error processing C:\\Users\\lenovo\\Desktop\\sci\\data\\ecg\\ptb_xl\\ptb_xl_npz\\ecg_4735.npz: cannot convert float NaN to integer\n"
     ]
    },
    {
     "name": "stderr",
     "output_type": "stream",
     "text": [
      "Processing patients:  73%|███████▎  | 13771/18868 [1:33:46<26:51,  3.16it/s]"
     ]
    },
    {
     "name": "stdout",
     "output_type": "stream",
     "text": [
      "Error processing C:\\Users\\lenovo\\Desktop\\sci\\data\\ecg\\ptb_xl\\ptb_xl_npz\\ecg_4762.npz: cannot convert float NaN to integer\n"
     ]
    },
    {
     "name": "stderr",
     "output_type": "stream",
     "text": [
      "Processing patients:  73%|███████▎  | 13801/18868 [1:33:58<28:01,  3.01it/s]"
     ]
    },
    {
     "name": "stdout",
     "output_type": "stream",
     "text": [
      "Error processing C:\\Users\\lenovo\\Desktop\\sci\\data\\ecg\\ptb_xl\\ptb_xl_npz\\ecg_4793.npz: cannot convert float NaN to integer\n"
     ]
    },
    {
     "name": "stderr",
     "output_type": "stream",
     "text": [
      "Processing patients:  73%|███████▎  | 13845/18868 [1:34:16<28:07,  2.98it/s]"
     ]
    },
    {
     "name": "stdout",
     "output_type": "stream",
     "text": [
      "Error processing C:\\Users\\lenovo\\Desktop\\sci\\data\\ecg\\ptb_xl\\ptb_xl_npz\\ecg_4839.npz: cannot convert float NaN to integer\n"
     ]
    },
    {
     "name": "stderr",
     "output_type": "stream",
     "text": [
      "Processing patients:  74%|███████▎  | 13883/18868 [1:34:32<31:57,  2.60it/s]"
     ]
    },
    {
     "name": "stdout",
     "output_type": "stream",
     "text": [
      "Error processing C:\\Users\\lenovo\\Desktop\\sci\\data\\ecg\\ptb_xl\\ptb_xl_npz\\ecg_4876.npz: cannot convert float NaN to integer\n"
     ]
    },
    {
     "name": "stderr",
     "output_type": "stream",
     "text": [
      "Processing patients:  74%|███████▎  | 13899/18868 [1:34:39<39:04,  2.12it/s]"
     ]
    },
    {
     "name": "stdout",
     "output_type": "stream",
     "text": [
      "Error processing C:\\Users\\lenovo\\Desktop\\sci\\data\\ecg\\ptb_xl\\ptb_xl_npz\\ecg_4896.npz: cannot convert float NaN to integer\n"
     ]
    },
    {
     "name": "stderr",
     "output_type": "stream",
     "text": [
      "Processing patients:  74%|███████▍  | 13937/18868 [1:34:55<29:52,  2.75it/s]"
     ]
    },
    {
     "name": "stdout",
     "output_type": "stream",
     "text": [
      "Error processing C:\\Users\\lenovo\\Desktop\\sci\\data\\ecg\\ptb_xl\\ptb_xl_npz\\ecg_4931.npz: cannot convert float NaN to integer\n"
     ]
    },
    {
     "name": "stderr",
     "output_type": "stream",
     "text": [
      "Processing patients:  74%|███████▍  | 13967/18868 [1:35:09<37:08,  2.20it/s]"
     ]
    },
    {
     "name": "stdout",
     "output_type": "stream",
     "text": [
      "Error processing C:\\Users\\lenovo\\Desktop\\sci\\data\\ecg\\ptb_xl\\ptb_xl_npz\\ecg_4961.npz: cannot convert float NaN to integer\n"
     ]
    },
    {
     "name": "stderr",
     "output_type": "stream",
     "text": [
      "Processing patients:  75%|███████▍  | 14069/18868 [1:35:54<36:49,  2.17it/s]"
     ]
    },
    {
     "name": "stdout",
     "output_type": "stream",
     "text": [
      "Error processing C:\\Users\\lenovo\\Desktop\\sci\\data\\ecg\\ptb_xl\\ptb_xl_npz\\ecg_5067.npz: cannot convert float NaN to integer\n"
     ]
    },
    {
     "name": "stderr",
     "output_type": "stream",
     "text": [
      "Processing patients:  75%|███████▍  | 14074/18868 [1:35:56<33:54,  2.36it/s]"
     ]
    },
    {
     "name": "stdout",
     "output_type": "stream",
     "text": [
      "Error processing C:\\Users\\lenovo\\Desktop\\sci\\data\\ecg\\ptb_xl\\ptb_xl_npz\\ecg_5072.npz: integer division or modulo by zero\n"
     ]
    },
    {
     "name": "stderr",
     "output_type": "stream",
     "text": [
      "Processing patients:  75%|███████▍  | 14081/18868 [1:35:59<34:53,  2.29it/s]"
     ]
    },
    {
     "name": "stdout",
     "output_type": "stream",
     "text": [
      "Error processing C:\\Users\\lenovo\\Desktop\\sci\\data\\ecg\\ptb_xl\\ptb_xl_npz\\ecg_508.npz: integer division or modulo by zero\n"
     ]
    },
    {
     "name": "stderr",
     "output_type": "stream",
     "text": [
      "Processing patients:  75%|███████▍  | 14087/18868 [1:36:01<32:20,  2.46it/s]"
     ]
    },
    {
     "name": "stdout",
     "output_type": "stream",
     "text": [
      "Error processing C:\\Users\\lenovo\\Desktop\\sci\\data\\ecg\\ptb_xl\\ptb_xl_npz\\ecg_5084.npz: cannot convert float NaN to integer\n"
     ]
    },
    {
     "name": "stderr",
     "output_type": "stream",
     "text": [
      "Processing patients:  75%|███████▍  | 14102/18868 [1:36:08<34:14,  2.32it/s]"
     ]
    },
    {
     "name": "stdout",
     "output_type": "stream",
     "text": [
      "Error processing C:\\Users\\lenovo\\Desktop\\sci\\data\\ecg\\ptb_xl\\ptb_xl_npz\\ecg_510.npz: cannot convert float NaN to integer\n"
     ]
    },
    {
     "name": "stderr",
     "output_type": "stream",
     "text": [
      "Processing patients:  75%|███████▍  | 14147/18868 [1:36:27<30:05,  2.61it/s]"
     ]
    },
    {
     "name": "stdout",
     "output_type": "stream",
     "text": [
      "Error processing C:\\Users\\lenovo\\Desktop\\sci\\data\\ecg\\ptb_xl\\ptb_xl_npz\\ecg_5144.npz: cannot convert float NaN to integer\n"
     ]
    },
    {
     "name": "stderr",
     "output_type": "stream",
     "text": [
      "Processing patients:  75%|███████▌  | 14169/18868 [1:36:37<26:33,  2.95it/s]"
     ]
    },
    {
     "name": "stdout",
     "output_type": "stream",
     "text": [
      "Error processing C:\\Users\\lenovo\\Desktop\\sci\\data\\ecg\\ptb_xl\\ptb_xl_npz\\ecg_5167.npz: cannot convert float NaN to integer\n"
     ]
    },
    {
     "name": "stderr",
     "output_type": "stream",
     "text": [
      "Processing patients:  75%|███████▌  | 14205/18868 [1:36:52<26:02,  2.98it/s]"
     ]
    },
    {
     "name": "stdout",
     "output_type": "stream",
     "text": [
      "Error processing C:\\Users\\lenovo\\Desktop\\sci\\data\\ecg\\ptb_xl\\ptb_xl_npz\\ecg_5202.npz: cannot convert float NaN to integer\n"
     ]
    },
    {
     "name": "stderr",
     "output_type": "stream",
     "text": [
      "Processing patients:  76%|███████▌  | 14287/18868 [1:37:29<32:19,  2.36it/s]"
     ]
    },
    {
     "name": "stdout",
     "output_type": "stream",
     "text": [
      "Error processing C:\\Users\\lenovo\\Desktop\\sci\\data\\ecg\\ptb_xl\\ptb_xl_npz\\ecg_5289.npz: cannot convert float NaN to integer\n"
     ]
    },
    {
     "name": "stderr",
     "output_type": "stream",
     "text": [
      "Processing patients:  76%|███████▌  | 14301/18868 [1:37:35<31:18,  2.43it/s]"
     ]
    },
    {
     "name": "stdout",
     "output_type": "stream",
     "text": [
      "Error processing C:\\Users\\lenovo\\Desktop\\sci\\data\\ecg\\ptb_xl\\ptb_xl_npz\\ecg_5302.npz: integer division or modulo by zero\n"
     ]
    },
    {
     "name": "stderr",
     "output_type": "stream",
     "text": [
      "Processing patients:  76%|███████▌  | 14306/18868 [1:37:38<35:06,  2.17it/s]"
     ]
    },
    {
     "name": "stdout",
     "output_type": "stream",
     "text": [
      "Error processing C:\\Users\\lenovo\\Desktop\\sci\\data\\ecg\\ptb_xl\\ptb_xl_npz\\ecg_5309.npz: integer division or modulo by zero\n"
     ]
    },
    {
     "name": "stderr",
     "output_type": "stream",
     "text": [
      "Processing patients:  76%|███████▌  | 14376/18868 [1:38:08<34:10,  2.19it/s]"
     ]
    },
    {
     "name": "stdout",
     "output_type": "stream",
     "text": [
      "Error processing C:\\Users\\lenovo\\Desktop\\sci\\data\\ecg\\ptb_xl\\ptb_xl_npz\\ecg_5375.npz: cannot convert float NaN to integer\n"
     ]
    },
    {
     "name": "stderr",
     "output_type": "stream",
     "text": [
      "Processing patients:  76%|███████▋  | 14393/18868 [1:38:15<24:20,  3.06it/s]"
     ]
    },
    {
     "name": "stdout",
     "output_type": "stream",
     "text": [
      "Error processing C:\\Users\\lenovo\\Desktop\\sci\\data\\ecg\\ptb_xl\\ptb_xl_npz\\ecg_5390.npz: cannot convert float NaN to integer\n"
     ]
    },
    {
     "name": "stderr",
     "output_type": "stream",
     "text": [
      "Processing patients:  77%|███████▋  | 14477/18868 [1:38:56<36:45,  1.99it/s]"
     ]
    },
    {
     "name": "stdout",
     "output_type": "stream",
     "text": [
      "Error processing C:\\Users\\lenovo\\Desktop\\sci\\data\\ecg\\ptb_xl\\ptb_xl_npz\\ecg_5479.npz: cannot convert float NaN to integer\n"
     ]
    },
    {
     "name": "stderr",
     "output_type": "stream",
     "text": [
      "Processing patients:  77%|███████▋  | 14557/18868 [1:39:41<26:35,  2.70it/s]"
     ]
    },
    {
     "name": "stdout",
     "output_type": "stream",
     "text": [
      "Error processing C:\\Users\\lenovo\\Desktop\\sci\\data\\ecg\\ptb_xl\\ptb_xl_npz\\ecg_5563.npz: cannot convert float NaN to integer\n"
     ]
    },
    {
     "name": "stderr",
     "output_type": "stream",
     "text": [
      "Processing patients:  77%|███████▋  | 14561/18868 [1:39:42<26:05,  2.75it/s]"
     ]
    },
    {
     "name": "stdout",
     "output_type": "stream",
     "text": [
      "Error processing C:\\Users\\lenovo\\Desktop\\sci\\data\\ecg\\ptb_xl\\ptb_xl_npz\\ecg_5569.npz: cannot convert float NaN to integer\n"
     ]
    },
    {
     "name": "stderr",
     "output_type": "stream",
     "text": [
      "Processing patients:  77%|███████▋  | 14620/18868 [1:40:09<26:30,  2.67it/s]"
     ]
    },
    {
     "name": "stdout",
     "output_type": "stream",
     "text": [
      "Error processing C:\\Users\\lenovo\\Desktop\\sci\\data\\ecg\\ptb_xl\\ptb_xl_npz\\ecg_5626.npz: cannot convert float NaN to integer\n"
     ]
    },
    {
     "name": "stderr",
     "output_type": "stream",
     "text": [
      "Processing patients:  78%|███████▊  | 14631/18868 [1:40:14<25:08,  2.81it/s]"
     ]
    },
    {
     "name": "stdout",
     "output_type": "stream",
     "text": [
      "Error processing C:\\Users\\lenovo\\Desktop\\sci\\data\\ecg\\ptb_xl\\ptb_xl_npz\\ecg_5637.npz: cannot convert float NaN to integer\n"
     ]
    },
    {
     "name": "stderr",
     "output_type": "stream",
     "text": [
      "Processing patients:  78%|███████▊  | 14644/18868 [1:40:19<27:29,  2.56it/s]"
     ]
    },
    {
     "name": "stdout",
     "output_type": "stream",
     "text": [
      "Error processing C:\\Users\\lenovo\\Desktop\\sci\\data\\ecg\\ptb_xl\\ptb_xl_npz\\ecg_565.npz: integer division or modulo by zero\n"
     ]
    },
    {
     "name": "stderr",
     "output_type": "stream",
     "text": [
      "Processing patients:  78%|███████▊  | 14654/18868 [1:40:23<27:05,  2.59it/s]"
     ]
    },
    {
     "name": "stdout",
     "output_type": "stream",
     "text": [
      "Error processing C:\\Users\\lenovo\\Desktop\\sci\\data\\ecg\\ptb_xl\\ptb_xl_npz\\ecg_5659.npz: cannot convert float NaN to integer\n"
     ]
    },
    {
     "name": "stderr",
     "output_type": "stream",
     "text": [
      "Processing patients:  78%|███████▊  | 14660/18868 [1:40:25<26:56,  2.60it/s]"
     ]
    },
    {
     "name": "stdout",
     "output_type": "stream",
     "text": [
      "Error processing C:\\Users\\lenovo\\Desktop\\sci\\data\\ecg\\ptb_xl\\ptb_xl_npz\\ecg_5665.npz: cannot convert float NaN to integer\n"
     ]
    },
    {
     "name": "stderr",
     "output_type": "stream",
     "text": [
      "Processing patients:  78%|███████▊  | 14688/18868 [1:40:37<26:48,  2.60it/s]"
     ]
    },
    {
     "name": "stdout",
     "output_type": "stream",
     "text": [
      "Error processing C:\\Users\\lenovo\\Desktop\\sci\\data\\ecg\\ptb_xl\\ptb_xl_npz\\ecg_5691.npz: cannot convert float NaN to integer\n"
     ]
    },
    {
     "name": "stderr",
     "output_type": "stream",
     "text": [
      "Processing patients:  78%|███████▊  | 14738/18868 [1:40:57<23:31,  2.93it/s]"
     ]
    },
    {
     "name": "stdout",
     "output_type": "stream",
     "text": [
      "Error processing C:\\Users\\lenovo\\Desktop\\sci\\data\\ecg\\ptb_xl\\ptb_xl_npz\\ecg_5743.npz: cannot convert float NaN to integer\n"
     ]
    },
    {
     "name": "stderr",
     "output_type": "stream",
     "text": [
      "Processing patients:  78%|███████▊  | 14799/18868 [1:41:22<30:38,  2.21it/s]"
     ]
    },
    {
     "name": "stdout",
     "output_type": "stream",
     "text": [
      "Error processing C:\\Users\\lenovo\\Desktop\\sci\\data\\ecg\\ptb_xl\\ptb_xl_npz\\ecg_5806.npz: cannot convert float NaN to integer\n"
     ]
    },
    {
     "name": "stderr",
     "output_type": "stream",
     "text": [
      "Processing patients:  79%|███████▉  | 14886/18868 [1:41:59<24:41,  2.69it/s]"
     ]
    },
    {
     "name": "stdout",
     "output_type": "stream",
     "text": [
      "Error processing C:\\Users\\lenovo\\Desktop\\sci\\data\\ecg\\ptb_xl\\ptb_xl_npz\\ecg_5891.npz: cannot convert float NaN to integer\n"
     ]
    },
    {
     "name": "stderr",
     "output_type": "stream",
     "text": [
      "Processing patients:  79%|███████▉  | 14912/18868 [1:42:10<28:11,  2.34it/s]"
     ]
    },
    {
     "name": "stdout",
     "output_type": "stream",
     "text": [
      "Error processing C:\\Users\\lenovo\\Desktop\\sci\\data\\ecg\\ptb_xl\\ptb_xl_npz\\ecg_5919.npz: cannot convert float NaN to integer\n"
     ]
    },
    {
     "name": "stderr",
     "output_type": "stream",
     "text": [
      "Processing patients:  79%|███████▉  | 14918/18868 [1:42:12<23:16,  2.83it/s]"
     ]
    },
    {
     "name": "stdout",
     "output_type": "stream",
     "text": [
      "Error processing C:\\Users\\lenovo\\Desktop\\sci\\data\\ecg\\ptb_xl\\ptb_xl_npz\\ecg_5923.npz: cannot convert float NaN to integer\n"
     ]
    },
    {
     "name": "stderr",
     "output_type": "stream",
     "text": [
      "Processing patients:  79%|███████▉  | 14920/18868 [1:42:13<27:50,  2.36it/s]"
     ]
    },
    {
     "name": "stdout",
     "output_type": "stream",
     "text": [
      "Error processing C:\\Users\\lenovo\\Desktop\\sci\\data\\ecg\\ptb_xl\\ptb_xl_npz\\ecg_5926.npz: cannot convert float NaN to integer\n"
     ]
    },
    {
     "name": "stderr",
     "output_type": "stream",
     "text": [
      "Processing patients:  79%|███████▉  | 14964/18868 [1:42:30<21:29,  3.03it/s]"
     ]
    },
    {
     "name": "stdout",
     "output_type": "stream",
     "text": [
      "Error processing C:\\Users\\lenovo\\Desktop\\sci\\data\\ecg\\ptb_xl\\ptb_xl_npz\\ecg_5969.npz: cannot convert float NaN to integer\n"
     ]
    },
    {
     "name": "stderr",
     "output_type": "stream",
     "text": [
      "Processing patients:  79%|███████▉  | 14968/18868 [1:42:32<25:22,  2.56it/s]"
     ]
    },
    {
     "name": "stdout",
     "output_type": "stream",
     "text": [
      "Error processing C:\\Users\\lenovo\\Desktop\\sci\\data\\ecg\\ptb_xl\\ptb_xl_npz\\ecg_5974.npz: integer division or modulo by zero\n"
     ]
    },
    {
     "name": "stderr",
     "output_type": "stream",
     "text": [
      "Processing patients:  80%|███████▉  | 15028/18868 [1:42:57<25:32,  2.51it/s]"
     ]
    },
    {
     "name": "stdout",
     "output_type": "stream",
     "text": [
      "Error processing C:\\Users\\lenovo\\Desktop\\sci\\data\\ecg\\ptb_xl\\ptb_xl_npz\\ecg_604.npz: integer division or modulo by zero\n"
     ]
    },
    {
     "name": "stderr",
     "output_type": "stream",
     "text": [
      "Processing patients:  80%|███████▉  | 15068/18868 [1:43:13<25:09,  2.52it/s]"
     ]
    },
    {
     "name": "stdout",
     "output_type": "stream",
     "text": [
      "Error processing C:\\Users\\lenovo\\Desktop\\sci\\data\\ecg\\ptb_xl\\ptb_xl_npz\\ecg_6082.npz: integer division or modulo by zero\n"
     ]
    },
    {
     "name": "stderr",
     "output_type": "stream",
     "text": [
      "Processing patients:  80%|███████▉  | 15088/18868 [1:43:22<29:37,  2.13it/s]"
     ]
    },
    {
     "name": "stdout",
     "output_type": "stream",
     "text": [
      "Error processing C:\\Users\\lenovo\\Desktop\\sci\\data\\ecg\\ptb_xl\\ptb_xl_npz\\ecg_6101.npz: cannot convert float NaN to integer\n"
     ]
    },
    {
     "name": "stderr",
     "output_type": "stream",
     "text": [
      "Processing patients:  80%|████████  | 15124/18868 [1:43:37<26:48,  2.33it/s]"
     ]
    },
    {
     "name": "stdout",
     "output_type": "stream",
     "text": [
      "Error processing C:\\Users\\lenovo\\Desktop\\sci\\data\\ecg\\ptb_xl\\ptb_xl_npz\\ecg_6138.npz: integer division or modulo by zero\n"
     ]
    },
    {
     "name": "stderr",
     "output_type": "stream",
     "text": [
      "Processing patients:  80%|████████  | 15161/18868 [1:43:53<24:27,  2.53it/s]"
     ]
    },
    {
     "name": "stdout",
     "output_type": "stream",
     "text": [
      "Error processing C:\\Users\\lenovo\\Desktop\\sci\\data\\ecg\\ptb_xl\\ptb_xl_npz\\ecg_6173.npz: cannot convert float NaN to integer\n"
     ]
    },
    {
     "name": "stderr",
     "output_type": "stream",
     "text": [
      "Processing patients:  80%|████████  | 15174/18868 [1:43:59<24:43,  2.49it/s]"
     ]
    },
    {
     "name": "stdout",
     "output_type": "stream",
     "text": [
      "Error processing C:\\Users\\lenovo\\Desktop\\sci\\data\\ecg\\ptb_xl\\ptb_xl_npz\\ecg_6188.npz: integer division or modulo by zero\n"
     ]
    },
    {
     "name": "stderr",
     "output_type": "stream",
     "text": [
      "Processing patients:  80%|████████  | 15183/18868 [1:44:02<21:29,  2.86it/s]"
     ]
    },
    {
     "name": "stdout",
     "output_type": "stream",
     "text": [
      "Error processing C:\\Users\\lenovo\\Desktop\\sci\\data\\ecg\\ptb_xl\\ptb_xl_npz\\ecg_6196.npz: cannot convert float NaN to integer\n"
     ]
    },
    {
     "name": "stderr",
     "output_type": "stream",
     "text": [
      "Processing patients:  81%|████████  | 15194/18868 [1:44:07<23:04,  2.65it/s]"
     ]
    },
    {
     "name": "stdout",
     "output_type": "stream",
     "text": [
      "Error processing C:\\Users\\lenovo\\Desktop\\sci\\data\\ecg\\ptb_xl\\ptb_xl_npz\\ecg_6209.npz: cannot convert float NaN to integer\n"
     ]
    },
    {
     "name": "stderr",
     "output_type": "stream",
     "text": [
      "Processing patients:  81%|████████  | 15262/18868 [1:44:35<24:57,  2.41it/s]"
     ]
    },
    {
     "name": "stdout",
     "output_type": "stream",
     "text": [
      "Error processing C:\\Users\\lenovo\\Desktop\\sci\\data\\ecg\\ptb_xl\\ptb_xl_npz\\ecg_6281.npz: cannot convert float NaN to integer\n"
     ]
    },
    {
     "name": "stderr",
     "output_type": "stream",
     "text": [
      "Processing patients:  81%|████████  | 15268/18868 [1:44:37<19:59,  3.00it/s]"
     ]
    },
    {
     "name": "stdout",
     "output_type": "stream",
     "text": [
      "Error processing C:\\Users\\lenovo\\Desktop\\sci\\data\\ecg\\ptb_xl\\ptb_xl_npz\\ecg_6286.npz: integer division or modulo by zero\n"
     ]
    },
    {
     "name": "stderr",
     "output_type": "stream",
     "text": [
      "Processing patients:  81%|████████  | 15322/18868 [1:44:59<22:22,  2.64it/s]"
     ]
    },
    {
     "name": "stdout",
     "output_type": "stream",
     "text": [
      "Error processing C:\\Users\\lenovo\\Desktop\\sci\\data\\ecg\\ptb_xl\\ptb_xl_npz\\ecg_6339.npz: cannot convert float NaN to integer\n"
     ]
    },
    {
     "name": "stderr",
     "output_type": "stream",
     "text": [
      "Processing patients:  82%|████████▏ | 15391/18868 [1:45:27<20:20,  2.85it/s]"
     ]
    },
    {
     "name": "stdout",
     "output_type": "stream",
     "text": [
      "Error processing C:\\Users\\lenovo\\Desktop\\sci\\data\\ecg\\ptb_xl\\ptb_xl_npz\\ecg_641.npz: integer division or modulo by zero\n"
     ]
    },
    {
     "name": "stderr",
     "output_type": "stream",
     "text": [
      "Processing patients:  82%|████████▏ | 15393/18868 [1:45:28<15:53,  3.65it/s]"
     ]
    },
    {
     "name": "stdout",
     "output_type": "stream",
     "text": [
      "Error processing C:\\Users\\lenovo\\Desktop\\sci\\data\\ecg\\ptb_xl\\ptb_xl_npz\\ecg_6411.npz: cannot convert float NaN to integer\n"
     ]
    },
    {
     "name": "stderr",
     "output_type": "stream",
     "text": [
      "Processing patients:  82%|████████▏ | 15396/18868 [1:45:29<20:22,  2.84it/s]"
     ]
    },
    {
     "name": "stdout",
     "output_type": "stream",
     "text": [
      "Error processing C:\\Users\\lenovo\\Desktop\\sci\\data\\ecg\\ptb_xl\\ptb_xl_npz\\ecg_6417.npz: cannot convert float NaN to integer\n"
     ]
    },
    {
     "name": "stderr",
     "output_type": "stream",
     "text": [
      "Processing patients:  82%|████████▏ | 15457/18868 [1:45:52<18:40,  3.04it/s]"
     ]
    },
    {
     "name": "stdout",
     "output_type": "stream",
     "text": [
      "Error processing C:\\Users\\lenovo\\Desktop\\sci\\data\\ecg\\ptb_xl\\ptb_xl_npz\\ecg_6478.npz: cannot convert float NaN to integer\n"
     ]
    },
    {
     "name": "stderr",
     "output_type": "stream",
     "text": [
      "Processing patients:  82%|████████▏ | 15492/18868 [1:46:06<18:52,  2.98it/s]"
     ]
    },
    {
     "name": "stdout",
     "output_type": "stream",
     "text": [
      "Error processing C:\\Users\\lenovo\\Desktop\\sci\\data\\ecg\\ptb_xl\\ptb_xl_npz\\ecg_6516.npz: integer division or modulo by zero\n"
     ]
    },
    {
     "name": "stderr",
     "output_type": "stream",
     "text": [
      "Processing patients:  82%|████████▏ | 15506/18868 [1:46:12<18:54,  2.96it/s]"
     ]
    },
    {
     "name": "stdout",
     "output_type": "stream",
     "text": [
      "Error processing C:\\Users\\lenovo\\Desktop\\sci\\data\\ecg\\ptb_xl\\ptb_xl_npz\\ecg_6529.npz: cannot convert float NaN to integer\n"
     ]
    },
    {
     "name": "stderr",
     "output_type": "stream",
     "text": [
      "Processing patients:  82%|████████▏ | 15518/18868 [1:46:17<22:42,  2.46it/s]"
     ]
    },
    {
     "name": "stdout",
     "output_type": "stream",
     "text": [
      "Error processing C:\\Users\\lenovo\\Desktop\\sci\\data\\ecg\\ptb_xl\\ptb_xl_npz\\ecg_6542.npz: integer division or modulo by zero\n"
     ]
    },
    {
     "name": "stderr",
     "output_type": "stream",
     "text": [
      "Processing patients:  82%|████████▏ | 15520/18868 [1:46:17<16:02,  3.48it/s]"
     ]
    },
    {
     "name": "stdout",
     "output_type": "stream",
     "text": [
      "Error processing C:\\Users\\lenovo\\Desktop\\sci\\data\\ecg\\ptb_xl\\ptb_xl_npz\\ecg_6543.npz: cannot convert float NaN to integer\n"
     ]
    },
    {
     "name": "stderr",
     "output_type": "stream",
     "text": [
      "Processing patients:  82%|████████▏ | 15530/18868 [1:46:21<23:05,  2.41it/s]"
     ]
    },
    {
     "name": "stdout",
     "output_type": "stream",
     "text": [
      "Error processing C:\\Users\\lenovo\\Desktop\\sci\\data\\ecg\\ptb_xl\\ptb_xl_npz\\ecg_6553.npz: integer division or modulo by zero\n"
     ]
    },
    {
     "name": "stderr",
     "output_type": "stream",
     "text": [
      "Processing patients:  82%|████████▏ | 15541/18868 [1:46:25<17:51,  3.10it/s]"
     ]
    },
    {
     "name": "stdout",
     "output_type": "stream",
     "text": [
      "Error processing C:\\Users\\lenovo\\Desktop\\sci\\data\\ecg\\ptb_xl\\ptb_xl_npz\\ecg_6563.npz: cannot convert float NaN to integer\n"
     ]
    },
    {
     "name": "stderr",
     "output_type": "stream",
     "text": [
      "Processing patients:  83%|████████▎ | 15577/18868 [1:46:40<23:22,  2.35it/s]"
     ]
    },
    {
     "name": "stdout",
     "output_type": "stream",
     "text": [
      "Error processing C:\\Users\\lenovo\\Desktop\\sci\\data\\ecg\\ptb_xl\\ptb_xl_npz\\ecg_660.npz: cannot convert float NaN to integer\n"
     ]
    },
    {
     "name": "stderr",
     "output_type": "stream",
     "text": [
      "Processing patients:  83%|████████▎ | 15616/18868 [1:46:55<20:15,  2.68it/s]"
     ]
    },
    {
     "name": "stdout",
     "output_type": "stream",
     "text": [
      "Error processing C:\\Users\\lenovo\\Desktop\\sci\\data\\ecg\\ptb_xl\\ptb_xl_npz\\ecg_6642.npz: integer division or modulo by zero\n"
     ]
    },
    {
     "name": "stderr",
     "output_type": "stream",
     "text": [
      "Processing patients:  83%|████████▎ | 15678/18868 [1:47:22<22:13,  2.39it/s]"
     ]
    },
    {
     "name": "stdout",
     "output_type": "stream",
     "text": [
      "Error processing C:\\Users\\lenovo\\Desktop\\sci\\data\\ecg\\ptb_xl\\ptb_xl_npz\\ecg_6706.npz: cannot convert float NaN to integer\n"
     ]
    },
    {
     "name": "stderr",
     "output_type": "stream",
     "text": [
      "Processing patients:  83%|████████▎ | 15680/18868 [1:47:23<20:03,  2.65it/s]"
     ]
    },
    {
     "name": "stdout",
     "output_type": "stream",
     "text": [
      "Error processing C:\\Users\\lenovo\\Desktop\\sci\\data\\ecg\\ptb_xl\\ptb_xl_npz\\ecg_6708.npz: integer division or modulo by zero\n"
     ]
    },
    {
     "name": "stderr",
     "output_type": "stream",
     "text": [
      "Processing patients:  83%|████████▎ | 15689/18868 [1:47:27<17:37,  3.01it/s]"
     ]
    },
    {
     "name": "stdout",
     "output_type": "stream",
     "text": [
      "Error processing C:\\Users\\lenovo\\Desktop\\sci\\data\\ecg\\ptb_xl\\ptb_xl_npz\\ecg_6717.npz: integer division or modulo by zero\n"
     ]
    },
    {
     "name": "stderr",
     "output_type": "stream",
     "text": [
      "Processing patients:  83%|████████▎ | 15717/18868 [1:47:39<22:33,  2.33it/s]"
     ]
    },
    {
     "name": "stdout",
     "output_type": "stream",
     "text": [
      "Error processing C:\\Users\\lenovo\\Desktop\\sci\\data\\ecg\\ptb_xl\\ptb_xl_npz\\ecg_6744.npz: cannot convert float NaN to integer\n"
     ]
    },
    {
     "name": "stderr",
     "output_type": "stream",
     "text": [
      "Processing patients:  83%|████████▎ | 15734/18868 [1:47:46<19:46,  2.64it/s]"
     ]
    },
    {
     "name": "stdout",
     "output_type": "stream",
     "text": [
      "Error processing C:\\Users\\lenovo\\Desktop\\sci\\data\\ecg\\ptb_xl\\ptb_xl_npz\\ecg_6759.npz: cannot convert float NaN to integer\n"
     ]
    },
    {
     "name": "stderr",
     "output_type": "stream",
     "text": [
      "Processing patients:  84%|████████▍ | 15845/18868 [1:48:30<17:52,  2.82it/s]"
     ]
    },
    {
     "name": "stdout",
     "output_type": "stream",
     "text": [
      "Error processing C:\\Users\\lenovo\\Desktop\\sci\\data\\ecg\\ptb_xl\\ptb_xl_npz\\ecg_6872.npz: cannot convert float NaN to integer\n"
     ]
    },
    {
     "name": "stderr",
     "output_type": "stream",
     "text": [
      "Processing patients:  84%|████████▍ | 15857/18868 [1:48:35<16:25,  3.06it/s]"
     ]
    },
    {
     "name": "stdout",
     "output_type": "stream",
     "text": [
      "Error processing C:\\Users\\lenovo\\Desktop\\sci\\data\\ecg\\ptb_xl\\ptb_xl_npz\\ecg_6884.npz: cannot convert float NaN to integer\n"
     ]
    },
    {
     "name": "stderr",
     "output_type": "stream",
     "text": [
      "Processing patients:  84%|████████▍ | 15875/18868 [1:48:42<19:27,  2.56it/s]"
     ]
    },
    {
     "name": "stdout",
     "output_type": "stream",
     "text": [
      "Error processing C:\\Users\\lenovo\\Desktop\\sci\\data\\ecg\\ptb_xl\\ptb_xl_npz\\ecg_6903.npz: cannot convert float NaN to integer\n"
     ]
    },
    {
     "name": "stderr",
     "output_type": "stream",
     "text": [
      "Processing patients:  84%|████████▍ | 15897/18868 [1:48:50<16:39,  2.97it/s]"
     ]
    },
    {
     "name": "stdout",
     "output_type": "stream",
     "text": [
      "Error processing C:\\Users\\lenovo\\Desktop\\sci\\data\\ecg\\ptb_xl\\ptb_xl_npz\\ecg_6924.npz: cannot convert float NaN to integer\n"
     ]
    },
    {
     "name": "stderr",
     "output_type": "stream",
     "text": [
      "Processing patients:  84%|████████▍ | 15927/18868 [1:49:02<19:11,  2.55it/s]"
     ]
    },
    {
     "name": "stdout",
     "output_type": "stream",
     "text": [
      "Error processing C:\\Users\\lenovo\\Desktop\\sci\\data\\ecg\\ptb_xl\\ptb_xl_npz\\ecg_6955.npz: cannot convert float NaN to integer\n"
     ]
    },
    {
     "name": "stderr",
     "output_type": "stream",
     "text": [
      "Processing patients:  84%|████████▍ | 15943/18868 [1:49:09<20:32,  2.37it/s]"
     ]
    },
    {
     "name": "stdout",
     "output_type": "stream",
     "text": [
      "Error processing C:\\Users\\lenovo\\Desktop\\sci\\data\\ecg\\ptb_xl\\ptb_xl_npz\\ecg_6973.npz: cannot convert float NaN to integer\n"
     ]
    },
    {
     "name": "stderr",
     "output_type": "stream",
     "text": [
      "Processing patients:  85%|████████▍ | 15981/18868 [1:49:25<15:51,  3.03it/s]"
     ]
    },
    {
     "name": "stdout",
     "output_type": "stream",
     "text": [
      "Error processing C:\\Users\\lenovo\\Desktop\\sci\\data\\ecg\\ptb_xl\\ptb_xl_npz\\ecg_7012.npz: cannot convert float NaN to integer\n"
     ]
    },
    {
     "name": "stderr",
     "output_type": "stream",
     "text": [
      "Processing patients:  85%|████████▍ | 16010/18868 [1:49:37<17:28,  2.72it/s]"
     ]
    },
    {
     "name": "stdout",
     "output_type": "stream",
     "text": [
      "Error processing C:\\Users\\lenovo\\Desktop\\sci\\data\\ecg\\ptb_xl\\ptb_xl_npz\\ecg_7039.npz: cannot convert float NaN to integer\n"
     ]
    },
    {
     "name": "stderr",
     "output_type": "stream",
     "text": [
      "Processing patients:  85%|████████▌ | 16100/18868 [1:50:13<15:19,  3.01it/s]"
     ]
    },
    {
     "name": "stdout",
     "output_type": "stream",
     "text": [
      "Error processing C:\\Users\\lenovo\\Desktop\\sci\\data\\ecg\\ptb_xl\\ptb_xl_npz\\ecg_7131.npz: cannot convert float NaN to integer\n"
     ]
    },
    {
     "name": "stderr",
     "output_type": "stream",
     "text": [
      "Processing patients:  86%|████████▌ | 16164/18868 [1:50:39<18:11,  2.48it/s]"
     ]
    },
    {
     "name": "stdout",
     "output_type": "stream",
     "text": [
      "Error processing C:\\Users\\lenovo\\Desktop\\sci\\data\\ecg\\ptb_xl\\ptb_xl_npz\\ecg_7194.npz: cannot convert float NaN to integer\n"
     ]
    },
    {
     "name": "stderr",
     "output_type": "stream",
     "text": [
      "Processing patients:  86%|████████▌ | 16174/18868 [1:50:43<16:39,  2.70it/s]"
     ]
    },
    {
     "name": "stdout",
     "output_type": "stream",
     "text": [
      "Error processing C:\\Users\\lenovo\\Desktop\\sci\\data\\ecg\\ptb_xl\\ptb_xl_npz\\ecg_7204.npz: cannot convert float NaN to integer\n"
     ]
    },
    {
     "name": "stderr",
     "output_type": "stream",
     "text": [
      "Processing patients:  86%|████████▌ | 16198/18868 [1:50:53<15:50,  2.81it/s]"
     ]
    },
    {
     "name": "stdout",
     "output_type": "stream",
     "text": [
      "Error processing C:\\Users\\lenovo\\Desktop\\sci\\data\\ecg\\ptb_xl\\ptb_xl_npz\\ecg_7228.npz: cannot convert float NaN to integer\n"
     ]
    },
    {
     "name": "stderr",
     "output_type": "stream",
     "text": [
      "Processing patients:  86%|████████▌ | 16203/18868 [1:50:54<14:51,  2.99it/s]"
     ]
    },
    {
     "name": "stdout",
     "output_type": "stream",
     "text": [
      "Error processing C:\\Users\\lenovo\\Desktop\\sci\\data\\ecg\\ptb_xl\\ptb_xl_npz\\ecg_7232.npz: integer division or modulo by zero\n"
     ]
    },
    {
     "name": "stderr",
     "output_type": "stream",
     "text": [
      "Processing patients:  86%|████████▌ | 16225/18868 [1:51:04<18:21,  2.40it/s]"
     ]
    },
    {
     "name": "stdout",
     "output_type": "stream",
     "text": [
      "Error processing C:\\Users\\lenovo\\Desktop\\sci\\data\\ecg\\ptb_xl\\ptb_xl_npz\\ecg_7257.npz: cannot convert float NaN to integer\n"
     ]
    },
    {
     "name": "stderr",
     "output_type": "stream",
     "text": [
      "Processing patients:  86%|████████▋ | 16298/18868 [1:51:36<12:50,  3.34it/s]"
     ]
    },
    {
     "name": "stdout",
     "output_type": "stream",
     "text": [
      "Error processing C:\\Users\\lenovo\\Desktop\\sci\\data\\ecg\\ptb_xl\\ptb_xl_npz\\ecg_7329.npz: integer division or modulo by zero\n"
     ]
    },
    {
     "name": "stderr",
     "output_type": "stream",
     "text": [
      "Processing patients:  86%|████████▋ | 16301/18868 [1:51:37<11:37,  3.68it/s]"
     ]
    },
    {
     "name": "stdout",
     "output_type": "stream",
     "text": [
      "Error processing C:\\Users\\lenovo\\Desktop\\sci\\data\\ecg\\ptb_xl\\ptb_xl_npz\\ecg_7331.npz: cannot convert float NaN to integer\n"
     ]
    },
    {
     "name": "stderr",
     "output_type": "stream",
     "text": [
      "Processing patients:  87%|████████▋ | 16341/18868 [1:51:54<18:56,  2.22it/s]"
     ]
    },
    {
     "name": "stdout",
     "output_type": "stream",
     "text": [
      "Error processing C:\\Users\\lenovo\\Desktop\\sci\\data\\ecg\\ptb_xl\\ptb_xl_npz\\ecg_7375.npz: cannot convert float NaN to integer\n"
     ]
    },
    {
     "name": "stderr",
     "output_type": "stream",
     "text": [
      "Processing patients:  87%|████████▋ | 16395/18868 [1:52:20<19:23,  2.13it/s]"
     ]
    },
    {
     "name": "stdout",
     "output_type": "stream",
     "text": [
      "Error processing C:\\Users\\lenovo\\Desktop\\sci\\data\\ecg\\ptb_xl\\ptb_xl_npz\\ecg_7426.npz: cannot convert float NaN to integer\n"
     ]
    },
    {
     "name": "stderr",
     "output_type": "stream",
     "text": [
      "Processing patients:  87%|████████▋ | 16400/18868 [1:52:22<15:54,  2.59it/s]"
     ]
    },
    {
     "name": "stdout",
     "output_type": "stream",
     "text": [
      "Error processing C:\\Users\\lenovo\\Desktop\\sci\\data\\ecg\\ptb_xl\\ptb_xl_npz\\ecg_743.npz: integer division or modulo by zero\n"
     ]
    },
    {
     "name": "stderr",
     "output_type": "stream",
     "text": [
      "Processing patients:  87%|████████▋ | 16424/18868 [1:52:33<15:40,  2.60it/s]"
     ]
    },
    {
     "name": "stdout",
     "output_type": "stream",
     "text": [
      "Error processing C:\\Users\\lenovo\\Desktop\\sci\\data\\ecg\\ptb_xl\\ptb_xl_npz\\ecg_7452.npz: cannot convert float NaN to integer\n"
     ]
    },
    {
     "name": "stderr",
     "output_type": "stream",
     "text": [
      "Processing patients:  87%|████████▋ | 16471/18868 [1:52:54<18:08,  2.20it/s]"
     ]
    },
    {
     "name": "stdout",
     "output_type": "stream",
     "text": [
      "Error processing C:\\Users\\lenovo\\Desktop\\sci\\data\\ecg\\ptb_xl\\ptb_xl_npz\\ecg_7500.npz: cannot convert float NaN to integer\n"
     ]
    },
    {
     "name": "stderr",
     "output_type": "stream",
     "text": [
      "Processing patients:  88%|████████▊ | 16513/18868 [1:53:13<15:05,  2.60it/s]"
     ]
    },
    {
     "name": "stdout",
     "output_type": "stream",
     "text": [
      "Error processing C:\\Users\\lenovo\\Desktop\\sci\\data\\ecg\\ptb_xl\\ptb_xl_npz\\ecg_7541.npz: cannot convert float NaN to integer\n"
     ]
    },
    {
     "name": "stderr",
     "output_type": "stream",
     "text": [
      "Processing patients:  88%|████████▊ | 16542/18868 [1:53:26<14:28,  2.68it/s]"
     ]
    },
    {
     "name": "stdout",
     "output_type": "stream",
     "text": [
      "Error processing C:\\Users\\lenovo\\Desktop\\sci\\data\\ecg\\ptb_xl\\ptb_xl_npz\\ecg_7570.npz: cannot convert float NaN to integer\n"
     ]
    },
    {
     "name": "stderr",
     "output_type": "stream",
     "text": [
      "Processing patients:  88%|████████▊ | 16550/18868 [1:53:29<13:24,  2.88it/s]"
     ]
    },
    {
     "name": "stdout",
     "output_type": "stream",
     "text": [
      "Error processing C:\\Users\\lenovo\\Desktop\\sci\\data\\ecg\\ptb_xl\\ptb_xl_npz\\ecg_7580.npz: cannot convert float NaN to integer\n"
     ]
    },
    {
     "name": "stderr",
     "output_type": "stream",
     "text": [
      "Processing patients:  88%|████████▊ | 16604/18868 [1:53:52<15:53,  2.37it/s]"
     ]
    },
    {
     "name": "stdout",
     "output_type": "stream",
     "text": [
      "Error processing C:\\Users\\lenovo\\Desktop\\sci\\data\\ecg\\ptb_xl\\ptb_xl_npz\\ecg_7633.npz: cannot convert float NaN to integer\n"
     ]
    },
    {
     "name": "stderr",
     "output_type": "stream",
     "text": [
      "Processing patients:  88%|████████▊ | 16611/18868 [1:53:54<12:55,  2.91it/s]"
     ]
    },
    {
     "name": "stdout",
     "output_type": "stream",
     "text": [
      "Error processing C:\\Users\\lenovo\\Desktop\\sci\\data\\ecg\\ptb_xl\\ptb_xl_npz\\ecg_7639.npz: cannot convert float NaN to integer\n"
     ]
    },
    {
     "name": "stderr",
     "output_type": "stream",
     "text": [
      "Processing patients:  88%|████████▊ | 16615/18868 [1:53:56<12:07,  3.10it/s]"
     ]
    },
    {
     "name": "stdout",
     "output_type": "stream",
     "text": [
      "Error processing C:\\Users\\lenovo\\Desktop\\sci\\data\\ecg\\ptb_xl\\ptb_xl_npz\\ecg_7643.npz: cannot convert float NaN to integer\n"
     ]
    },
    {
     "name": "stderr",
     "output_type": "stream",
     "text": [
      "Processing patients:  88%|████████▊ | 16678/18868 [1:54:23<15:01,  2.43it/s]"
     ]
    },
    {
     "name": "stdout",
     "output_type": "stream",
     "text": [
      "Error processing C:\\Users\\lenovo\\Desktop\\sci\\data\\ecg\\ptb_xl\\ptb_xl_npz\\ecg_7705.npz: cannot convert float NaN to integer\n"
     ]
    },
    {
     "name": "stderr",
     "output_type": "stream",
     "text": [
      "Processing patients:  88%|████████▊ | 16684/18868 [1:54:25<12:09,  2.99it/s]"
     ]
    },
    {
     "name": "stdout",
     "output_type": "stream",
     "text": [
      "Error processing C:\\Users\\lenovo\\Desktop\\sci\\data\\ecg\\ptb_xl\\ptb_xl_npz\\ecg_7713.npz: integer division or modulo by zero\n"
     ]
    },
    {
     "name": "stderr",
     "output_type": "stream",
     "text": [
      "Processing patients:  88%|████████▊ | 16685/18868 [1:54:25<11:59,  3.03it/s]"
     ]
    },
    {
     "name": "stdout",
     "output_type": "stream",
     "text": [
      "Error processing C:\\Users\\lenovo\\Desktop\\sci\\data\\ecg\\ptb_xl\\ptb_xl_npz\\ecg_7714.npz: cannot convert float NaN to integer\n"
     ]
    },
    {
     "name": "stderr",
     "output_type": "stream",
     "text": [
      "Processing patients:  89%|████████▊ | 16729/18868 [1:54:43<12:55,  2.76it/s]"
     ]
    },
    {
     "name": "stdout",
     "output_type": "stream",
     "text": [
      "Error processing C:\\Users\\lenovo\\Desktop\\sci\\data\\ecg\\ptb_xl\\ptb_xl_npz\\ecg_7760.npz: cannot convert float NaN to integer\n"
     ]
    },
    {
     "name": "stderr",
     "output_type": "stream",
     "text": [
      "Processing patients:  89%|████████▉ | 16747/18868 [1:54:51<12:18,  2.87it/s]"
     ]
    },
    {
     "name": "stdout",
     "output_type": "stream",
     "text": [
      "Error processing C:\\Users\\lenovo\\Desktop\\sci\\data\\ecg\\ptb_xl\\ptb_xl_npz\\ecg_7779.npz: cannot convert float NaN to integer\n"
     ]
    },
    {
     "name": "stderr",
     "output_type": "stream",
     "text": [
      "Processing patients:  89%|████████▉ | 16749/18868 [1:54:51<14:20,  2.46it/s]"
     ]
    },
    {
     "name": "stdout",
     "output_type": "stream",
     "text": [
      "Error processing C:\\Users\\lenovo\\Desktop\\sci\\data\\ecg\\ptb_xl\\ptb_xl_npz\\ecg_7781.npz: cannot convert float NaN to integer\n"
     ]
    },
    {
     "name": "stderr",
     "output_type": "stream",
     "text": [
      "Processing patients:  89%|████████▉ | 16764/18868 [1:54:57<11:55,  2.94it/s]"
     ]
    },
    {
     "name": "stdout",
     "output_type": "stream",
     "text": [
      "Error processing C:\\Users\\lenovo\\Desktop\\sci\\data\\ecg\\ptb_xl\\ptb_xl_npz\\ecg_7796.npz: cannot convert float NaN to integer\n"
     ]
    },
    {
     "name": "stderr",
     "output_type": "stream",
     "text": [
      "Processing patients:  89%|████████▉ | 16859/18868 [1:55:37<11:08,  3.01it/s]"
     ]
    },
    {
     "name": "stdout",
     "output_type": "stream",
     "text": [
      "Error processing C:\\Users\\lenovo\\Desktop\\sci\\data\\ecg\\ptb_xl\\ptb_xl_npz\\ecg_7897.npz: cannot convert float NaN to integer\n"
     ]
    },
    {
     "name": "stderr",
     "output_type": "stream",
     "text": [
      "Processing patients:  90%|████████▉ | 16922/18868 [1:56:05<13:47,  2.35it/s]"
     ]
    },
    {
     "name": "stdout",
     "output_type": "stream",
     "text": [
      "Error processing C:\\Users\\lenovo\\Desktop\\sci\\data\\ecg\\ptb_xl\\ptb_xl_npz\\ecg_7960.npz: cannot convert float NaN to integer\n"
     ]
    },
    {
     "name": "stderr",
     "output_type": "stream",
     "text": [
      "Processing patients:  90%|████████▉ | 16949/18868 [1:56:16<11:10,  2.86it/s]"
     ]
    },
    {
     "name": "stdout",
     "output_type": "stream",
     "text": [
      "Error processing C:\\Users\\lenovo\\Desktop\\sci\\data\\ecg\\ptb_xl\\ptb_xl_npz\\ecg_7988.npz: cannot convert float NaN to integer\n"
     ]
    },
    {
     "name": "stderr",
     "output_type": "stream",
     "text": [
      "Processing patients:  90%|████████▉ | 16968/18868 [1:56:24<13:05,  2.42it/s]"
     ]
    },
    {
     "name": "stdout",
     "output_type": "stream",
     "text": [
      "Error processing C:\\Users\\lenovo\\Desktop\\sci\\data\\ecg\\ptb_xl\\ptb_xl_npz\\ecg_8008.npz: integer division or modulo by zero\n"
     ]
    },
    {
     "name": "stderr",
     "output_type": "stream",
     "text": [
      "Processing patients:  90%|████████▉ | 16977/18868 [1:56:27<10:46,  2.93it/s]"
     ]
    },
    {
     "name": "stdout",
     "output_type": "stream",
     "text": [
      "Error processing C:\\Users\\lenovo\\Desktop\\sci\\data\\ecg\\ptb_xl\\ptb_xl_npz\\ecg_8016.npz: cannot convert float NaN to integer\n"
     ]
    },
    {
     "name": "stderr",
     "output_type": "stream",
     "text": [
      "Processing patients:  90%|█████████ | 17003/18868 [1:56:38<13:27,  2.31it/s]"
     ]
    },
    {
     "name": "stdout",
     "output_type": "stream",
     "text": [
      "Error processing C:\\Users\\lenovo\\Desktop\\sci\\data\\ecg\\ptb_xl\\ptb_xl_npz\\ecg_8043.npz: cannot convert float NaN to integer\n"
     ]
    },
    {
     "name": "stderr",
     "output_type": "stream",
     "text": [
      "Processing patients:  90%|█████████ | 17011/18868 [1:56:41<12:02,  2.57it/s]"
     ]
    },
    {
     "name": "stdout",
     "output_type": "stream",
     "text": [
      "Error processing C:\\Users\\lenovo\\Desktop\\sci\\data\\ecg\\ptb_xl\\ptb_xl_npz\\ecg_805.npz: integer division or modulo by zero\n"
     ]
    },
    {
     "name": "stderr",
     "output_type": "stream",
     "text": [
      "Processing patients:  90%|█████████ | 17024/18868 [1:56:46<10:09,  3.02it/s]"
     ]
    },
    {
     "name": "stdout",
     "output_type": "stream",
     "text": [
      "Error processing C:\\Users\\lenovo\\Desktop\\sci\\data\\ecg\\ptb_xl\\ptb_xl_npz\\ecg_8061.npz: integer division or modulo by zero\n"
     ]
    },
    {
     "name": "stderr",
     "output_type": "stream",
     "text": [
      "Processing patients:  90%|█████████ | 17025/18868 [1:56:47<10:45,  2.85it/s]"
     ]
    },
    {
     "name": "stdout",
     "output_type": "stream",
     "text": [
      "Error processing C:\\Users\\lenovo\\Desktop\\sci\\data\\ecg\\ptb_xl\\ptb_xl_npz\\ecg_8063.npz: cannot convert float NaN to integer\n"
     ]
    },
    {
     "name": "stderr",
     "output_type": "stream",
     "text": [
      "Processing patients:  90%|█████████ | 17027/18868 [1:56:47<09:21,  3.28it/s]"
     ]
    },
    {
     "name": "stdout",
     "output_type": "stream",
     "text": [
      "Error processing C:\\Users\\lenovo\\Desktop\\sci\\data\\ecg\\ptb_xl\\ptb_xl_npz\\ecg_8065.npz: cannot convert float NaN to integer\n"
     ]
    },
    {
     "name": "stderr",
     "output_type": "stream",
     "text": [
      "Processing patients:  90%|█████████ | 17029/18868 [1:56:48<09:00,  3.40it/s]"
     ]
    },
    {
     "name": "stdout",
     "output_type": "stream",
     "text": [
      "Error processing C:\\Users\\lenovo\\Desktop\\sci\\data\\ecg\\ptb_xl\\ptb_xl_npz\\ecg_8067.npz: integer division or modulo by zero\n"
     ]
    },
    {
     "name": "stderr",
     "output_type": "stream",
     "text": [
      "Processing patients:  90%|█████████ | 17064/18868 [1:57:02<10:44,  2.80it/s]"
     ]
    },
    {
     "name": "stdout",
     "output_type": "stream",
     "text": [
      "Error processing C:\\Users\\lenovo\\Desktop\\sci\\data\\ecg\\ptb_xl\\ptb_xl_npz\\ecg_8102.npz: cannot convert float NaN to integer\n"
     ]
    },
    {
     "name": "stderr",
     "output_type": "stream",
     "text": [
      "Processing patients:  91%|█████████ | 17115/18868 [1:57:24<12:04,  2.42it/s]"
     ]
    },
    {
     "name": "stdout",
     "output_type": "stream",
     "text": [
      "Error processing C:\\Users\\lenovo\\Desktop\\sci\\data\\ecg\\ptb_xl\\ptb_xl_npz\\ecg_8166.npz: cannot convert float NaN to integer\n"
     ]
    },
    {
     "name": "stderr",
     "output_type": "stream",
     "text": [
      "Processing patients:  91%|█████████ | 17165/18868 [1:57:45<10:59,  2.58it/s]"
     ]
    },
    {
     "name": "stdout",
     "output_type": "stream",
     "text": [
      "Error processing C:\\Users\\lenovo\\Desktop\\sci\\data\\ecg\\ptb_xl\\ptb_xl_npz\\ecg_8216.npz: cannot convert float NaN to integer\n"
     ]
    },
    {
     "name": "stderr",
     "output_type": "stream",
     "text": [
      "Processing patients:  91%|█████████▏| 17230/18868 [1:58:13<11:06,  2.46it/s]"
     ]
    },
    {
     "name": "stdout",
     "output_type": "stream",
     "text": [
      "Error processing C:\\Users\\lenovo\\Desktop\\sci\\data\\ecg\\ptb_xl\\ptb_xl_npz\\ecg_8287.npz: integer division or modulo by zero\n"
     ]
    },
    {
     "name": "stderr",
     "output_type": "stream",
     "text": [
      "Processing patients:  91%|█████████▏| 17251/18868 [1:58:21<09:44,  2.76it/s]"
     ]
    },
    {
     "name": "stdout",
     "output_type": "stream",
     "text": [
      "Error processing C:\\Users\\lenovo\\Desktop\\sci\\data\\ecg\\ptb_xl\\ptb_xl_npz\\ecg_8308.npz: cannot convert float NaN to integer\n"
     ]
    },
    {
     "name": "stderr",
     "output_type": "stream",
     "text": [
      "Processing patients:  92%|█████████▏| 17271/18868 [1:58:30<11:50,  2.25it/s]"
     ]
    },
    {
     "name": "stdout",
     "output_type": "stream",
     "text": [
      "Error processing C:\\Users\\lenovo\\Desktop\\sci\\data\\ecg\\ptb_xl\\ptb_xl_npz\\ecg_8330.npz: cannot convert float NaN to integer\n"
     ]
    },
    {
     "name": "stderr",
     "output_type": "stream",
     "text": [
      "Processing patients:  92%|█████████▏| 17294/18868 [1:58:40<09:11,  2.85it/s]"
     ]
    },
    {
     "name": "stdout",
     "output_type": "stream",
     "text": [
      "Error processing C:\\Users\\lenovo\\Desktop\\sci\\data\\ecg\\ptb_xl\\ptb_xl_npz\\ecg_8358.npz: cannot convert float NaN to integer\n"
     ]
    },
    {
     "name": "stderr",
     "output_type": "stream",
     "text": [
      "Processing patients:  92%|█████████▏| 17299/18868 [1:58:42<10:09,  2.57it/s]"
     ]
    },
    {
     "name": "stdout",
     "output_type": "stream",
     "text": [
      "Error processing C:\\Users\\lenovo\\Desktop\\sci\\data\\ecg\\ptb_xl\\ptb_xl_npz\\ecg_8364.npz: cannot convert float NaN to integer\n"
     ]
    },
    {
     "name": "stderr",
     "output_type": "stream",
     "text": [
      "Processing patients:  92%|█████████▏| 17324/18868 [1:58:52<09:02,  2.85it/s]"
     ]
    },
    {
     "name": "stdout",
     "output_type": "stream",
     "text": [
      "Error processing C:\\Users\\lenovo\\Desktop\\sci\\data\\ecg\\ptb_xl\\ptb_xl_npz\\ecg_8391.npz: cannot convert float NaN to integer\n"
     ]
    },
    {
     "name": "stderr",
     "output_type": "stream",
     "text": [
      "Processing patients:  92%|█████████▏| 17359/18868 [1:59:07<09:36,  2.62it/s]"
     ]
    },
    {
     "name": "stdout",
     "output_type": "stream",
     "text": [
      "Error processing C:\\Users\\lenovo\\Desktop\\sci\\data\\ecg\\ptb_xl\\ptb_xl_npz\\ecg_8428.npz: integer division or modulo by zero\n"
     ]
    },
    {
     "name": "stderr",
     "output_type": "stream",
     "text": [
      "Processing patients:  92%|█████████▏| 17396/18868 [1:59:22<09:24,  2.61it/s]"
     ]
    },
    {
     "name": "stdout",
     "output_type": "stream",
     "text": [
      "Error processing C:\\Users\\lenovo\\Desktop\\sci\\data\\ecg\\ptb_xl\\ptb_xl_npz\\ecg_8464.npz: cannot convert float NaN to integer\n"
     ]
    },
    {
     "name": "stderr",
     "output_type": "stream",
     "text": [
      "Processing patients:  92%|█████████▏| 17398/18868 [1:59:23<08:37,  2.84it/s]"
     ]
    },
    {
     "name": "stdout",
     "output_type": "stream",
     "text": [
      "Error processing C:\\Users\\lenovo\\Desktop\\sci\\data\\ecg\\ptb_xl\\ptb_xl_npz\\ecg_8467.npz: integer division or modulo by zero\n"
     ]
    },
    {
     "name": "stderr",
     "output_type": "stream",
     "text": [
      "Processing patients:  92%|█████████▏| 17408/18868 [1:59:27<09:02,  2.69it/s]"
     ]
    },
    {
     "name": "stdout",
     "output_type": "stream",
     "text": [
      "Error processing C:\\Users\\lenovo\\Desktop\\sci\\data\\ecg\\ptb_xl\\ptb_xl_npz\\ecg_8476.npz: cannot convert float NaN to integer\n"
     ]
    },
    {
     "name": "stderr",
     "output_type": "stream",
     "text": [
      "Processing patients:  92%|█████████▏| 17439/18868 [1:59:41<08:53,  2.68it/s]"
     ]
    },
    {
     "name": "stdout",
     "output_type": "stream",
     "text": [
      "Error processing C:\\Users\\lenovo\\Desktop\\sci\\data\\ecg\\ptb_xl\\ptb_xl_npz\\ecg_8509.npz: cannot convert float NaN to integer\n"
     ]
    },
    {
     "name": "stderr",
     "output_type": "stream",
     "text": [
      "Processing patients:  92%|█████████▏| 17448/18868 [1:59:44<09:09,  2.59it/s]"
     ]
    },
    {
     "name": "stdout",
     "output_type": "stream",
     "text": [
      "Error processing C:\\Users\\lenovo\\Desktop\\sci\\data\\ecg\\ptb_xl\\ptb_xl_npz\\ecg_8518.npz: cannot convert float NaN to integer\n"
     ]
    },
    {
     "name": "stderr",
     "output_type": "stream",
     "text": [
      "Processing patients:  93%|█████████▎| 17459/18868 [1:59:48<07:54,  2.97it/s]"
     ]
    },
    {
     "name": "stdout",
     "output_type": "stream",
     "text": [
      "Error processing C:\\Users\\lenovo\\Desktop\\sci\\data\\ecg\\ptb_xl\\ptb_xl_npz\\ecg_853.npz: cannot convert float NaN to integer\n"
     ]
    },
    {
     "name": "stderr",
     "output_type": "stream",
     "text": [
      "Processing patients:  93%|█████████▎| 17480/18868 [1:59:57<09:00,  2.57it/s]"
     ]
    },
    {
     "name": "stdout",
     "output_type": "stream",
     "text": [
      "Error processing C:\\Users\\lenovo\\Desktop\\sci\\data\\ecg\\ptb_xl\\ptb_xl_npz\\ecg_8549.npz: cannot convert float NaN to integer\n"
     ]
    },
    {
     "name": "stderr",
     "output_type": "stream",
     "text": [
      "Processing patients:  93%|█████████▎| 17485/18868 [1:59:59<08:13,  2.80it/s]"
     ]
    },
    {
     "name": "stdout",
     "output_type": "stream",
     "text": [
      "Error processing C:\\Users\\lenovo\\Desktop\\sci\\data\\ecg\\ptb_xl\\ptb_xl_npz\\ecg_8553.npz: cannot convert float NaN to integer\n"
     ]
    },
    {
     "name": "stderr",
     "output_type": "stream",
     "text": [
      "Processing patients:  93%|█████████▎| 17509/18868 [2:00:12<13:40,  1.66it/s]"
     ]
    },
    {
     "name": "stdout",
     "output_type": "stream",
     "text": [
      "Error processing C:\\Users\\lenovo\\Desktop\\sci\\data\\ecg\\ptb_xl\\ptb_xl_npz\\ecg_8580.npz: cannot convert float NaN to integer\n"
     ]
    },
    {
     "name": "stderr",
     "output_type": "stream",
     "text": [
      "Processing patients:  93%|█████████▎| 17515/18868 [2:00:14<09:49,  2.30it/s]"
     ]
    },
    {
     "name": "stdout",
     "output_type": "stream",
     "text": [
      "Error processing C:\\Users\\lenovo\\Desktop\\sci\\data\\ecg\\ptb_xl\\ptb_xl_npz\\ecg_8585.npz: cannot convert float NaN to integer\n"
     ]
    },
    {
     "name": "stderr",
     "output_type": "stream",
     "text": [
      "Processing patients:  93%|█████████▎| 17526/18868 [2:00:20<13:10,  1.70it/s]"
     ]
    },
    {
     "name": "stdout",
     "output_type": "stream",
     "text": [
      "Error processing C:\\Users\\lenovo\\Desktop\\sci\\data\\ecg\\ptb_xl\\ptb_xl_npz\\ecg_8597.npz: cannot convert float NaN to integer\n"
     ]
    },
    {
     "name": "stderr",
     "output_type": "stream",
     "text": [
      "Processing patients:  93%|█████████▎| 17552/18868 [2:00:34<09:21,  2.34it/s]"
     ]
    },
    {
     "name": "stdout",
     "output_type": "stream",
     "text": [
      "Error processing C:\\Users\\lenovo\\Desktop\\sci\\data\\ecg\\ptb_xl\\ptb_xl_npz\\ecg_8620.npz: integer division or modulo by zero\n"
     ]
    },
    {
     "name": "stderr",
     "output_type": "stream",
     "text": [
      "Processing patients:  93%|█████████▎| 17553/18868 [2:00:34<08:40,  2.53it/s]"
     ]
    },
    {
     "name": "stdout",
     "output_type": "stream",
     "text": [
      "Error processing C:\\Users\\lenovo\\Desktop\\sci\\data\\ecg\\ptb_xl\\ptb_xl_npz\\ecg_8621.npz: integer division or modulo by zero\n"
     ]
    },
    {
     "name": "stderr",
     "output_type": "stream",
     "text": [
      "Processing patients:  93%|█████████▎| 17564/18868 [2:00:40<11:01,  1.97it/s]"
     ]
    },
    {
     "name": "stdout",
     "output_type": "stream",
     "text": [
      "Error processing C:\\Users\\lenovo\\Desktop\\sci\\data\\ecg\\ptb_xl\\ptb_xl_npz\\ecg_8633.npz: cannot convert float NaN to integer\n"
     ]
    },
    {
     "name": "stderr",
     "output_type": "stream",
     "text": [
      "Processing patients:  93%|█████████▎| 17583/18868 [2:00:50<08:52,  2.41it/s]"
     ]
    },
    {
     "name": "stdout",
     "output_type": "stream",
     "text": [
      "Error processing C:\\Users\\lenovo\\Desktop\\sci\\data\\ecg\\ptb_xl\\ptb_xl_npz\\ecg_8654.npz: cannot convert float NaN to integer\n"
     ]
    },
    {
     "name": "stderr",
     "output_type": "stream",
     "text": [
      "Processing patients:  93%|█████████▎| 17600/18868 [2:01:00<09:35,  2.20it/s]"
     ]
    },
    {
     "name": "stdout",
     "output_type": "stream",
     "text": [
      "Error processing C:\\Users\\lenovo\\Desktop\\sci\\data\\ecg\\ptb_xl\\ptb_xl_npz\\ecg_8671.npz: cannot convert float NaN to integer\n"
     ]
    },
    {
     "name": "stderr",
     "output_type": "stream",
     "text": [
      "Processing patients:  93%|█████████▎| 17604/18868 [2:01:03<11:27,  1.84it/s]"
     ]
    },
    {
     "name": "stdout",
     "output_type": "stream",
     "text": [
      "Error processing C:\\Users\\lenovo\\Desktop\\sci\\data\\ecg\\ptb_xl\\ptb_xl_npz\\ecg_8678.npz: cannot convert float NaN to integer\n"
     ]
    },
    {
     "name": "stderr",
     "output_type": "stream",
     "text": [
      "Processing patients:  93%|█████████▎| 17633/18868 [2:01:18<06:55,  2.97it/s]"
     ]
    },
    {
     "name": "stdout",
     "output_type": "stream",
     "text": [
      "Error processing C:\\Users\\lenovo\\Desktop\\sci\\data\\ecg\\ptb_xl\\ptb_xl_npz\\ecg_8704.npz: integer division or modulo by zero\n",
      "Error processing C:\\Users\\lenovo\\Desktop\\sci\\data\\ecg\\ptb_xl\\ptb_xl_npz\\ecg_8705.npz: integer division or modulo by zero\n"
     ]
    },
    {
     "name": "stderr",
     "output_type": "stream",
     "text": [
      "Processing patients:  93%|█████████▎| 17639/18868 [2:01:22<10:30,  1.95it/s]"
     ]
    },
    {
     "name": "stdout",
     "output_type": "stream",
     "text": [
      "Error processing C:\\Users\\lenovo\\Desktop\\sci\\data\\ecg\\ptb_xl\\ptb_xl_npz\\ecg_8713.npz: cannot convert float NaN to integer\n"
     ]
    },
    {
     "name": "stderr",
     "output_type": "stream",
     "text": [
      "Processing patients:  94%|█████████▎| 17675/18868 [2:01:41<08:35,  2.31it/s]"
     ]
    },
    {
     "name": "stdout",
     "output_type": "stream",
     "text": [
      "Error processing C:\\Users\\lenovo\\Desktop\\sci\\data\\ecg\\ptb_xl\\ptb_xl_npz\\ecg_8755.npz: integer division or modulo by zero\n"
     ]
    },
    {
     "name": "stderr",
     "output_type": "stream",
     "text": [
      "Processing patients:  94%|█████████▍| 17696/18868 [2:01:53<09:56,  1.96it/s]"
     ]
    },
    {
     "name": "stdout",
     "output_type": "stream",
     "text": [
      "Error processing C:\\Users\\lenovo\\Desktop\\sci\\data\\ecg\\ptb_xl\\ptb_xl_npz\\ecg_8779.npz: cannot convert float NaN to integer\n"
     ]
    },
    {
     "name": "stderr",
     "output_type": "stream",
     "text": [
      "Processing patients:  94%|█████████▍| 17734/18868 [2:02:14<10:02,  1.88it/s]"
     ]
    },
    {
     "name": "stdout",
     "output_type": "stream",
     "text": [
      "Error processing C:\\Users\\lenovo\\Desktop\\sci\\data\\ecg\\ptb_xl\\ptb_xl_npz\\ecg_8820.npz: cannot convert float NaN to integer\n"
     ]
    },
    {
     "name": "stderr",
     "output_type": "stream",
     "text": [
      "Processing patients:  94%|█████████▍| 17736/18868 [2:02:14<07:27,  2.53it/s]"
     ]
    },
    {
     "name": "stdout",
     "output_type": "stream",
     "text": [
      "Error processing C:\\Users\\lenovo\\Desktop\\sci\\data\\ecg\\ptb_xl\\ptb_xl_npz\\ecg_8821.npz: cannot convert float NaN to integer\n"
     ]
    },
    {
     "name": "stderr",
     "output_type": "stream",
     "text": [
      "Processing patients:  94%|█████████▍| 17821/18868 [2:03:02<09:29,  1.84it/s]"
     ]
    },
    {
     "name": "stdout",
     "output_type": "stream",
     "text": [
      "Error processing C:\\Users\\lenovo\\Desktop\\sci\\data\\ecg\\ptb_xl\\ptb_xl_npz\\ecg_8910.npz: cannot convert float NaN to integer\n"
     ]
    },
    {
     "name": "stderr",
     "output_type": "stream",
     "text": [
      "Processing patients:  95%|█████████▍| 17905/18868 [2:03:49<08:01,  2.00it/s]"
     ]
    },
    {
     "name": "stdout",
     "output_type": "stream",
     "text": [
      "Error processing C:\\Users\\lenovo\\Desktop\\sci\\data\\ecg\\ptb_xl\\ptb_xl_npz\\ecg_8996.npz: cannot convert float NaN to integer\n"
     ]
    },
    {
     "name": "stderr",
     "output_type": "stream",
     "text": [
      "Processing patients:  95%|█████████▍| 17907/18868 [2:03:50<08:09,  1.97it/s]"
     ]
    },
    {
     "name": "stdout",
     "output_type": "stream",
     "text": [
      "Error processing C:\\Users\\lenovo\\Desktop\\sci\\data\\ecg\\ptb_xl\\ptb_xl_npz\\ecg_8998.npz: cannot convert float NaN to integer\n"
     ]
    },
    {
     "name": "stderr",
     "output_type": "stream",
     "text": [
      "Processing patients:  95%|█████████▌| 17925/18868 [2:04:00<07:07,  2.20it/s]"
     ]
    },
    {
     "name": "stdout",
     "output_type": "stream",
     "text": [
      "Error processing C:\\Users\\lenovo\\Desktop\\sci\\data\\ecg\\ptb_xl\\ptb_xl_npz\\ecg_9017.npz: integer division or modulo by zero\n"
     ]
    },
    {
     "name": "stderr",
     "output_type": "stream",
     "text": [
      "Processing patients:  95%|█████████▌| 17966/18868 [2:04:23<07:14,  2.08it/s]"
     ]
    },
    {
     "name": "stdout",
     "output_type": "stream",
     "text": [
      "Error processing C:\\Users\\lenovo\\Desktop\\sci\\data\\ecg\\ptb_xl\\ptb_xl_npz\\ecg_9058.npz: cannot convert float NaN to integer\n"
     ]
    },
    {
     "name": "stderr",
     "output_type": "stream",
     "text": [
      "Processing patients:  96%|█████████▌| 18022/18868 [2:04:54<05:54,  2.38it/s]"
     ]
    },
    {
     "name": "stdout",
     "output_type": "stream",
     "text": [
      "Error processing C:\\Users\\lenovo\\Desktop\\sci\\data\\ecg\\ptb_xl\\ptb_xl_npz\\ecg_9114.npz: cannot convert float NaN to integer\n"
     ]
    },
    {
     "name": "stderr",
     "output_type": "stream",
     "text": [
      "Processing patients:  96%|█████████▌| 18034/18868 [2:05:00<06:02,  2.30it/s]"
     ]
    },
    {
     "name": "stdout",
     "output_type": "stream",
     "text": [
      "Error processing C:\\Users\\lenovo\\Desktop\\sci\\data\\ecg\\ptb_xl\\ptb_xl_npz\\ecg_913.npz: cannot convert float NaN to integer\n"
     ]
    },
    {
     "name": "stderr",
     "output_type": "stream",
     "text": [
      "Processing patients:  96%|█████████▌| 18041/18868 [2:05:04<06:27,  2.13it/s]"
     ]
    },
    {
     "name": "stdout",
     "output_type": "stream",
     "text": [
      "Error processing C:\\Users\\lenovo\\Desktop\\sci\\data\\ecg\\ptb_xl\\ptb_xl_npz\\ecg_9137.npz: cannot convert float NaN to integer\n"
     ]
    },
    {
     "name": "stderr",
     "output_type": "stream",
     "text": [
      "Processing patients:  96%|█████████▋| 18195/18868 [2:06:32<05:35,  2.00it/s]"
     ]
    },
    {
     "name": "stdout",
     "output_type": "stream",
     "text": [
      "Error processing C:\\Users\\lenovo\\Desktop\\sci\\data\\ecg\\ptb_xl\\ptb_xl_npz\\ecg_9300.npz: cannot convert float NaN to integer\n"
     ]
    },
    {
     "name": "stderr",
     "output_type": "stream",
     "text": [
      "Processing patients:  97%|█████████▋| 18281/18868 [2:07:19<04:43,  2.07it/s]"
     ]
    },
    {
     "name": "stdout",
     "output_type": "stream",
     "text": [
      "Error processing C:\\Users\\lenovo\\Desktop\\sci\\data\\ecg\\ptb_xl\\ptb_xl_npz\\ecg_9386.npz: cannot convert float NaN to integer\n"
     ]
    },
    {
     "name": "stderr",
     "output_type": "stream",
     "text": [
      "Processing patients:  97%|█████████▋| 18285/18868 [2:07:21<04:47,  2.03it/s]"
     ]
    },
    {
     "name": "stdout",
     "output_type": "stream",
     "text": [
      "Error processing C:\\Users\\lenovo\\Desktop\\sci\\data\\ecg\\ptb_xl\\ptb_xl_npz\\ecg_939.npz: cannot convert float NaN to integer\n"
     ]
    },
    {
     "name": "stderr",
     "output_type": "stream",
     "text": [
      "Processing patients:  97%|█████████▋| 18288/18868 [2:07:23<04:42,  2.06it/s]"
     ]
    },
    {
     "name": "stdout",
     "output_type": "stream",
     "text": [
      "Error processing C:\\Users\\lenovo\\Desktop\\sci\\data\\ecg\\ptb_xl\\ptb_xl_npz\\ecg_9392.npz: cannot convert float NaN to integer\n"
     ]
    },
    {
     "name": "stderr",
     "output_type": "stream",
     "text": [
      "Processing patients:  97%|█████████▋| 18294/18868 [2:07:26<04:17,  2.23it/s]"
     ]
    },
    {
     "name": "stdout",
     "output_type": "stream",
     "text": [
      "Error processing C:\\Users\\lenovo\\Desktop\\sci\\data\\ecg\\ptb_xl\\ptb_xl_npz\\ecg_9399.npz: cannot convert float NaN to integer\n"
     ]
    },
    {
     "name": "stderr",
     "output_type": "stream",
     "text": [
      "Processing patients:  97%|█████████▋| 18344/18868 [2:07:55<04:31,  1.93it/s]"
     ]
    },
    {
     "name": "stdout",
     "output_type": "stream",
     "text": [
      "Error processing C:\\Users\\lenovo\\Desktop\\sci\\data\\ecg\\ptb_xl\\ptb_xl_npz\\ecg_9451.npz: cannot convert float NaN to integer\n"
     ]
    },
    {
     "name": "stderr",
     "output_type": "stream",
     "text": [
      "Processing patients:  97%|█████████▋| 18359/18868 [2:08:03<03:40,  2.30it/s]"
     ]
    },
    {
     "name": "stdout",
     "output_type": "stream",
     "text": [
      "Error processing C:\\Users\\lenovo\\Desktop\\sci\\data\\ecg\\ptb_xl\\ptb_xl_npz\\ecg_9469.npz: integer division or modulo by zero\n"
     ]
    },
    {
     "name": "stderr",
     "output_type": "stream",
     "text": [
      "Processing patients:  97%|█████████▋| 18361/18868 [2:08:04<03:59,  2.11it/s]"
     ]
    },
    {
     "name": "stdout",
     "output_type": "stream",
     "text": [
      "Error processing C:\\Users\\lenovo\\Desktop\\sci\\data\\ecg\\ptb_xl\\ptb_xl_npz\\ecg_9470.npz: cannot convert float NaN to integer\n"
     ]
    },
    {
     "name": "stderr",
     "output_type": "stream",
     "text": [
      "Processing patients:  97%|█████████▋| 18394/18868 [2:08:23<05:18,  1.49it/s]"
     ]
    },
    {
     "name": "stdout",
     "output_type": "stream",
     "text": [
      "Error processing C:\\Users\\lenovo\\Desktop\\sci\\data\\ecg\\ptb_xl\\ptb_xl_npz\\ecg_9504.npz: cannot convert float NaN to integer\n"
     ]
    },
    {
     "name": "stderr",
     "output_type": "stream",
     "text": [
      "Processing patients:  98%|█████████▊| 18400/18868 [2:08:26<03:28,  2.24it/s]"
     ]
    },
    {
     "name": "stdout",
     "output_type": "stream",
     "text": [
      "Error processing C:\\Users\\lenovo\\Desktop\\sci\\data\\ecg\\ptb_xl\\ptb_xl_npz\\ecg_9509.npz: cannot convert float NaN to integer\n"
     ]
    },
    {
     "name": "stderr",
     "output_type": "stream",
     "text": [
      "Processing patients:  98%|█████████▊| 18409/18868 [2:08:31<03:42,  2.07it/s]"
     ]
    },
    {
     "name": "stdout",
     "output_type": "stream",
     "text": [
      "Error processing C:\\Users\\lenovo\\Desktop\\sci\\data\\ecg\\ptb_xl\\ptb_xl_npz\\ecg_9518.npz: cannot convert float NaN to integer\n"
     ]
    },
    {
     "name": "stderr",
     "output_type": "stream",
     "text": [
      "Processing patients:  98%|█████████▊| 18414/18868 [2:08:33<03:42,  2.04it/s]"
     ]
    },
    {
     "name": "stdout",
     "output_type": "stream",
     "text": [
      "Error processing C:\\Users\\lenovo\\Desktop\\sci\\data\\ecg\\ptb_xl\\ptb_xl_npz\\ecg_9522.npz: cannot convert float NaN to integer\n"
     ]
    },
    {
     "name": "stderr",
     "output_type": "stream",
     "text": [
      "Processing patients:  98%|█████████▊| 18417/18868 [2:08:35<02:59,  2.52it/s]"
     ]
    },
    {
     "name": "stdout",
     "output_type": "stream",
     "text": [
      "Error processing C:\\Users\\lenovo\\Desktop\\sci\\data\\ecg\\ptb_xl\\ptb_xl_npz\\ecg_9525.npz: integer division or modulo by zero\n"
     ]
    },
    {
     "name": "stderr",
     "output_type": "stream",
     "text": [
      "Processing patients:  98%|█████████▊| 18487/18868 [2:09:15<02:42,  2.34it/s]"
     ]
    },
    {
     "name": "stdout",
     "output_type": "stream",
     "text": [
      "Error processing C:\\Users\\lenovo\\Desktop\\sci\\data\\ecg\\ptb_xl\\ptb_xl_npz\\ecg_960.npz: cannot convert float NaN to integer\n"
     ]
    },
    {
     "name": "stderr",
     "output_type": "stream",
     "text": [
      "Processing patients:  98%|█████████▊| 18500/18868 [2:09:22<02:40,  2.29it/s]"
     ]
    },
    {
     "name": "stdout",
     "output_type": "stream",
     "text": [
      "Error processing C:\\Users\\lenovo\\Desktop\\sci\\data\\ecg\\ptb_xl\\ptb_xl_npz\\ecg_9611.npz: cannot convert float NaN to integer\n"
     ]
    },
    {
     "name": "stderr",
     "output_type": "stream",
     "text": [
      "Processing patients:  98%|█████████▊| 18506/18868 [2:09:25<03:31,  1.71it/s]"
     ]
    },
    {
     "name": "stdout",
     "output_type": "stream",
     "text": [
      "Error processing C:\\Users\\lenovo\\Desktop\\sci\\data\\ecg\\ptb_xl\\ptb_xl_npz\\ecg_9618.npz: cannot convert float NaN to integer\n"
     ]
    },
    {
     "name": "stderr",
     "output_type": "stream",
     "text": [
      "Processing patients:  98%|█████████▊| 18523/18868 [2:09:34<02:26,  2.36it/s]"
     ]
    },
    {
     "name": "stdout",
     "output_type": "stream",
     "text": [
      "Error processing C:\\Users\\lenovo\\Desktop\\sci\\data\\ecg\\ptb_xl\\ptb_xl_npz\\ecg_9632.npz: cannot convert float NaN to integer\n"
     ]
    },
    {
     "name": "stderr",
     "output_type": "stream",
     "text": [
      "Processing patients:  98%|█████████▊| 18555/18868 [2:09:52<02:09,  2.42it/s]"
     ]
    },
    {
     "name": "stdout",
     "output_type": "stream",
     "text": [
      "Error processing C:\\Users\\lenovo\\Desktop\\sci\\data\\ecg\\ptb_xl\\ptb_xl_npz\\ecg_9665.npz: cannot convert float NaN to integer\n"
     ]
    },
    {
     "name": "stderr",
     "output_type": "stream",
     "text": [
      "Processing patients:  99%|█████████▊| 18585/18868 [2:10:10<02:31,  1.87it/s]"
     ]
    },
    {
     "name": "stdout",
     "output_type": "stream",
     "text": [
      "Error processing C:\\Users\\lenovo\\Desktop\\sci\\data\\ecg\\ptb_xl\\ptb_xl_npz\\ecg_9696.npz: cannot convert float NaN to integer\n"
     ]
    },
    {
     "name": "stderr",
     "output_type": "stream",
     "text": [
      "Processing patients:  99%|█████████▊| 18596/18868 [2:10:16<02:19,  1.95it/s]"
     ]
    },
    {
     "name": "stdout",
     "output_type": "stream",
     "text": [
      "Error processing C:\\Users\\lenovo\\Desktop\\sci\\data\\ecg\\ptb_xl\\ptb_xl_npz\\ecg_9708.npz: integer division or modulo by zero\n"
     ]
    },
    {
     "name": "stderr",
     "output_type": "stream",
     "text": [
      "Processing patients:  99%|█████████▊| 18615/18868 [2:10:26<02:09,  1.95it/s]"
     ]
    },
    {
     "name": "stdout",
     "output_type": "stream",
     "text": [
      "Error processing C:\\Users\\lenovo\\Desktop\\sci\\data\\ecg\\ptb_xl\\ptb_xl_npz\\ecg_9733.npz: cannot convert float NaN to integer\n"
     ]
    },
    {
     "name": "stderr",
     "output_type": "stream",
     "text": [
      "Processing patients:  99%|█████████▊| 18630/18868 [2:10:34<01:44,  2.28it/s]"
     ]
    },
    {
     "name": "stdout",
     "output_type": "stream",
     "text": [
      "Error processing C:\\Users\\lenovo\\Desktop\\sci\\data\\ecg\\ptb_xl\\ptb_xl_npz\\ecg_9748.npz: cannot convert float NaN to integer\n"
     ]
    },
    {
     "name": "stderr",
     "output_type": "stream",
     "text": [
      "Processing patients:  99%|█████████▉| 18691/18868 [2:11:09<01:25,  2.06it/s]"
     ]
    },
    {
     "name": "stdout",
     "output_type": "stream",
     "text": [
      "Error processing C:\\Users\\lenovo\\Desktop\\sci\\data\\ecg\\ptb_xl\\ptb_xl_npz\\ecg_9814.npz: cannot convert float NaN to integer\n"
     ]
    },
    {
     "name": "stderr",
     "output_type": "stream",
     "text": [
      "Processing patients:  99%|█████████▉| 18719/18868 [2:11:25<01:31,  1.63it/s]"
     ]
    },
    {
     "name": "stdout",
     "output_type": "stream",
     "text": [
      "Error processing C:\\Users\\lenovo\\Desktop\\sci\\data\\ecg\\ptb_xl\\ptb_xl_npz\\ecg_9843.npz: integer division or modulo by zero\n"
     ]
    },
    {
     "name": "stderr",
     "output_type": "stream",
     "text": [
      "Processing patients: 100%|█████████▉| 18816/18868 [2:12:20<00:26,  1.96it/s]"
     ]
    },
    {
     "name": "stdout",
     "output_type": "stream",
     "text": [
      "Error processing C:\\Users\\lenovo\\Desktop\\sci\\data\\ecg\\ptb_xl\\ptb_xl_npz\\ecg_9941.npz: cannot convert float NaN to integer\n"
     ]
    },
    {
     "name": "stderr",
     "output_type": "stream",
     "text": [
      "Processing patients: 100%|█████████▉| 18818/18868 [2:12:21<00:23,  2.12it/s]"
     ]
    },
    {
     "name": "stdout",
     "output_type": "stream",
     "text": [
      "Error processing C:\\Users\\lenovo\\Desktop\\sci\\data\\ecg\\ptb_xl\\ptb_xl_npz\\ecg_9947.npz: cannot convert float NaN to integer\n"
     ]
    },
    {
     "name": "stderr",
     "output_type": "stream",
     "text": [
      "Processing patients: 100%|█████████▉| 18820/18868 [2:12:22<00:22,  2.17it/s]"
     ]
    },
    {
     "name": "stdout",
     "output_type": "stream",
     "text": [
      "Error processing C:\\Users\\lenovo\\Desktop\\sci\\data\\ecg\\ptb_xl\\ptb_xl_npz\\ecg_9949.npz: cannot convert float NaN to integer\n"
     ]
    },
    {
     "name": "stderr",
     "output_type": "stream",
     "text": [
      "Processing patients: 100%|█████████▉| 18821/18868 [2:12:22<00:18,  2.51it/s]"
     ]
    },
    {
     "name": "stdout",
     "output_type": "stream",
     "text": [
      "Error processing C:\\Users\\lenovo\\Desktop\\sci\\data\\ecg\\ptb_xl\\ptb_xl_npz\\ecg_995.npz: cannot convert float NaN to integer\n"
     ]
    },
    {
     "name": "stderr",
     "output_type": "stream",
     "text": [
      "Processing patients: 100%|██████████| 18868/18868 [2:12:49<00:00,  2.37it/s]\n"
     ]
    }
   ],
   "source": [
    "average_signals = get_average_signals_by_age(path_to_zip / 'ptb_xl_npz')"
   ]
  },
  {
   "cell_type": "code",
   "execution_count": 14,
   "id": "8a6779b3",
   "metadata": {},
   "outputs": [
    {
     "name": "stdout",
     "output_type": "stream",
     "text": [
      "Results saved to C:\\Users\\lenovo\\Desktop\\sci\\data\\ecg\\ptb_xl\\signal_age_group\n"
     ]
    },
    {
     "data": {
      "text/plain": [
       "WindowsPath('C:/Users/lenovo/Desktop/sci/data/ecg/ptb_xl/signal_age_group')"
      ]
     },
     "execution_count": 14,
     "metadata": {},
     "output_type": "execute_result"
    }
   ],
   "source": [
    "def save_age_group_data(age_data, output_dir):\n",
    "    output_dir = Path(output_dir)\n",
    "    output_dir.mkdir(parents=True, exist_ok=True)\n",
    "    \n",
    "    np.savez(output_dir / \"age_group_signal.npz\", age_data=age_data)\n",
    "    \n",
    "    for age, channels_data in age_data.items():\n",
    "        age_dir = output_dir / str(age)\n",
    "        age_dir.mkdir(exist_ok=True)\n",
    "        \n",
    "        for channel, signals in channels_data.items():\n",
    "            if len(signals) > 0:\n",
    "                final_avg_signal = np.mean(signals, axis=0)\n",
    "                np.savez(\n",
    "                    age_dir / f\"{channel}_avg.npz\",\n",
    "                    signal=final_avg_signal,\n",
    "                    age=age,\n",
    "                    channel=channel,\n",
    "                    num_patients=len(signals)\n",
    "                )\n",
    "    \n",
    "    print(f\"Results saved to {output_dir}\")\n",
    "    return output_dir\n",
    "\n",
    "save_age_group_data(average_signals, path_to_zip / 'signal_age_group')\n"
   ]
  },
  {
   "cell_type": "code",
   "execution_count": null,
   "id": "cedf626b",
   "metadata": {},
   "outputs": [],
   "source": []
  },
  {
   "cell_type": "code",
   "execution_count": 25,
   "id": "8dc5839a",
   "metadata": {},
   "outputs": [],
   "source": [
    "import numpy as np\n",
    "from pathlib import Path\n",
    "import matplotlib.pyplot as plt\n",
    "\n",
    "def plot_average_signals(age_data, fs=500, plot_dir='ptb_xl_plots'):\n",
    "       \n",
    "    for age_group, channels_data in age_data.items():\n",
    "        for channel, signals in channels_data.items():\n",
    "            if not signals:\n",
    "                continue\n",
    "                \n",
    "            signals_array = np.array(signals)\n",
    "            mean_signal = np.mean(signals_array, axis=0)\n",
    "            median_signal = np.median(signals_array, axis=0)\n",
    "            std_signal = np.std(signals_array, axis=0)\n",
    "            time = np.arange(len(mean_signal)) / fs\n",
    "            \n",
    "            plt.figure(figsize=(12, 6))\n",
    "            plt.plot(time, mean_signal, label='Mean Signal')\n",
    "            plt.fill_between(time, mean_signal - std_signal, mean_signal + std_signal, alpha=0.3, label='Standard Deviation')\n",
    "            plt.title(f\"Age Group {age_group} - {channel}\\nAverage ECG Signal\")\n",
    "            plt.xlabel(\"Time (s)\")\n",
    "            plt.ylabel(\"Amplitude\")\n",
    "            plt.legend()\n",
    "            plt.grid(True)\n",
    "            safe_age = str(age_group).replace(\" \", \"_\").replace(\"-\", \"_\")\n",
    "            safe_channel = channel.replace(\" \", \"_\").replace(\"-\", \"_\")\n",
    "            plt.savefig(plot_dir / f\"avg_{safe_age}_{safe_channel}.png\")\n",
    "            plt.close()\n",
    "            \n",
    "            plt.figure(figsize=(12, 6))\n",
    "            plt.plot(time, median_signal, label='Median Signal')\n",
    "            plt.fill_between(time, median_signal - std_signal, median_signal + std_signal, alpha=0.3, label='Standard Deviation')\n",
    "            plt.title(f\"Age Group {age_group} - {channel}\\nMedian ECG Signal\")\n",
    "            plt.xlabel(\"Time (s)\")\n",
    "            plt.ylabel(\"Amplitude\")\n",
    "            plt.legend()\n",
    "            plt.grid(True)\n",
    "\n",
    "            save_dir = Path(plot_dir) / f'{safe_age}'\n",
    "            save_dir.mkdir(parents=True, exist_ok=True)\n",
    "            plt.savefig(save_dir / f\"median_{safe_age}_{safe_channel}.png\")\n",
    "            plt.close()\n",
    "        #break\n",
    "\n",
    "\n",
    "plot_average_signals(average_signals, plot_dir = path_to_zip / 'plots' / 'signal_age_group' / '1_y')"
   ]
  },
  {
   "cell_type": "code",
   "execution_count": 31,
   "id": "bba62a5a",
   "metadata": {},
   "outputs": [],
   "source": [
    "import numpy as np\n",
    "import matplotlib.pyplot as plt\n",
    "from matplotlib.cm import ScalarMappable\n",
    "from matplotlib.colors import Normalize\n",
    "from pathlib import Path\n",
    "\n",
    "def plot_all_average_signals(age_data, fs=500, plot_dir='ptb_xl_plots', channel='I'):\n",
    "    plot_dir = Path(plot_dir)\n",
    "    plot_dir.mkdir(parents=True, exist_ok=True)\n",
    "    \n",
    "    filtered_age_data = {\n",
    "        age: channels \n",
    "        for age, channels in age_data.items() \n",
    "        if isinstance(age, (int, float)) and age <= 100\n",
    "    }\n",
    "    \n",
    "    if not filtered_age_data:\n",
    "        print(\"No age groups <= 100 years found\")\n",
    "        return\n",
    "    \n",
    "    sorted_age_groups = sorted(filtered_age_data.keys())\n",
    "    min_age = min(sorted_age_groups)\n",
    "    max_age = max(sorted_age_groups)\n",
    "    norm = Normalize(vmin=min_age, vmax=max_age)\n",
    "    cmap = plt.get_cmap('viridis')\n",
    "    \n",
    "    fig, ax = plt.subplots(figsize=(14, 8))\n",
    "    \n",
    "    lines = []\n",
    "    for age_group in sorted_age_groups:\n",
    "        if channel not in filtered_age_data[age_group]:\n",
    "            continue\n",
    "            \n",
    "        signals = filtered_age_data[age_group][channel]\n",
    "        if not signals:\n",
    "            continue\n",
    "            \n",
    "        mean_signal = np.mean(np.array(signals), axis=0)\n",
    "        time = np.arange(len(mean_signal)) / fs\n",
    "        \n",
    "        line, = ax.plot(time, mean_signal, \n",
    "                       color=cmap(norm(age_group)),\n",
    "                       alpha=0.8,\n",
    "                       linewidth=1.5,\n",
    "                       label=f'{age_group} years')\n",
    "        lines.append(line)\n",
    "    \n",
    "    if not lines:\n",
    "        plt.close()\n",
    "        return\n",
    "    \n",
    "    sm = ScalarMappable(cmap=cmap, norm=norm)\n",
    "    sm.set_array([])\n",
    "    fig.colorbar(sm, ax=ax).set_label('Age (years)')\n",
    "    \n",
    "    ax.set_title(f'Average ECG Signals by Age Group (Channel {channel})')\n",
    "    ax.set_xlabel('Time (s)')\n",
    "    ax.set_ylabel('Amplitude')\n",
    "    ax.grid(True, alpha=0.3)\n",
    "    \n",
    "    safe_channel = channel.replace(\" \", \"_\").replace(\"-\", \"_\")\n",
    "    plt.savefig(plot_dir / f'all_avg_signals_{safe_channel}.png', dpi=300, bbox_inches='tight')\n",
    "    plt.close()\n",
    "\n",
    "plot_all_average_signals(average_signals, plot_dir = path_to_zip / 'plots' / 'signal_age_group' / '1_y'/'all')"
   ]
  },
  {
   "cell_type": "code",
   "execution_count": 32,
   "id": "93c4a69c",
   "metadata": {},
   "outputs": [],
   "source": [
    "def plot_all_average_signals_for_channels(age_data, fs=500, plot_dir='ptb_xl_plots', channel_names=None):\n",
    "    if channel_names is None:\n",
    "        channel_names = ['I', 'II', 'III', 'aVR', 'aVL', 'aVF', 'V1', 'V2', 'V3', 'V4', 'V5', 'V6']\n",
    "    \n",
    "    plot_dir = Path(plot_dir)\n",
    "    plot_dir.mkdir(parents=True, exist_ok=True)\n",
    "    \n",
    "    filtered_age_data = {\n",
    "        age: channels \n",
    "        for age, channels in age_data.items() \n",
    "        if isinstance(age, (int, float)) and age <= 100\n",
    "    }\n",
    "    \n",
    "    if not filtered_age_data:\n",
    "        print(\"No age groups <= 100 years found\")\n",
    "        return\n",
    "    \n",
    "    sorted_age_groups = sorted(filtered_age_data.keys())\n",
    "    min_age = min(sorted_age_groups)\n",
    "    max_age = max(sorted_age_groups)\n",
    "    norm = Normalize(vmin=min_age, vmax=max_age)\n",
    "    cmap = plt.get_cmap('viridis')\n",
    "    \n",
    "    for channel in channel_names:\n",
    "        fig, ax = plt.subplots(figsize=(14, 8))\n",
    "        \n",
    "        lines = []\n",
    "        for age_group in sorted_age_groups:\n",
    "            if channel not in filtered_age_data[age_group]:\n",
    "                continue\n",
    "                \n",
    "            signals = filtered_age_data[age_group][channel]\n",
    "            if not signals:\n",
    "                continue\n",
    "                \n",
    "            mean_signal = np.mean(np.array(signals), axis=0)\n",
    "            time = np.arange(len(mean_signal)) / fs\n",
    "            \n",
    "            line, = ax.plot(time, mean_signal, \n",
    "                          color=cmap(norm(age_group)),\n",
    "                          alpha=0.8,\n",
    "                          linewidth=1.5,\n",
    "                          label=f'{age_group} years')\n",
    "            lines.append(line)\n",
    "        \n",
    "        if not lines:\n",
    "            plt.close()\n",
    "            continue\n",
    "        \n",
    "        sm = ScalarMappable(cmap=cmap, norm=norm)\n",
    "        sm.set_array([])\n",
    "        fig.colorbar(sm, ax=ax).set_label('Age (years)')\n",
    "        \n",
    "        ax.set_title(f'Average ECG Signals by Age Group (Channel {channel})')\n",
    "        ax.set_xlabel('Time (s)')\n",
    "        ax.set_ylabel('Amplitude')\n",
    "        ax.grid(True, alpha=0.3)\n",
    "        \n",
    "        safe_channel = channel.replace(\" \", \"_\").replace(\"-\", \"_\")\n",
    "        plt.savefig(plot_dir / f'all_avg_signals_{safe_channel}.png', dpi=300, bbox_inches='tight')\n",
    "        plt.close()\n",
    "\n",
    "plot_all_average_signals_for_channels(\n",
    "    average_signals, \n",
    "    plot_dir=path_to_zip / 'plots' / 'signal_age_group' / '1_y' / 'all',\n",
    "    channel_names=['I', 'II', 'III', 'aVR', 'aVL', 'aVF', 'V1', 'V2', 'V3', 'V4', 'V5', 'V6']\n",
    ")"
   ]
  },
  {
   "cell_type": "code",
   "execution_count": 38,
   "id": "d1685397",
   "metadata": {},
   "outputs": [],
   "source": [
    "def plot_all_channels_for_age_groups(age_data, fs=500, plot_dir='ptb_xl_plots', channel_names=None, highlight_channels=['II']):\n",
    "    if channel_names is None:\n",
    "        channel_names = ['I', 'II', 'III', 'aVR', 'aVL', 'aVF', 'V1', 'V2', 'V3', 'V4', 'V5', 'V6']\n",
    "    \n",
    "    plot_dir = Path(plot_dir)\n",
    "    plot_dir.mkdir(parents=True, exist_ok=True)\n",
    "    \n",
    "    filtered_age_data = {\n",
    "        age: channels \n",
    "        for age, channels in age_data.items() \n",
    "        if isinstance(age, (int, float)) and age <= 100\n",
    "    }\n",
    "    \n",
    "    #colors = plt.cm.tab20(np.linspace(0, 1, len(channel_names)))\n",
    "    colors = plt.cm.gist_ncar(np.linspace(0, 1, len(channel_names)))\n",
    "    colors[0] = (0, 0.75, 1, 1) \n",
    "    colors[-1] = (0, 0, 0, 1)\n",
    "    \n",
    "    for age_group, channels_data in filtered_age_data.items():\n",
    "        if not any(channels_data.get(channel, []) for channel in channel_names):\n",
    "            continue\n",
    "            \n",
    "        fig, ax = plt.subplots(figsize=(16, 8))\n",
    "        all_signals = []\n",
    "        for i, channel in enumerate(channel_names):\n",
    "            signals = channels_data.get(channel, [])\n",
    "            if not signals:\n",
    "                continue\n",
    "                \n",
    "            mean_signal = np.mean(np.array(signals), axis=0)\n",
    "            time = np.arange(len(mean_signal)) / fs\n",
    "            linewidth = 3.5 if channel in highlight_channels else 1.5\n",
    "            linestyle = '-' if channel in highlight_channels else '--'\n",
    "            \n",
    "            ax.plot(time, mean_signal, \n",
    "                   color=colors[i],\n",
    "                   alpha=0.9,\n",
    "                   linewidth=linewidth,\n",
    "                   linestyle=linestyle,\n",
    "                   label=channel)\n",
    "            \n",
    "            all_signals.append(mean_signal)\n",
    "        \n",
    "        if not all_signals:\n",
    "            plt.close()\n",
    "            continue\n",
    "        \n",
    "        ax.set_title(f'Average ECG Signals for Age {age_group} years')\n",
    "        ax.set_xlabel('Time (s)')\n",
    "        ax.set_ylabel('Amplitude')\n",
    "        ax.legend(loc='upper right')\n",
    "        ax.grid(True, alpha=0.3)\n",
    "        \n",
    "        safe_age = str(age_group).replace(\" \", \"_\").replace(\"-\", \"_\")\n",
    "        plt.savefig(plot_dir / f'all_channels_age_{safe_age}.png', dpi=300, bbox_inches='tight')\n",
    "        plt.close()\n",
    "plot_all_channels_for_age_groups(\n",
    "    average_signals,\n",
    "    plot_dir=path_to_zip / 'plots' / 'signal_age_group' / '1_y' / 'all_channels',\n",
    "    channel_names=['I', 'II', 'III', 'aVR', 'aVL', 'aVF', 'V1', 'V2', 'V3', 'V4', 'V5', 'V6']\n",
    ")"
   ]
  },
  {
   "cell_type": "code",
   "execution_count": null,
   "id": "a0379fca",
   "metadata": {},
   "outputs": [
    {
     "data": {
      "text/plain": [
       "'\\ndef plot_ecg_cycle_with_features(cycle, signal, fs, cycle_num=0):\\n    fig, ax = plt.subplots(figsize=(15, 8))\\n\\n    # 1. Автоматическое определение границ цикла --------------------------------------\\n    available_points = []\\n    for point in [\\'ECG_P_Onsets\\', \\'ECG_Q_Peaks\\', \\'ECG_R_Peaks\\', \\'ECG_S_Peaks\\', \\'ECG_T_Offsets\\']:\\n        if point in cycle and len(cycle[point]) > 0:\\n            available_points.append(int(cycle[point][0]))\\n\\n    if not available_points:\\n        print(f\"Цикл {cycle_num}: нет точек для отрисовки\")\\n        return fig\\n\\n    # Границы цикла (с запасом 10% по краям)\\n    start = max(0, min(available_points) - int(0.1*fs))\\n    end = min(len(signal), max(available_points) + int(0.1*fs))\\n\\n    # 2. Отрисовка сигнала ----------------------------------------------------------\\n    time = np.arange(start, end) / fs\\n    ax.plot(time, signal[start:end], \\'b-\\', linewidth=1.5, label=\\'ЭКГ сигнал\\')\\n\\n    # 3. Разметка точек (только существующие) ---------------------------------------\\n    point_style = {\\n        \\'ECG_P_Onsets\\': (\\'<\\', \\'green\\', \\'P начало\\'),\\n        \\'ECG_P_Peaks\\': (\\'o\\', \\'lime\\', \\'P пик\\'),\\n        \\'ECG_P_Offsets\\': (\\'>\\', \\'darkgreen\\', \\'P конец\\'),\\n        \\'ECG_Q_Peaks\\': (\\'x\\', \\'red\\', \\'Q\\'),\\n        \\'ECG_R_Peaks\\': (\\'o\\', \\'black\\', \\'R\\'),\\n        \\'ECG_S_Peaks\\': (\\'x\\', \\'blue\\', \\'S\\'),\\n        \\'ECG_T_Onsets\\': (\\'<\\', \\'purple\\', \\'T начало\\'),\\n        \\'ECG_T_Peaks\\': (\\'o\\', \\'magenta\\', \\'T пик\\'),\\n        \\'ECG_T_Offsets\\': (\\'>\\', \\'darkviolet\\', \\'T конец\\')\\n    }\\n\\n    for point, (marker, color, label) in point_style.items():\\n        if point in cycle and len(cycle[point]) > 0:\\n            x = cycle[point][0] / fs\\n            y = signal[int(cycle[point][0])]\\n            ax.plot(x, y, marker=marker, color=color, markersize=10, label=label)\\n\\n    # 4. Отрисовка интервалов (только для существующих пар) -------------------------\\n    def draw_interval_if_exists(start_point, end_point, y_pos, label):\\n        if (start_point in cycle and len(cycle[start_point]) > 0 and \\n            end_point in cycle and len(cycle[end_point]) > 0):\\n            x1 = cycle[start_point][0] / fs\\n            x2 = cycle[end_point][0] / fs\\n            ax.add_patch(Rectangle((x1, y_pos), x2-x1, 0.1, alpha=0.3, color=\\'gray\\'))\\n            ax.text((x1+x2)/2, y_pos+0.15, f\\'{label}\\n{(x2-x1)*1000:.1f} мс\\', \\n                    ha=\\'center\\', va=\\'bottom\\', fontsize=9, bbox=dict(facecolor=\\'white\\', alpha=0.7))\\n\\n    y_min = np.min(signal[start:end])\\n    draw_interval_if_exists(\\'ECG_P_Onsets\\', \\'ECG_P_Offsets\\', y_min-0.3, \\'P\\')\\n    draw_interval_if_exists(\\'ECG_Q_Peaks\\', \\'ECG_S_Peaks\\', y_min-0.5, \\'QRS\\')\\n    draw_interval_if_exists(\\'ECG_Q_Peaks\\', \\'ECG_T_Offsets\\', y_min-0.7, \\'QT\\')\\n\\n    # 5. Настройка графика ----------------------------------------------------------\\n    ax.set_xlabel(\\'Время (с)\\', fontsize=12)\\n    ax.set_ylabel(\\'Амплитуда (мВ)\\', fontsize=12)\\n    ax.set_title(f\\'Цикл {cycle_num}\\', fontsize=14)\\n    ax.grid(True, linestyle=\\'--\\', alpha=0.5)\\n\\n    # Убираем дубликаты в легенде\\n    handles, labels = ax.get_legend_handles_labels()\\n    unique_labels = dict(zip(labels, handles))\\n    ax.legend(unique_labels.values(), unique_labels.keys(), loc=\\'upper right\\')\\n\\n    plt.tight_layout()\\n    return fig\\n\\ndef plot_averaged_signal(avg_signal, before_r, after_r, fs):\\n    if avg_signal is None:\\n        print(\"Невозможно построить график: недостаточно данных\")\\n        return\\n\\n    fig, ax = plt.subplots(figsize=(14, 7))\\n\\n    # 1. Временная ось (в мс относительно R-пика)\\n    time = (np.arange(len(avg_signal)) - before_r) / fs * 1000  # мс\\n\\n    # 2. Отрисовка сигнала\\n    ax.plot(time, avg_signal, \\'b-\\', linewidth=2, label=\\'Усредненный ЭКГ\\')\\n\\n    # 3. Разметка ключевых элементов\\n    ax.axvline(x=0, color=\\'r\\', linestyle=\\'--\\', label=\\'R-пик (0 мс)\\')\\n    ax.axvline(x=-before_r, color=\\'gray\\', linestyle=\\':\\', label=f\\'Начало окна (-{before_r/fs*1000:.0f} мс)\\')\\n    ax.axvline(x=after_r, color=\\'gray\\', linestyle=\\':\\', label=f\\'Конец окна (+{after_r/fs*1000:.0f} мс)\\')\\n\\n    # 4. Настройка графика\\n    ax.set_xlabel(\\'Время относительно R-пика (мс)\\', fontsize=12)\\n    ax.set_ylabel(\\'Амплитуда (мВ)\\', fontsize=12)\\n    ax.set_title(f\\'Усредненный PQRST комплекс (окно ±{before_r/fs*1000:.0f}/{after_r/fs*1000:.0f} мс)\\', fontsize=14)\\n    ax.grid(True, linestyle=\\'--\\', alpha=0.5)\\n    ax.legend(loc=\\'upper right\\')\\n\\n    plt.tight_layout()\\n    plt.show()\\n\\ndef plot_averaged_ecg(signal, cycles, fs):\\n    # 1. Подготовка данных для усреднения\\n    r_peaks = [int(cycle[\\'ECG_R_Peaks\\'][0]) for cycle in cycles if \\'ECG_R_Peaks\\' in cycle]\\n    if len(r_peaks) < 2:\\n        print(\"Недостаточно циклов для усреднения\")\\n        return\\n\\n    before_r = int(0.2 * fs)  # 200 мс до R\\n    after_r = int(0.5 * fs)   # 500 мс после R\\n    segments = []\\n\\n    for r in r_peaks:\\n        start = max(0, r - before_r)\\n        end = min(len(signal), r + after_r)\\n        segment = signal[start:end]\\n\\n        # Выравнивание по длине (если циклы у границ сигнала)\\n        if len(segment) < (before_r + after_r):\\n            pad_width = (before_r + after_r) - len(segment)\\n            segment = np.pad(segment, (0, pad_width), mode=\\'constant\\')\\n\\n        segments.append(segment)\\n\\n    # 3. Усреднение и построение\\n    avg_signal = np.mean(segments, axis=0)\\n    time = (np.arange(len(avg_signal)) / fs) - 0.2  # Время относительно R-пика\\n\\n    fig, ax = plt.subplots(figsize=(12, 6))\\n    ax.plot(time, avg_signal, \\'b-\\', linewidth=2, label=\\'Усредненный сигнал\\')\\n\\n    # 4. Разметка характерных точек (медианные положения)\\n    point_labels = {\\n        \\'ECG_P_Peaks\\': (\\'P\\', \\'green\\'),\\n        \\'ECG_Q_Peaks\\': (\\'Q\\', \\'red\\'),\\n        \\'ECG_S_Peaks\\': (\\'S\\', \\'blue\\'),\\n        \\'ECG_T_Peaks\\': (\\'T\\', \\'purple\\')\\n    }\\n\\n    for point_key, (label, color) in point_labels.items():\\n        points = []\\n        for cycle in cycles:\\n            if point_key in cycle and len(cycle[point_key]) > 0:\\n                points.append(cycle[point_key][0])\\n\\n        if len(points) > 0:\\n            median_pos = np.median(points) - r_peaks[0]  # Относительно первого R-пика\\n            median_time = median_pos / fs\\n            y_val = np.interp(median_pos, np.arange(len(avg_signal)), avg_signal)\\n            ax.plot(median_time, y_val, \\'o\\', color=color, markersize=8, label=label)\\n\\n    # 5. Настройка графика\\n    ax.axvline(x=0, color=\\'black\\', linestyle=\\'--\\', label=\\'R-пик\\')\\n    ax.set_xlabel(\\'Время относительно R-пика (с)\\')\\n    ax.set_ylabel(\\'Амплитуда (мВ)\\')\\n    ax.set_title(f\\'Усредненный PQRST комплекс (n={len(cycles)} циклов)\\')\\n    ax.grid(True, linestyle=\\'--\\', alpha=0.6)\\n    ax.legend()\\n\\n    plt.tight_layout()\\n    plt.show()\\n'"
      ]
     },
     "metadata": {},
     "output_type": "display_data"
    }
   ],
   "source": [
    "\n",
    "\"\"\"\n",
    "def plot_ecg_cycle_with_features(cycle, signal, fs, cycle_num=0):\n",
    "    fig, ax = plt.subplots(figsize=(15, 8))\n",
    "    \n",
    "    # 1. Автоматическое определение границ цикла --------------------------------------\n",
    "    available_points = []\n",
    "    for point in ['ECG_P_Onsets', 'ECG_Q_Peaks', 'ECG_R_Peaks', 'ECG_S_Peaks', 'ECG_T_Offsets']:\n",
    "        if point in cycle and len(cycle[point]) > 0:\n",
    "            available_points.append(int(cycle[point][0]))\n",
    "    \n",
    "    if not available_points:\n",
    "        print(f\"Цикл {cycle_num}: нет точек для отрисовки\")\n",
    "        return fig\n",
    "    \n",
    "    # Границы цикла (с запасом 10% по краям)\n",
    "    start = max(0, min(available_points) - int(0.1*fs))\n",
    "    end = min(len(signal), max(available_points) + int(0.1*fs))\n",
    "    \n",
    "    # 2. Отрисовка сигнала ----------------------------------------------------------\n",
    "    time = np.arange(start, end) / fs\n",
    "    ax.plot(time, signal[start:end], 'b-', linewidth=1.5, label='ЭКГ сигнал')\n",
    "    \n",
    "    # 3. Разметка точек (только существующие) ---------------------------------------\n",
    "    point_style = {\n",
    "        'ECG_P_Onsets': ('<', 'green', 'P начало'),\n",
    "        'ECG_P_Peaks': ('o', 'lime', 'P пик'),\n",
    "        'ECG_P_Offsets': ('>', 'darkgreen', 'P конец'),\n",
    "        'ECG_Q_Peaks': ('x', 'red', 'Q'),\n",
    "        'ECG_R_Peaks': ('o', 'black', 'R'),\n",
    "        'ECG_S_Peaks': ('x', 'blue', 'S'),\n",
    "        'ECG_T_Onsets': ('<', 'purple', 'T начало'),\n",
    "        'ECG_T_Peaks': ('o', 'magenta', 'T пик'),\n",
    "        'ECG_T_Offsets': ('>', 'darkviolet', 'T конец')\n",
    "    }\n",
    "    \n",
    "    for point, (marker, color, label) in point_style.items():\n",
    "        if point in cycle and len(cycle[point]) > 0:\n",
    "            x = cycle[point][0] / fs\n",
    "            y = signal[int(cycle[point][0])]\n",
    "            ax.plot(x, y, marker=marker, color=color, markersize=10, label=label)\n",
    "    \n",
    "    # 4. Отрисовка интервалов (только для существующих пар) -------------------------\n",
    "    def draw_interval_if_exists(start_point, end_point, y_pos, label):\n",
    "        if (start_point in cycle and len(cycle[start_point]) > 0 and \n",
    "            end_point in cycle and len(cycle[end_point]) > 0):\n",
    "            x1 = cycle[start_point][0] / fs\n",
    "            x2 = cycle[end_point][0] / fs\n",
    "            ax.add_patch(Rectangle((x1, y_pos), x2-x1, 0.1, alpha=0.3, color='gray'))\n",
    "            ax.text((x1+x2)/2, y_pos+0.15, f'{label}\\n{(x2-x1)*1000:.1f} мс', \n",
    "                    ha='center', va='bottom', fontsize=9, bbox=dict(facecolor='white', alpha=0.7))\n",
    "    \n",
    "    y_min = np.min(signal[start:end])\n",
    "    draw_interval_if_exists('ECG_P_Onsets', 'ECG_P_Offsets', y_min-0.3, 'P')\n",
    "    draw_interval_if_exists('ECG_Q_Peaks', 'ECG_S_Peaks', y_min-0.5, 'QRS')\n",
    "    draw_interval_if_exists('ECG_Q_Peaks', 'ECG_T_Offsets', y_min-0.7, 'QT')\n",
    "    \n",
    "    # 5. Настройка графика ----------------------------------------------------------\n",
    "    ax.set_xlabel('Время (с)', fontsize=12)\n",
    "    ax.set_ylabel('Амплитуда (мВ)', fontsize=12)\n",
    "    ax.set_title(f'Цикл {cycle_num}', fontsize=14)\n",
    "    ax.grid(True, linestyle='--', alpha=0.5)\n",
    "    \n",
    "    # Убираем дубликаты в легенде\n",
    "    handles, labels = ax.get_legend_handles_labels()\n",
    "    unique_labels = dict(zip(labels, handles))\n",
    "    ax.legend(unique_labels.values(), unique_labels.keys(), loc='upper right')\n",
    "    \n",
    "    plt.tight_layout()\n",
    "    return fig\n",
    "\n",
    "def plot_averaged_signal(avg_signal, before_r, after_r, fs):\n",
    "    if avg_signal is None:\n",
    "        print(\"Невозможно построить график: недостаточно данных\")\n",
    "        return\n",
    "    \n",
    "    fig, ax = plt.subplots(figsize=(14, 7))\n",
    "    \n",
    "    # 1. Временная ось (в мс относительно R-пика)\n",
    "    time = (np.arange(len(avg_signal)) - before_r) / fs * 1000  # мс\n",
    "    \n",
    "    # 2. Отрисовка сигнала\n",
    "    ax.plot(time, avg_signal, 'b-', linewidth=2, label='Усредненный ЭКГ')\n",
    "    \n",
    "    # 3. Разметка ключевых элементов\n",
    "    ax.axvline(x=0, color='r', linestyle='--', label='R-пик (0 мс)')\n",
    "    ax.axvline(x=-before_r, color='gray', linestyle=':', label=f'Начало окна (-{before_r/fs*1000:.0f} мс)')\n",
    "    ax.axvline(x=after_r, color='gray', linestyle=':', label=f'Конец окна (+{after_r/fs*1000:.0f} мс)')\n",
    "    \n",
    "    # 4. Настройка графика\n",
    "    ax.set_xlabel('Время относительно R-пика (мс)', fontsize=12)\n",
    "    ax.set_ylabel('Амплитуда (мВ)', fontsize=12)\n",
    "    ax.set_title(f'Усредненный PQRST комплекс (окно ±{before_r/fs*1000:.0f}/{after_r/fs*1000:.0f} мс)', fontsize=14)\n",
    "    ax.grid(True, linestyle='--', alpha=0.5)\n",
    "    ax.legend(loc='upper right')\n",
    "    \n",
    "    plt.tight_layout()\n",
    "    plt.show()\n",
    "\n",
    "def plot_averaged_ecg(signal, cycles, fs):\n",
    "    # 1. Подготовка данных для усреднения\n",
    "    r_peaks = [int(cycle['ECG_R_Peaks'][0]) for cycle in cycles if 'ECG_R_Peaks' in cycle]\n",
    "    if len(r_peaks) < 2:\n",
    "        print(\"Недостаточно циклов для усреднения\")\n",
    "        return\n",
    "    \n",
    "    before_r = int(0.2 * fs)  # 200 мс до R\n",
    "    after_r = int(0.5 * fs)   # 500 мс после R\n",
    "    segments = []\n",
    "    \n",
    "    for r in r_peaks:\n",
    "        start = max(0, r - before_r)\n",
    "        end = min(len(signal), r + after_r)\n",
    "        segment = signal[start:end]\n",
    "        \n",
    "        # Выравнивание по длине (если циклы у границ сигнала)\n",
    "        if len(segment) < (before_r + after_r):\n",
    "            pad_width = (before_r + after_r) - len(segment)\n",
    "            segment = np.pad(segment, (0, pad_width), mode='constant')\n",
    "        \n",
    "        segments.append(segment)\n",
    "    \n",
    "    # 3. Усреднение и построение\n",
    "    avg_signal = np.mean(segments, axis=0)\n",
    "    time = (np.arange(len(avg_signal)) / fs) - 0.2  # Время относительно R-пика\n",
    "    \n",
    "    fig, ax = plt.subplots(figsize=(12, 6))\n",
    "    ax.plot(time, avg_signal, 'b-', linewidth=2, label='Усредненный сигнал')\n",
    "    \n",
    "    # 4. Разметка характерных точек (медианные положения)\n",
    "    point_labels = {\n",
    "        'ECG_P_Peaks': ('P', 'green'),\n",
    "        'ECG_Q_Peaks': ('Q', 'red'),\n",
    "        'ECG_S_Peaks': ('S', 'blue'),\n",
    "        'ECG_T_Peaks': ('T', 'purple')\n",
    "    }\n",
    "    \n",
    "    for point_key, (label, color) in point_labels.items():\n",
    "        points = []\n",
    "        for cycle in cycles:\n",
    "            if point_key in cycle and len(cycle[point_key]) > 0:\n",
    "                points.append(cycle[point_key][0])\n",
    "        \n",
    "        if len(points) > 0:\n",
    "            median_pos = np.median(points) - r_peaks[0]  # Относительно первого R-пика\n",
    "            median_time = median_pos / fs\n",
    "            y_val = np.interp(median_pos, np.arange(len(avg_signal)), avg_signal)\n",
    "            ax.plot(median_time, y_val, 'o', color=color, markersize=8, label=label)\n",
    "    \n",
    "    # 5. Настройка графика\n",
    "    ax.axvline(x=0, color='black', linestyle='--', label='R-пик')\n",
    "    ax.set_xlabel('Время относительно R-пика (с)')\n",
    "    ax.set_ylabel('Амплитуда (мВ)')\n",
    "    ax.set_title(f'Усредненный PQRST комплекс (n={len(cycles)} циклов)')\n",
    "    ax.grid(True, linestyle='--', alpha=0.6)\n",
    "    ax.legend()\n",
    "    \n",
    "    plt.tight_layout()\n",
    "    plt.show()\n",
    "\"\"\""
   ]
  }
 ],
 "metadata": {
  "kernelspec": {
   "display_name": "venv_ecg",
   "language": "python",
   "name": "python3"
  },
  "language_info": {
   "codemirror_mode": {
    "name": "ipython",
    "version": 3
   },
   "file_extension": ".py",
   "mimetype": "text/x-python",
   "name": "python",
   "nbconvert_exporter": "python",
   "pygments_lexer": "ipython3",
   "version": "3.11.9"
  }
 },
 "nbformat": 4,
 "nbformat_minor": 5
}
