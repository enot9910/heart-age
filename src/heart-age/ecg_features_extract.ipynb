{
 "cells": [
  {
   "cell_type": "code",
   "execution_count": 1,
   "id": "58b14058",
   "metadata": {},
   "outputs": [],
   "source": [
    "%load_ext autoreload\n",
    "%autoreload 2\n",
    "from pathlib import Path\n",
    "import pandas as pd\n",
    "import warnings\n",
    "\n",
    "warnings.filterwarnings(\"ignore\") "
   ]
  },
  {
   "cell_type": "code",
   "execution_count": 2,
   "id": "566cf6ff",
   "metadata": {},
   "outputs": [],
   "source": [
    "from astropy.timeseries import LombScargle"
   ]
  },
  {
   "cell_type": "code",
   "execution_count": 3,
   "id": "354af49b",
   "metadata": {},
   "outputs": [],
   "source": [
    "from paths import data_dir"
   ]
  },
  {
   "cell_type": "code",
   "execution_count": 9,
   "id": "79ac5bdb",
   "metadata": {},
   "outputs": [],
   "source": [
    "from features_analysis.features_analysis import (\n",
    "    plot_features_vs_age,\n",
    "    calculate_age_correlations\n",
    ")\n",
    "from features_process import (\n",
    "    get_ecg_signals_features,\n",
    ")\n",
    "from subject_process import (\n",
    "    extract_subjects_info\n",
    ")\n",
    "from wave_process import get_waves_quality_stats"
   ]
  },
  {
   "cell_type": "code",
   "execution_count": 6,
   "id": "cfc3f845",
   "metadata": {},
   "outputs": [
    {
     "data": {
      "text/plain": [
       "(WindowsPath('C:/Users/lenovo/Desktop/sci/data/ecg'), True)"
      ]
     },
     "execution_count": 6,
     "metadata": {},
     "output_type": "execute_result"
    }
   ],
   "source": [
    "data_dir, data_dir.exists()"
   ]
  },
  {
   "cell_type": "code",
   "execution_count": 7,
   "id": "923eed3a",
   "metadata": {},
   "outputs": [],
   "source": [
    "dataset = 'ptb_xl'\n",
    "path_to_zip=data_dir / dataset\n",
    "frequency = 500\n",
    "\n",
    "channel_names = ['I', 'II', 'III', 'aVR', 'aVL', 'aVF', 'V1', 'V2', 'V3', 'V4', 'V5', 'V6']\n",
    "fs = 500"
   ]
  },
  {
   "cell_type": "markdown",
   "id": "b1e5d367",
   "metadata": {},
   "source": [
    "# Getting features"
   ]
  },
  {
   "cell_type": "markdown",
   "id": "5b9ef434",
   "metadata": {},
   "source": [
    "## signal"
   ]
  },
  {
   "cell_type": "code",
   "execution_count": 10,
   "id": "5ad288d4",
   "metadata": {},
   "outputs": [
    {
     "name": "stdout",
     "output_type": "stream",
     "text": [
      "Found 18868 patient files\n",
      "C:\\Users\\lenovo\\Desktop\\sci\\data\\ecg\\ptb_xl\\ptb_xl_features_signal_wavelet\\dwt C:\\Users\\lenovo\\Desktop\\sci\\data\\ecg\\ptb_xl\\ptb_xl_peaks\\dwt\n"
     ]
    },
    {
     "name": "stderr",
     "output_type": "stream",
     "text": [
      "Processing patients:   1%|          | 108/18868 [00:07<22:28, 13.91it/s]"
     ]
    },
    {
     "name": "stdout",
     "output_type": "stream",
     "text": [
      "Error in get_ecg_signal_features: integer division or modulo by zero\n"
     ]
    },
    {
     "name": "stderr",
     "output_type": "stream",
     "text": [
      "Processing patients:   1%|          | 124/18868 [00:09<25:28, 12.26it/s]"
     ]
    },
    {
     "name": "stdout",
     "output_type": "stream",
     "text": [
      "Error in get_ecg_signal_features: cannot convert float NaN to integer\n"
     ]
    },
    {
     "name": "stderr",
     "output_type": "stream",
     "text": [
      "Processing patients:   1%|          | 136/18868 [00:10<29:18, 10.65it/s]"
     ]
    },
    {
     "name": "stdout",
     "output_type": "stream",
     "text": [
      "Error in get_ecg_signal_features: cannot convert float NaN to integer\n"
     ]
    },
    {
     "name": "stderr",
     "output_type": "stream",
     "text": [
      "Processing patients:   1%|          | 138/18868 [00:10<42:20,  7.37it/s]"
     ]
    },
    {
     "name": "stdout",
     "output_type": "stream",
     "text": [
      "Error in get_ecg_signal_features: cannot convert float NaN to integer\n"
     ]
    },
    {
     "name": "stderr",
     "output_type": "stream",
     "text": [
      "Processing patients:   1%|          | 164/18868 [00:12<23:30, 13.26it/s]"
     ]
    },
    {
     "name": "stdout",
     "output_type": "stream",
     "text": [
      "Error in get_ecg_signal_features: integer division or modulo by zero\n"
     ]
    },
    {
     "name": "stderr",
     "output_type": "stream",
     "text": [
      "Processing patients:   1%|          | 168/18868 [00:13<23:10, 13.45it/s]"
     ]
    },
    {
     "name": "stdout",
     "output_type": "stream",
     "text": [
      "Error in get_ecg_signal_features: cannot convert float NaN to integer\n"
     ]
    },
    {
     "name": "stderr",
     "output_type": "stream",
     "text": [
      "Processing patients:   1%|          | 194/18868 [00:14<23:36, 13.19it/s]"
     ]
    },
    {
     "name": "stdout",
     "output_type": "stream",
     "text": [
      "Error in get_ecg_signal_features: cannot convert float NaN to integer\n"
     ]
    },
    {
     "name": "stderr",
     "output_type": "stream",
     "text": [
      "Processing patients:   1%|          | 204/18868 [00:15<30:34, 10.17it/s]"
     ]
    },
    {
     "name": "stdout",
     "output_type": "stream",
     "text": [
      "Error in get_ecg_signal_features: cannot convert float NaN to integer\n"
     ]
    },
    {
     "name": "stderr",
     "output_type": "stream",
     "text": [
      "Processing patients:   1%|          | 228/18868 [00:17<24:17, 12.79it/s]"
     ]
    },
    {
     "name": "stdout",
     "output_type": "stream",
     "text": [
      "Error in get_ecg_signal_features: cannot convert float NaN to integer\n"
     ]
    },
    {
     "name": "stderr",
     "output_type": "stream",
     "text": [
      "Processing patients:   2%|▏         | 284/18868 [00:21<29:29, 10.50it/s]"
     ]
    },
    {
     "name": "stdout",
     "output_type": "stream",
     "text": [
      "Error in get_ecg_signal_features: cannot convert float NaN to integer\n"
     ]
    },
    {
     "name": "stderr",
     "output_type": "stream",
     "text": [
      "Processing patients:   2%|▏         | 310/18868 [00:24<29:29, 10.49it/s]"
     ]
    },
    {
     "name": "stdout",
     "output_type": "stream",
     "text": [
      "Error in get_ecg_signal_features: integer division or modulo by zero\n"
     ]
    },
    {
     "name": "stderr",
     "output_type": "stream",
     "text": [
      "Processing patients:   2%|▏         | 320/18868 [00:24<24:50, 12.44it/s]"
     ]
    },
    {
     "name": "stdout",
     "output_type": "stream",
     "text": [
      "Error in get_ecg_signal_features: cannot convert float NaN to integer\n"
     ]
    },
    {
     "name": "stderr",
     "output_type": "stream",
     "text": [
      "Processing patients:   2%|▏         | 342/18868 [00:26<30:33, 10.11it/s]"
     ]
    },
    {
     "name": "stdout",
     "output_type": "stream",
     "text": [
      "Error in get_ecg_signal_features: cannot convert float NaN to integer\n"
     ]
    },
    {
     "name": "stderr",
     "output_type": "stream",
     "text": [
      "Processing patients:   3%|▎         | 488/18868 [00:37<23:37, 12.97it/s]"
     ]
    },
    {
     "name": "stdout",
     "output_type": "stream",
     "text": [
      "Error in get_ecg_signal_features: integer division or modulo by zero\n"
     ]
    },
    {
     "name": "stderr",
     "output_type": "stream",
     "text": [
      "Processing patients:   3%|▎         | 544/18868 [00:41<33:18,  9.17it/s]"
     ]
    },
    {
     "name": "stdout",
     "output_type": "stream",
     "text": [
      "Error in get_ecg_signal_features: cannot convert float NaN to integer\n",
      "Error in get_ecg_signal_features: cannot convert float NaN to integer\n"
     ]
    },
    {
     "name": "stderr",
     "output_type": "stream",
     "text": [
      "Processing patients:   3%|▎         | 566/18868 [00:43<25:31, 11.95it/s]"
     ]
    },
    {
     "name": "stdout",
     "output_type": "stream",
     "text": [
      "Error in get_ecg_signal_features: integer division or modulo by zero\n"
     ]
    },
    {
     "name": "stderr",
     "output_type": "stream",
     "text": [
      "Processing patients:   3%|▎         | 612/18868 [00:46<23:37, 12.88it/s]"
     ]
    },
    {
     "name": "stdout",
     "output_type": "stream",
     "text": [
      "Error in get_ecg_signal_features: cannot convert float NaN to integer\n"
     ]
    },
    {
     "name": "stderr",
     "output_type": "stream",
     "text": [
      "Processing patients:   4%|▎         | 682/18868 [00:52<32:34,  9.31it/s]"
     ]
    },
    {
     "name": "stdout",
     "output_type": "stream",
     "text": [
      "Error in get_ecg_signal_features: cannot convert float NaN to integer\n"
     ]
    },
    {
     "name": "stderr",
     "output_type": "stream",
     "text": [
      "Processing patients:   4%|▎         | 686/18868 [00:52<41:55,  7.23it/s]"
     ]
    },
    {
     "name": "stdout",
     "output_type": "stream",
     "text": [
      "Error in get_ecg_signal_features: integer division or modulo by zero\n"
     ]
    },
    {
     "name": "stderr",
     "output_type": "stream",
     "text": [
      "Processing patients:   4%|▎         | 700/18868 [00:54<33:49,  8.95it/s]"
     ]
    },
    {
     "name": "stdout",
     "output_type": "stream",
     "text": [
      "Error in get_ecg_signal_features: cannot convert float NaN to integer\n"
     ]
    },
    {
     "name": "stderr",
     "output_type": "stream",
     "text": [
      "Processing patients:   4%|▍         | 728/18868 [00:56<26:39, 11.34it/s]"
     ]
    },
    {
     "name": "stdout",
     "output_type": "stream",
     "text": [
      "Error in get_ecg_signal_features: cannot convert float NaN to integer\n"
     ]
    },
    {
     "name": "stderr",
     "output_type": "stream",
     "text": [
      "Processing patients:   4%|▍         | 798/18868 [01:01<29:53, 10.07it/s]"
     ]
    },
    {
     "name": "stdout",
     "output_type": "stream",
     "text": [
      "Error in get_ecg_signal_features: cannot convert float NaN to integer\n"
     ]
    },
    {
     "name": "stderr",
     "output_type": "stream",
     "text": [
      "Processing patients:   4%|▍         | 804/18868 [01:02<27:51, 10.81it/s]"
     ]
    },
    {
     "name": "stdout",
     "output_type": "stream",
     "text": [
      "Error in get_ecg_signal_features: cannot convert float NaN to integer\n"
     ]
    },
    {
     "name": "stderr",
     "output_type": "stream",
     "text": [
      "Processing patients:   5%|▍         | 898/18868 [01:09<25:28, 11.75it/s]"
     ]
    },
    {
     "name": "stdout",
     "output_type": "stream",
     "text": [
      "Error in get_ecg_signal_features: cannot convert float NaN to integer\n"
     ]
    },
    {
     "name": "stderr",
     "output_type": "stream",
     "text": [
      "Processing patients:   5%|▌         | 974/18868 [01:15<29:49, 10.00it/s]"
     ]
    },
    {
     "name": "stdout",
     "output_type": "stream",
     "text": [
      "Error in get_ecg_signal_features: cannot convert float NaN to integer\n"
     ]
    },
    {
     "name": "stderr",
     "output_type": "stream",
     "text": [
      "Processing patients:   5%|▌         | 980/18868 [01:15<30:52,  9.66it/s]"
     ]
    },
    {
     "name": "stdout",
     "output_type": "stream",
     "text": [
      "Error in get_ecg_signal_features: cannot convert float NaN to integer\n"
     ]
    },
    {
     "name": "stderr",
     "output_type": "stream",
     "text": [
      "Processing patients:   5%|▌         | 986/18868 [01:16<26:09, 11.39it/s]"
     ]
    },
    {
     "name": "stdout",
     "output_type": "stream",
     "text": [
      "Error in get_ecg_signal_features: cannot convert float NaN to integer\n"
     ]
    },
    {
     "name": "stderr",
     "output_type": "stream",
     "text": [
      "Processing patients:   5%|▌         | 1024/18868 [01:19<27:50, 10.68it/s]"
     ]
    },
    {
     "name": "stdout",
     "output_type": "stream",
     "text": [
      "Error in get_ecg_signal_features: cannot convert float NaN to integer\n"
     ]
    },
    {
     "name": "stderr",
     "output_type": "stream",
     "text": [
      "Processing patients:   5%|▌         | 1032/18868 [01:19<26:48, 11.09it/s]"
     ]
    },
    {
     "name": "stdout",
     "output_type": "stream",
     "text": [
      "Error in get_ecg_signal_features: cannot convert float NaN to integer\n"
     ]
    },
    {
     "name": "stderr",
     "output_type": "stream",
     "text": [
      "Processing patients:   6%|▌         | 1148/18868 [01:28<28:16, 10.45it/s]"
     ]
    },
    {
     "name": "stdout",
     "output_type": "stream",
     "text": [
      "Error in get_ecg_signal_features: integer division or modulo by zero\n"
     ]
    },
    {
     "name": "stderr",
     "output_type": "stream",
     "text": [
      "Processing patients:   6%|▌         | 1154/18868 [01:29<28:59, 10.18it/s]"
     ]
    },
    {
     "name": "stdout",
     "output_type": "stream",
     "text": [
      "Error in get_ecg_signal_features: cannot convert float NaN to integer\n"
     ]
    },
    {
     "name": "stderr",
     "output_type": "stream",
     "text": [
      "Processing patients:   6%|▋         | 1206/18868 [01:33<22:33, 13.05it/s]"
     ]
    },
    {
     "name": "stdout",
     "output_type": "stream",
     "text": [
      "Error in get_ecg_signal_features: integer division or modulo by zero\n"
     ]
    },
    {
     "name": "stderr",
     "output_type": "stream",
     "text": [
      "Processing patients:   7%|▋         | 1242/18868 [01:35<23:24, 12.55it/s]"
     ]
    },
    {
     "name": "stdout",
     "output_type": "stream",
     "text": [
      "Error in get_ecg_signal_features: cannot convert float NaN to integer\n"
     ]
    },
    {
     "name": "stderr",
     "output_type": "stream",
     "text": [
      "Processing patients:   7%|▋         | 1278/18868 [01:38<32:49,  8.93it/s]"
     ]
    },
    {
     "name": "stdout",
     "output_type": "stream",
     "text": [
      "Error in get_ecg_signal_features: cannot convert float NaN to integer\n"
     ]
    },
    {
     "name": "stderr",
     "output_type": "stream",
     "text": [
      "Processing patients:   7%|▋         | 1284/18868 [01:39<33:40,  8.70it/s]"
     ]
    },
    {
     "name": "stdout",
     "output_type": "stream",
     "text": [
      "Error in get_ecg_signal_features: cannot convert float NaN to integer\n"
     ]
    },
    {
     "name": "stderr",
     "output_type": "stream",
     "text": [
      "Processing patients:   7%|▋         | 1294/18868 [01:40<32:24,  9.04it/s]"
     ]
    },
    {
     "name": "stdout",
     "output_type": "stream",
     "text": [
      "Error in get_ecg_signal_features: cannot convert float NaN to integer\n"
     ]
    },
    {
     "name": "stderr",
     "output_type": "stream",
     "text": [
      "Processing patients:   7%|▋         | 1308/18868 [01:41<23:18, 12.55it/s]"
     ]
    },
    {
     "name": "stdout",
     "output_type": "stream",
     "text": [
      "Error in get_ecg_signal_features: integer division or modulo by zero\n"
     ]
    },
    {
     "name": "stderr",
     "output_type": "stream",
     "text": [
      "Processing patients:   7%|▋         | 1326/18868 [01:43<32:04,  9.11it/s]"
     ]
    },
    {
     "name": "stdout",
     "output_type": "stream",
     "text": [
      "Error in get_ecg_signal_features: cannot convert float NaN to integer\n"
     ]
    },
    {
     "name": "stderr",
     "output_type": "stream",
     "text": [
      "Processing patients:   7%|▋         | 1360/18868 [01:45<23:39, 12.33it/s]"
     ]
    },
    {
     "name": "stdout",
     "output_type": "stream",
     "text": [
      "Error in get_ecg_signal_features: integer division or modulo by zero\n"
     ]
    },
    {
     "name": "stderr",
     "output_type": "stream",
     "text": [
      "Processing patients:   7%|▋         | 1396/18868 [01:48<28:49, 10.10it/s]"
     ]
    },
    {
     "name": "stdout",
     "output_type": "stream",
     "text": [
      "Error in get_ecg_signal_features: integer division or modulo by zero\n"
     ]
    },
    {
     "name": "stderr",
     "output_type": "stream",
     "text": [
      "Processing patients:   8%|▊         | 1474/18868 [01:54<22:30, 12.88it/s]"
     ]
    },
    {
     "name": "stdout",
     "output_type": "stream",
     "text": [
      "Error in get_ecg_signal_features: cannot convert float NaN to integer\n"
     ]
    },
    {
     "name": "stderr",
     "output_type": "stream",
     "text": [
      "Processing patients:   8%|▊         | 1492/18868 [01:55<27:09, 10.66it/s]"
     ]
    },
    {
     "name": "stdout",
     "output_type": "stream",
     "text": [
      "Error in get_ecg_signal_features: integer division or modulo by zero\n"
     ]
    },
    {
     "name": "stderr",
     "output_type": "stream",
     "text": [
      "Processing patients:   8%|▊         | 1552/18868 [02:00<22:27, 12.85it/s]"
     ]
    },
    {
     "name": "stdout",
     "output_type": "stream",
     "text": [
      "Error in get_ecg_signal_features: integer division or modulo by zero\n"
     ]
    },
    {
     "name": "stderr",
     "output_type": "stream",
     "text": [
      "Processing patients:   8%|▊         | 1558/18868 [02:00<30:07,  9.58it/s]"
     ]
    },
    {
     "name": "stdout",
     "output_type": "stream",
     "text": [
      "Error in get_ecg_signal_features: cannot convert float NaN to integer\n"
     ]
    },
    {
     "name": "stderr",
     "output_type": "stream",
     "text": [
      "Processing patients:   8%|▊         | 1590/18868 [02:03<22:17, 12.92it/s]"
     ]
    },
    {
     "name": "stdout",
     "output_type": "stream",
     "text": [
      "Error in get_ecg_signal_features: integer division or modulo by zero\n"
     ]
    },
    {
     "name": "stderr",
     "output_type": "stream",
     "text": [
      "Processing patients:   8%|▊         | 1596/18868 [02:03<27:49, 10.35it/s]"
     ]
    },
    {
     "name": "stdout",
     "output_type": "stream",
     "text": [
      "Error in get_ecg_signal_features: cannot convert float NaN to integer\n"
     ]
    },
    {
     "name": "stderr",
     "output_type": "stream",
     "text": [
      "Processing patients:   9%|▊         | 1606/18868 [02:04<25:05, 11.47it/s]"
     ]
    },
    {
     "name": "stdout",
     "output_type": "stream",
     "text": [
      "Error in get_ecg_signal_features: cannot convert float NaN to integer\n"
     ]
    },
    {
     "name": "stderr",
     "output_type": "stream",
     "text": [
      "Processing patients:   9%|▊         | 1646/18868 [02:07<27:42, 10.36it/s]"
     ]
    },
    {
     "name": "stdout",
     "output_type": "stream",
     "text": [
      "Error in get_ecg_signal_features: cannot convert float NaN to integer\n"
     ]
    },
    {
     "name": "stderr",
     "output_type": "stream",
     "text": [
      "Processing patients:   9%|▉         | 1664/18868 [02:09<33:02,  8.68it/s]"
     ]
    },
    {
     "name": "stdout",
     "output_type": "stream",
     "text": [
      "Error in get_ecg_signal_features: cannot convert float NaN to integer\n"
     ]
    },
    {
     "name": "stderr",
     "output_type": "stream",
     "text": [
      "Processing patients:   9%|▉         | 1668/18868 [02:10<34:38,  8.28it/s]"
     ]
    },
    {
     "name": "stdout",
     "output_type": "stream",
     "text": [
      "Error in get_ecg_signal_features: cannot convert float NaN to integer\n"
     ]
    },
    {
     "name": "stderr",
     "output_type": "stream",
     "text": [
      "Processing patients:   9%|▉         | 1680/18868 [02:10<23:59, 11.94it/s]"
     ]
    },
    {
     "name": "stdout",
     "output_type": "stream",
     "text": [
      "Error in get_ecg_signal_features: cannot convert float NaN to integer\n"
     ]
    },
    {
     "name": "stderr",
     "output_type": "stream",
     "text": [
      "Processing patients:   9%|▉         | 1684/18868 [02:11<31:19,  9.14it/s]"
     ]
    },
    {
     "name": "stdout",
     "output_type": "stream",
     "text": [
      "Error in get_ecg_signal_features: cannot convert float NaN to integer\n"
     ]
    },
    {
     "name": "stderr",
     "output_type": "stream",
     "text": [
      "Processing patients:   9%|▉         | 1710/18868 [02:13<23:12, 12.33it/s]"
     ]
    },
    {
     "name": "stdout",
     "output_type": "stream",
     "text": [
      "Error in get_ecg_signal_features: cannot convert float NaN to integer\n"
     ]
    },
    {
     "name": "stderr",
     "output_type": "stream",
     "text": [
      "Processing patients:   9%|▉         | 1724/18868 [02:14<21:48, 13.10it/s]"
     ]
    },
    {
     "name": "stdout",
     "output_type": "stream",
     "text": [
      "Error in get_ecg_signal_features: cannot convert float NaN to integer\n"
     ]
    },
    {
     "name": "stderr",
     "output_type": "stream",
     "text": [
      "Processing patients:   9%|▉         | 1770/18868 [02:18<30:26,  9.36it/s]"
     ]
    },
    {
     "name": "stdout",
     "output_type": "stream",
     "text": [
      "Error in get_ecg_signal_features: cannot convert float NaN to integer\n"
     ]
    },
    {
     "name": "stderr",
     "output_type": "stream",
     "text": [
      "Processing patients:   9%|▉         | 1790/18868 [02:20<34:43,  8.20it/s]"
     ]
    },
    {
     "name": "stdout",
     "output_type": "stream",
     "text": [
      "Error in get_ecg_signal_features: cannot convert float NaN to integer\n"
     ]
    },
    {
     "name": "stderr",
     "output_type": "stream",
     "text": [
      "Processing patients:  10%|▉         | 1794/18868 [02:20<29:18,  9.71it/s]"
     ]
    },
    {
     "name": "stdout",
     "output_type": "stream",
     "text": [
      "Error in get_ecg_signal_features: cannot convert float NaN to integer\n"
     ]
    },
    {
     "name": "stderr",
     "output_type": "stream",
     "text": [
      "Processing patients:  10%|▉         | 1798/18868 [02:21<36:02,  7.89it/s]"
     ]
    },
    {
     "name": "stdout",
     "output_type": "stream",
     "text": [
      "Error in get_ecg_signal_features: cannot convert float NaN to integer\n"
     ]
    },
    {
     "name": "stderr",
     "output_type": "stream",
     "text": [
      "Processing patients:  10%|▉         | 1804/18868 [02:21<27:43, 10.26it/s]"
     ]
    },
    {
     "name": "stdout",
     "output_type": "stream",
     "text": [
      "Error in get_ecg_signal_features: integer division or modulo by zero\n"
     ]
    },
    {
     "name": "stderr",
     "output_type": "stream",
     "text": [
      "Processing patients:  10%|▉         | 1814/18868 [02:22<29:47,  9.54it/s]"
     ]
    },
    {
     "name": "stdout",
     "output_type": "stream",
     "text": [
      "Error in get_ecg_signal_features: cannot convert float NaN to integer\n"
     ]
    },
    {
     "name": "stderr",
     "output_type": "stream",
     "text": [
      "Processing patients:  10%|▉         | 1820/18868 [02:23<26:55, 10.55it/s]"
     ]
    },
    {
     "name": "stdout",
     "output_type": "stream",
     "text": [
      "Error in get_ecg_signal_features: cannot convert float NaN to integer\n"
     ]
    },
    {
     "name": "stderr",
     "output_type": "stream",
     "text": [
      "Processing patients:  10%|█         | 1890/18868 [02:28<29:16,  9.67it/s]"
     ]
    },
    {
     "name": "stdout",
     "output_type": "stream",
     "text": [
      "Error in get_ecg_signal_features: cannot convert float NaN to integer\n"
     ]
    },
    {
     "name": "stderr",
     "output_type": "stream",
     "text": [
      "Processing patients:  10%|█         | 1918/18868 [02:31<22:19, 12.65it/s]"
     ]
    },
    {
     "name": "stdout",
     "output_type": "stream",
     "text": [
      "Error in get_ecg_signal_features: cannot convert float NaN to integer\n"
     ]
    },
    {
     "name": "stderr",
     "output_type": "stream",
     "text": [
      "Processing patients:  10%|█         | 1924/18868 [02:31<23:04, 12.24it/s]"
     ]
    },
    {
     "name": "stdout",
     "output_type": "stream",
     "text": [
      "Error in get_ecg_signal_features: cannot convert float NaN to integer\n"
     ]
    },
    {
     "name": "stderr",
     "output_type": "stream",
     "text": [
      "Processing patients:  10%|█         | 1952/18868 [02:33<27:18, 10.33it/s]"
     ]
    },
    {
     "name": "stdout",
     "output_type": "stream",
     "text": [
      "Error in get_ecg_signal_features: cannot convert float NaN to integer\n"
     ]
    },
    {
     "name": "stderr",
     "output_type": "stream",
     "text": [
      "Processing patients:  11%|█         | 1982/18868 [02:36<23:35, 11.93it/s]"
     ]
    },
    {
     "name": "stdout",
     "output_type": "stream",
     "text": [
      "Error in get_ecg_signal_features: integer division or modulo by zero\n"
     ]
    },
    {
     "name": "stderr",
     "output_type": "stream",
     "text": [
      "Processing patients:  11%|█         | 1984/18868 [02:36<33:42,  8.35it/s]"
     ]
    },
    {
     "name": "stdout",
     "output_type": "stream",
     "text": [
      "Error in get_ecg_signal_features: cannot convert float NaN to integer\n"
     ]
    },
    {
     "name": "stderr",
     "output_type": "stream",
     "text": [
      "Processing patients:  11%|█         | 2002/18868 [02:38<27:25, 10.25it/s]"
     ]
    },
    {
     "name": "stdout",
     "output_type": "stream",
     "text": [
      "Saved batch patient_features_1_to_2000.parquet\n"
     ]
    },
    {
     "name": "stderr",
     "output_type": "stream",
     "text": [
      "Processing patients:  11%|█         | 2056/18868 [02:42<29:28,  9.51it/s]"
     ]
    },
    {
     "name": "stdout",
     "output_type": "stream",
     "text": [
      "Error in get_ecg_signal_features: cannot convert float NaN to integer\n"
     ]
    },
    {
     "name": "stderr",
     "output_type": "stream",
     "text": [
      "Processing patients:  11%|█         | 2070/18868 [02:44<29:36,  9.46it/s]"
     ]
    },
    {
     "name": "stdout",
     "output_type": "stream",
     "text": [
      "Error in get_ecg_signal_features: cannot convert float NaN to integer\n",
      "Error in get_ecg_signal_features: integer division or modulo by zero\n"
     ]
    },
    {
     "name": "stderr",
     "output_type": "stream",
     "text": [
      "Processing patients:  11%|█         | 2081/18868 [02:45<36:28,  7.67it/s]"
     ]
    },
    {
     "name": "stdout",
     "output_type": "stream",
     "text": [
      "Error in get_ecg_signal_features: integer division or modulo by zero\n"
     ]
    },
    {
     "name": "stderr",
     "output_type": "stream",
     "text": [
      "Processing patients:  11%|█         | 2109/18868 [02:48<29:11,  9.57it/s]"
     ]
    },
    {
     "name": "stdout",
     "output_type": "stream",
     "text": [
      "Error in get_ecg_signal_features: cannot convert float NaN to integer\n"
     ]
    },
    {
     "name": "stderr",
     "output_type": "stream",
     "text": [
      "Processing patients:  11%|█         | 2118/18868 [02:49<39:12,  7.12it/s]"
     ]
    },
    {
     "name": "stdout",
     "output_type": "stream",
     "text": [
      "Error in get_ecg_signal_features: integer division or modulo by zero\n"
     ]
    },
    {
     "name": "stderr",
     "output_type": "stream",
     "text": [
      "Processing patients:  11%|█▏        | 2124/18868 [02:50<55:41,  5.01it/s]  "
     ]
    },
    {
     "name": "stdout",
     "output_type": "stream",
     "text": [
      "Error in get_ecg_signal_features: cannot convert float NaN to integer\n"
     ]
    },
    {
     "name": "stderr",
     "output_type": "stream",
     "text": [
      "Processing patients:  11%|█▏        | 2128/18868 [02:51<41:46,  6.68it/s]"
     ]
    },
    {
     "name": "stdout",
     "output_type": "stream",
     "text": [
      "Error in get_ecg_signal_features: cannot convert float NaN to integer\n"
     ]
    },
    {
     "name": "stderr",
     "output_type": "stream",
     "text": [
      "Processing patients:  11%|█▏        | 2150/18868 [02:53<34:18,  8.12it/s]"
     ]
    },
    {
     "name": "stdout",
     "output_type": "stream",
     "text": [
      "Error in get_ecg_signal_features: cannot convert float NaN to integer\n"
     ]
    },
    {
     "name": "stderr",
     "output_type": "stream",
     "text": [
      "Processing patients:  12%|█▏        | 2237/18868 [03:02<39:04,  7.09it/s]"
     ]
    },
    {
     "name": "stdout",
     "output_type": "stream",
     "text": [
      "Error in get_ecg_signal_features: cannot convert float NaN to integer\n",
      "Error in get_ecg_signal_features: cannot convert float NaN to integer\n"
     ]
    },
    {
     "name": "stderr",
     "output_type": "stream",
     "text": [
      "Processing patients:  12%|█▏        | 2255/18868 [03:03<35:21,  7.83it/s]"
     ]
    },
    {
     "name": "stdout",
     "output_type": "stream",
     "text": [
      "Error in get_ecg_signal_features: integer division or modulo by zero\n"
     ]
    },
    {
     "name": "stderr",
     "output_type": "stream",
     "text": [
      "Processing patients:  12%|█▏        | 2261/18868 [03:05<58:37,  4.72it/s]"
     ]
    },
    {
     "name": "stdout",
     "output_type": "stream",
     "text": [
      "Error in get_ecg_signal_features: cannot convert float NaN to integer\n"
     ]
    },
    {
     "name": "stderr",
     "output_type": "stream",
     "text": [
      "Processing patients:  13%|█▎        | 2372/18868 [03:15<37:03,  7.42it/s]"
     ]
    },
    {
     "name": "stdout",
     "output_type": "stream",
     "text": [
      "Error in get_ecg_signal_features: cannot convert float NaN to integer\n"
     ]
    },
    {
     "name": "stderr",
     "output_type": "stream",
     "text": [
      "Processing patients:  13%|█▎        | 2374/18868 [03:16<46:04,  5.97it/s]"
     ]
    },
    {
     "name": "stdout",
     "output_type": "stream",
     "text": [
      "Error in get_ecg_signal_features: cannot convert float NaN to integer\n"
     ]
    },
    {
     "name": "stderr",
     "output_type": "stream",
     "text": [
      "Processing patients:  13%|█▎        | 2414/18868 [03:20<40:07,  6.83it/s]"
     ]
    },
    {
     "name": "stdout",
     "output_type": "stream",
     "text": [
      "Error in get_ecg_signal_features: cannot convert float NaN to integer\n"
     ]
    },
    {
     "name": "stderr",
     "output_type": "stream",
     "text": [
      "Processing patients:  13%|█▎        | 2423/18868 [03:21<36:34,  7.49it/s]"
     ]
    },
    {
     "name": "stdout",
     "output_type": "stream",
     "text": [
      "Error in get_ecg_signal_features: cannot convert float NaN to integer\n"
     ]
    },
    {
     "name": "stderr",
     "output_type": "stream",
     "text": [
      "Processing patients:  13%|█▎        | 2441/18868 [03:23<25:46, 10.63it/s]"
     ]
    },
    {
     "name": "stdout",
     "output_type": "stream",
     "text": [
      "Error in get_ecg_signal_features: cannot convert float NaN to integer\n"
     ]
    },
    {
     "name": "stderr",
     "output_type": "stream",
     "text": [
      "Processing patients:  13%|█▎        | 2475/18868 [03:26<26:54, 10.15it/s]"
     ]
    },
    {
     "name": "stdout",
     "output_type": "stream",
     "text": [
      "Error in get_ecg_signal_features: cannot convert float NaN to integer\n",
      "Error in get_ecg_signal_features: integer division or modulo by zero\n"
     ]
    },
    {
     "name": "stderr",
     "output_type": "stream",
     "text": [
      "Processing patients:  13%|█▎        | 2477/18868 [03:26<27:55,  9.78it/s]"
     ]
    },
    {
     "name": "stdout",
     "output_type": "stream",
     "text": [
      "Error in get_ecg_signal_features: cannot convert float NaN to integer\n"
     ]
    },
    {
     "name": "stderr",
     "output_type": "stream",
     "text": [
      "Processing patients:  13%|█▎        | 2479/18868 [03:27<36:56,  7.39it/s]"
     ]
    },
    {
     "name": "stdout",
     "output_type": "stream",
     "text": [
      "Error in get_ecg_signal_features: cannot convert float NaN to integer\n"
     ]
    },
    {
     "name": "stderr",
     "output_type": "stream",
     "text": [
      "Processing patients:  14%|█▎        | 2593/18868 [03:37<25:41, 10.56it/s]"
     ]
    },
    {
     "name": "stdout",
     "output_type": "stream",
     "text": [
      "Error in get_ecg_signal_features: integer division or modulo by zero\n"
     ]
    },
    {
     "name": "stderr",
     "output_type": "stream",
     "text": [
      "Processing patients:  14%|█▍        | 2617/18868 [03:39<26:20, 10.28it/s]"
     ]
    },
    {
     "name": "stdout",
     "output_type": "stream",
     "text": [
      "Error in get_ecg_signal_features: integer division or modulo by zero\n"
     ]
    },
    {
     "name": "stderr",
     "output_type": "stream",
     "text": [
      "Processing patients:  14%|█▍        | 2637/18868 [03:42<37:32,  7.20it/s]"
     ]
    },
    {
     "name": "stdout",
     "output_type": "stream",
     "text": [
      "Error in get_ecg_signal_features: cannot convert float NaN to integer\n"
     ]
    },
    {
     "name": "stderr",
     "output_type": "stream",
     "text": [
      "Processing patients:  14%|█▍        | 2660/18868 [03:44<46:58,  5.75it/s]"
     ]
    },
    {
     "name": "stdout",
     "output_type": "stream",
     "text": [
      "Error in get_ecg_signal_features: cannot convert float NaN to integer\n"
     ]
    },
    {
     "name": "stderr",
     "output_type": "stream",
     "text": [
      "Processing patients:  14%|█▍        | 2665/18868 [03:45<47:45,  5.66it/s]"
     ]
    },
    {
     "name": "stdout",
     "output_type": "stream",
     "text": [
      "Error in get_ecg_signal_features: cannot convert float NaN to integer\n"
     ]
    },
    {
     "name": "stderr",
     "output_type": "stream",
     "text": [
      "Processing patients:  14%|█▍        | 2688/18868 [03:48<34:32,  7.81it/s]"
     ]
    },
    {
     "name": "stdout",
     "output_type": "stream",
     "text": [
      "Error in get_ecg_signal_features: cannot convert float NaN to integer\n"
     ]
    },
    {
     "name": "stderr",
     "output_type": "stream",
     "text": [
      "Processing patients:  14%|█▍        | 2735/18868 [03:52<26:10, 10.27it/s]"
     ]
    },
    {
     "name": "stdout",
     "output_type": "stream",
     "text": [
      "Error in get_ecg_signal_features: integer division or modulo by zero\n"
     ]
    },
    {
     "name": "stderr",
     "output_type": "stream",
     "text": [
      "Processing patients:  15%|█▍        | 2751/18868 [03:54<25:06, 10.70it/s]"
     ]
    },
    {
     "name": "stdout",
     "output_type": "stream",
     "text": [
      "Error in get_ecg_signal_features: cannot convert float NaN to integer\n"
     ]
    },
    {
     "name": "stderr",
     "output_type": "stream",
     "text": [
      "Processing patients:  15%|█▍        | 2813/18868 [03:59<34:34,  7.74it/s]"
     ]
    },
    {
     "name": "stdout",
     "output_type": "stream",
     "text": [
      "Error in get_ecg_signal_features: cannot convert float NaN to integer\n"
     ]
    },
    {
     "name": "stderr",
     "output_type": "stream",
     "text": [
      "Processing patients:  15%|█▍        | 2817/18868 [04:00<31:28,  8.50it/s]"
     ]
    },
    {
     "name": "stdout",
     "output_type": "stream",
     "text": [
      "Error in get_ecg_signal_features: cannot convert float NaN to integer\n"
     ]
    },
    {
     "name": "stderr",
     "output_type": "stream",
     "text": [
      "Processing patients:  16%|█▌        | 2977/18868 [04:15<24:50, 10.66it/s]"
     ]
    },
    {
     "name": "stdout",
     "output_type": "stream",
     "text": [
      "Error in get_ecg_signal_features: cannot convert float NaN to integer\n"
     ]
    },
    {
     "name": "stderr",
     "output_type": "stream",
     "text": [
      "Processing patients:  16%|█▌        | 2989/18868 [04:16<33:05,  8.00it/s]"
     ]
    },
    {
     "name": "stdout",
     "output_type": "stream",
     "text": [
      "Error in get_ecg_signal_features: cannot convert float NaN to integer\n"
     ]
    },
    {
     "name": "stderr",
     "output_type": "stream",
     "text": [
      "Processing patients:  16%|█▌        | 3008/18868 [04:18<25:18, 10.44it/s]"
     ]
    },
    {
     "name": "stdout",
     "output_type": "stream",
     "text": [
      "Error in get_ecg_signal_features: cannot convert float NaN to integer\n"
     ]
    },
    {
     "name": "stderr",
     "output_type": "stream",
     "text": [
      "Processing patients:  16%|█▌        | 3060/18868 [04:23<32:57,  7.99it/s]"
     ]
    },
    {
     "name": "stdout",
     "output_type": "stream",
     "text": [
      "Error in get_ecg_signal_features: cannot convert float NaN to integer\n"
     ]
    },
    {
     "name": "stderr",
     "output_type": "stream",
     "text": [
      "Processing patients:  16%|█▋        | 3080/18868 [04:25<25:14, 10.42it/s]"
     ]
    },
    {
     "name": "stdout",
     "output_type": "stream",
     "text": [
      "Error in get_ecg_signal_features: integer division or modulo by zero\n"
     ]
    },
    {
     "name": "stderr",
     "output_type": "stream",
     "text": [
      "Processing patients:  16%|█▋        | 3102/18868 [04:27<26:09, 10.05it/s]"
     ]
    },
    {
     "name": "stdout",
     "output_type": "stream",
     "text": [
      "Error in get_ecg_signal_features: cannot convert float NaN to integer\n"
     ]
    },
    {
     "name": "stderr",
     "output_type": "stream",
     "text": [
      "Processing patients:  17%|█▋        | 3114/18868 [04:28<27:04,  9.70it/s]"
     ]
    },
    {
     "name": "stdout",
     "output_type": "stream",
     "text": [
      "Error in get_ecg_signal_features: cannot convert float NaN to integer\n"
     ]
    },
    {
     "name": "stderr",
     "output_type": "stream",
     "text": [
      "Processing patients:  17%|█▋        | 3146/18868 [04:32<33:03,  7.93it/s]"
     ]
    },
    {
     "name": "stdout",
     "output_type": "stream",
     "text": [
      "Error in get_ecg_signal_features: integer division or modulo by zero\n"
     ]
    },
    {
     "name": "stderr",
     "output_type": "stream",
     "text": [
      "Processing patients:  17%|█▋        | 3154/18868 [04:32<28:22,  9.23it/s]"
     ]
    },
    {
     "name": "stdout",
     "output_type": "stream",
     "text": [
      "Error in get_ecg_signal_features: integer division or modulo by zero\n"
     ]
    },
    {
     "name": "stderr",
     "output_type": "stream",
     "text": [
      "Processing patients:  17%|█▋        | 3172/18868 [04:34<25:18, 10.34it/s]"
     ]
    },
    {
     "name": "stdout",
     "output_type": "stream",
     "text": [
      "Error in get_ecg_signal_features: integer division or modulo by zero\n"
     ]
    },
    {
     "name": "stderr",
     "output_type": "stream",
     "text": [
      "Processing patients:  17%|█▋        | 3176/18868 [04:35<27:51,  9.39it/s]"
     ]
    },
    {
     "name": "stdout",
     "output_type": "stream",
     "text": [
      "Error in get_ecg_signal_features: cannot convert float NaN to integer\n"
     ]
    },
    {
     "name": "stderr",
     "output_type": "stream",
     "text": [
      "Processing patients:  17%|█▋        | 3188/18868 [04:36<32:29,  8.04it/s]"
     ]
    },
    {
     "name": "stdout",
     "output_type": "stream",
     "text": [
      "Error in get_ecg_signal_features: cannot convert float NaN to integer\n"
     ]
    },
    {
     "name": "stderr",
     "output_type": "stream",
     "text": [
      "Processing patients:  17%|█▋        | 3195/18868 [04:37<35:23,  7.38it/s]"
     ]
    },
    {
     "name": "stdout",
     "output_type": "stream",
     "text": [
      "Error in get_ecg_signal_features: cannot convert float NaN to integer\n"
     ]
    },
    {
     "name": "stderr",
     "output_type": "stream",
     "text": [
      "Processing patients:  17%|█▋        | 3206/18868 [04:38<30:57,  8.43it/s]"
     ]
    },
    {
     "name": "stdout",
     "output_type": "stream",
     "text": [
      "Error in get_ecg_signal_features: cannot convert float NaN to integer\n"
     ]
    },
    {
     "name": "stderr",
     "output_type": "stream",
     "text": [
      "Processing patients:  17%|█▋        | 3273/18868 [04:44<35:18,  7.36it/s]"
     ]
    },
    {
     "name": "stdout",
     "output_type": "stream",
     "text": [
      "Error in get_ecg_signal_features: cannot convert float NaN to integer\n"
     ]
    },
    {
     "name": "stderr",
     "output_type": "stream",
     "text": [
      "Processing patients:  17%|█▋        | 3282/18868 [04:45<29:19,  8.86it/s]"
     ]
    },
    {
     "name": "stdout",
     "output_type": "stream",
     "text": [
      "Error in get_ecg_signal_features: integer division or modulo by zero\n"
     ]
    },
    {
     "name": "stderr",
     "output_type": "stream",
     "text": [
      "Processing patients:  17%|█▋        | 3296/18868 [04:47<29:46,  8.72it/s]"
     ]
    },
    {
     "name": "stdout",
     "output_type": "stream",
     "text": [
      "Error in get_ecg_signal_features: cannot convert float NaN to integer\n"
     ]
    },
    {
     "name": "stderr",
     "output_type": "stream",
     "text": [
      "Processing patients:  18%|█▊        | 3305/18868 [04:48<36:14,  7.16it/s]"
     ]
    },
    {
     "name": "stdout",
     "output_type": "stream",
     "text": [
      "Error in get_ecg_signal_features: cannot convert float NaN to integer\n"
     ]
    },
    {
     "name": "stderr",
     "output_type": "stream",
     "text": [
      "Processing patients:  18%|█▊        | 3313/18868 [04:49<33:38,  7.71it/s]"
     ]
    },
    {
     "name": "stdout",
     "output_type": "stream",
     "text": [
      "Error in get_ecg_signal_features: cannot convert float NaN to integer\n"
     ]
    },
    {
     "name": "stderr",
     "output_type": "stream",
     "text": [
      "Processing patients:  18%|█▊        | 3317/18868 [04:50<40:46,  6.36it/s]"
     ]
    },
    {
     "name": "stdout",
     "output_type": "stream",
     "text": [
      "Error in get_ecg_signal_features: integer division or modulo by zero\n"
     ]
    },
    {
     "name": "stderr",
     "output_type": "stream",
     "text": [
      "Processing patients:  18%|█▊        | 3337/18868 [04:52<31:35,  8.20it/s]"
     ]
    },
    {
     "name": "stdout",
     "output_type": "stream",
     "text": [
      "Error in get_ecg_signal_features: integer division or modulo by zero\n"
     ]
    },
    {
     "name": "stderr",
     "output_type": "stream",
     "text": [
      "Processing patients:  18%|█▊        | 3353/18868 [04:53<24:37, 10.50it/s]"
     ]
    },
    {
     "name": "stdout",
     "output_type": "stream",
     "text": [
      "Error in get_ecg_signal_features: cannot convert float NaN to integer\n"
     ]
    },
    {
     "name": "stderr",
     "output_type": "stream",
     "text": [
      "Processing patients:  18%|█▊        | 3373/18868 [04:55<28:15,  9.14it/s]"
     ]
    },
    {
     "name": "stdout",
     "output_type": "stream",
     "text": [
      "Error in get_ecg_signal_features: cannot convert float NaN to integer\n"
     ]
    },
    {
     "name": "stderr",
     "output_type": "stream",
     "text": [
      "Processing patients:  18%|█▊        | 3384/18868 [04:57<28:38,  9.01it/s]"
     ]
    },
    {
     "name": "stdout",
     "output_type": "stream",
     "text": [
      "Error in get_ecg_signal_features: integer division or modulo by zero\n"
     ]
    },
    {
     "name": "stderr",
     "output_type": "stream",
     "text": [
      "Processing patients:  18%|█▊        | 3423/18868 [05:00<26:03,  9.88it/s]"
     ]
    },
    {
     "name": "stdout",
     "output_type": "stream",
     "text": [
      "Error in get_ecg_signal_features: cannot convert float NaN to integer\n"
     ]
    },
    {
     "name": "stderr",
     "output_type": "stream",
     "text": [
      "Processing patients:  18%|█▊        | 3445/18868 [05:02<31:58,  8.04it/s]"
     ]
    },
    {
     "name": "stdout",
     "output_type": "stream",
     "text": [
      "Error in get_ecg_signal_features: integer division or modulo by zero\n"
     ]
    },
    {
     "name": "stderr",
     "output_type": "stream",
     "text": [
      "Processing patients:  18%|█▊        | 3452/18868 [05:03<28:30,  9.01it/s]"
     ]
    },
    {
     "name": "stdout",
     "output_type": "stream",
     "text": [
      "Error in get_ecg_signal_features: cannot convert float NaN to integer\n"
     ]
    },
    {
     "name": "stderr",
     "output_type": "stream",
     "text": [
      "Processing patients:  19%|█▉        | 3574/18868 [05:14<20:22, 12.51it/s]"
     ]
    },
    {
     "name": "stdout",
     "output_type": "stream",
     "text": [
      "Error in get_ecg_signal_features: cannot convert float NaN to integer\n"
     ]
    },
    {
     "name": "stderr",
     "output_type": "stream",
     "text": [
      "Processing patients:  19%|█▉        | 3612/18868 [05:18<25:16, 10.06it/s]"
     ]
    },
    {
     "name": "stdout",
     "output_type": "stream",
     "text": [
      "Error in get_ecg_signal_features: integer division or modulo by zero\n"
     ]
    },
    {
     "name": "stderr",
     "output_type": "stream",
     "text": [
      "Processing patients:  19%|█▉        | 3623/18868 [05:19<24:28, 10.38it/s]"
     ]
    },
    {
     "name": "stdout",
     "output_type": "stream",
     "text": [
      "Error in get_ecg_signal_features: integer division or modulo by zero\n"
     ]
    },
    {
     "name": "stderr",
     "output_type": "stream",
     "text": [
      "Processing patients:  20%|█▉        | 3706/18868 [05:27<28:14,  8.95it/s]"
     ]
    },
    {
     "name": "stdout",
     "output_type": "stream",
     "text": [
      "Error in get_ecg_signal_features: cannot convert float NaN to integer\n"
     ]
    },
    {
     "name": "stderr",
     "output_type": "stream",
     "text": [
      "Processing patients:  20%|█▉        | 3722/18868 [05:29<35:18,  7.15it/s]"
     ]
    },
    {
     "name": "stdout",
     "output_type": "stream",
     "text": [
      "Error in get_ecg_signal_features: cannot convert float NaN to integer\n"
     ]
    },
    {
     "name": "stderr",
     "output_type": "stream",
     "text": [
      "Processing patients:  20%|█▉        | 3746/18868 [05:31<27:24,  9.19it/s]"
     ]
    },
    {
     "name": "stdout",
     "output_type": "stream",
     "text": [
      "Error in get_ecg_signal_features: integer division or modulo by zero\n"
     ]
    },
    {
     "name": "stderr",
     "output_type": "stream",
     "text": [
      "Processing patients:  20%|██        | 3829/18868 [05:39<35:34,  7.05it/s]"
     ]
    },
    {
     "name": "stdout",
     "output_type": "stream",
     "text": [
      "Error in get_ecg_signal_features: cannot convert float NaN to integer\n"
     ]
    },
    {
     "name": "stderr",
     "output_type": "stream",
     "text": [
      "Processing patients:  20%|██        | 3833/18868 [05:40<29:48,  8.41it/s]"
     ]
    },
    {
     "name": "stdout",
     "output_type": "stream",
     "text": [
      "Error in get_ecg_signal_features: cannot convert float NaN to integer\n"
     ]
    },
    {
     "name": "stderr",
     "output_type": "stream",
     "text": [
      "Processing patients:  20%|██        | 3845/18868 [05:41<32:37,  7.67it/s]"
     ]
    },
    {
     "name": "stdout",
     "output_type": "stream",
     "text": [
      "Error in get_ecg_signal_features: cannot convert float NaN to integer\n"
     ]
    },
    {
     "name": "stderr",
     "output_type": "stream",
     "text": [
      "Processing patients:  20%|██        | 3857/18868 [05:42<29:43,  8.42it/s]"
     ]
    },
    {
     "name": "stdout",
     "output_type": "stream",
     "text": [
      "Error in get_ecg_signal_features: cannot convert float NaN to integer\n"
     ]
    },
    {
     "name": "stderr",
     "output_type": "stream",
     "text": [
      "Processing patients:  20%|██        | 3862/18868 [05:43<44:15,  5.65it/s]"
     ]
    },
    {
     "name": "stdout",
     "output_type": "stream",
     "text": [
      "Error in get_ecg_signal_features: cannot convert float NaN to integer\n"
     ]
    },
    {
     "name": "stderr",
     "output_type": "stream",
     "text": [
      "Processing patients:  21%|██        | 3889/18868 [05:46<33:37,  7.42it/s]"
     ]
    },
    {
     "name": "stdout",
     "output_type": "stream",
     "text": [
      "Error in get_ecg_signal_features: cannot convert float NaN to integer\n"
     ]
    },
    {
     "name": "stderr",
     "output_type": "stream",
     "text": [
      "Processing patients:  21%|██        | 3913/18868 [05:48<25:34,  9.75it/s]"
     ]
    },
    {
     "name": "stdout",
     "output_type": "stream",
     "text": [
      "Error in get_ecg_signal_features: cannot convert float NaN to integer\n"
     ]
    },
    {
     "name": "stderr",
     "output_type": "stream",
     "text": [
      "Processing patients:  21%|██        | 3920/18868 [05:49<32:31,  7.66it/s]"
     ]
    },
    {
     "name": "stdout",
     "output_type": "stream",
     "text": [
      "Error in get_ecg_signal_features: integer division or modulo by zero\n"
     ]
    },
    {
     "name": "stderr",
     "output_type": "stream",
     "text": [
      "Processing patients:  21%|██        | 3999/18868 [05:57<24:03, 10.30it/s]"
     ]
    },
    {
     "name": "stdout",
     "output_type": "stream",
     "text": [
      "Saved batch patient_features_2001_to_4000.parquet\n"
     ]
    },
    {
     "name": "stderr",
     "output_type": "stream",
     "text": [
      "Processing patients:  21%|██        | 4001/18868 [05:57<35:16,  7.03it/s]"
     ]
    },
    {
     "name": "stdout",
     "output_type": "stream",
     "text": [
      "Error in get_ecg_signal_features: cannot convert float NaN to integer\n"
     ]
    },
    {
     "name": "stderr",
     "output_type": "stream",
     "text": [
      "Processing patients:  21%|██▏       | 4051/18868 [06:02<30:12,  8.18it/s]"
     ]
    },
    {
     "name": "stdout",
     "output_type": "stream",
     "text": [
      "Error in get_ecg_signal_features: integer division or modulo by zero\n"
     ]
    },
    {
     "name": "stderr",
     "output_type": "stream",
     "text": [
      "Processing patients:  21%|██▏       | 4053/18868 [06:02<37:08,  6.65it/s]"
     ]
    },
    {
     "name": "stdout",
     "output_type": "stream",
     "text": [
      "Error in get_ecg_signal_features: cannot convert float NaN to integer\n"
     ]
    },
    {
     "name": "stderr",
     "output_type": "stream",
     "text": [
      "Processing patients:  22%|██▏       | 4057/18868 [06:03<37:11,  6.64it/s]"
     ]
    },
    {
     "name": "stdout",
     "output_type": "stream",
     "text": [
      "Error in get_ecg_signal_features: cannot convert float NaN to integer\n"
     ]
    },
    {
     "name": "stderr",
     "output_type": "stream",
     "text": [
      "Processing patients:  22%|██▏       | 4107/18868 [06:07<25:45,  9.55it/s]"
     ]
    },
    {
     "name": "stdout",
     "output_type": "stream",
     "text": [
      "Error in get_ecg_signal_features: cannot convert float NaN to integer\n"
     ]
    },
    {
     "name": "stderr",
     "output_type": "stream",
     "text": [
      "Processing patients:  22%|██▏       | 4111/18868 [06:08<31:17,  7.86it/s]"
     ]
    },
    {
     "name": "stdout",
     "output_type": "stream",
     "text": [
      "Error in get_ecg_signal_features: cannot convert float NaN to integer\n"
     ]
    },
    {
     "name": "stderr",
     "output_type": "stream",
     "text": [
      "Processing patients:  22%|██▏       | 4117/18868 [06:09<28:13,  8.71it/s]"
     ]
    },
    {
     "name": "stdout",
     "output_type": "stream",
     "text": [
      "Error in get_ecg_signal_features: cannot convert float NaN to integer\n"
     ]
    },
    {
     "name": "stderr",
     "output_type": "stream",
     "text": [
      "Processing patients:  22%|██▏       | 4132/18868 [06:10<26:55,  9.12it/s]"
     ]
    },
    {
     "name": "stdout",
     "output_type": "stream",
     "text": [
      "Error in get_ecg_signal_features: cannot convert float NaN to integer\n"
     ]
    },
    {
     "name": "stderr",
     "output_type": "stream",
     "text": [
      "Processing patients:  22%|██▏       | 4158/18868 [06:13<32:15,  7.60it/s]"
     ]
    },
    {
     "name": "stdout",
     "output_type": "stream",
     "text": [
      "Error in get_ecg_signal_features: cannot convert float NaN to integer\n"
     ]
    },
    {
     "name": "stderr",
     "output_type": "stream",
     "text": [
      "Processing patients:  22%|██▏       | 4171/18868 [06:14<25:16,  9.69it/s]"
     ]
    },
    {
     "name": "stdout",
     "output_type": "stream",
     "text": [
      "Error in get_ecg_signal_features: cannot convert float NaN to integer\n"
     ]
    },
    {
     "name": "stderr",
     "output_type": "stream",
     "text": [
      "Processing patients:  23%|██▎       | 4295/18868 [06:26<35:34,  6.83it/s]"
     ]
    },
    {
     "name": "stdout",
     "output_type": "stream",
     "text": [
      "Error in get_ecg_signal_features: cannot convert float NaN to integer\n"
     ]
    },
    {
     "name": "stderr",
     "output_type": "stream",
     "text": [
      "Processing patients:  23%|██▎       | 4318/18868 [06:28<22:51, 10.61it/s]"
     ]
    },
    {
     "name": "stdout",
     "output_type": "stream",
     "text": [
      "Error in get_ecg_signal_features: integer division or modulo by zero\n"
     ]
    },
    {
     "name": "stderr",
     "output_type": "stream",
     "text": [
      "Processing patients:  23%|██▎       | 4330/18868 [06:29<29:01,  8.35it/s]"
     ]
    },
    {
     "name": "stdout",
     "output_type": "stream",
     "text": [
      "Error in get_ecg_signal_features: cannot convert float NaN to integer\n"
     ]
    },
    {
     "name": "stderr",
     "output_type": "stream",
     "text": [
      "Processing patients:  23%|██▎       | 4362/18868 [06:32<27:54,  8.66it/s]"
     ]
    },
    {
     "name": "stdout",
     "output_type": "stream",
     "text": [
      "Error in get_ecg_signal_features: cannot convert float NaN to integer\n"
     ]
    },
    {
     "name": "stderr",
     "output_type": "stream",
     "text": [
      "Processing patients:  23%|██▎       | 4402/18868 [06:36<32:05,  7.51it/s]"
     ]
    },
    {
     "name": "stdout",
     "output_type": "stream",
     "text": [
      "Error in get_ecg_signal_features: cannot convert float NaN to integer\n"
     ]
    },
    {
     "name": "stderr",
     "output_type": "stream",
     "text": [
      "Processing patients:  23%|██▎       | 4419/18868 [06:38<29:45,  8.09it/s]"
     ]
    },
    {
     "name": "stdout",
     "output_type": "stream",
     "text": [
      "Error in get_ecg_signal_features: cannot convert float NaN to integer\n"
     ]
    },
    {
     "name": "stderr",
     "output_type": "stream",
     "text": [
      "Processing patients:  24%|██▎       | 4465/18868 [06:42<25:49,  9.30it/s]"
     ]
    },
    {
     "name": "stdout",
     "output_type": "stream",
     "text": [
      "Error in get_ecg_signal_features: cannot convert float NaN to integer\n"
     ]
    },
    {
     "name": "stderr",
     "output_type": "stream",
     "text": [
      "Processing patients:  24%|██▍       | 4489/18868 [06:44<24:52,  9.63it/s]"
     ]
    },
    {
     "name": "stdout",
     "output_type": "stream",
     "text": [
      "Error in get_ecg_signal_features: cannot convert float NaN to integer\n"
     ]
    },
    {
     "name": "stderr",
     "output_type": "stream",
     "text": [
      "Processing patients:  24%|██▍       | 4513/18868 [06:47<29:08,  8.21it/s]"
     ]
    },
    {
     "name": "stdout",
     "output_type": "stream",
     "text": [
      "Error in get_ecg_signal_features: cannot convert float NaN to integer\n",
      "Error in get_ecg_signal_features: integer division or modulo by zero\n"
     ]
    },
    {
     "name": "stderr",
     "output_type": "stream",
     "text": [
      "Processing patients:  24%|██▍       | 4522/18868 [06:48<26:07,  9.15it/s]"
     ]
    },
    {
     "name": "stdout",
     "output_type": "stream",
     "text": [
      "Error in get_ecg_signal_features: cannot convert float NaN to integer\n"
     ]
    },
    {
     "name": "stderr",
     "output_type": "stream",
     "text": [
      "Processing patients:  25%|██▍       | 4647/18868 [06:59<32:10,  7.37it/s]"
     ]
    },
    {
     "name": "stdout",
     "output_type": "stream",
     "text": [
      "Error in get_ecg_signal_features: cannot convert float NaN to integer\n"
     ]
    },
    {
     "name": "stderr",
     "output_type": "stream",
     "text": [
      "Processing patients:  25%|██▍       | 4655/18868 [07:00<33:59,  6.97it/s]"
     ]
    },
    {
     "name": "stdout",
     "output_type": "stream",
     "text": [
      "Error in get_ecg_signal_features: cannot convert float NaN to integer\n"
     ]
    },
    {
     "name": "stderr",
     "output_type": "stream",
     "text": [
      "Processing patients:  25%|██▍       | 4672/18868 [07:02<29:04,  8.14it/s]"
     ]
    },
    {
     "name": "stdout",
     "output_type": "stream",
     "text": [
      "Error in get_ecg_signal_features: cannot convert float NaN to integer\n"
     ]
    },
    {
     "name": "stderr",
     "output_type": "stream",
     "text": [
      "Processing patients:  25%|██▌       | 4773/18868 [07:11<28:19,  8.30it/s]"
     ]
    },
    {
     "name": "stdout",
     "output_type": "stream",
     "text": [
      "Error in get_ecg_signal_features: integer division or modulo by zero\n"
     ]
    },
    {
     "name": "stderr",
     "output_type": "stream",
     "text": [
      "Processing patients:  25%|██▌       | 4784/18868 [07:12<23:36,  9.95it/s]"
     ]
    },
    {
     "name": "stdout",
     "output_type": "stream",
     "text": [
      "Error in get_ecg_signal_features: cannot convert float NaN to integer\n"
     ]
    },
    {
     "name": "stderr",
     "output_type": "stream",
     "text": [
      "Processing patients:  25%|██▌       | 4786/18868 [07:13<30:22,  7.73it/s]"
     ]
    },
    {
     "name": "stdout",
     "output_type": "stream",
     "text": [
      "Error in get_ecg_signal_features: cannot convert float NaN to integer\n"
     ]
    },
    {
     "name": "stderr",
     "output_type": "stream",
     "text": [
      "Processing patients:  25%|██▌       | 4803/18868 [07:14<22:22, 10.47it/s]"
     ]
    },
    {
     "name": "stdout",
     "output_type": "stream",
     "text": [
      "Error in get_ecg_signal_features: cannot convert float NaN to integer\n"
     ]
    },
    {
     "name": "stderr",
     "output_type": "stream",
     "text": [
      "Processing patients:  26%|██▌       | 4837/18868 [07:17<22:57, 10.19it/s]"
     ]
    },
    {
     "name": "stdout",
     "output_type": "stream",
     "text": [
      "Error in get_ecg_signal_features: cannot convert float NaN to integer\n"
     ]
    },
    {
     "name": "stderr",
     "output_type": "stream",
     "text": [
      "Processing patients:  26%|██▌       | 4843/18868 [07:18<31:22,  7.45it/s]"
     ]
    },
    {
     "name": "stdout",
     "output_type": "stream",
     "text": [
      "Error in get_ecg_signal_features: cannot convert float NaN to integer\n"
     ]
    },
    {
     "name": "stderr",
     "output_type": "stream",
     "text": [
      "Processing patients:  26%|██▌       | 4866/18868 [07:20<22:46, 10.25it/s]"
     ]
    },
    {
     "name": "stdout",
     "output_type": "stream",
     "text": [
      "Error in get_ecg_signal_features: cannot convert float NaN to integer\n"
     ]
    },
    {
     "name": "stderr",
     "output_type": "stream",
     "text": [
      "Processing patients:  26%|██▌       | 4872/18868 [07:21<32:30,  7.18it/s]"
     ]
    },
    {
     "name": "stdout",
     "output_type": "stream",
     "text": [
      "Error in get_ecg_signal_features: cannot convert float NaN to integer\n"
     ]
    },
    {
     "name": "stderr",
     "output_type": "stream",
     "text": [
      "Processing patients:  26%|██▌       | 4921/18868 [07:26<33:00,  7.04it/s]"
     ]
    },
    {
     "name": "stdout",
     "output_type": "stream",
     "text": [
      "Error in get_ecg_signal_features: integer division or modulo by zero\n"
     ]
    },
    {
     "name": "stderr",
     "output_type": "stream",
     "text": [
      "Processing patients:  26%|██▌       | 4927/18868 [07:26<24:17,  9.57it/s]"
     ]
    },
    {
     "name": "stdout",
     "output_type": "stream",
     "text": [
      "Error in get_ecg_signal_features: cannot convert float NaN to integer\n"
     ]
    },
    {
     "name": "stderr",
     "output_type": "stream",
     "text": [
      "Processing patients:  26%|██▌       | 4929/18868 [07:27<32:27,  7.16it/s]"
     ]
    },
    {
     "name": "stdout",
     "output_type": "stream",
     "text": [
      "Error in get_ecg_signal_features: cannot convert float NaN to integer\n"
     ]
    },
    {
     "name": "stderr",
     "output_type": "stream",
     "text": [
      "Processing patients:  26%|██▌       | 4939/18868 [07:28<25:45,  9.01it/s]"
     ]
    },
    {
     "name": "stdout",
     "output_type": "stream",
     "text": [
      "Error in get_ecg_signal_features: integer division or modulo by zero\n"
     ]
    },
    {
     "name": "stderr",
     "output_type": "stream",
     "text": [
      "Processing patients:  26%|██▋       | 4959/18868 [07:30<29:24,  7.88it/s]"
     ]
    },
    {
     "name": "stdout",
     "output_type": "stream",
     "text": [
      "Error in get_ecg_signal_features: cannot convert float NaN to integer\n"
     ]
    },
    {
     "name": "stderr",
     "output_type": "stream",
     "text": [
      "Processing patients:  26%|██▋       | 4974/18868 [07:31<23:07, 10.01it/s]"
     ]
    },
    {
     "name": "stdout",
     "output_type": "stream",
     "text": [
      "Error in get_ecg_signal_features: cannot convert float NaN to integer\n"
     ]
    },
    {
     "name": "stderr",
     "output_type": "stream",
     "text": [
      "Processing patients:  26%|██▋       | 4980/18868 [07:32<33:44,  6.86it/s]"
     ]
    },
    {
     "name": "stdout",
     "output_type": "stream",
     "text": [
      "Error in get_ecg_signal_features: cannot convert float NaN to integer\n"
     ]
    },
    {
     "name": "stderr",
     "output_type": "stream",
     "text": [
      "Processing patients:  27%|██▋       | 5005/18868 [07:35<31:33,  7.32it/s]"
     ]
    },
    {
     "name": "stdout",
     "output_type": "stream",
     "text": [
      "Error in get_ecg_signal_features: cannot convert float NaN to integer\n"
     ]
    },
    {
     "name": "stderr",
     "output_type": "stream",
     "text": [
      "Processing patients:  27%|██▋       | 5070/18868 [07:41<27:20,  8.41it/s]"
     ]
    },
    {
     "name": "stdout",
     "output_type": "stream",
     "text": [
      "Error in get_ecg_signal_features: cannot convert float NaN to integer\n"
     ]
    },
    {
     "name": "stderr",
     "output_type": "stream",
     "text": [
      "Processing patients:  27%|██▋       | 5073/18868 [07:41<28:04,  8.19it/s]"
     ]
    },
    {
     "name": "stdout",
     "output_type": "stream",
     "text": [
      "Error in get_ecg_signal_features: integer division or modulo by zero\n"
     ]
    },
    {
     "name": "stderr",
     "output_type": "stream",
     "text": [
      "Processing patients:  27%|██▋       | 5156/18868 [07:49<22:29, 10.16it/s]"
     ]
    },
    {
     "name": "stdout",
     "output_type": "stream",
     "text": [
      "Error in get_ecg_signal_features: cannot convert float NaN to integer\n",
      "Error in get_ecg_signal_features: cannot convert float NaN to integer\n"
     ]
    },
    {
     "name": "stderr",
     "output_type": "stream",
     "text": [
      "Processing patients:  28%|██▊       | 5190/18868 [07:52<26:18,  8.66it/s]"
     ]
    },
    {
     "name": "stdout",
     "output_type": "stream",
     "text": [
      "Error in get_ecg_signal_features: cannot convert float NaN to integer\n"
     ]
    },
    {
     "name": "stderr",
     "output_type": "stream",
     "text": [
      "Processing patients:  28%|██▊       | 5212/18868 [07:54<27:23,  8.31it/s]"
     ]
    },
    {
     "name": "stdout",
     "output_type": "stream",
     "text": [
      "Error in get_ecg_signal_features: cannot convert float NaN to integer\n"
     ]
    },
    {
     "name": "stderr",
     "output_type": "stream",
     "text": [
      "Processing patients:  28%|██▊       | 5216/18868 [07:55<28:34,  7.96it/s]"
     ]
    },
    {
     "name": "stdout",
     "output_type": "stream",
     "text": [
      "Error in get_ecg_signal_features: cannot convert float NaN to integer\n"
     ]
    },
    {
     "name": "stderr",
     "output_type": "stream",
     "text": [
      "Processing patients:  28%|██▊       | 5262/18868 [07:59<22:38, 10.02it/s]"
     ]
    },
    {
     "name": "stdout",
     "output_type": "stream",
     "text": [
      "Error in get_ecg_signal_features: cannot convert float NaN to integer\n"
     ]
    },
    {
     "name": "stderr",
     "output_type": "stream",
     "text": [
      "Processing patients:  28%|██▊       | 5276/18868 [08:01<29:51,  7.59it/s]"
     ]
    },
    {
     "name": "stdout",
     "output_type": "stream",
     "text": [
      "Error in get_ecg_signal_features: cannot convert float NaN to integer\n"
     ]
    },
    {
     "name": "stderr",
     "output_type": "stream",
     "text": [
      "Processing patients:  28%|██▊       | 5306/18868 [08:04<24:47,  9.12it/s]"
     ]
    },
    {
     "name": "stdout",
     "output_type": "stream",
     "text": [
      "Error in get_ecg_signal_features: cannot convert float NaN to integer\n"
     ]
    },
    {
     "name": "stderr",
     "output_type": "stream",
     "text": [
      "Processing patients:  28%|██▊       | 5312/18868 [08:04<27:53,  8.10it/s]"
     ]
    },
    {
     "name": "stdout",
     "output_type": "stream",
     "text": [
      "Error in get_ecg_signal_features: integer division or modulo by zero\n"
     ]
    },
    {
     "name": "stderr",
     "output_type": "stream",
     "text": [
      "Processing patients:  28%|██▊       | 5350/18868 [08:08<21:15, 10.60it/s]"
     ]
    },
    {
     "name": "stdout",
     "output_type": "stream",
     "text": [
      "Error in get_ecg_signal_features: cannot convert float NaN to integer\n"
     ]
    },
    {
     "name": "stderr",
     "output_type": "stream",
     "text": [
      "Processing patients:  29%|██▊       | 5409/18868 [08:13<27:36,  8.13it/s]"
     ]
    },
    {
     "name": "stdout",
     "output_type": "stream",
     "text": [
      "Error in get_ecg_signal_features: integer division or modulo by zero\n"
     ]
    },
    {
     "name": "stderr",
     "output_type": "stream",
     "text": [
      "Processing patients:  29%|██▉       | 5427/18868 [08:15<23:27,  9.55it/s]"
     ]
    },
    {
     "name": "stdout",
     "output_type": "stream",
     "text": [
      "Error in get_ecg_signal_features: cannot convert float NaN to integer\n"
     ]
    },
    {
     "name": "stderr",
     "output_type": "stream",
     "text": [
      "Processing patients:  29%|██▉       | 5443/18868 [08:17<30:02,  7.45it/s]"
     ]
    },
    {
     "name": "stdout",
     "output_type": "stream",
     "text": [
      "Error in get_ecg_signal_features: cannot convert float NaN to integer\n"
     ]
    },
    {
     "name": "stderr",
     "output_type": "stream",
     "text": [
      "Processing patients:  29%|██▉       | 5451/18868 [08:18<25:07,  8.90it/s]"
     ]
    },
    {
     "name": "stdout",
     "output_type": "stream",
     "text": [
      "Error in get_ecg_signal_features: cannot convert float NaN to integer\n"
     ]
    },
    {
     "name": "stderr",
     "output_type": "stream",
     "text": [
      "Processing patients:  29%|██▉       | 5461/18868 [08:19<21:35, 10.35it/s]"
     ]
    },
    {
     "name": "stdout",
     "output_type": "stream",
     "text": [
      "Error in get_ecg_signal_features: cannot convert float NaN to integer\n"
     ]
    },
    {
     "name": "stderr",
     "output_type": "stream",
     "text": [
      "Processing patients:  29%|██▉       | 5505/18868 [08:23<29:31,  7.54it/s]"
     ]
    },
    {
     "name": "stdout",
     "output_type": "stream",
     "text": [
      "Error in get_ecg_signal_features: cannot convert float NaN to integer\n"
     ]
    },
    {
     "name": "stderr",
     "output_type": "stream",
     "text": [
      "Processing patients:  29%|██▉       | 5531/18868 [08:25<21:34, 10.31it/s]"
     ]
    },
    {
     "name": "stdout",
     "output_type": "stream",
     "text": [
      "Error in get_ecg_signal_features: cannot convert float NaN to integer\n"
     ]
    },
    {
     "name": "stderr",
     "output_type": "stream",
     "text": [
      "Processing patients:  30%|██▉       | 5589/18868 [08:31<28:22,  7.80it/s]"
     ]
    },
    {
     "name": "stdout",
     "output_type": "stream",
     "text": [
      "Error in get_ecg_signal_features: integer division or modulo by zero\n"
     ]
    },
    {
     "name": "stderr",
     "output_type": "stream",
     "text": [
      "Processing patients:  30%|██▉       | 5601/18868 [08:32<21:26, 10.31it/s]"
     ]
    },
    {
     "name": "stdout",
     "output_type": "stream",
     "text": [
      "Error in get_ecg_signal_features: integer division or modulo by zero\n"
     ]
    },
    {
     "name": "stderr",
     "output_type": "stream",
     "text": [
      "Processing patients:  30%|██▉       | 5611/18868 [08:33<27:32,  8.02it/s]"
     ]
    },
    {
     "name": "stdout",
     "output_type": "stream",
     "text": [
      "Error in get_ecg_signal_features: cannot convert float NaN to integer\n"
     ]
    },
    {
     "name": "stderr",
     "output_type": "stream",
     "text": [
      "Processing patients:  30%|██▉       | 5646/18868 [08:36<29:08,  7.56it/s]"
     ]
    },
    {
     "name": "stdout",
     "output_type": "stream",
     "text": [
      "Error in get_ecg_signal_features: cannot convert float NaN to integer\n"
     ]
    },
    {
     "name": "stderr",
     "output_type": "stream",
     "text": [
      "Processing patients:  30%|███       | 5662/18868 [08:38<29:28,  7.47it/s]"
     ]
    },
    {
     "name": "stdout",
     "output_type": "stream",
     "text": [
      "Error in get_ecg_signal_features: cannot convert float NaN to integer\n"
     ]
    },
    {
     "name": "stderr",
     "output_type": "stream",
     "text": [
      "Processing patients:  30%|███       | 5684/18868 [08:40<22:32,  9.75it/s]"
     ]
    },
    {
     "name": "stdout",
     "output_type": "stream",
     "text": [
      "Error in get_ecg_signal_features: cannot convert float NaN to integer\n"
     ]
    },
    {
     "name": "stderr",
     "output_type": "stream",
     "text": [
      "Processing patients:  30%|███       | 5686/18868 [08:41<27:47,  7.90it/s]"
     ]
    },
    {
     "name": "stdout",
     "output_type": "stream",
     "text": [
      "Error in get_ecg_signal_features: cannot convert float NaN to integer\n"
     ]
    },
    {
     "name": "stderr",
     "output_type": "stream",
     "text": [
      "Processing patients:  30%|███       | 5728/18868 [08:45<27:46,  7.88it/s]"
     ]
    },
    {
     "name": "stdout",
     "output_type": "stream",
     "text": [
      "Error in get_ecg_signal_features: cannot convert float NaN to integer\n"
     ]
    },
    {
     "name": "stderr",
     "output_type": "stream",
     "text": [
      "Processing patients:  31%|███       | 5807/18868 [08:52<25:37,  8.49it/s]"
     ]
    },
    {
     "name": "stdout",
     "output_type": "stream",
     "text": [
      "Error in get_ecg_signal_features: cannot convert float NaN to integer\n"
     ]
    },
    {
     "name": "stderr",
     "output_type": "stream",
     "text": [
      "Processing patients:  31%|███▏      | 5931/18868 [09:04<30:59,  6.96it/s]"
     ]
    },
    {
     "name": "stdout",
     "output_type": "stream",
     "text": [
      "Error in get_ecg_signal_features: integer division or modulo by zero\n"
     ]
    },
    {
     "name": "stderr",
     "output_type": "stream",
     "text": [
      "Processing patients:  31%|███▏      | 5934/18868 [09:04<35:03,  6.15it/s]"
     ]
    },
    {
     "name": "stdout",
     "output_type": "stream",
     "text": [
      "Error in get_ecg_signal_features: integer division or modulo by zero\n"
     ]
    },
    {
     "name": "stderr",
     "output_type": "stream",
     "text": [
      "Processing patients:  32%|███▏      | 5986/18868 [09:09<20:46, 10.33it/s]"
     ]
    },
    {
     "name": "stdout",
     "output_type": "stream",
     "text": [
      "Error in get_ecg_signal_features: cannot convert float NaN to integer\n"
     ]
    },
    {
     "name": "stderr",
     "output_type": "stream",
     "text": [
      "Processing patients:  32%|███▏      | 5992/18868 [09:10<27:58,  7.67it/s]"
     ]
    },
    {
     "name": "stdout",
     "output_type": "stream",
     "text": [
      "Error in get_ecg_signal_features: cannot convert float NaN to integer\n"
     ]
    },
    {
     "name": "stderr",
     "output_type": "stream",
     "text": [
      "Processing patients:  32%|███▏      | 6001/18868 [09:10<21:21, 10.04it/s]"
     ]
    },
    {
     "name": "stdout",
     "output_type": "stream",
     "text": [
      "Saved batch patient_features_4001_to_6000.parquet\n"
     ]
    },
    {
     "name": "stderr",
     "output_type": "stream",
     "text": [
      "Processing patients:  32%|███▏      | 6013/18868 [09:12<26:16,  8.15it/s]"
     ]
    },
    {
     "name": "stdout",
     "output_type": "stream",
     "text": [
      "Error in get_ecg_signal_features: cannot convert float NaN to integer\n"
     ]
    },
    {
     "name": "stderr",
     "output_type": "stream",
     "text": [
      "Processing patients:  32%|███▏      | 6033/18868 [09:14<29:02,  7.37it/s]"
     ]
    },
    {
     "name": "stdout",
     "output_type": "stream",
     "text": [
      "Error in get_ecg_signal_features: cannot convert float NaN to integer\n"
     ]
    },
    {
     "name": "stderr",
     "output_type": "stream",
     "text": [
      "Processing patients:  32%|███▏      | 6042/18868 [09:15<22:42,  9.41it/s]"
     ]
    },
    {
     "name": "stdout",
     "output_type": "stream",
     "text": [
      "Error in get_ecg_signal_features: integer division or modulo by zero\n"
     ]
    },
    {
     "name": "stderr",
     "output_type": "stream",
     "text": [
      "Processing patients:  32%|███▏      | 6044/18868 [09:15<33:14,  6.43it/s]"
     ]
    },
    {
     "name": "stdout",
     "output_type": "stream",
     "text": [
      "Error in get_ecg_signal_features: cannot convert float NaN to integer\n"
     ]
    },
    {
     "name": "stderr",
     "output_type": "stream",
     "text": [
      "Processing patients:  33%|███▎      | 6142/18868 [09:24<20:16, 10.47it/s]"
     ]
    },
    {
     "name": "stdout",
     "output_type": "stream",
     "text": [
      "Error in get_ecg_signal_features: integer division or modulo by zero\n"
     ]
    },
    {
     "name": "stderr",
     "output_type": "stream",
     "text": [
      "Processing patients:  33%|███▎      | 6154/18868 [09:25<20:13, 10.48it/s]"
     ]
    },
    {
     "name": "stdout",
     "output_type": "stream",
     "text": [
      "Error in get_ecg_signal_features: cannot convert float NaN to integer\n"
     ]
    },
    {
     "name": "stderr",
     "output_type": "stream",
     "text": [
      "Processing patients:  33%|███▎      | 6166/18868 [09:26<21:03, 10.05it/s]"
     ]
    },
    {
     "name": "stdout",
     "output_type": "stream",
     "text": [
      "Error in get_ecg_signal_features: cannot convert float NaN to integer\n"
     ]
    },
    {
     "name": "stderr",
     "output_type": "stream",
     "text": [
      "Processing patients:  33%|███▎      | 6182/18868 [09:27<20:33, 10.28it/s]"
     ]
    },
    {
     "name": "stdout",
     "output_type": "stream",
     "text": [
      "Error in get_ecg_signal_features: cannot convert float NaN to integer\n"
     ]
    },
    {
     "name": "stderr",
     "output_type": "stream",
     "text": [
      "Processing patients:  33%|███▎      | 6192/18868 [09:29<24:08,  8.75it/s]"
     ]
    },
    {
     "name": "stdout",
     "output_type": "stream",
     "text": [
      "Error in get_ecg_signal_features: cannot convert float NaN to integer\n",
      "Error in get_ecg_signal_features: cannot convert float NaN to integer\n"
     ]
    },
    {
     "name": "stderr",
     "output_type": "stream",
     "text": [
      "Processing patients:  33%|███▎      | 6196/18868 [09:29<30:09,  7.00it/s]"
     ]
    },
    {
     "name": "stdout",
     "output_type": "stream",
     "text": [
      "Error in get_ecg_signal_features: cannot convert float NaN to integer\n"
     ]
    },
    {
     "name": "stderr",
     "output_type": "stream",
     "text": [
      "Processing patients:  33%|███▎      | 6238/18868 [09:33<28:00,  7.52it/s]"
     ]
    },
    {
     "name": "stdout",
     "output_type": "stream",
     "text": [
      "Error in get_ecg_signal_features: cannot convert float NaN to integer\n"
     ]
    },
    {
     "name": "stderr",
     "output_type": "stream",
     "text": [
      "Processing patients:  33%|███▎      | 6262/18868 [09:35<19:31, 10.76it/s]"
     ]
    },
    {
     "name": "stdout",
     "output_type": "stream",
     "text": [
      "Error in get_ecg_signal_features: integer division or modulo by zero\n"
     ]
    },
    {
     "name": "stderr",
     "output_type": "stream",
     "text": [
      "Processing patients:  33%|███▎      | 6272/18868 [09:36<19:12, 10.93it/s]"
     ]
    },
    {
     "name": "stdout",
     "output_type": "stream",
     "text": [
      "Error in get_ecg_signal_features: integer division or modulo by zero\n"
     ]
    },
    {
     "name": "stderr",
     "output_type": "stream",
     "text": [
      "Processing patients:  33%|███▎      | 6282/18868 [09:37<19:07, 10.97it/s]"
     ]
    },
    {
     "name": "stdout",
     "output_type": "stream",
     "text": [
      "Error in get_ecg_signal_features: cannot convert float NaN to integer\n"
     ]
    },
    {
     "name": "stderr",
     "output_type": "stream",
     "text": [
      "Processing patients:  34%|███▎      | 6358/18868 [09:42<14:46, 14.12it/s]"
     ]
    },
    {
     "name": "stdout",
     "output_type": "stream",
     "text": [
      "Error in get_ecg_signal_features: cannot convert float NaN to integer\n"
     ]
    },
    {
     "name": "stderr",
     "output_type": "stream",
     "text": [
      "Processing patients:  34%|███▍      | 6394/18868 [09:45<15:34, 13.35it/s]"
     ]
    },
    {
     "name": "stdout",
     "output_type": "stream",
     "text": [
      "Error in get_ecg_signal_features: cannot convert float NaN to integer\n"
     ]
    },
    {
     "name": "stderr",
     "output_type": "stream",
     "text": [
      "Processing patients:  34%|███▍      | 6412/18868 [09:46<16:25, 12.64it/s]"
     ]
    },
    {
     "name": "stdout",
     "output_type": "stream",
     "text": [
      "Error in get_ecg_signal_features: cannot convert float NaN to integer\n"
     ]
    },
    {
     "name": "stderr",
     "output_type": "stream",
     "text": [
      "Processing patients:  34%|███▍      | 6430/18868 [09:48<20:33, 10.08it/s]"
     ]
    },
    {
     "name": "stdout",
     "output_type": "stream",
     "text": [
      "Error in get_ecg_signal_features: cannot convert float NaN to integer\n"
     ]
    },
    {
     "name": "stderr",
     "output_type": "stream",
     "text": [
      "Processing patients:  34%|███▍      | 6440/18868 [09:49<22:10,  9.34it/s]"
     ]
    },
    {
     "name": "stdout",
     "output_type": "stream",
     "text": [
      "Error in get_ecg_signal_features: cannot convert float NaN to integer\n"
     ]
    },
    {
     "name": "stderr",
     "output_type": "stream",
     "text": [
      "Processing patients:  34%|███▍      | 6482/18868 [09:52<19:42, 10.48it/s]"
     ]
    },
    {
     "name": "stdout",
     "output_type": "stream",
     "text": [
      "Error in get_ecg_signal_features: cannot convert float NaN to integer\n"
     ]
    },
    {
     "name": "stderr",
     "output_type": "stream",
     "text": [
      "Processing patients:  35%|███▍      | 6550/18868 [09:57<17:19, 11.85it/s]"
     ]
    },
    {
     "name": "stdout",
     "output_type": "stream",
     "text": [
      "Error in get_ecg_signal_features: cannot convert float NaN to integer\n"
     ]
    },
    {
     "name": "stderr",
     "output_type": "stream",
     "text": [
      "Processing patients:  35%|███▌      | 6626/18868 [10:03<18:27, 11.06it/s]"
     ]
    },
    {
     "name": "stdout",
     "output_type": "stream",
     "text": [
      "Error in get_ecg_signal_features: cannot convert float NaN to integer\n"
     ]
    },
    {
     "name": "stderr",
     "output_type": "stream",
     "text": [
      "Processing patients:  35%|███▌      | 6629/18868 [10:03<21:27,  9.50it/s]"
     ]
    },
    {
     "name": "stdout",
     "output_type": "stream",
     "text": [
      "Error in get_ecg_signal_features: integer division or modulo by zero\n"
     ]
    },
    {
     "name": "stderr",
     "output_type": "stream",
     "text": [
      "Processing patients:  35%|███▌      | 6639/18868 [10:04<21:12,  9.61it/s]"
     ]
    },
    {
     "name": "stdout",
     "output_type": "stream",
     "text": [
      "Error in get_ecg_signal_features: cannot convert float NaN to integer\n"
     ]
    },
    {
     "name": "stderr",
     "output_type": "stream",
     "text": [
      "Processing patients:  35%|███▌      | 6667/18868 [10:06<20:35,  9.87it/s]"
     ]
    },
    {
     "name": "stdout",
     "output_type": "stream",
     "text": [
      "Error in get_ecg_signal_features: cannot convert float NaN to integer\n"
     ]
    },
    {
     "name": "stderr",
     "output_type": "stream",
     "text": [
      "Processing patients:  35%|███▌      | 6683/18868 [10:08<24:05,  8.43it/s]"
     ]
    },
    {
     "name": "stdout",
     "output_type": "stream",
     "text": [
      "Error in get_ecg_signal_features: cannot convert float NaN to integer\n"
     ]
    },
    {
     "name": "stderr",
     "output_type": "stream",
     "text": [
      "Processing patients:  35%|███▌      | 6687/18868 [10:09<26:54,  7.54it/s]"
     ]
    },
    {
     "name": "stdout",
     "output_type": "stream",
     "text": [
      "Error in get_ecg_signal_features: cannot convert float NaN to integer\n"
     ]
    },
    {
     "name": "stderr",
     "output_type": "stream",
     "text": [
      "Processing patients:  35%|███▌      | 6690/18868 [10:09<25:03,  8.10it/s]"
     ]
    },
    {
     "name": "stdout",
     "output_type": "stream",
     "text": [
      "Error in get_ecg_signal_features: cannot convert float NaN to integer\n"
     ]
    },
    {
     "name": "stderr",
     "output_type": "stream",
     "text": [
      "Processing patients:  35%|███▌      | 6698/18868 [10:10<18:17, 11.09it/s]"
     ]
    },
    {
     "name": "stdout",
     "output_type": "stream",
     "text": [
      "Error in get_ecg_signal_features: integer division or modulo by zero\n"
     ]
    },
    {
     "name": "stderr",
     "output_type": "stream",
     "text": [
      "Processing patients:  36%|███▌      | 6702/18868 [10:10<26:13,  7.73it/s]"
     ]
    },
    {
     "name": "stdout",
     "output_type": "stream",
     "text": [
      "Error in get_ecg_signal_features: integer division or modulo by zero\n"
     ]
    },
    {
     "name": "stderr",
     "output_type": "stream",
     "text": [
      "Processing patients:  36%|███▌      | 6722/18868 [10:12<20:34,  9.84it/s]"
     ]
    },
    {
     "name": "stdout",
     "output_type": "stream",
     "text": [
      "Error in get_ecg_signal_features: cannot convert float NaN to integer\n"
     ]
    },
    {
     "name": "stderr",
     "output_type": "stream",
     "text": [
      "Processing patients:  36%|███▌      | 6732/18868 [10:13<19:45, 10.24it/s]"
     ]
    },
    {
     "name": "stdout",
     "output_type": "stream",
     "text": [
      "Error in get_ecg_signal_features: cannot convert float NaN to integer\n"
     ]
    },
    {
     "name": "stderr",
     "output_type": "stream",
     "text": [
      "Processing patients:  36%|███▌      | 6734/18868 [10:13<24:12,  8.35it/s]"
     ]
    },
    {
     "name": "stdout",
     "output_type": "stream",
     "text": [
      "Error in get_ecg_signal_features: cannot convert float NaN to integer\n"
     ]
    },
    {
     "name": "stderr",
     "output_type": "stream",
     "text": [
      "Processing patients:  36%|███▌      | 6754/18868 [10:15<15:49, 12.76it/s]"
     ]
    },
    {
     "name": "stdout",
     "output_type": "stream",
     "text": [
      "Error in get_ecg_signal_features: integer division or modulo by zero\n"
     ]
    },
    {
     "name": "stderr",
     "output_type": "stream",
     "text": [
      "Processing patients:  36%|███▌      | 6756/18868 [10:15<19:09, 10.54it/s]"
     ]
    },
    {
     "name": "stdout",
     "output_type": "stream",
     "text": [
      "Error in get_ecg_signal_features: cannot convert float NaN to integer\n"
     ]
    },
    {
     "name": "stderr",
     "output_type": "stream",
     "text": [
      "Processing patients:  36%|███▌      | 6802/18868 [10:19<16:30, 12.18it/s]"
     ]
    },
    {
     "name": "stdout",
     "output_type": "stream",
     "text": [
      "Error in get_ecg_signal_features: integer division or modulo by zero\n"
     ]
    },
    {
     "name": "stderr",
     "output_type": "stream",
     "text": [
      "Processing patients:  36%|███▌      | 6808/18868 [10:19<26:55,  7.46it/s]"
     ]
    },
    {
     "name": "stdout",
     "output_type": "stream",
     "text": [
      "Error in get_ecg_signal_features: cannot convert float NaN to integer\n"
     ]
    },
    {
     "name": "stderr",
     "output_type": "stream",
     "text": [
      "Processing patients:  36%|███▋      | 6854/18868 [10:23<15:20, 13.06it/s]"
     ]
    },
    {
     "name": "stdout",
     "output_type": "stream",
     "text": [
      "Error in get_ecg_signal_features: cannot convert float NaN to integer\n"
     ]
    },
    {
     "name": "stderr",
     "output_type": "stream",
     "text": [
      "Processing patients:  36%|███▋      | 6874/18868 [10:24<18:14, 10.96it/s]"
     ]
    },
    {
     "name": "stdout",
     "output_type": "stream",
     "text": [
      "Error in get_ecg_signal_features: cannot convert float NaN to integer\n"
     ]
    },
    {
     "name": "stderr",
     "output_type": "stream",
     "text": [
      "Processing patients:  37%|███▋      | 6890/18868 [10:26<15:44, 12.68it/s]"
     ]
    },
    {
     "name": "stdout",
     "output_type": "stream",
     "text": [
      "Error in get_ecg_signal_features: integer division or modulo by zero\n"
     ]
    },
    {
     "name": "stderr",
     "output_type": "stream",
     "text": [
      "Processing patients:  37%|███▋      | 6894/18868 [10:26<21:29,  9.29it/s]"
     ]
    },
    {
     "name": "stdout",
     "output_type": "stream",
     "text": [
      "Error in get_ecg_signal_features: cannot convert float NaN to integer\n"
     ]
    },
    {
     "name": "stderr",
     "output_type": "stream",
     "text": [
      "Processing patients:  37%|███▋      | 6906/18868 [10:27<16:48, 11.86it/s]"
     ]
    },
    {
     "name": "stdout",
     "output_type": "stream",
     "text": [
      "Error in get_ecg_signal_features: integer division or modulo by zero\n"
     ]
    },
    {
     "name": "stderr",
     "output_type": "stream",
     "text": [
      "Processing patients:  37%|███▋      | 6908/18868 [10:28<23:17,  8.56it/s]"
     ]
    },
    {
     "name": "stdout",
     "output_type": "stream",
     "text": [
      "Error in get_ecg_signal_features: integer division or modulo by zero\n"
     ]
    },
    {
     "name": "stderr",
     "output_type": "stream",
     "text": [
      "Processing patients:  37%|███▋      | 6948/18868 [10:31<18:34, 10.69it/s]"
     ]
    },
    {
     "name": "stdout",
     "output_type": "stream",
     "text": [
      "Error in get_ecg_signal_features: integer division or modulo by zero\n"
     ]
    },
    {
     "name": "stderr",
     "output_type": "stream",
     "text": [
      "Processing patients:  37%|███▋      | 6958/18868 [10:31<16:41, 11.90it/s]"
     ]
    },
    {
     "name": "stdout",
     "output_type": "stream",
     "text": [
      "Error in get_ecg_signal_features: cannot convert float NaN to integer\n"
     ]
    },
    {
     "name": "stderr",
     "output_type": "stream",
     "text": [
      "Processing patients:  37%|███▋      | 7034/18868 [10:37<19:14, 10.25it/s]"
     ]
    },
    {
     "name": "stdout",
     "output_type": "stream",
     "text": [
      "Error in get_ecg_signal_features: cannot convert float NaN to integer\n"
     ]
    },
    {
     "name": "stderr",
     "output_type": "stream",
     "text": [
      "Processing patients:  37%|███▋      | 7048/18868 [10:38<22:19,  8.82it/s]"
     ]
    },
    {
     "name": "stdout",
     "output_type": "stream",
     "text": [
      "Error in get_ecg_signal_features: cannot convert float NaN to integer\n"
     ]
    },
    {
     "name": "stderr",
     "output_type": "stream",
     "text": [
      "Processing patients:  38%|███▊      | 7140/18868 [10:46<16:29, 11.86it/s]"
     ]
    },
    {
     "name": "stdout",
     "output_type": "stream",
     "text": [
      "Error in get_ecg_signal_features: cannot convert float NaN to integer\n"
     ]
    },
    {
     "name": "stderr",
     "output_type": "stream",
     "text": [
      "Processing patients:  38%|███▊      | 7164/18868 [10:47<14:39, 13.30it/s]"
     ]
    },
    {
     "name": "stdout",
     "output_type": "stream",
     "text": [
      "Error in get_ecg_signal_features: cannot convert float NaN to integer\n"
     ]
    },
    {
     "name": "stderr",
     "output_type": "stream",
     "text": [
      "Processing patients:  38%|███▊      | 7190/18868 [10:50<19:00, 10.24it/s]"
     ]
    },
    {
     "name": "stdout",
     "output_type": "stream",
     "text": [
      "Error in get_ecg_signal_features: cannot convert float NaN to integer\n"
     ]
    },
    {
     "name": "stderr",
     "output_type": "stream",
     "text": [
      "Processing patients:  38%|███▊      | 7192/18868 [10:50<25:32,  7.62it/s]"
     ]
    },
    {
     "name": "stdout",
     "output_type": "stream",
     "text": [
      "Error in get_ecg_signal_features: cannot convert float NaN to integer\n"
     ]
    },
    {
     "name": "stderr",
     "output_type": "stream",
     "text": [
      "Processing patients:  38%|███▊      | 7232/18868 [10:53<17:56, 10.81it/s]"
     ]
    },
    {
     "name": "stdout",
     "output_type": "stream",
     "text": [
      "Error in get_ecg_signal_features: integer division or modulo by zero\n"
     ]
    },
    {
     "name": "stderr",
     "output_type": "stream",
     "text": [
      "Processing patients:  39%|███▉      | 7320/18868 [10:59<18:55, 10.17it/s]"
     ]
    },
    {
     "name": "stdout",
     "output_type": "stream",
     "text": [
      "Error in get_ecg_signal_features: cannot convert float NaN to integer\n"
     ]
    },
    {
     "name": "stderr",
     "output_type": "stream",
     "text": [
      "Processing patients:  39%|███▉      | 7360/18868 [11:02<14:32, 13.19it/s]"
     ]
    },
    {
     "name": "stdout",
     "output_type": "stream",
     "text": [
      "Error in get_ecg_signal_features: cannot convert float NaN to integer\n"
     ]
    },
    {
     "name": "stderr",
     "output_type": "stream",
     "text": [
      "Processing patients:  39%|███▉      | 7380/18868 [11:04<13:40, 14.01it/s]"
     ]
    },
    {
     "name": "stdout",
     "output_type": "stream",
     "text": [
      "Error in get_ecg_signal_features: integer division or modulo by zero\n"
     ]
    },
    {
     "name": "stderr",
     "output_type": "stream",
     "text": [
      "Processing patients:  39%|███▉      | 7404/18868 [11:06<17:08, 11.15it/s]"
     ]
    },
    {
     "name": "stdout",
     "output_type": "stream",
     "text": [
      "Error in get_ecg_signal_features: cannot convert float NaN to integer\n"
     ]
    },
    {
     "name": "stderr",
     "output_type": "stream",
     "text": [
      "Processing patients:  39%|███▉      | 7422/18868 [11:07<16:41, 11.43it/s]"
     ]
    },
    {
     "name": "stdout",
     "output_type": "stream",
     "text": [
      "Error in get_ecg_signal_features: cannot convert float NaN to integer\n"
     ]
    },
    {
     "name": "stderr",
     "output_type": "stream",
     "text": [
      "Processing patients:  40%|███▉      | 7464/18868 [11:10<14:50, 12.81it/s]"
     ]
    },
    {
     "name": "stdout",
     "output_type": "stream",
     "text": [
      "Error in get_ecg_signal_features: cannot convert float NaN to integer\n"
     ]
    },
    {
     "name": "stderr",
     "output_type": "stream",
     "text": [
      "Processing patients:  40%|███▉      | 7474/18868 [11:11<15:39, 12.13it/s]"
     ]
    },
    {
     "name": "stdout",
     "output_type": "stream",
     "text": [
      "Error in get_ecg_signal_features: cannot convert float NaN to integer\n"
     ]
    },
    {
     "name": "stderr",
     "output_type": "stream",
     "text": [
      "Processing patients:  40%|███▉      | 7478/18868 [11:11<14:29, 13.10it/s]"
     ]
    },
    {
     "name": "stdout",
     "output_type": "stream",
     "text": [
      "Error in get_ecg_signal_features: integer division or modulo by zero\n"
     ]
    },
    {
     "name": "stderr",
     "output_type": "stream",
     "text": [
      "Processing patients:  40%|███▉      | 7482/18868 [11:11<15:46, 12.03it/s]"
     ]
    },
    {
     "name": "stdout",
     "output_type": "stream",
     "text": [
      "Error in get_ecg_signal_features: cannot convert float NaN to integer\n"
     ]
    },
    {
     "name": "stderr",
     "output_type": "stream",
     "text": [
      "Processing patients:  40%|███▉      | 7486/18868 [11:12<18:46, 10.10it/s]"
     ]
    },
    {
     "name": "stdout",
     "output_type": "stream",
     "text": [
      "Error in get_ecg_signal_features: cannot convert float NaN to integer\n"
     ]
    },
    {
     "name": "stderr",
     "output_type": "stream",
     "text": [
      "Processing patients:  40%|███▉      | 7488/18868 [11:12<18:51, 10.06it/s]"
     ]
    },
    {
     "name": "stdout",
     "output_type": "stream",
     "text": [
      "Error in get_ecg_signal_features: cannot convert float NaN to integer\n"
     ]
    },
    {
     "name": "stderr",
     "output_type": "stream",
     "text": [
      "Processing patients:  40%|███▉      | 7496/18868 [11:13<18:34, 10.20it/s]"
     ]
    },
    {
     "name": "stdout",
     "output_type": "stream",
     "text": [
      "Error in get_ecg_signal_features: cannot convert float NaN to integer\n"
     ]
    },
    {
     "name": "stderr",
     "output_type": "stream",
     "text": [
      "Processing patients:  40%|███▉      | 7540/18868 [11:16<13:11, 14.31it/s]"
     ]
    },
    {
     "name": "stdout",
     "output_type": "stream",
     "text": [
      "Error in get_ecg_signal_features: cannot convert float NaN to integer\n"
     ]
    },
    {
     "name": "stderr",
     "output_type": "stream",
     "text": [
      "Processing patients:  40%|███▉      | 7544/18868 [11:17<18:05, 10.43it/s]"
     ]
    },
    {
     "name": "stdout",
     "output_type": "stream",
     "text": [
      "Error in get_ecg_signal_features: cannot convert float NaN to integer\n"
     ]
    },
    {
     "name": "stderr",
     "output_type": "stream",
     "text": [
      "Processing patients:  40%|████      | 7568/18868 [11:18<14:33, 12.93it/s]"
     ]
    },
    {
     "name": "stdout",
     "output_type": "stream",
     "text": [
      "Error in get_ecg_signal_features: cannot convert float NaN to integer\n"
     ]
    },
    {
     "name": "stderr",
     "output_type": "stream",
     "text": [
      "Processing patients:  40%|████      | 7586/18868 [11:20<17:56, 10.48it/s]"
     ]
    },
    {
     "name": "stdout",
     "output_type": "stream",
     "text": [
      "Error in get_ecg_signal_features: integer division or modulo by zero\n"
     ]
    },
    {
     "name": "stderr",
     "output_type": "stream",
     "text": [
      "Processing patients:  40%|████      | 7606/18868 [11:22<19:30,  9.62it/s]"
     ]
    },
    {
     "name": "stdout",
     "output_type": "stream",
     "text": [
      "Error in get_ecg_signal_features: cannot convert float NaN to integer\n"
     ]
    },
    {
     "name": "stderr",
     "output_type": "stream",
     "text": [
      "Processing patients:  41%|████      | 7650/18868 [11:25<19:57,  9.37it/s]"
     ]
    },
    {
     "name": "stdout",
     "output_type": "stream",
     "text": [
      "Error in get_ecg_signal_features: cannot convert float NaN to integer\n"
     ]
    },
    {
     "name": "stderr",
     "output_type": "stream",
     "text": [
      "Processing patients:  41%|████      | 7682/18868 [11:27<17:18, 10.77it/s]"
     ]
    },
    {
     "name": "stdout",
     "output_type": "stream",
     "text": [
      "Error in get_ecg_signal_features: cannot convert float NaN to integer\n"
     ]
    },
    {
     "name": "stderr",
     "output_type": "stream",
     "text": [
      "Processing patients:  41%|████      | 7736/18868 [11:31<14:40, 12.65it/s]"
     ]
    },
    {
     "name": "stdout",
     "output_type": "stream",
     "text": [
      "Error in get_ecg_signal_features: cannot convert float NaN to integer\n"
     ]
    },
    {
     "name": "stderr",
     "output_type": "stream",
     "text": [
      "Processing patients:  41%|████      | 7756/18868 [11:33<17:51, 10.37it/s]"
     ]
    },
    {
     "name": "stdout",
     "output_type": "stream",
     "text": [
      "Error in get_ecg_signal_features: integer division or modulo by zero\n"
     ]
    },
    {
     "name": "stderr",
     "output_type": "stream",
     "text": [
      "Processing patients:  41%|████      | 7764/18868 [11:34<21:37,  8.56it/s]"
     ]
    },
    {
     "name": "stdout",
     "output_type": "stream",
     "text": [
      "Error in get_ecg_signal_features: integer division or modulo by zero\n"
     ]
    },
    {
     "name": "stderr",
     "output_type": "stream",
     "text": [
      "Processing patients:  41%|████      | 7776/18868 [11:35<14:23, 12.84it/s]"
     ]
    },
    {
     "name": "stdout",
     "output_type": "stream",
     "text": [
      "Error in get_ecg_signal_features: cannot convert float NaN to integer\n"
     ]
    },
    {
     "name": "stderr",
     "output_type": "stream",
     "text": [
      "Processing patients:  41%|████▏     | 7784/18868 [11:36<18:59,  9.73it/s]"
     ]
    },
    {
     "name": "stdout",
     "output_type": "stream",
     "text": [
      "Error in get_ecg_signal_features: cannot convert float NaN to integer\n"
     ]
    },
    {
     "name": "stderr",
     "output_type": "stream",
     "text": [
      "Processing patients:  42%|████▏     | 7836/18868 [11:39<14:45, 12.45it/s]"
     ]
    },
    {
     "name": "stdout",
     "output_type": "stream",
     "text": [
      "Error in get_ecg_signal_features: integer division or modulo by zero\n"
     ]
    },
    {
     "name": "stderr",
     "output_type": "stream",
     "text": [
      "Processing patients:  42%|████▏     | 7860/18868 [11:41<13:30, 13.59it/s]"
     ]
    },
    {
     "name": "stdout",
     "output_type": "stream",
     "text": [
      "Error in get_ecg_signal_features: cannot convert float NaN to integer\n"
     ]
    },
    {
     "name": "stderr",
     "output_type": "stream",
     "text": [
      "Processing patients:  42%|████▏     | 7864/18868 [11:42<19:21,  9.47it/s]"
     ]
    },
    {
     "name": "stdout",
     "output_type": "stream",
     "text": [
      "Error in get_ecg_signal_features: cannot convert float NaN to integer\n"
     ]
    },
    {
     "name": "stderr",
     "output_type": "stream",
     "text": [
      "Processing patients:  42%|████▏     | 7886/18868 [11:44<22:11,  8.25it/s]"
     ]
    },
    {
     "name": "stdout",
     "output_type": "stream",
     "text": [
      "Error in get_ecg_signal_features: cannot convert float NaN to integer\n"
     ]
    },
    {
     "name": "stderr",
     "output_type": "stream",
     "text": [
      "Processing patients:  42%|████▏     | 7912/18868 [11:45<14:03, 12.99it/s]"
     ]
    },
    {
     "name": "stdout",
     "output_type": "stream",
     "text": [
      "Error in get_ecg_signal_features: cannot convert float NaN to integer\n"
     ]
    },
    {
     "name": "stderr",
     "output_type": "stream",
     "text": [
      "Processing patients:  42%|████▏     | 7947/18868 [11:48<11:37, 15.66it/s]"
     ]
    },
    {
     "name": "stdout",
     "output_type": "stream",
     "text": [
      "Error in get_ecg_signal_features: integer division or modulo by zero\n"
     ]
    },
    {
     "name": "stderr",
     "output_type": "stream",
     "text": [
      "Processing patients:  42%|████▏     | 8001/18868 [11:52<13:10, 13.75it/s]"
     ]
    },
    {
     "name": "stdout",
     "output_type": "stream",
     "text": [
      "Saved batch patient_features_6001_to_8000.parquet\n"
     ]
    },
    {
     "name": "stderr",
     "output_type": "stream",
     "text": [
      "Processing patients:  42%|████▏     | 8009/18868 [11:52<14:52, 12.16it/s]"
     ]
    },
    {
     "name": "stdout",
     "output_type": "stream",
     "text": [
      "Error in get_ecg_signal_features: cannot convert float NaN to integer\n"
     ]
    },
    {
     "name": "stderr",
     "output_type": "stream",
     "text": [
      "Processing patients:  42%|████▏     | 8011/18868 [11:53<19:35,  9.23it/s]"
     ]
    },
    {
     "name": "stdout",
     "output_type": "stream",
     "text": [
      "Error in get_ecg_signal_features: cannot convert float NaN to integer\n"
     ]
    },
    {
     "name": "stderr",
     "output_type": "stream",
     "text": [
      "Processing patients:  43%|████▎     | 8035/18868 [11:54<13:09, 13.73it/s]"
     ]
    },
    {
     "name": "stdout",
     "output_type": "stream",
     "text": [
      "Error in get_ecg_signal_features: cannot convert float NaN to integer\n"
     ]
    },
    {
     "name": "stderr",
     "output_type": "stream",
     "text": [
      "Processing patients:  43%|████▎     | 8099/18868 [11:59<18:47,  9.55it/s]"
     ]
    },
    {
     "name": "stdout",
     "output_type": "stream",
     "text": [
      "Error in get_ecg_signal_features: cannot convert float NaN to integer\n"
     ]
    },
    {
     "name": "stderr",
     "output_type": "stream",
     "text": [
      "Processing patients:  43%|████▎     | 8139/18868 [12:02<17:11, 10.40it/s]"
     ]
    },
    {
     "name": "stdout",
     "output_type": "stream",
     "text": [
      "Error in get_ecg_signal_features: integer division or modulo by zero\n"
     ]
    },
    {
     "name": "stderr",
     "output_type": "stream",
     "text": [
      "Processing patients:  43%|████▎     | 8173/18868 [12:05<19:05,  9.33it/s]"
     ]
    },
    {
     "name": "stdout",
     "output_type": "stream",
     "text": [
      "Error in get_ecg_signal_features: cannot convert float NaN to integer\n"
     ]
    },
    {
     "name": "stderr",
     "output_type": "stream",
     "text": [
      "Processing patients:  43%|████▎     | 8207/18868 [12:08<15:28, 11.48it/s]"
     ]
    },
    {
     "name": "stdout",
     "output_type": "stream",
     "text": [
      "Error in get_ecg_signal_features: cannot convert float NaN to integer\n"
     ]
    },
    {
     "name": "stderr",
     "output_type": "stream",
     "text": [
      "Processing patients:  44%|████▎     | 8233/18868 [12:10<13:46, 12.87it/s]"
     ]
    },
    {
     "name": "stdout",
     "output_type": "stream",
     "text": [
      "Error in get_ecg_signal_features: cannot convert float NaN to integer\n",
      "Error in get_ecg_signal_features: cannot convert float NaN to integer\n"
     ]
    },
    {
     "name": "stderr",
     "output_type": "stream",
     "text": [
      "Processing patients:  44%|████▍     | 8305/18868 [12:15<13:00, 13.54it/s]"
     ]
    },
    {
     "name": "stdout",
     "output_type": "stream",
     "text": [
      "Error in get_ecg_signal_features: cannot convert float NaN to integer\n"
     ]
    },
    {
     "name": "stderr",
     "output_type": "stream",
     "text": [
      "Processing patients:  44%|████▍     | 8329/18868 [12:17<16:57, 10.36it/s]"
     ]
    },
    {
     "name": "stdout",
     "output_type": "stream",
     "text": [
      "Error in get_ecg_signal_features: cannot convert float NaN to integer\n"
     ]
    },
    {
     "name": "stderr",
     "output_type": "stream",
     "text": [
      "Processing patients:  44%|████▍     | 8337/18868 [12:17<18:10,  9.65it/s]"
     ]
    },
    {
     "name": "stdout",
     "output_type": "stream",
     "text": [
      "Error in get_ecg_signal_features: cannot convert float NaN to integer\n"
     ]
    },
    {
     "name": "stderr",
     "output_type": "stream",
     "text": [
      "Processing patients:  44%|████▍     | 8339/18868 [12:18<24:33,  7.14it/s]"
     ]
    },
    {
     "name": "stdout",
     "output_type": "stream",
     "text": [
      "Error in get_ecg_signal_features: cannot convert float NaN to integer\n"
     ]
    },
    {
     "name": "stderr",
     "output_type": "stream",
     "text": [
      "Processing patients:  44%|████▍     | 8379/18868 [12:21<13:41, 12.76it/s]"
     ]
    },
    {
     "name": "stdout",
     "output_type": "stream",
     "text": [
      "Error in get_ecg_signal_features: cannot convert float NaN to integer\n"
     ]
    },
    {
     "name": "stderr",
     "output_type": "stream",
     "text": [
      "Processing patients:  44%|████▍     | 8381/18868 [12:21<22:39,  7.71it/s]"
     ]
    },
    {
     "name": "stdout",
     "output_type": "stream",
     "text": [
      "Error in get_ecg_signal_features: cannot convert float NaN to integer\n"
     ]
    },
    {
     "name": "stderr",
     "output_type": "stream",
     "text": [
      "Processing patients:  44%|████▍     | 8383/18868 [12:22<23:56,  7.30it/s]"
     ]
    },
    {
     "name": "stdout",
     "output_type": "stream",
     "text": [
      "Error in get_ecg_signal_features: cannot convert float NaN to integer\n"
     ]
    },
    {
     "name": "stderr",
     "output_type": "stream",
     "text": [
      "Processing patients:  45%|████▍     | 8441/18868 [12:26<15:39, 11.10it/s]"
     ]
    },
    {
     "name": "stdout",
     "output_type": "stream",
     "text": [
      "Error in get_ecg_signal_features: cannot convert float NaN to integer\n"
     ]
    },
    {
     "name": "stderr",
     "output_type": "stream",
     "text": [
      "Processing patients:  45%|████▍     | 8487/18868 [12:29<15:25, 11.21it/s]"
     ]
    },
    {
     "name": "stdout",
     "output_type": "stream",
     "text": [
      "Error in get_ecg_signal_features: cannot convert float NaN to integer\n"
     ]
    },
    {
     "name": "stderr",
     "output_type": "stream",
     "text": [
      "Processing patients:  45%|████▌     | 8491/18868 [12:30<20:29,  8.44it/s]"
     ]
    },
    {
     "name": "stdout",
     "output_type": "stream",
     "text": [
      "Error in get_ecg_signal_features: integer division or modulo by zero\n"
     ]
    },
    {
     "name": "stderr",
     "output_type": "stream",
     "text": [
      "Processing patients:  45%|████▌     | 8509/18868 [12:32<18:26,  9.36it/s]"
     ]
    },
    {
     "name": "stdout",
     "output_type": "stream",
     "text": [
      "Error in get_ecg_signal_features: cannot convert float NaN to integer\n"
     ]
    },
    {
     "name": "stderr",
     "output_type": "stream",
     "text": [
      "Processing patients:  45%|████▌     | 8513/18868 [12:32<15:23, 11.21it/s]"
     ]
    },
    {
     "name": "stdout",
     "output_type": "stream",
     "text": [
      "Error in get_ecg_signal_features: cannot convert float NaN to integer\n"
     ]
    },
    {
     "name": "stderr",
     "output_type": "stream",
     "text": [
      "Processing patients:  45%|████▌     | 8561/18868 [12:35<13:35, 12.63it/s]"
     ]
    },
    {
     "name": "stdout",
     "output_type": "stream",
     "text": [
      "Error in get_ecg_signal_features: cannot convert float NaN to integer\n"
     ]
    },
    {
     "name": "stderr",
     "output_type": "stream",
     "text": [
      "Processing patients:  46%|████▌     | 8601/18868 [12:38<18:34,  9.22it/s]"
     ]
    },
    {
     "name": "stdout",
     "output_type": "stream",
     "text": [
      "Error in get_ecg_signal_features: cannot convert float NaN to integer\n"
     ]
    },
    {
     "name": "stderr",
     "output_type": "stream",
     "text": [
      "Processing patients:  46%|████▌     | 8619/18868 [12:40<13:15, 12.88it/s]"
     ]
    },
    {
     "name": "stdout",
     "output_type": "stream",
     "text": [
      "Error in get_ecg_signal_features: cannot convert float NaN to integer\n"
     ]
    },
    {
     "name": "stderr",
     "output_type": "stream",
     "text": [
      "Processing patients:  46%|████▌     | 8627/18868 [12:41<18:20,  9.31it/s]"
     ]
    },
    {
     "name": "stdout",
     "output_type": "stream",
     "text": [
      "Error in get_ecg_signal_features: cannot convert float NaN to integer\n"
     ]
    },
    {
     "name": "stderr",
     "output_type": "stream",
     "text": [
      "Processing patients:  46%|████▌     | 8631/18868 [12:41<15:57, 10.69it/s]"
     ]
    },
    {
     "name": "stdout",
     "output_type": "stream",
     "text": [
      "Error in get_ecg_signal_features: cannot convert float NaN to integer\n"
     ]
    },
    {
     "name": "stderr",
     "output_type": "stream",
     "text": [
      "Processing patients:  46%|████▌     | 8651/18868 [12:43<13:51, 12.29it/s]"
     ]
    },
    {
     "name": "stdout",
     "output_type": "stream",
     "text": [
      "Error in get_ecg_signal_features: cannot convert float NaN to integer\n"
     ]
    },
    {
     "name": "stderr",
     "output_type": "stream",
     "text": [
      "Processing patients:  46%|████▌     | 8667/18868 [12:44<12:22, 13.74it/s]"
     ]
    },
    {
     "name": "stdout",
     "output_type": "stream",
     "text": [
      "Error in get_ecg_signal_features: cannot convert float NaN to integer\n"
     ]
    },
    {
     "name": "stderr",
     "output_type": "stream",
     "text": [
      "Processing patients:  46%|████▌     | 8677/18868 [12:44<13:34, 12.51it/s]"
     ]
    },
    {
     "name": "stdout",
     "output_type": "stream",
     "text": [
      "Error in get_ecg_signal_features: cannot convert float NaN to integer\n"
     ]
    },
    {
     "name": "stderr",
     "output_type": "stream",
     "text": [
      "Processing patients:  46%|████▌     | 8683/18868 [12:45<13:07, 12.93it/s]"
     ]
    },
    {
     "name": "stdout",
     "output_type": "stream",
     "text": [
      "Error in get_ecg_signal_features: cannot convert float NaN to integer\n"
     ]
    },
    {
     "name": "stderr",
     "output_type": "stream",
     "text": [
      "Processing patients:  46%|████▌     | 8707/18868 [12:47<15:43, 10.77it/s]"
     ]
    },
    {
     "name": "stdout",
     "output_type": "stream",
     "text": [
      "Error in get_ecg_signal_features: cannot convert float NaN to integer\n"
     ]
    },
    {
     "name": "stderr",
     "output_type": "stream",
     "text": [
      "Processing patients:  46%|████▋     | 8749/18868 [12:50<13:15, 12.72it/s]"
     ]
    },
    {
     "name": "stdout",
     "output_type": "stream",
     "text": [
      "Error in get_ecg_signal_features: cannot convert float NaN to integer\n"
     ]
    },
    {
     "name": "stderr",
     "output_type": "stream",
     "text": [
      "Processing patients:  47%|████▋     | 8823/18868 [12:55<12:34, 13.31it/s]"
     ]
    },
    {
     "name": "stdout",
     "output_type": "stream",
     "text": [
      "Error in get_ecg_signal_features: cannot convert float NaN to integer\n"
     ]
    },
    {
     "name": "stderr",
     "output_type": "stream",
     "text": [
      "Processing patients:  47%|████▋     | 8845/18868 [12:57<12:23, 13.48it/s]"
     ]
    },
    {
     "name": "stdout",
     "output_type": "stream",
     "text": [
      "Error in get_ecg_signal_features: cannot convert float NaN to integer\n"
     ]
    },
    {
     "name": "stderr",
     "output_type": "stream",
     "text": [
      "Processing patients:  47%|████▋     | 8871/18868 [12:58<12:40, 13.15it/s]"
     ]
    },
    {
     "name": "stdout",
     "output_type": "stream",
     "text": [
      "Error in get_ecg_signal_features: cannot convert float NaN to integer\n"
     ]
    },
    {
     "name": "stderr",
     "output_type": "stream",
     "text": [
      "Processing patients:  47%|████▋     | 8903/18868 [13:01<12:28, 13.31it/s]"
     ]
    },
    {
     "name": "stdout",
     "output_type": "stream",
     "text": [
      "Error in get_ecg_signal_features: cannot convert float NaN to integer\n"
     ]
    },
    {
     "name": "stderr",
     "output_type": "stream",
     "text": [
      "Processing patients:  48%|████▊     | 9029/18868 [13:10<12:51, 12.75it/s]"
     ]
    },
    {
     "name": "stdout",
     "output_type": "stream",
     "text": [
      "Error in get_ecg_signal_features: cannot convert float NaN to integer\n"
     ]
    },
    {
     "name": "stderr",
     "output_type": "stream",
     "text": [
      "Processing patients:  48%|████▊     | 9063/18868 [13:12<12:22, 13.21it/s]"
     ]
    },
    {
     "name": "stdout",
     "output_type": "stream",
     "text": [
      "Error in get_ecg_signal_features: cannot convert float NaN to integer\n"
     ]
    },
    {
     "name": "stderr",
     "output_type": "stream",
     "text": [
      "Processing patients:  48%|████▊     | 9071/18868 [13:13<13:24, 12.18it/s]"
     ]
    },
    {
     "name": "stdout",
     "output_type": "stream",
     "text": [
      "Error in get_ecg_signal_features: cannot convert float NaN to integer\n"
     ]
    },
    {
     "name": "stderr",
     "output_type": "stream",
     "text": [
      "Processing patients:  48%|████▊     | 9137/18868 [13:18<13:31, 11.99it/s]"
     ]
    },
    {
     "name": "stdout",
     "output_type": "stream",
     "text": [
      "Error in get_ecg_signal_features: integer division or modulo by zero\n"
     ]
    },
    {
     "name": "stderr",
     "output_type": "stream",
     "text": [
      "Processing patients:  49%|████▊     | 9173/18868 [13:21<15:22, 10.51it/s]"
     ]
    },
    {
     "name": "stdout",
     "output_type": "stream",
     "text": [
      "Error in get_ecg_signal_features: integer division or modulo by zero\n"
     ]
    },
    {
     "name": "stderr",
     "output_type": "stream",
     "text": [
      "Processing patients:  49%|████▊     | 9195/18868 [13:23<14:25, 11.17it/s]"
     ]
    },
    {
     "name": "stdout",
     "output_type": "stream",
     "text": [
      "Error in get_ecg_signal_features: cannot convert float NaN to integer\n"
     ]
    },
    {
     "name": "stderr",
     "output_type": "stream",
     "text": [
      "Processing patients:  49%|████▉     | 9199/18868 [13:23<13:19, 12.09it/s]"
     ]
    },
    {
     "name": "stdout",
     "output_type": "stream",
     "text": [
      "Error in get_ecg_signal_features: integer division or modulo by zero\n"
     ]
    },
    {
     "name": "stderr",
     "output_type": "stream",
     "text": [
      "Processing patients:  49%|████▉     | 9235/18868 [13:26<16:33,  9.69it/s]"
     ]
    },
    {
     "name": "stdout",
     "output_type": "stream",
     "text": [
      "Error in get_ecg_signal_features: cannot convert float NaN to integer\n",
      "Error in get_ecg_signal_features: cannot convert float NaN to integer\n"
     ]
    },
    {
     "name": "stderr",
     "output_type": "stream",
     "text": [
      "Processing patients:  50%|████▉     | 9401/18868 [13:38<11:14, 14.03it/s]"
     ]
    },
    {
     "name": "stdout",
     "output_type": "stream",
     "text": [
      "Error in get_ecg_signal_features: cannot convert float NaN to integer\n",
      "Error in get_ecg_signal_features: integer division or modulo by zero\n"
     ]
    },
    {
     "name": "stderr",
     "output_type": "stream",
     "text": [
      "Processing patients:  50%|████▉     | 9431/18868 [13:40<14:21, 10.95it/s]"
     ]
    },
    {
     "name": "stdout",
     "output_type": "stream",
     "text": [
      "Error in get_ecg_signal_features: integer division or modulo by zero\n"
     ]
    },
    {
     "name": "stderr",
     "output_type": "stream",
     "text": [
      "Processing patients:  50%|█████     | 9439/18868 [13:41<15:38, 10.05it/s]"
     ]
    },
    {
     "name": "stdout",
     "output_type": "stream",
     "text": [
      "Error in get_ecg_signal_features: cannot convert float NaN to integer\n"
     ]
    },
    {
     "name": "stderr",
     "output_type": "stream",
     "text": [
      "Processing patients:  50%|█████     | 9445/18868 [13:41<16:16,  9.65it/s]"
     ]
    },
    {
     "name": "stdout",
     "output_type": "stream",
     "text": [
      "Error in get_ecg_signal_features: cannot convert float NaN to integer\n"
     ]
    },
    {
     "name": "stderr",
     "output_type": "stream",
     "text": [
      "Processing patients:  50%|█████     | 9467/18868 [13:43<12:56, 12.10it/s]"
     ]
    },
    {
     "name": "stdout",
     "output_type": "stream",
     "text": [
      "Error in get_ecg_signal_features: cannot convert float NaN to integer\n"
     ]
    },
    {
     "name": "stderr",
     "output_type": "stream",
     "text": [
      "Processing patients:  50%|█████     | 9471/18868 [13:43<15:18, 10.23it/s]"
     ]
    },
    {
     "name": "stdout",
     "output_type": "stream",
     "text": [
      "Error in get_ecg_signal_features: cannot convert float NaN to integer\n"
     ]
    },
    {
     "name": "stderr",
     "output_type": "stream",
     "text": [
      "Processing patients:  51%|█████     | 9533/18868 [13:48<13:58, 11.13it/s]"
     ]
    },
    {
     "name": "stdout",
     "output_type": "stream",
     "text": [
      "Error in get_ecg_signal_features: integer division or modulo by zero\n"
     ]
    },
    {
     "name": "stderr",
     "output_type": "stream",
     "text": [
      "Processing patients:  51%|█████     | 9547/18868 [13:49<12:35, 12.33it/s]"
     ]
    },
    {
     "name": "stdout",
     "output_type": "stream",
     "text": [
      "Error in get_ecg_signal_features: cannot convert float NaN to integer\n",
      "Error in get_ecg_signal_features: cannot convert float NaN to integer\n"
     ]
    },
    {
     "name": "stderr",
     "output_type": "stream",
     "text": [
      "Processing patients:  51%|█████     | 9605/18868 [13:53<10:35, 14.57it/s]"
     ]
    },
    {
     "name": "stdout",
     "output_type": "stream",
     "text": [
      "Error in get_ecg_signal_features: cannot convert float NaN to integer\n"
     ]
    },
    {
     "name": "stderr",
     "output_type": "stream",
     "text": [
      "Processing patients:  51%|█████     | 9609/18868 [13:54<17:03,  9.04it/s]"
     ]
    },
    {
     "name": "stdout",
     "output_type": "stream",
     "text": [
      "Error in get_ecg_signal_features: cannot convert float NaN to integer\n"
     ]
    },
    {
     "name": "stderr",
     "output_type": "stream",
     "text": [
      "Processing patients:  51%|█████     | 9631/18868 [13:55<11:07, 13.84it/s]"
     ]
    },
    {
     "name": "stdout",
     "output_type": "stream",
     "text": [
      "Error in get_ecg_signal_features: integer division or modulo by zero\n"
     ]
    },
    {
     "name": "stderr",
     "output_type": "stream",
     "text": [
      "Processing patients:  51%|█████     | 9647/18868 [13:57<15:05, 10.19it/s]"
     ]
    },
    {
     "name": "stdout",
     "output_type": "stream",
     "text": [
      "Error in get_ecg_signal_features: cannot convert float NaN to integer\n"
     ]
    },
    {
     "name": "stderr",
     "output_type": "stream",
     "text": [
      "Processing patients:  51%|█████     | 9669/18868 [13:58<11:29, 13.33it/s]"
     ]
    },
    {
     "name": "stdout",
     "output_type": "stream",
     "text": [
      "Error in get_ecg_signal_features: cannot convert float NaN to integer\n"
     ]
    },
    {
     "name": "stderr",
     "output_type": "stream",
     "text": [
      "Processing patients:  52%|█████▏    | 9747/18868 [14:04<14:49, 10.26it/s]"
     ]
    },
    {
     "name": "stdout",
     "output_type": "stream",
     "text": [
      "Error in get_ecg_signal_features: cannot convert float NaN to integer\n"
     ]
    },
    {
     "name": "stderr",
     "output_type": "stream",
     "text": [
      "Processing patients:  52%|█████▏    | 9789/18868 [14:08<11:09, 13.55it/s]"
     ]
    },
    {
     "name": "stdout",
     "output_type": "stream",
     "text": [
      "Error in get_ecg_signal_features: cannot convert float NaN to integer\n"
     ]
    },
    {
     "name": "stderr",
     "output_type": "stream",
     "text": [
      "Processing patients:  52%|█████▏    | 9865/18868 [14:13<11:25, 13.13it/s]"
     ]
    },
    {
     "name": "stdout",
     "output_type": "stream",
     "text": [
      "Error in get_ecg_signal_features: cannot convert float NaN to integer\n"
     ]
    },
    {
     "name": "stderr",
     "output_type": "stream",
     "text": [
      "Processing patients:  52%|█████▏    | 9883/18868 [14:14<11:34, 12.95it/s]"
     ]
    },
    {
     "name": "stdout",
     "output_type": "stream",
     "text": [
      "Error in get_ecg_signal_features: cannot convert float NaN to integer\n"
     ]
    },
    {
     "name": "stderr",
     "output_type": "stream",
     "text": [
      "Processing patients:  52%|█████▏    | 9899/18868 [14:16<11:05, 13.48it/s]"
     ]
    },
    {
     "name": "stdout",
     "output_type": "stream",
     "text": [
      "Error in get_ecg_signal_features: cannot convert float NaN to integer\n"
     ]
    },
    {
     "name": "stderr",
     "output_type": "stream",
     "text": [
      "Processing patients:  53%|█████▎    | 9941/18868 [14:19<15:14,  9.76it/s]"
     ]
    },
    {
     "name": "stdout",
     "output_type": "stream",
     "text": [
      "Error in get_ecg_signal_features: integer division or modulo by zero\n"
     ]
    },
    {
     "name": "stderr",
     "output_type": "stream",
     "text": [
      "Processing patients:  53%|█████▎    | 10003/18868 [14:23<10:38, 13.88it/s]"
     ]
    },
    {
     "name": "stdout",
     "output_type": "stream",
     "text": [
      "Saved batch patient_features_8001_to_10000.parquet\n"
     ]
    },
    {
     "name": "stderr",
     "output_type": "stream",
     "text": [
      "Processing patients:  53%|█████▎    | 10005/18868 [14:24<14:18, 10.32it/s]"
     ]
    },
    {
     "name": "stdout",
     "output_type": "stream",
     "text": [
      "Error in get_ecg_signal_features: cannot convert float NaN to integer\n"
     ]
    },
    {
     "name": "stderr",
     "output_type": "stream",
     "text": [
      "Processing patients:  53%|█████▎    | 10007/18868 [14:24<17:02,  8.67it/s]"
     ]
    },
    {
     "name": "stdout",
     "output_type": "stream",
     "text": [
      "Error in get_ecg_signal_features: cannot convert float NaN to integer\n"
     ]
    },
    {
     "name": "stderr",
     "output_type": "stream",
     "text": [
      "Processing patients:  53%|█████▎    | 10027/18868 [14:26<14:40, 10.04it/s]"
     ]
    },
    {
     "name": "stdout",
     "output_type": "stream",
     "text": [
      "Error in get_ecg_signal_features: cannot convert float NaN to integer\n"
     ]
    },
    {
     "name": "stderr",
     "output_type": "stream",
     "text": [
      "Processing patients:  53%|█████▎    | 10035/18868 [14:26<14:25, 10.20it/s]"
     ]
    },
    {
     "name": "stdout",
     "output_type": "stream",
     "text": [
      "Error in get_ecg_signal_features: integer division or modulo by zero\n",
      "Error in get_ecg_signal_features: cannot convert float NaN to integer\n"
     ]
    },
    {
     "name": "stderr",
     "output_type": "stream",
     "text": [
      "Processing patients:  53%|█████▎    | 10059/18868 [14:28<10:44, 13.67it/s]"
     ]
    },
    {
     "name": "stdout",
     "output_type": "stream",
     "text": [
      "Error in get_ecg_signal_features: cannot convert float NaN to integer\n"
     ]
    },
    {
     "name": "stderr",
     "output_type": "stream",
     "text": [
      "Processing patients:  53%|█████▎    | 10073/18868 [14:29<10:34, 13.86it/s]"
     ]
    },
    {
     "name": "stdout",
     "output_type": "stream",
     "text": [
      "Error in get_ecg_signal_features: cannot convert float NaN to integer\n"
     ]
    },
    {
     "name": "stderr",
     "output_type": "stream",
     "text": [
      "Processing patients:  54%|█████▍    | 10145/18868 [14:34<11:36, 12.53it/s]"
     ]
    },
    {
     "name": "stdout",
     "output_type": "stream",
     "text": [
      "Error in get_ecg_signal_features: cannot convert float NaN to integer\n"
     ]
    },
    {
     "name": "stderr",
     "output_type": "stream",
     "text": [
      "Processing patients:  54%|█████▍    | 10151/18868 [14:35<13:23, 10.85it/s]"
     ]
    },
    {
     "name": "stdout",
     "output_type": "stream",
     "text": [
      "Error in get_ecg_signal_features: cannot convert float NaN to integer\n"
     ]
    },
    {
     "name": "stderr",
     "output_type": "stream",
     "text": [
      "Processing patients:  54%|█████▍    | 10203/18868 [14:39<15:13,  9.49it/s]"
     ]
    },
    {
     "name": "stdout",
     "output_type": "stream",
     "text": [
      "Error in get_ecg_signal_features: cannot convert float NaN to integer\n"
     ]
    },
    {
     "name": "stderr",
     "output_type": "stream",
     "text": [
      "Processing patients:  54%|█████▍    | 10235/18868 [14:41<14:35,  9.86it/s]"
     ]
    },
    {
     "name": "stdout",
     "output_type": "stream",
     "text": [
      "Error in get_ecg_signal_features: integer division or modulo by zero\n"
     ]
    },
    {
     "name": "stderr",
     "output_type": "stream",
     "text": [
      "Processing patients:  54%|█████▍    | 10263/18868 [14:44<14:35,  9.83it/s]"
     ]
    },
    {
     "name": "stdout",
     "output_type": "stream",
     "text": [
      "Error in get_ecg_signal_features: cannot convert float NaN to integer\n"
     ]
    },
    {
     "name": "stderr",
     "output_type": "stream",
     "text": [
      "Processing patients:  54%|█████▍    | 10275/18868 [14:44<12:44, 11.24it/s]"
     ]
    },
    {
     "name": "stdout",
     "output_type": "stream",
     "text": [
      "Error in get_ecg_signal_features: cannot convert float NaN to integer\n"
     ]
    },
    {
     "name": "stderr",
     "output_type": "stream",
     "text": [
      "Processing patients:  55%|█████▍    | 10315/18868 [14:47<10:57, 13.00it/s]"
     ]
    },
    {
     "name": "stdout",
     "output_type": "stream",
     "text": [
      "Error in get_ecg_signal_features: cannot convert float NaN to integer\n"
     ]
    },
    {
     "name": "stderr",
     "output_type": "stream",
     "text": [
      "Processing patients:  55%|█████▍    | 10321/18868 [14:48<13:15, 10.74it/s]"
     ]
    },
    {
     "name": "stdout",
     "output_type": "stream",
     "text": [
      "Error in get_ecg_signal_features: cannot convert float NaN to integer\n"
     ]
    },
    {
     "name": "stderr",
     "output_type": "stream",
     "text": [
      "Processing patients:  55%|█████▍    | 10329/18868 [14:49<15:12,  9.36it/s]"
     ]
    },
    {
     "name": "stdout",
     "output_type": "stream",
     "text": [
      "Error in get_ecg_signal_features: cannot convert float NaN to integer\n"
     ]
    },
    {
     "name": "stderr",
     "output_type": "stream",
     "text": [
      "Processing patients:  55%|█████▍    | 10377/18868 [14:52<12:49, 11.03it/s]"
     ]
    },
    {
     "name": "stdout",
     "output_type": "stream",
     "text": [
      "Error in get_ecg_signal_features: integer division or modulo by zero\n"
     ]
    },
    {
     "name": "stderr",
     "output_type": "stream",
     "text": [
      "Processing patients:  55%|█████▌    | 10389/18868 [14:53<13:37, 10.38it/s]"
     ]
    },
    {
     "name": "stdout",
     "output_type": "stream",
     "text": [
      "Error in get_ecg_signal_features: integer division or modulo by zero\n"
     ]
    },
    {
     "name": "stderr",
     "output_type": "stream",
     "text": [
      "Processing patients:  55%|█████▌    | 10399/18868 [14:54<14:50,  9.51it/s]"
     ]
    },
    {
     "name": "stdout",
     "output_type": "stream",
     "text": [
      "Error in get_ecg_signal_features: cannot convert float NaN to integer\n"
     ]
    },
    {
     "name": "stderr",
     "output_type": "stream",
     "text": [
      "Processing patients:  56%|█████▌    | 10479/18868 [15:00<10:24, 13.43it/s]"
     ]
    },
    {
     "name": "stdout",
     "output_type": "stream",
     "text": [
      "Error in get_ecg_signal_features: cannot convert float NaN to integer\n"
     ]
    },
    {
     "name": "stderr",
     "output_type": "stream",
     "text": [
      "Processing patients:  56%|█████▌    | 10505/18868 [15:02<14:19,  9.73it/s]"
     ]
    },
    {
     "name": "stdout",
     "output_type": "stream",
     "text": [
      "Error in get_ecg_signal_features: cannot convert float NaN to integer\n"
     ]
    },
    {
     "name": "stderr",
     "output_type": "stream",
     "text": [
      "Processing patients:  56%|█████▌    | 10519/18868 [15:03<11:06, 12.53it/s]"
     ]
    },
    {
     "name": "stdout",
     "output_type": "stream",
     "text": [
      "Error in get_ecg_signal_features: cannot convert float NaN to integer\n"
     ]
    },
    {
     "name": "stderr",
     "output_type": "stream",
     "text": [
      "Processing patients:  56%|█████▌    | 10573/18868 [15:07<11:00, 12.55it/s]"
     ]
    },
    {
     "name": "stdout",
     "output_type": "stream",
     "text": [
      "Error in get_ecg_signal_features: integer division or modulo by zero\n",
      "Error in get_ecg_signal_features: integer division or modulo by zero\n"
     ]
    },
    {
     "name": "stderr",
     "output_type": "stream",
     "text": [
      "Processing patients:  57%|█████▋    | 10673/18868 [15:14<09:36, 14.20it/s]"
     ]
    },
    {
     "name": "stdout",
     "output_type": "stream",
     "text": [
      "Error in get_ecg_signal_features: integer division or modulo by zero\n"
     ]
    },
    {
     "name": "stderr",
     "output_type": "stream",
     "text": [
      "Processing patients:  57%|█████▋    | 10691/18868 [15:16<10:27, 13.03it/s]"
     ]
    },
    {
     "name": "stdout",
     "output_type": "stream",
     "text": [
      "Error in get_ecg_signal_features: cannot convert float NaN to integer\n"
     ]
    },
    {
     "name": "stderr",
     "output_type": "stream",
     "text": [
      "Processing patients:  57%|█████▋    | 10737/18868 [15:19<13:21, 10.14it/s]"
     ]
    },
    {
     "name": "stdout",
     "output_type": "stream",
     "text": [
      "Error in get_ecg_signal_features: cannot convert float NaN to integer\n"
     ]
    },
    {
     "name": "stderr",
     "output_type": "stream",
     "text": [
      "Processing patients:  57%|█████▋    | 10739/18868 [15:20<15:04,  8.99it/s]"
     ]
    },
    {
     "name": "stdout",
     "output_type": "stream",
     "text": [
      "Error in get_ecg_signal_features: cannot convert float NaN to integer\n"
     ]
    },
    {
     "name": "stderr",
     "output_type": "stream",
     "text": [
      "Processing patients:  57%|█████▋    | 10765/18868 [15:21<09:18, 14.50it/s]"
     ]
    },
    {
     "name": "stdout",
     "output_type": "stream",
     "text": [
      "Error in get_ecg_signal_features: cannot convert float NaN to integer\n"
     ]
    },
    {
     "name": "stderr",
     "output_type": "stream",
     "text": [
      "Processing patients:  57%|█████▋    | 10795/18868 [15:24<12:13, 11.01it/s]"
     ]
    },
    {
     "name": "stdout",
     "output_type": "stream",
     "text": [
      "Error in get_ecg_signal_features: cannot convert float NaN to integer\n"
     ]
    },
    {
     "name": "stderr",
     "output_type": "stream",
     "text": [
      "Processing patients:  57%|█████▋    | 10817/18868 [15:25<12:56, 10.37it/s]"
     ]
    },
    {
     "name": "stdout",
     "output_type": "stream",
     "text": [
      "Error in get_ecg_signal_features: cannot convert float NaN to integer\n",
      "Error in get_ecg_signal_features: cannot convert float NaN to integer\n"
     ]
    },
    {
     "name": "stderr",
     "output_type": "stream",
     "text": [
      "Processing patients:  57%|█████▋    | 10823/18868 [15:26<12:18, 10.89it/s]"
     ]
    },
    {
     "name": "stdout",
     "output_type": "stream",
     "text": [
      "Error in get_ecg_signal_features: cannot convert float NaN to integer\n"
     ]
    },
    {
     "name": "stderr",
     "output_type": "stream",
     "text": [
      "Processing patients:  57%|█████▋    | 10845/18868 [15:28<10:18, 12.97it/s]"
     ]
    },
    {
     "name": "stdout",
     "output_type": "stream",
     "text": [
      "Error in get_ecg_signal_features: cannot convert float NaN to integer\n"
     ]
    },
    {
     "name": "stderr",
     "output_type": "stream",
     "text": [
      "Processing patients:  58%|█████▊    | 10877/18868 [15:30<10:19, 12.90it/s]"
     ]
    },
    {
     "name": "stdout",
     "output_type": "stream",
     "text": [
      "Error in get_ecg_signal_features: cannot convert float NaN to integer\n"
     ]
    },
    {
     "name": "stderr",
     "output_type": "stream",
     "text": [
      "Processing patients:  58%|█████▊    | 10887/18868 [15:31<14:40,  9.06it/s]"
     ]
    },
    {
     "name": "stdout",
     "output_type": "stream",
     "text": [
      "Error in get_ecg_signal_features: integer division or modulo by zero\n",
      "Error in get_ecg_signal_features: cannot convert float NaN to integer\n"
     ]
    },
    {
     "name": "stderr",
     "output_type": "stream",
     "text": [
      "Processing patients:  58%|█████▊    | 10895/18868 [15:32<11:34, 11.48it/s]"
     ]
    },
    {
     "name": "stdout",
     "output_type": "stream",
     "text": [
      "Error in get_ecg_signal_features: cannot convert float NaN to integer\n"
     ]
    },
    {
     "name": "stderr",
     "output_type": "stream",
     "text": [
      "Processing patients:  58%|█████▊    | 10965/18868 [15:37<15:15,  8.64it/s]"
     ]
    },
    {
     "name": "stdout",
     "output_type": "stream",
     "text": [
      "Error in get_ecg_signal_features: cannot convert float NaN to integer\n"
     ]
    },
    {
     "name": "stderr",
     "output_type": "stream",
     "text": [
      "Processing patients:  58%|█████▊    | 10973/18868 [15:38<13:18,  9.89it/s]"
     ]
    },
    {
     "name": "stdout",
     "output_type": "stream",
     "text": [
      "Error in get_ecg_signal_features: cannot convert float NaN to integer\n"
     ]
    },
    {
     "name": "stderr",
     "output_type": "stream",
     "text": [
      "Processing patients:  58%|█████▊    | 10995/18868 [15:39<09:52, 13.28it/s]"
     ]
    },
    {
     "name": "stdout",
     "output_type": "stream",
     "text": [
      "Error in get_ecg_signal_features: integer division or modulo by zero\n"
     ]
    },
    {
     "name": "stderr",
     "output_type": "stream",
     "text": [
      "Processing patients:  58%|█████▊    | 10997/18868 [15:39<12:57, 10.12it/s]"
     ]
    },
    {
     "name": "stdout",
     "output_type": "stream",
     "text": [
      "Error in get_ecg_signal_features: integer division or modulo by zero\n"
     ]
    },
    {
     "name": "stderr",
     "output_type": "stream",
     "text": [
      "Processing patients:  58%|█████▊    | 11015/18868 [15:41<11:55, 10.97it/s]"
     ]
    },
    {
     "name": "stdout",
     "output_type": "stream",
     "text": [
      "Error in get_ecg_signal_features: cannot convert float NaN to integer\n"
     ]
    },
    {
     "name": "stderr",
     "output_type": "stream",
     "text": [
      "Processing patients:  58%|█████▊    | 11037/18868 [15:43<12:29, 10.45it/s]"
     ]
    },
    {
     "name": "stdout",
     "output_type": "stream",
     "text": [
      "Error in get_ecg_signal_features: cannot convert float NaN to integer\n"
     ]
    },
    {
     "name": "stderr",
     "output_type": "stream",
     "text": [
      "Processing patients:  59%|█████▊    | 11055/18868 [15:44<13:16,  9.81it/s]"
     ]
    },
    {
     "name": "stdout",
     "output_type": "stream",
     "text": [
      "Error in get_ecg_signal_features: integer division or modulo by zero\n"
     ]
    },
    {
     "name": "stderr",
     "output_type": "stream",
     "text": [
      "Processing patients:  59%|█████▊    | 11057/18868 [15:45<15:58,  8.15it/s]"
     ]
    },
    {
     "name": "stdout",
     "output_type": "stream",
     "text": [
      "Error in get_ecg_signal_features: cannot convert float NaN to integer\n"
     ]
    },
    {
     "name": "stderr",
     "output_type": "stream",
     "text": [
      "Processing patients:  59%|█████▊    | 11065/18868 [15:46<17:48,  7.30it/s]"
     ]
    },
    {
     "name": "stdout",
     "output_type": "stream",
     "text": [
      "Error in get_ecg_signal_features: cannot convert float NaN to integer\n"
     ]
    },
    {
     "name": "stderr",
     "output_type": "stream",
     "text": [
      "Processing patients:  59%|█████▉    | 11091/18868 [15:48<15:20,  8.45it/s]"
     ]
    },
    {
     "name": "stdout",
     "output_type": "stream",
     "text": [
      "Error in get_ecg_signal_features: cannot convert float NaN to integer\n"
     ]
    },
    {
     "name": "stderr",
     "output_type": "stream",
     "text": [
      "Processing patients:  59%|█████▉    | 11095/18868 [15:48<16:31,  7.84it/s]"
     ]
    },
    {
     "name": "stdout",
     "output_type": "stream",
     "text": [
      "Error in get_ecg_signal_features: integer division or modulo by zero\n"
     ]
    },
    {
     "name": "stderr",
     "output_type": "stream",
     "text": [
      "Processing patients:  59%|█████▉    | 11109/18868 [15:49<10:23, 12.45it/s]"
     ]
    },
    {
     "name": "stdout",
     "output_type": "stream",
     "text": [
      "Error in get_ecg_signal_features: cannot convert float NaN to integer\n"
     ]
    },
    {
     "name": "stderr",
     "output_type": "stream",
     "text": [
      "Processing patients:  59%|█████▉    | 11121/18868 [15:50<12:08, 10.63it/s]"
     ]
    },
    {
     "name": "stdout",
     "output_type": "stream",
     "text": [
      "Error in get_ecg_signal_features: cannot convert float NaN to integer\n"
     ]
    },
    {
     "name": "stderr",
     "output_type": "stream",
     "text": [
      "Processing patients:  59%|█████▉    | 11129/18868 [15:51<10:46, 11.98it/s]"
     ]
    },
    {
     "name": "stdout",
     "output_type": "stream",
     "text": [
      "Error in get_ecg_signal_features: cannot convert float NaN to integer\n"
     ]
    },
    {
     "name": "stderr",
     "output_type": "stream",
     "text": [
      "Processing patients:  59%|█████▉    | 11153/18868 [15:53<09:30, 13.53it/s]"
     ]
    },
    {
     "name": "stdout",
     "output_type": "stream",
     "text": [
      "Error in get_ecg_signal_features: cannot convert float NaN to integer\n"
     ]
    },
    {
     "name": "stderr",
     "output_type": "stream",
     "text": [
      "Processing patients:  59%|█████▉    | 11173/18868 [15:55<14:09,  9.06it/s]"
     ]
    },
    {
     "name": "stdout",
     "output_type": "stream",
     "text": [
      "Error in get_ecg_signal_features: integer division or modulo by zero\n"
     ]
    },
    {
     "name": "stderr",
     "output_type": "stream",
     "text": [
      "Processing patients:  59%|█████▉    | 11177/18868 [15:55<12:50,  9.98it/s]"
     ]
    },
    {
     "name": "stdout",
     "output_type": "stream",
     "text": [
      "Error in get_ecg_signal_features: cannot convert float NaN to integer\n"
     ]
    },
    {
     "name": "stderr",
     "output_type": "stream",
     "text": [
      "Processing patients:  59%|█████▉    | 11211/18868 [15:58<11:43, 10.89it/s]"
     ]
    },
    {
     "name": "stdout",
     "output_type": "stream",
     "text": [
      "Error in get_ecg_signal_features: integer division or modulo by zero\n"
     ]
    },
    {
     "name": "stderr",
     "output_type": "stream",
     "text": [
      "Processing patients:  59%|█████▉    | 11223/18868 [15:59<12:52,  9.90it/s]"
     ]
    },
    {
     "name": "stdout",
     "output_type": "stream",
     "text": [
      "Error in get_ecg_signal_features: integer division or modulo by zero\n"
     ]
    },
    {
     "name": "stderr",
     "output_type": "stream",
     "text": [
      "Processing patients:  60%|█████▉    | 11269/18868 [16:02<12:22, 10.23it/s]"
     ]
    },
    {
     "name": "stdout",
     "output_type": "stream",
     "text": [
      "Error in get_ecg_signal_features: cannot convert float NaN to integer\n"
     ]
    },
    {
     "name": "stderr",
     "output_type": "stream",
     "text": [
      "Processing patients:  60%|█████▉    | 11281/18868 [16:03<14:30,  8.72it/s]"
     ]
    },
    {
     "name": "stdout",
     "output_type": "stream",
     "text": [
      "Error in get_ecg_signal_features: cannot convert float NaN to integer\n"
     ]
    },
    {
     "name": "stderr",
     "output_type": "stream",
     "text": [
      "Processing patients:  60%|█████▉    | 11293/18868 [16:04<13:19,  9.48it/s]"
     ]
    },
    {
     "name": "stdout",
     "output_type": "stream",
     "text": [
      "Error in get_ecg_signal_features: cannot convert float NaN to integer\n"
     ]
    },
    {
     "name": "stderr",
     "output_type": "stream",
     "text": [
      "Processing patients:  60%|█████▉    | 11301/18868 [16:05<11:55, 10.57it/s]"
     ]
    },
    {
     "name": "stdout",
     "output_type": "stream",
     "text": [
      "Error in get_ecg_signal_features: cannot convert float NaN to integer\n"
     ]
    },
    {
     "name": "stderr",
     "output_type": "stream",
     "text": [
      "Processing patients:  60%|█████▉    | 11311/18868 [16:06<10:43, 11.75it/s]"
     ]
    },
    {
     "name": "stdout",
     "output_type": "stream",
     "text": [
      "Error in get_ecg_signal_features: cannot convert float NaN to integer\n"
     ]
    },
    {
     "name": "stderr",
     "output_type": "stream",
     "text": [
      "Processing patients:  60%|██████    | 11327/18868 [16:07<12:07, 10.37it/s]"
     ]
    },
    {
     "name": "stdout",
     "output_type": "stream",
     "text": [
      "Error in get_ecg_signal_features: cannot convert float NaN to integer\n"
     ]
    },
    {
     "name": "stderr",
     "output_type": "stream",
     "text": [
      "Processing patients:  60%|██████    | 11347/18868 [16:09<09:39, 12.97it/s]"
     ]
    },
    {
     "name": "stdout",
     "output_type": "stream",
     "text": [
      "Error in get_ecg_signal_features: cannot convert float NaN to integer\n"
     ]
    },
    {
     "name": "stderr",
     "output_type": "stream",
     "text": [
      "Processing patients:  60%|██████    | 11391/18868 [16:12<09:50, 12.67it/s]"
     ]
    },
    {
     "name": "stdout",
     "output_type": "stream",
     "text": [
      "Error in get_ecg_signal_features: cannot convert float NaN to integer\n"
     ]
    },
    {
     "name": "stderr",
     "output_type": "stream",
     "text": [
      "Processing patients:  61%|██████    | 11435/18868 [16:15<13:11,  9.39it/s]"
     ]
    },
    {
     "name": "stdout",
     "output_type": "stream",
     "text": [
      "Error in get_ecg_signal_features: integer division or modulo by zero\n"
     ]
    },
    {
     "name": "stderr",
     "output_type": "stream",
     "text": [
      "Processing patients:  61%|██████    | 11453/18868 [16:17<11:41, 10.57it/s]"
     ]
    },
    {
     "name": "stdout",
     "output_type": "stream",
     "text": [
      "Error in get_ecg_signal_features: cannot convert float NaN to integer\n"
     ]
    },
    {
     "name": "stderr",
     "output_type": "stream",
     "text": [
      "Processing patients:  61%|██████    | 11525/18868 [16:22<10:27, 11.69it/s]"
     ]
    },
    {
     "name": "stdout",
     "output_type": "stream",
     "text": [
      "Error in get_ecg_signal_features: cannot convert float NaN to integer\n"
     ]
    },
    {
     "name": "stderr",
     "output_type": "stream",
     "text": [
      "Processing patients:  61%|██████▏   | 11565/18868 [16:25<10:05, 12.05it/s]"
     ]
    },
    {
     "name": "stdout",
     "output_type": "stream",
     "text": [
      "Error in get_ecg_signal_features: cannot convert float NaN to integer\n"
     ]
    },
    {
     "name": "stderr",
     "output_type": "stream",
     "text": [
      "Processing patients:  61%|██████▏   | 11597/18868 [16:28<10:41, 11.34it/s]"
     ]
    },
    {
     "name": "stdout",
     "output_type": "stream",
     "text": [
      "Error in get_ecg_signal_features: cannot convert float NaN to integer\n"
     ]
    },
    {
     "name": "stderr",
     "output_type": "stream",
     "text": [
      "Processing patients:  62%|██████▏   | 11625/18868 [16:30<11:45, 10.26it/s]"
     ]
    },
    {
     "name": "stdout",
     "output_type": "stream",
     "text": [
      "Error in get_ecg_signal_features: cannot convert float NaN to integer\n"
     ]
    },
    {
     "name": "stderr",
     "output_type": "stream",
     "text": [
      "Processing patients:  62%|██████▏   | 11697/18868 [16:35<11:34, 10.33it/s]"
     ]
    },
    {
     "name": "stdout",
     "output_type": "stream",
     "text": [
      "Error in get_ecg_signal_features: cannot convert float NaN to integer\n"
     ]
    },
    {
     "name": "stderr",
     "output_type": "stream",
     "text": [
      "Processing patients:  62%|██████▏   | 11717/18868 [16:37<10:51, 10.98it/s]"
     ]
    },
    {
     "name": "stdout",
     "output_type": "stream",
     "text": [
      "Error in get_ecg_signal_features: cannot convert float NaN to integer\n"
     ]
    },
    {
     "name": "stderr",
     "output_type": "stream",
     "text": [
      "Processing patients:  62%|██████▏   | 11743/18868 [16:39<12:01,  9.88it/s]"
     ]
    },
    {
     "name": "stdout",
     "output_type": "stream",
     "text": [
      "Error in get_ecg_signal_features: cannot convert float NaN to integer\n"
     ]
    },
    {
     "name": "stderr",
     "output_type": "stream",
     "text": [
      "Processing patients:  63%|██████▎   | 11813/18868 [16:44<08:54, 13.21it/s]"
     ]
    },
    {
     "name": "stdout",
     "output_type": "stream",
     "text": [
      "Error in get_ecg_signal_features: cannot convert float NaN to integer\n"
     ]
    },
    {
     "name": "stderr",
     "output_type": "stream",
     "text": [
      "Processing patients:  63%|██████▎   | 11861/18868 [16:48<09:27, 12.34it/s]"
     ]
    },
    {
     "name": "stdout",
     "output_type": "stream",
     "text": [
      "Error in get_ecg_signal_features: cannot convert float NaN to integer\n"
     ]
    },
    {
     "name": "stderr",
     "output_type": "stream",
     "text": [
      "Processing patients:  63%|██████▎   | 11903/18868 [16:51<11:49,  9.82it/s]"
     ]
    },
    {
     "name": "stdout",
     "output_type": "stream",
     "text": [
      "Error in get_ecg_signal_features: integer division or modulo by zero\n"
     ]
    },
    {
     "name": "stderr",
     "output_type": "stream",
     "text": [
      "Processing patients:  63%|██████▎   | 11981/18868 [16:57<08:46, 13.08it/s]"
     ]
    },
    {
     "name": "stdout",
     "output_type": "stream",
     "text": [
      "Error in get_ecg_signal_features: cannot convert float NaN to integer\n"
     ]
    },
    {
     "name": "stderr",
     "output_type": "stream",
     "text": [
      "Processing patients:  64%|██████▎   | 12001/18868 [16:58<08:19, 13.75it/s]"
     ]
    },
    {
     "name": "stdout",
     "output_type": "stream",
     "text": [
      "Saved batch patient_features_10001_to_12000.parquet\n"
     ]
    },
    {
     "name": "stderr",
     "output_type": "stream",
     "text": [
      "Processing patients:  64%|██████▍   | 12097/18868 [17:05<08:55, 12.64it/s]"
     ]
    },
    {
     "name": "stdout",
     "output_type": "stream",
     "text": [
      "Error in get_ecg_signal_features: cannot convert float NaN to integer\n"
     ]
    },
    {
     "name": "stderr",
     "output_type": "stream",
     "text": [
      "Processing patients:  64%|██████▍   | 12125/18868 [17:07<10:23, 10.82it/s]"
     ]
    },
    {
     "name": "stdout",
     "output_type": "stream",
     "text": [
      "Error in get_ecg_signal_features: cannot convert float NaN to integer\n"
     ]
    },
    {
     "name": "stderr",
     "output_type": "stream",
     "text": [
      "Processing patients:  64%|██████▍   | 12135/18868 [17:08<08:17, 13.53it/s]"
     ]
    },
    {
     "name": "stdout",
     "output_type": "stream",
     "text": [
      "Error in get_ecg_signal_features: cannot convert float NaN to integer\n"
     ]
    },
    {
     "name": "stderr",
     "output_type": "stream",
     "text": [
      "Processing patients:  64%|██████▍   | 12137/18868 [17:09<12:10,  9.22it/s]"
     ]
    },
    {
     "name": "stdout",
     "output_type": "stream",
     "text": [
      "Error in get_ecg_signal_features: cannot convert float NaN to integer\n"
     ]
    },
    {
     "name": "stderr",
     "output_type": "stream",
     "text": [
      "Processing patients:  64%|██████▍   | 12149/18868 [17:09<08:35, 13.03it/s]"
     ]
    },
    {
     "name": "stdout",
     "output_type": "stream",
     "text": [
      "Error in get_ecg_signal_features: cannot convert float NaN to integer\n"
     ]
    },
    {
     "name": "stderr",
     "output_type": "stream",
     "text": [
      "Processing patients:  65%|██████▍   | 12187/18868 [17:12<08:34, 12.99it/s]"
     ]
    },
    {
     "name": "stdout",
     "output_type": "stream",
     "text": [
      "Error in get_ecg_signal_features: cannot convert float NaN to integer\n"
     ]
    },
    {
     "name": "stderr",
     "output_type": "stream",
     "text": [
      "Processing patients:  66%|██████▌   | 12463/18868 [17:32<08:14, 12.95it/s]"
     ]
    },
    {
     "name": "stdout",
     "output_type": "stream",
     "text": [
      "Error in get_ecg_signal_features: cannot convert float NaN to integer\n"
     ]
    },
    {
     "name": "stderr",
     "output_type": "stream",
     "text": [
      "Processing patients:  66%|██████▌   | 12489/18868 [17:34<11:12,  9.49it/s]"
     ]
    },
    {
     "name": "stdout",
     "output_type": "stream",
     "text": [
      "Error in get_ecg_signal_features: cannot convert float NaN to integer\n",
      "Error in get_ecg_signal_features: cannot convert float NaN to integer\n"
     ]
    },
    {
     "name": "stderr",
     "output_type": "stream",
     "text": [
      "Processing patients:  66%|██████▋   | 12513/18868 [17:36<08:55, 11.86it/s]"
     ]
    },
    {
     "name": "stdout",
     "output_type": "stream",
     "text": [
      "Error in get_ecg_signal_features: cannot convert float NaN to integer\n",
      "Error in get_ecg_signal_features: cannot convert float NaN to integer\n"
     ]
    },
    {
     "name": "stderr",
     "output_type": "stream",
     "text": [
      "Processing patients:  67%|██████▋   | 12573/18868 [17:40<09:10, 11.43it/s]"
     ]
    },
    {
     "name": "stdout",
     "output_type": "stream",
     "text": [
      "Error in get_ecg_signal_features: cannot convert float NaN to integer\n"
     ]
    },
    {
     "name": "stderr",
     "output_type": "stream",
     "text": [
      "Processing patients:  67%|██████▋   | 12607/18868 [17:43<07:39, 13.64it/s]"
     ]
    },
    {
     "name": "stdout",
     "output_type": "stream",
     "text": [
      "Error in get_ecg_signal_features: cannot convert float NaN to integer\n"
     ]
    },
    {
     "name": "stderr",
     "output_type": "stream",
     "text": [
      "Processing patients:  67%|██████▋   | 12623/18868 [17:44<14:00,  7.43it/s]"
     ]
    },
    {
     "name": "stdout",
     "output_type": "stream",
     "text": [
      "Error in get_ecg_signal_features: integer division or modulo by zero\n"
     ]
    },
    {
     "name": "stderr",
     "output_type": "stream",
     "text": [
      "Processing patients:  67%|██████▋   | 12729/18868 [17:52<09:47, 10.44it/s]"
     ]
    },
    {
     "name": "stdout",
     "output_type": "stream",
     "text": [
      "Error in get_ecg_signal_features: cannot convert float NaN to integer\n"
     ]
    },
    {
     "name": "stderr",
     "output_type": "stream",
     "text": [
      "Processing patients:  68%|██████▊   | 12745/18868 [17:53<10:19,  9.88it/s]"
     ]
    },
    {
     "name": "stdout",
     "output_type": "stream",
     "text": [
      "Error in get_ecg_signal_features: cannot convert float NaN to integer\n"
     ]
    },
    {
     "name": "stderr",
     "output_type": "stream",
     "text": [
      "Processing patients:  68%|██████▊   | 12791/18868 [17:57<10:18,  9.83it/s]"
     ]
    },
    {
     "name": "stdout",
     "output_type": "stream",
     "text": [
      "Error in get_ecg_signal_features: cannot convert float NaN to integer\n"
     ]
    },
    {
     "name": "stderr",
     "output_type": "stream",
     "text": [
      "Processing patients:  68%|██████▊   | 12803/18868 [17:58<10:17,  9.82it/s]"
     ]
    },
    {
     "name": "stdout",
     "output_type": "stream",
     "text": [
      "Error in get_ecg_signal_features: cannot convert float NaN to integer\n"
     ]
    },
    {
     "name": "stderr",
     "output_type": "stream",
     "text": [
      "Processing patients:  68%|██████▊   | 12819/18868 [17:59<10:57,  9.20it/s]"
     ]
    },
    {
     "name": "stdout",
     "output_type": "stream",
     "text": [
      "Error in get_ecg_signal_features: cannot convert float NaN to integer\n"
     ]
    },
    {
     "name": "stderr",
     "output_type": "stream",
     "text": [
      "Processing patients:  68%|██████▊   | 12827/18868 [18:00<10:28,  9.61it/s]"
     ]
    },
    {
     "name": "stdout",
     "output_type": "stream",
     "text": [
      "Error in get_ecg_signal_features: cannot convert float NaN to integer\n"
     ]
    },
    {
     "name": "stderr",
     "output_type": "stream",
     "text": [
      "Processing patients:  68%|██████▊   | 12853/18868 [18:02<08:24, 11.92it/s]"
     ]
    },
    {
     "name": "stdout",
     "output_type": "stream",
     "text": [
      "Error in get_ecg_signal_features: cannot convert float NaN to integer\n"
     ]
    },
    {
     "name": "stderr",
     "output_type": "stream",
     "text": [
      "Processing patients:  69%|██████▊   | 12965/18868 [18:10<08:44, 11.26it/s]"
     ]
    },
    {
     "name": "stdout",
     "output_type": "stream",
     "text": [
      "Error in get_ecg_signal_features: integer division or modulo by zero\n"
     ]
    },
    {
     "name": "stderr",
     "output_type": "stream",
     "text": [
      "Processing patients:  69%|██████▉   | 12991/18868 [18:12<08:33, 11.44it/s]"
     ]
    },
    {
     "name": "stdout",
     "output_type": "stream",
     "text": [
      "Error in get_ecg_signal_features: cannot convert float NaN to integer\n"
     ]
    },
    {
     "name": "stderr",
     "output_type": "stream",
     "text": [
      "Processing patients:  69%|██████▉   | 13037/18868 [18:16<12:14,  7.94it/s]"
     ]
    },
    {
     "name": "stdout",
     "output_type": "stream",
     "text": [
      "Error in get_ecg_signal_features: cannot convert float NaN to integer\n"
     ]
    },
    {
     "name": "stderr",
     "output_type": "stream",
     "text": [
      "Processing patients:  69%|██████▉   | 13113/18868 [18:22<09:43,  9.86it/s]"
     ]
    },
    {
     "name": "stdout",
     "output_type": "stream",
     "text": [
      "Error in get_ecg_signal_features: cannot convert float NaN to integer\n",
      "Error in get_ecg_signal_features: integer division or modulo by zero\n"
     ]
    },
    {
     "name": "stderr",
     "output_type": "stream",
     "text": [
      "Processing patients:  70%|██████▉   | 13147/18868 [18:25<11:15,  8.47it/s]"
     ]
    },
    {
     "name": "stdout",
     "output_type": "stream",
     "text": [
      "Error in get_ecg_signal_features: cannot convert float NaN to integer\n"
     ]
    },
    {
     "name": "stderr",
     "output_type": "stream",
     "text": [
      "Processing patients:  70%|███████   | 13233/18868 [18:31<09:16, 10.13it/s]"
     ]
    },
    {
     "name": "stdout",
     "output_type": "stream",
     "text": [
      "Error in get_ecg_signal_features: cannot convert float NaN to integer\n"
     ]
    },
    {
     "name": "stderr",
     "output_type": "stream",
     "text": [
      "Processing patients:  71%|███████   | 13311/18868 [18:37<09:59,  9.27it/s]"
     ]
    },
    {
     "name": "stdout",
     "output_type": "stream",
     "text": [
      "Error in get_ecg_signal_features: cannot convert float NaN to integer\n"
     ]
    },
    {
     "name": "stderr",
     "output_type": "stream",
     "text": [
      "Processing patients:  71%|███████   | 13319/18868 [18:38<09:22,  9.86it/s]"
     ]
    },
    {
     "name": "stdout",
     "output_type": "stream",
     "text": [
      "Error in get_ecg_signal_features: cannot convert float NaN to integer\n"
     ]
    },
    {
     "name": "stderr",
     "output_type": "stream",
     "text": [
      "Processing patients:  71%|███████   | 13381/18868 [18:42<07:23, 12.38it/s]"
     ]
    },
    {
     "name": "stdout",
     "output_type": "stream",
     "text": [
      "Error in get_ecg_signal_features: cannot convert float NaN to integer\n"
     ]
    },
    {
     "name": "stderr",
     "output_type": "stream",
     "text": [
      "Processing patients:  71%|███████   | 13399/18868 [18:44<06:23, 14.26it/s]"
     ]
    },
    {
     "name": "stdout",
     "output_type": "stream",
     "text": [
      "Error in get_ecg_signal_features: cannot convert float NaN to integer\n"
     ]
    },
    {
     "name": "stderr",
     "output_type": "stream",
     "text": [
      "Processing patients:  71%|███████   | 13403/18868 [18:44<09:30,  9.58it/s]"
     ]
    },
    {
     "name": "stdout",
     "output_type": "stream",
     "text": [
      "Error in get_ecg_signal_features: integer division or modulo by zero\n"
     ]
    },
    {
     "name": "stderr",
     "output_type": "stream",
     "text": [
      "Processing patients:  71%|███████   | 13417/18868 [18:45<06:53, 13.19it/s]"
     ]
    },
    {
     "name": "stdout",
     "output_type": "stream",
     "text": [
      "Error in get_ecg_signal_features: integer division or modulo by zero\n"
     ]
    },
    {
     "name": "stderr",
     "output_type": "stream",
     "text": [
      "Processing patients:  71%|███████   | 13443/18868 [18:47<07:54, 11.43it/s]"
     ]
    },
    {
     "name": "stdout",
     "output_type": "stream",
     "text": [
      "Error in get_ecg_signal_features: cannot convert float NaN to integer\n"
     ]
    },
    {
     "name": "stderr",
     "output_type": "stream",
     "text": [
      "Processing patients:  72%|███████▏  | 13537/18868 [18:54<07:39, 11.60it/s]"
     ]
    },
    {
     "name": "stdout",
     "output_type": "stream",
     "text": [
      "Error in get_ecg_signal_features: integer division or modulo by zero\n"
     ]
    },
    {
     "name": "stderr",
     "output_type": "stream",
     "text": [
      "Processing patients:  72%|███████▏  | 13591/18868 [18:58<07:52, 11.18it/s]"
     ]
    },
    {
     "name": "stdout",
     "output_type": "stream",
     "text": [
      "Error in get_ecg_signal_features: cannot convert float NaN to integer\n"
     ]
    },
    {
     "name": "stderr",
     "output_type": "stream",
     "text": [
      "Processing patients:  72%|███████▏  | 13621/18868 [19:00<06:34, 13.31it/s]"
     ]
    },
    {
     "name": "stdout",
     "output_type": "stream",
     "text": [
      "Error in get_ecg_signal_features: integer division or modulo by zero\n"
     ]
    },
    {
     "name": "stderr",
     "output_type": "stream",
     "text": [
      "Processing patients:  72%|███████▏  | 13633/18868 [19:02<08:01, 10.86it/s]"
     ]
    },
    {
     "name": "stdout",
     "output_type": "stream",
     "text": [
      "Error in get_ecg_signal_features: cannot convert float NaN to integer\n"
     ]
    },
    {
     "name": "stderr",
     "output_type": "stream",
     "text": [
      "Processing patients:  72%|███████▏  | 13643/18868 [19:02<07:01, 12.39it/s]"
     ]
    },
    {
     "name": "stdout",
     "output_type": "stream",
     "text": [
      "Error in get_ecg_signal_features: cannot convert float NaN to integer\n"
     ]
    },
    {
     "name": "stderr",
     "output_type": "stream",
     "text": [
      "Processing patients:  72%|███████▏  | 13663/18868 [19:04<07:57, 10.91it/s]"
     ]
    },
    {
     "name": "stdout",
     "output_type": "stream",
     "text": [
      "Error in get_ecg_signal_features: integer division or modulo by zero\n"
     ]
    },
    {
     "name": "stderr",
     "output_type": "stream",
     "text": [
      "Processing patients:  72%|███████▏  | 13673/18868 [19:05<07:50, 11.05it/s]"
     ]
    },
    {
     "name": "stdout",
     "output_type": "stream",
     "text": [
      "Error in get_ecg_signal_features: integer division or modulo by zero\n"
     ]
    },
    {
     "name": "stderr",
     "output_type": "stream",
     "text": [
      "Processing patients:  73%|███████▎  | 13737/18868 [19:09<06:33, 13.05it/s]"
     ]
    },
    {
     "name": "stdout",
     "output_type": "stream",
     "text": [
      "Error in get_ecg_signal_features: cannot convert float NaN to integer\n"
     ]
    },
    {
     "name": "stderr",
     "output_type": "stream",
     "text": [
      "Processing patients:  73%|███████▎  | 13747/18868 [19:10<08:19, 10.25it/s]"
     ]
    },
    {
     "name": "stdout",
     "output_type": "stream",
     "text": [
      "Error in get_ecg_signal_features: cannot convert float NaN to integer\n"
     ]
    },
    {
     "name": "stderr",
     "output_type": "stream",
     "text": [
      "Processing patients:  73%|███████▎  | 13773/18868 [19:12<07:16, 11.66it/s]"
     ]
    },
    {
     "name": "stdout",
     "output_type": "stream",
     "text": [
      "Error in get_ecg_signal_features: cannot convert float NaN to integer\n"
     ]
    },
    {
     "name": "stderr",
     "output_type": "stream",
     "text": [
      "Processing patients:  73%|███████▎  | 13803/18868 [19:15<07:36, 11.09it/s]"
     ]
    },
    {
     "name": "stdout",
     "output_type": "stream",
     "text": [
      "Error in get_ecg_signal_features: cannot convert float NaN to integer\n"
     ]
    },
    {
     "name": "stderr",
     "output_type": "stream",
     "text": [
      "Processing patients:  73%|███████▎  | 13847/18868 [19:18<06:38, 12.59it/s]"
     ]
    },
    {
     "name": "stdout",
     "output_type": "stream",
     "text": [
      "Error in get_ecg_signal_features: cannot convert float NaN to integer\n"
     ]
    },
    {
     "name": "stderr",
     "output_type": "stream",
     "text": [
      "Processing patients:  74%|███████▎  | 13885/18868 [19:21<07:58, 10.40it/s]"
     ]
    },
    {
     "name": "stdout",
     "output_type": "stream",
     "text": [
      "Error in get_ecg_signal_features: cannot convert float NaN to integer\n"
     ]
    },
    {
     "name": "stderr",
     "output_type": "stream",
     "text": [
      "Processing patients:  74%|███████▎  | 13901/18868 [19:22<05:59, 13.83it/s]"
     ]
    },
    {
     "name": "stdout",
     "output_type": "stream",
     "text": [
      "Error in get_ecg_signal_features: cannot convert float NaN to integer\n"
     ]
    },
    {
     "name": "stderr",
     "output_type": "stream",
     "text": [
      "Processing patients:  74%|███████▍  | 13939/18868 [19:25<07:17, 11.27it/s]"
     ]
    },
    {
     "name": "stdout",
     "output_type": "stream",
     "text": [
      "Error in get_ecg_signal_features: cannot convert float NaN to integer\n"
     ]
    },
    {
     "name": "stderr",
     "output_type": "stream",
     "text": [
      "Processing patients:  74%|███████▍  | 13971/18868 [19:27<05:40, 14.38it/s]"
     ]
    },
    {
     "name": "stdout",
     "output_type": "stream",
     "text": [
      "Error in get_ecg_signal_features: cannot convert float NaN to integer\n"
     ]
    },
    {
     "name": "stderr",
     "output_type": "stream",
     "text": [
      "Processing patients:  74%|███████▍  | 14001/18868 [19:29<05:45, 14.10it/s]"
     ]
    },
    {
     "name": "stdout",
     "output_type": "stream",
     "text": [
      "Saved batch patient_features_12001_to_14000.parquet\n"
     ]
    },
    {
     "name": "stderr",
     "output_type": "stream",
     "text": [
      "Processing patients:  75%|███████▍  | 14071/18868 [19:34<06:09, 12.97it/s]"
     ]
    },
    {
     "name": "stdout",
     "output_type": "stream",
     "text": [
      "Error in get_ecg_signal_features: cannot convert float NaN to integer\n"
     ]
    },
    {
     "name": "stderr",
     "output_type": "stream",
     "text": [
      "Processing patients:  75%|███████▍  | 14077/18868 [19:35<06:02, 13.22it/s]"
     ]
    },
    {
     "name": "stdout",
     "output_type": "stream",
     "text": [
      "Error in get_ecg_signal_features: integer division or modulo by zero\n"
     ]
    },
    {
     "name": "stderr",
     "output_type": "stream",
     "text": [
      "Processing patients:  75%|███████▍  | 14083/18868 [19:35<06:26, 12.37it/s]"
     ]
    },
    {
     "name": "stdout",
     "output_type": "stream",
     "text": [
      "Error in get_ecg_signal_features: integer division or modulo by zero\n"
     ]
    },
    {
     "name": "stderr",
     "output_type": "stream",
     "text": [
      "Processing patients:  75%|███████▍  | 14089/18868 [19:36<07:43, 10.32it/s]"
     ]
    },
    {
     "name": "stdout",
     "output_type": "stream",
     "text": [
      "Error in get_ecg_signal_features: cannot convert float NaN to integer\n"
     ]
    },
    {
     "name": "stderr",
     "output_type": "stream",
     "text": [
      "Processing patients:  75%|███████▍  | 14105/18868 [19:37<05:52, 13.50it/s]"
     ]
    },
    {
     "name": "stdout",
     "output_type": "stream",
     "text": [
      "Error in get_ecg_signal_features: cannot convert float NaN to integer\n"
     ]
    },
    {
     "name": "stderr",
     "output_type": "stream",
     "text": [
      "Processing patients:  75%|███████▍  | 14149/18868 [19:40<07:06, 11.07it/s]"
     ]
    },
    {
     "name": "stdout",
     "output_type": "stream",
     "text": [
      "Error in get_ecg_signal_features: cannot convert float NaN to integer\n"
     ]
    },
    {
     "name": "stderr",
     "output_type": "stream",
     "text": [
      "Processing patients:  75%|███████▌  | 14171/18868 [19:42<06:08, 12.74it/s]"
     ]
    },
    {
     "name": "stdout",
     "output_type": "stream",
     "text": [
      "Error in get_ecg_signal_features: cannot convert float NaN to integer\n"
     ]
    },
    {
     "name": "stderr",
     "output_type": "stream",
     "text": [
      "Processing patients:  75%|███████▌  | 14207/18868 [19:45<06:06, 12.72it/s]"
     ]
    },
    {
     "name": "stdout",
     "output_type": "stream",
     "text": [
      "Error in get_ecg_signal_features: cannot convert float NaN to integer\n"
     ]
    },
    {
     "name": "stderr",
     "output_type": "stream",
     "text": [
      "Processing patients:  76%|███████▌  | 14289/18868 [19:51<07:40,  9.93it/s]"
     ]
    },
    {
     "name": "stdout",
     "output_type": "stream",
     "text": [
      "Error in get_ecg_signal_features: cannot convert float NaN to integer\n"
     ]
    },
    {
     "name": "stderr",
     "output_type": "stream",
     "text": [
      "Processing patients:  76%|███████▌  | 14303/18868 [19:52<07:10, 10.62it/s]"
     ]
    },
    {
     "name": "stdout",
     "output_type": "stream",
     "text": [
      "Error in get_ecg_signal_features: integer division or modulo by zero\n"
     ]
    },
    {
     "name": "stderr",
     "output_type": "stream",
     "text": [
      "Processing patients:  76%|███████▌  | 14309/18868 [19:53<06:14, 12.18it/s]"
     ]
    },
    {
     "name": "stdout",
     "output_type": "stream",
     "text": [
      "Error in get_ecg_signal_features: integer division or modulo by zero\n"
     ]
    },
    {
     "name": "stderr",
     "output_type": "stream",
     "text": [
      "Processing patients:  76%|███████▌  | 14379/18868 [19:57<05:13, 14.30it/s]"
     ]
    },
    {
     "name": "stdout",
     "output_type": "stream",
     "text": [
      "Error in get_ecg_signal_features: cannot convert float NaN to integer\n"
     ]
    },
    {
     "name": "stderr",
     "output_type": "stream",
     "text": [
      "Processing patients:  76%|███████▋  | 14395/18868 [19:59<05:40, 13.14it/s]"
     ]
    },
    {
     "name": "stdout",
     "output_type": "stream",
     "text": [
      "Error in get_ecg_signal_features: cannot convert float NaN to integer\n"
     ]
    },
    {
     "name": "stderr",
     "output_type": "stream",
     "text": [
      "Processing patients:  77%|███████▋  | 14479/18868 [20:05<06:40, 10.96it/s]"
     ]
    },
    {
     "name": "stdout",
     "output_type": "stream",
     "text": [
      "Error in get_ecg_signal_features: cannot convert float NaN to integer\n"
     ]
    },
    {
     "name": "stderr",
     "output_type": "stream",
     "text": [
      "Processing patients:  77%|███████▋  | 14559/18868 [20:11<05:23, 13.33it/s]"
     ]
    },
    {
     "name": "stdout",
     "output_type": "stream",
     "text": [
      "Error in get_ecg_signal_features: cannot convert float NaN to integer\n"
     ]
    },
    {
     "name": "stderr",
     "output_type": "stream",
     "text": [
      "Processing patients:  77%|███████▋  | 14563/18868 [20:11<06:34, 10.92it/s]"
     ]
    },
    {
     "name": "stdout",
     "output_type": "stream",
     "text": [
      "Error in get_ecg_signal_features: cannot convert float NaN to integer\n"
     ]
    },
    {
     "name": "stderr",
     "output_type": "stream",
     "text": [
      "Processing patients:  77%|███████▋  | 14621/18868 [20:15<06:51, 10.31it/s]"
     ]
    },
    {
     "name": "stdout",
     "output_type": "stream",
     "text": [
      "Error in get_ecg_signal_features: cannot convert float NaN to integer\n"
     ]
    },
    {
     "name": "stderr",
     "output_type": "stream",
     "text": [
      "Processing patients:  78%|███████▊  | 14633/18868 [20:16<06:24, 11.02it/s]"
     ]
    },
    {
     "name": "stdout",
     "output_type": "stream",
     "text": [
      "Error in get_ecg_signal_features: cannot convert float NaN to integer\n"
     ]
    },
    {
     "name": "stderr",
     "output_type": "stream",
     "text": [
      "Processing patients:  78%|███████▊  | 14647/18868 [20:17<05:43, 12.29it/s]"
     ]
    },
    {
     "name": "stdout",
     "output_type": "stream",
     "text": [
      "Error in get_ecg_signal_features: integer division or modulo by zero\n"
     ]
    },
    {
     "name": "stderr",
     "output_type": "stream",
     "text": [
      "Processing patients:  78%|███████▊  | 14657/18868 [20:18<05:24, 12.98it/s]"
     ]
    },
    {
     "name": "stdout",
     "output_type": "stream",
     "text": [
      "Error in get_ecg_signal_features: cannot convert float NaN to integer\n"
     ]
    },
    {
     "name": "stderr",
     "output_type": "stream",
     "text": [
      "Processing patients:  78%|███████▊  | 14663/18868 [20:19<05:15, 13.33it/s]"
     ]
    },
    {
     "name": "stdout",
     "output_type": "stream",
     "text": [
      "Error in get_ecg_signal_features: cannot convert float NaN to integer\n"
     ]
    },
    {
     "name": "stderr",
     "output_type": "stream",
     "text": [
      "Processing patients:  78%|███████▊  | 14689/18868 [20:21<07:50,  8.88it/s]"
     ]
    },
    {
     "name": "stdout",
     "output_type": "stream",
     "text": [
      "Error in get_ecg_signal_features: cannot convert float NaN to integer\n"
     ]
    },
    {
     "name": "stderr",
     "output_type": "stream",
     "text": [
      "Processing patients:  78%|███████▊  | 14739/18868 [20:25<06:37, 10.40it/s]"
     ]
    },
    {
     "name": "stdout",
     "output_type": "stream",
     "text": [
      "Error in get_ecg_signal_features: cannot convert float NaN to integer\n"
     ]
    },
    {
     "name": "stderr",
     "output_type": "stream",
     "text": [
      "Processing patients:  78%|███████▊  | 14801/18868 [20:29<06:47,  9.98it/s]"
     ]
    },
    {
     "name": "stdout",
     "output_type": "stream",
     "text": [
      "Error in get_ecg_signal_features: cannot convert float NaN to integer\n"
     ]
    },
    {
     "name": "stderr",
     "output_type": "stream",
     "text": [
      "Processing patients:  79%|███████▉  | 14887/18868 [20:35<06:03, 10.96it/s]"
     ]
    },
    {
     "name": "stdout",
     "output_type": "stream",
     "text": [
      "Error in get_ecg_signal_features: cannot convert float NaN to integer\n"
     ]
    },
    {
     "name": "stderr",
     "output_type": "stream",
     "text": [
      "Processing patients:  79%|███████▉  | 14915/18868 [20:37<04:45, 13.83it/s]"
     ]
    },
    {
     "name": "stdout",
     "output_type": "stream",
     "text": [
      "Error in get_ecg_signal_features: cannot convert float NaN to integer\n"
     ]
    },
    {
     "name": "stderr",
     "output_type": "stream",
     "text": [
      "Processing patients:  79%|███████▉  | 14919/18868 [20:38<05:35, 11.76it/s]"
     ]
    },
    {
     "name": "stdout",
     "output_type": "stream",
     "text": [
      "Error in get_ecg_signal_features: cannot convert float NaN to integer\n"
     ]
    },
    {
     "name": "stderr",
     "output_type": "stream",
     "text": [
      "Processing patients:  79%|███████▉  | 14923/18868 [20:38<05:19, 12.35it/s]"
     ]
    },
    {
     "name": "stdout",
     "output_type": "stream",
     "text": [
      "Error in get_ecg_signal_features: cannot convert float NaN to integer\n"
     ]
    },
    {
     "name": "stderr",
     "output_type": "stream",
     "text": [
      "Processing patients:  79%|███████▉  | 14965/18868 [20:41<06:14, 10.43it/s]"
     ]
    },
    {
     "name": "stdout",
     "output_type": "stream",
     "text": [
      "Error in get_ecg_signal_features: cannot convert float NaN to integer\n"
     ]
    },
    {
     "name": "stderr",
     "output_type": "stream",
     "text": [
      "Processing patients:  79%|███████▉  | 14971/18868 [20:41<05:14, 12.38it/s]"
     ]
    },
    {
     "name": "stdout",
     "output_type": "stream",
     "text": [
      "Error in get_ecg_signal_features: integer division or modulo by zero\n"
     ]
    },
    {
     "name": "stderr",
     "output_type": "stream",
     "text": [
      "Processing patients:  80%|███████▉  | 15029/18868 [20:46<06:19, 10.11it/s]"
     ]
    },
    {
     "name": "stdout",
     "output_type": "stream",
     "text": [
      "Error in get_ecg_signal_features: integer division or modulo by zero\n"
     ]
    },
    {
     "name": "stderr",
     "output_type": "stream",
     "text": [
      "Processing patients:  80%|███████▉  | 15071/18868 [20:49<04:36, 13.74it/s]"
     ]
    },
    {
     "name": "stdout",
     "output_type": "stream",
     "text": [
      "Error in get_ecg_signal_features: integer division or modulo by zero\n"
     ]
    },
    {
     "name": "stderr",
     "output_type": "stream",
     "text": [
      "Processing patients:  80%|███████▉  | 15091/18868 [20:50<04:32, 13.84it/s]"
     ]
    },
    {
     "name": "stdout",
     "output_type": "stream",
     "text": [
      "Error in get_ecg_signal_features: cannot convert float NaN to integer\n"
     ]
    },
    {
     "name": "stderr",
     "output_type": "stream",
     "text": [
      "Processing patients:  80%|████████  | 15127/18868 [20:53<05:01, 12.41it/s]"
     ]
    },
    {
     "name": "stdout",
     "output_type": "stream",
     "text": [
      "Error in get_ecg_signal_features: integer division or modulo by zero\n"
     ]
    },
    {
     "name": "stderr",
     "output_type": "stream",
     "text": [
      "Processing patients:  80%|████████  | 15163/18868 [20:56<05:39, 10.93it/s]"
     ]
    },
    {
     "name": "stdout",
     "output_type": "stream",
     "text": [
      "Error in get_ecg_signal_features: cannot convert float NaN to integer\n"
     ]
    },
    {
     "name": "stderr",
     "output_type": "stream",
     "text": [
      "Processing patients:  80%|████████  | 15175/18868 [20:57<06:54,  8.90it/s]"
     ]
    },
    {
     "name": "stdout",
     "output_type": "stream",
     "text": [
      "Error in get_ecg_signal_features: integer division or modulo by zero\n"
     ]
    },
    {
     "name": "stderr",
     "output_type": "stream",
     "text": [
      "Processing patients:  80%|████████  | 15185/18868 [20:58<05:16, 11.65it/s]"
     ]
    },
    {
     "name": "stdout",
     "output_type": "stream",
     "text": [
      "Error in get_ecg_signal_features: cannot convert float NaN to integer\n"
     ]
    },
    {
     "name": "stderr",
     "output_type": "stream",
     "text": [
      "Processing patients:  81%|████████  | 15195/18868 [20:59<06:37,  9.25it/s]"
     ]
    },
    {
     "name": "stdout",
     "output_type": "stream",
     "text": [
      "Error in get_ecg_signal_features: cannot convert float NaN to integer\n"
     ]
    },
    {
     "name": "stderr",
     "output_type": "stream",
     "text": [
      "Processing patients:  81%|████████  | 15265/18868 [21:04<04:21, 13.77it/s]"
     ]
    },
    {
     "name": "stdout",
     "output_type": "stream",
     "text": [
      "Error in get_ecg_signal_features: cannot convert float NaN to integer\n"
     ]
    },
    {
     "name": "stderr",
     "output_type": "stream",
     "text": [
      "Processing patients:  81%|████████  | 15269/18868 [21:04<05:57, 10.06it/s]"
     ]
    },
    {
     "name": "stdout",
     "output_type": "stream",
     "text": [
      "Error in get_ecg_signal_features: integer division or modulo by zero\n"
     ]
    },
    {
     "name": "stderr",
     "output_type": "stream",
     "text": [
      "Processing patients:  81%|████████  | 15323/18868 [21:08<05:56,  9.96it/s]"
     ]
    },
    {
     "name": "stdout",
     "output_type": "stream",
     "text": [
      "Error in get_ecg_signal_features: cannot convert float NaN to integer\n"
     ]
    },
    {
     "name": "stderr",
     "output_type": "stream",
     "text": [
      "Processing patients:  82%|████████▏ | 15391/18868 [21:13<06:23,  9.06it/s]"
     ]
    },
    {
     "name": "stdout",
     "output_type": "stream",
     "text": [
      "Error in get_ecg_signal_features: integer division or modulo by zero\n",
      "Error in get_ecg_signal_features: cannot convert float NaN to integer\n"
     ]
    },
    {
     "name": "stderr",
     "output_type": "stream",
     "text": [
      "Processing patients:  82%|████████▏ | 15399/18868 [21:14<05:05, 11.35it/s]"
     ]
    },
    {
     "name": "stdout",
     "output_type": "stream",
     "text": [
      "Error in get_ecg_signal_features: cannot convert float NaN to integer\n"
     ]
    },
    {
     "name": "stderr",
     "output_type": "stream",
     "text": [
      "Processing patients:  82%|████████▏ | 15459/18868 [21:19<04:54, 11.58it/s]"
     ]
    },
    {
     "name": "stdout",
     "output_type": "stream",
     "text": [
      "Error in get_ecg_signal_features: cannot convert float NaN to integer\n"
     ]
    },
    {
     "name": "stderr",
     "output_type": "stream",
     "text": [
      "Processing patients:  82%|████████▏ | 15493/18868 [21:21<05:58,  9.42it/s]"
     ]
    },
    {
     "name": "stdout",
     "output_type": "stream",
     "text": [
      "Error in get_ecg_signal_features: integer division or modulo by zero\n"
     ]
    },
    {
     "name": "stderr",
     "output_type": "stream",
     "text": [
      "Processing patients:  82%|████████▏ | 15507/18868 [21:22<05:53,  9.52it/s]"
     ]
    },
    {
     "name": "stdout",
     "output_type": "stream",
     "text": [
      "Error in get_ecg_signal_features: cannot convert float NaN to integer\n"
     ]
    },
    {
     "name": "stderr",
     "output_type": "stream",
     "text": [
      "Processing patients:  82%|████████▏ | 15519/18868 [21:23<04:39, 11.97it/s]"
     ]
    },
    {
     "name": "stdout",
     "output_type": "stream",
     "text": [
      "Error in get_ecg_signal_features: integer division or modulo by zero\n"
     ]
    },
    {
     "name": "stderr",
     "output_type": "stream",
     "text": [
      "Processing patients:  82%|████████▏ | 15521/18868 [21:24<06:06,  9.14it/s]"
     ]
    },
    {
     "name": "stdout",
     "output_type": "stream",
     "text": [
      "Error in get_ecg_signal_features: cannot convert float NaN to integer\n"
     ]
    },
    {
     "name": "stderr",
     "output_type": "stream",
     "text": [
      "Processing patients:  82%|████████▏ | 15533/18868 [21:25<04:34, 12.15it/s]"
     ]
    },
    {
     "name": "stdout",
     "output_type": "stream",
     "text": [
      "Error in get_ecg_signal_features: integer division or modulo by zero\n"
     ]
    },
    {
     "name": "stderr",
     "output_type": "stream",
     "text": [
      "Processing patients:  82%|████████▏ | 15543/18868 [21:25<05:11, 10.69it/s]"
     ]
    },
    {
     "name": "stdout",
     "output_type": "stream",
     "text": [
      "Error in get_ecg_signal_features: cannot convert float NaN to integer\n"
     ]
    },
    {
     "name": "stderr",
     "output_type": "stream",
     "text": [
      "Processing patients:  83%|████████▎ | 15579/18868 [21:28<04:12, 13.03it/s]"
     ]
    },
    {
     "name": "stdout",
     "output_type": "stream",
     "text": [
      "Error in get_ecg_signal_features: cannot convert float NaN to integer\n"
     ]
    },
    {
     "name": "stderr",
     "output_type": "stream",
     "text": [
      "Processing patients:  83%|████████▎ | 15617/18868 [21:31<05:49,  9.31it/s]"
     ]
    },
    {
     "name": "stdout",
     "output_type": "stream",
     "text": [
      "Error in get_ecg_signal_features: integer division or modulo by zero\n"
     ]
    },
    {
     "name": "stderr",
     "output_type": "stream",
     "text": [
      "Processing patients:  83%|████████▎ | 15679/18868 [21:36<05:48,  9.15it/s]"
     ]
    },
    {
     "name": "stdout",
     "output_type": "stream",
     "text": [
      "Error in get_ecg_signal_features: cannot convert float NaN to integer\n"
     ]
    },
    {
     "name": "stderr",
     "output_type": "stream",
     "text": [
      "Processing patients:  83%|████████▎ | 15682/18868 [21:36<07:09,  7.42it/s]"
     ]
    },
    {
     "name": "stdout",
     "output_type": "stream",
     "text": [
      "Error in get_ecg_signal_features: integer division or modulo by zero\n"
     ]
    },
    {
     "name": "stderr",
     "output_type": "stream",
     "text": [
      "Processing patients:  83%|████████▎ | 15690/18868 [21:37<05:31,  9.60it/s]"
     ]
    },
    {
     "name": "stdout",
     "output_type": "stream",
     "text": [
      "Error in get_ecg_signal_features: integer division or modulo by zero\n"
     ]
    },
    {
     "name": "stderr",
     "output_type": "stream",
     "text": [
      "Processing patients:  83%|████████▎ | 15720/18868 [21:39<03:49, 13.71it/s]"
     ]
    },
    {
     "name": "stdout",
     "output_type": "stream",
     "text": [
      "Error in get_ecg_signal_features: cannot convert float NaN to integer\n"
     ]
    },
    {
     "name": "stderr",
     "output_type": "stream",
     "text": [
      "Processing patients:  83%|████████▎ | 15736/18868 [21:41<05:00, 10.43it/s]"
     ]
    },
    {
     "name": "stdout",
     "output_type": "stream",
     "text": [
      "Error in get_ecg_signal_features: cannot convert float NaN to integer\n"
     ]
    },
    {
     "name": "stderr",
     "output_type": "stream",
     "text": [
      "Processing patients:  84%|████████▍ | 15846/18868 [21:49<04:52, 10.33it/s]"
     ]
    },
    {
     "name": "stdout",
     "output_type": "stream",
     "text": [
      "Error in get_ecg_signal_features: cannot convert float NaN to integer\n"
     ]
    },
    {
     "name": "stderr",
     "output_type": "stream",
     "text": [
      "Processing patients:  84%|████████▍ | 15858/18868 [21:50<05:37,  8.93it/s]"
     ]
    },
    {
     "name": "stdout",
     "output_type": "stream",
     "text": [
      "Error in get_ecg_signal_features: cannot convert float NaN to integer\n"
     ]
    },
    {
     "name": "stderr",
     "output_type": "stream",
     "text": [
      "Processing patients:  84%|████████▍ | 15878/18868 [21:52<03:40, 13.56it/s]"
     ]
    },
    {
     "name": "stdout",
     "output_type": "stream",
     "text": [
      "Error in get_ecg_signal_features: cannot convert float NaN to integer\n"
     ]
    },
    {
     "name": "stderr",
     "output_type": "stream",
     "text": [
      "Processing patients:  84%|████████▍ | 15898/18868 [21:53<04:11, 11.79it/s]"
     ]
    },
    {
     "name": "stdout",
     "output_type": "stream",
     "text": [
      "Error in get_ecg_signal_features: cannot convert float NaN to integer\n"
     ]
    },
    {
     "name": "stderr",
     "output_type": "stream",
     "text": [
      "Processing patients:  84%|████████▍ | 15928/18868 [21:56<05:36,  8.74it/s]"
     ]
    },
    {
     "name": "stdout",
     "output_type": "stream",
     "text": [
      "Error in get_ecg_signal_features: cannot convert float NaN to integer\n"
     ]
    },
    {
     "name": "stderr",
     "output_type": "stream",
     "text": [
      "Processing patients:  85%|████████▍ | 15946/18868 [21:57<03:40, 13.26it/s]"
     ]
    },
    {
     "name": "stdout",
     "output_type": "stream",
     "text": [
      "Error in get_ecg_signal_features: cannot convert float NaN to integer\n"
     ]
    },
    {
     "name": "stderr",
     "output_type": "stream",
     "text": [
      "Processing patients:  85%|████████▍ | 15982/18868 [22:00<04:01, 11.95it/s]"
     ]
    },
    {
     "name": "stdout",
     "output_type": "stream",
     "text": [
      "Error in get_ecg_signal_features: cannot convert float NaN to integer\n"
     ]
    },
    {
     "name": "stderr",
     "output_type": "stream",
     "text": [
      "Processing patients:  85%|████████▍ | 16002/18868 [22:01<03:31, 13.56it/s]"
     ]
    },
    {
     "name": "stdout",
     "output_type": "stream",
     "text": [
      "Saved batch patient_features_14001_to_16000.parquet\n"
     ]
    },
    {
     "name": "stderr",
     "output_type": "stream",
     "text": [
      "Processing patients:  85%|████████▍ | 16012/18868 [22:02<04:43, 10.06it/s]"
     ]
    },
    {
     "name": "stdout",
     "output_type": "stream",
     "text": [
      "Error in get_ecg_signal_features: cannot convert float NaN to integer\n"
     ]
    },
    {
     "name": "stderr",
     "output_type": "stream",
     "text": [
      "Processing patients:  85%|████████▌ | 16102/18868 [22:09<04:24, 10.48it/s]"
     ]
    },
    {
     "name": "stdout",
     "output_type": "stream",
     "text": [
      "Error in get_ecg_signal_features: cannot convert float NaN to integer\n"
     ]
    },
    {
     "name": "stderr",
     "output_type": "stream",
     "text": [
      "Processing patients:  86%|████████▌ | 16166/18868 [22:13<03:19, 13.55it/s]"
     ]
    },
    {
     "name": "stdout",
     "output_type": "stream",
     "text": [
      "Error in get_ecg_signal_features: cannot convert float NaN to integer\n"
     ]
    },
    {
     "name": "stderr",
     "output_type": "stream",
     "text": [
      "Processing patients:  86%|████████▌ | 16176/18868 [22:14<04:30,  9.94it/s]"
     ]
    },
    {
     "name": "stdout",
     "output_type": "stream",
     "text": [
      "Error in get_ecg_signal_features: cannot convert float NaN to integer\n"
     ]
    },
    {
     "name": "stderr",
     "output_type": "stream",
     "text": [
      "Processing patients:  86%|████████▌ | 16200/18868 [22:16<03:32, 12.55it/s]"
     ]
    },
    {
     "name": "stdout",
     "output_type": "stream",
     "text": [
      "Error in get_ecg_signal_features: cannot convert float NaN to integer\n"
     ]
    },
    {
     "name": "stderr",
     "output_type": "stream",
     "text": [
      "Processing patients:  86%|████████▌ | 16204/18868 [22:17<04:34,  9.71it/s]"
     ]
    },
    {
     "name": "stdout",
     "output_type": "stream",
     "text": [
      "Error in get_ecg_signal_features: integer division or modulo by zero\n"
     ]
    },
    {
     "name": "stderr",
     "output_type": "stream",
     "text": [
      "Processing patients:  86%|████████▌ | 16226/18868 [22:19<04:41,  9.37it/s]"
     ]
    },
    {
     "name": "stdout",
     "output_type": "stream",
     "text": [
      "Error in get_ecg_signal_features: cannot convert float NaN to integer\n"
     ]
    },
    {
     "name": "stderr",
     "output_type": "stream",
     "text": [
      "Processing patients:  86%|████████▋ | 16300/18868 [22:24<03:17, 13.00it/s]"
     ]
    },
    {
     "name": "stdout",
     "output_type": "stream",
     "text": [
      "Error in get_ecg_signal_features: integer division or modulo by zero\n"
     ]
    },
    {
     "name": "stderr",
     "output_type": "stream",
     "text": [
      "Processing patients:  86%|████████▋ | 16302/18868 [22:24<03:46, 11.34it/s]"
     ]
    },
    {
     "name": "stdout",
     "output_type": "stream",
     "text": [
      "Error in get_ecg_signal_features: cannot convert float NaN to integer\n"
     ]
    },
    {
     "name": "stderr",
     "output_type": "stream",
     "text": [
      "Processing patients:  87%|████████▋ | 16344/18868 [22:28<03:03, 13.76it/s]"
     ]
    },
    {
     "name": "stdout",
     "output_type": "stream",
     "text": [
      "Error in get_ecg_signal_features: cannot convert float NaN to integer\n"
     ]
    },
    {
     "name": "stderr",
     "output_type": "stream",
     "text": [
      "Processing patients:  87%|████████▋ | 16398/18868 [22:31<03:03, 13.46it/s]"
     ]
    },
    {
     "name": "stdout",
     "output_type": "stream",
     "text": [
      "Error in get_ecg_signal_features: cannot convert float NaN to integer\n"
     ]
    },
    {
     "name": "stderr",
     "output_type": "stream",
     "text": [
      "Processing patients:  87%|████████▋ | 16402/18868 [22:32<04:07,  9.97it/s]"
     ]
    },
    {
     "name": "stdout",
     "output_type": "stream",
     "text": [
      "Error in get_ecg_signal_features: integer division or modulo by zero\n"
     ]
    },
    {
     "name": "stderr",
     "output_type": "stream",
     "text": [
      "Processing patients:  87%|████████▋ | 16426/18868 [22:34<04:09,  9.80it/s]"
     ]
    },
    {
     "name": "stdout",
     "output_type": "stream",
     "text": [
      "Error in get_ecg_signal_features: cannot convert float NaN to integer\n"
     ]
    },
    {
     "name": "stderr",
     "output_type": "stream",
     "text": [
      "Processing patients:  87%|████████▋ | 16474/18868 [22:38<03:01, 13.19it/s]"
     ]
    },
    {
     "name": "stdout",
     "output_type": "stream",
     "text": [
      "Error in get_ecg_signal_features: cannot convert float NaN to integer\n"
     ]
    },
    {
     "name": "stderr",
     "output_type": "stream",
     "text": [
      "Processing patients:  88%|████████▊ | 16514/18868 [22:41<03:53, 10.06it/s]"
     ]
    },
    {
     "name": "stdout",
     "output_type": "stream",
     "text": [
      "Error in get_ecg_signal_features: cannot convert float NaN to integer\n"
     ]
    },
    {
     "name": "stderr",
     "output_type": "stream",
     "text": [
      "Processing patients:  88%|████████▊ | 16544/18868 [22:43<03:37, 10.69it/s]"
     ]
    },
    {
     "name": "stdout",
     "output_type": "stream",
     "text": [
      "Error in get_ecg_signal_features: cannot convert float NaN to integer\n"
     ]
    },
    {
     "name": "stderr",
     "output_type": "stream",
     "text": [
      "Processing patients:  88%|████████▊ | 16552/18868 [22:44<03:13, 11.96it/s]"
     ]
    },
    {
     "name": "stdout",
     "output_type": "stream",
     "text": [
      "Error in get_ecg_signal_features: cannot convert float NaN to integer\n"
     ]
    },
    {
     "name": "stderr",
     "output_type": "stream",
     "text": [
      "Processing patients:  88%|████████▊ | 16606/18868 [22:48<02:56, 12.81it/s]"
     ]
    },
    {
     "name": "stdout",
     "output_type": "stream",
     "text": [
      "Error in get_ecg_signal_features: cannot convert float NaN to integer\n"
     ]
    },
    {
     "name": "stderr",
     "output_type": "stream",
     "text": [
      "Processing patients:  88%|████████▊ | 16612/18868 [22:49<03:32, 10.62it/s]"
     ]
    },
    {
     "name": "stdout",
     "output_type": "stream",
     "text": [
      "Error in get_ecg_signal_features: cannot convert float NaN to integer\n"
     ]
    },
    {
     "name": "stderr",
     "output_type": "stream",
     "text": [
      "Processing patients:  88%|████████▊ | 16616/18868 [22:49<03:47,  9.91it/s]"
     ]
    },
    {
     "name": "stdout",
     "output_type": "stream",
     "text": [
      "Error in get_ecg_signal_features: cannot convert float NaN to integer\n"
     ]
    },
    {
     "name": "stderr",
     "output_type": "stream",
     "text": [
      "Processing patients:  88%|████████▊ | 16680/18868 [22:54<03:01, 12.07it/s]"
     ]
    },
    {
     "name": "stdout",
     "output_type": "stream",
     "text": [
      "Error in get_ecg_signal_features: cannot convert float NaN to integer\n"
     ]
    },
    {
     "name": "stderr",
     "output_type": "stream",
     "text": [
      "Processing patients:  88%|████████▊ | 16684/18868 [22:55<03:59,  9.13it/s]"
     ]
    },
    {
     "name": "stdout",
     "output_type": "stream",
     "text": [
      "Error in get_ecg_signal_features: integer division or modulo by zero\n",
      "Error in get_ecg_signal_features: cannot convert float NaN to integer\n"
     ]
    },
    {
     "name": "stderr",
     "output_type": "stream",
     "text": [
      "Processing patients:  89%|████████▊ | 16730/18868 [22:59<04:08,  8.59it/s]"
     ]
    },
    {
     "name": "stdout",
     "output_type": "stream",
     "text": [
      "Error in get_ecg_signal_features: cannot convert float NaN to integer\n"
     ]
    },
    {
     "name": "stderr",
     "output_type": "stream",
     "text": [
      "Processing patients:  89%|████████▉ | 16748/18868 [23:01<03:48,  9.26it/s]"
     ]
    },
    {
     "name": "stdout",
     "output_type": "stream",
     "text": [
      "Error in get_ecg_signal_features: cannot convert float NaN to integer\n"
     ]
    },
    {
     "name": "stderr",
     "output_type": "stream",
     "text": [
      "Processing patients:  89%|████████▉ | 16752/18868 [23:01<03:26, 10.24it/s]"
     ]
    },
    {
     "name": "stdout",
     "output_type": "stream",
     "text": [
      "Error in get_ecg_signal_features: cannot convert float NaN to integer\n"
     ]
    },
    {
     "name": "stderr",
     "output_type": "stream",
     "text": [
      "Processing patients:  89%|████████▉ | 16766/18868 [23:03<03:33,  9.84it/s]"
     ]
    },
    {
     "name": "stdout",
     "output_type": "stream",
     "text": [
      "Error in get_ecg_signal_features: cannot convert float NaN to integer\n"
     ]
    },
    {
     "name": "stderr",
     "output_type": "stream",
     "text": [
      "Processing patients:  89%|████████▉ | 16860/18868 [23:10<02:55, 11.46it/s]"
     ]
    },
    {
     "name": "stdout",
     "output_type": "stream",
     "text": [
      "Error in get_ecg_signal_features: cannot convert float NaN to integer\n"
     ]
    },
    {
     "name": "stderr",
     "output_type": "stream",
     "text": [
      "Processing patients:  90%|████████▉ | 16924/18868 [23:15<02:34, 12.57it/s]"
     ]
    },
    {
     "name": "stdout",
     "output_type": "stream",
     "text": [
      "Error in get_ecg_signal_features: cannot convert float NaN to integer\n"
     ]
    },
    {
     "name": "stderr",
     "output_type": "stream",
     "text": [
      "Processing patients:  90%|████████▉ | 16952/18868 [23:17<02:27, 12.98it/s]"
     ]
    },
    {
     "name": "stdout",
     "output_type": "stream",
     "text": [
      "Error in get_ecg_signal_features: cannot convert float NaN to integer\n"
     ]
    },
    {
     "name": "stderr",
     "output_type": "stream",
     "text": [
      "Processing patients:  90%|████████▉ | 16970/18868 [23:18<02:44, 11.52it/s]"
     ]
    },
    {
     "name": "stdout",
     "output_type": "stream",
     "text": [
      "Error in get_ecg_signal_features: integer division or modulo by zero\n"
     ]
    },
    {
     "name": "stderr",
     "output_type": "stream",
     "text": [
      "Processing patients:  90%|████████▉ | 16978/18868 [23:19<03:10,  9.91it/s]"
     ]
    },
    {
     "name": "stdout",
     "output_type": "stream",
     "text": [
      "Error in get_ecg_signal_features: cannot convert float NaN to integer\n"
     ]
    },
    {
     "name": "stderr",
     "output_type": "stream",
     "text": [
      "Processing patients:  90%|█████████ | 17006/18868 [23:21<02:25, 12.84it/s]"
     ]
    },
    {
     "name": "stdout",
     "output_type": "stream",
     "text": [
      "Error in get_ecg_signal_features: cannot convert float NaN to integer\n"
     ]
    },
    {
     "name": "stderr",
     "output_type": "stream",
     "text": [
      "Processing patients:  90%|█████████ | 17012/18868 [23:22<03:57,  7.81it/s]"
     ]
    },
    {
     "name": "stdout",
     "output_type": "stream",
     "text": [
      "Error in get_ecg_signal_features: integer division or modulo by zero\n"
     ]
    },
    {
     "name": "stderr",
     "output_type": "stream",
     "text": [
      "Processing patients:  90%|█████████ | 17024/18868 [23:23<02:37, 11.73it/s]"
     ]
    },
    {
     "name": "stdout",
     "output_type": "stream",
     "text": [
      "Error in get_ecg_signal_features: integer division or modulo by zero\n",
      "Error in get_ecg_signal_features: cannot convert float NaN to integer\n"
     ]
    },
    {
     "name": "stderr",
     "output_type": "stream",
     "text": [
      "Processing patients:  90%|█████████ | 17030/18868 [23:23<02:40, 11.47it/s]"
     ]
    },
    {
     "name": "stdout",
     "output_type": "stream",
     "text": [
      "Error in get_ecg_signal_features: cannot convert float NaN to integer\n",
      "Error in get_ecg_signal_features: integer division or modulo by zero\n"
     ]
    },
    {
     "name": "stderr",
     "output_type": "stream",
     "text": [
      "Processing patients:  90%|█████████ | 17066/18868 [23:26<02:32, 11.85it/s]"
     ]
    },
    {
     "name": "stdout",
     "output_type": "stream",
     "text": [
      "Error in get_ecg_signal_features: cannot convert float NaN to integer\n"
     ]
    },
    {
     "name": "stderr",
     "output_type": "stream",
     "text": [
      "Processing patients:  91%|█████████ | 17118/18868 [23:30<02:11, 13.35it/s]"
     ]
    },
    {
     "name": "stdout",
     "output_type": "stream",
     "text": [
      "Error in get_ecg_signal_features: cannot convert float NaN to integer\n"
     ]
    },
    {
     "name": "stderr",
     "output_type": "stream",
     "text": [
      "Processing patients:  91%|█████████ | 17166/18868 [23:34<02:55,  9.67it/s]"
     ]
    },
    {
     "name": "stdout",
     "output_type": "stream",
     "text": [
      "Error in get_ecg_signal_features: cannot convert float NaN to integer\n"
     ]
    },
    {
     "name": "stderr",
     "output_type": "stream",
     "text": [
      "Processing patients:  91%|█████████▏| 17232/18868 [23:39<02:05, 13.07it/s]"
     ]
    },
    {
     "name": "stdout",
     "output_type": "stream",
     "text": [
      "Error in get_ecg_signal_features: integer division or modulo by zero\n"
     ]
    },
    {
     "name": "stderr",
     "output_type": "stream",
     "text": [
      "Processing patients:  91%|█████████▏| 17252/18868 [23:40<02:54,  9.24it/s]"
     ]
    },
    {
     "name": "stdout",
     "output_type": "stream",
     "text": [
      "Error in get_ecg_signal_features: cannot convert float NaN to integer\n"
     ]
    },
    {
     "name": "stderr",
     "output_type": "stream",
     "text": [
      "Processing patients:  92%|█████████▏| 17274/18868 [23:42<01:55, 13.76it/s]"
     ]
    },
    {
     "name": "stdout",
     "output_type": "stream",
     "text": [
      "Error in get_ecg_signal_features: cannot convert float NaN to integer\n"
     ]
    },
    {
     "name": "stderr",
     "output_type": "stream",
     "text": [
      "Processing patients:  92%|█████████▏| 17296/18868 [23:44<02:26, 10.74it/s]"
     ]
    },
    {
     "name": "stdout",
     "output_type": "stream",
     "text": [
      "Error in get_ecg_signal_features: cannot convert float NaN to integer\n"
     ]
    },
    {
     "name": "stderr",
     "output_type": "stream",
     "text": [
      "Processing patients:  92%|█████████▏| 17302/18868 [23:44<02:20, 11.12it/s]"
     ]
    },
    {
     "name": "stdout",
     "output_type": "stream",
     "text": [
      "Error in get_ecg_signal_features: cannot convert float NaN to integer\n"
     ]
    },
    {
     "name": "stderr",
     "output_type": "stream",
     "text": [
      "Processing patients:  92%|█████████▏| 17326/18868 [23:46<02:17, 11.21it/s]"
     ]
    },
    {
     "name": "stdout",
     "output_type": "stream",
     "text": [
      "Error in get_ecg_signal_features: cannot convert float NaN to integer\n"
     ]
    },
    {
     "name": "stderr",
     "output_type": "stream",
     "text": [
      "Processing patients:  92%|█████████▏| 17360/18868 [23:49<02:59,  8.38it/s]"
     ]
    },
    {
     "name": "stdout",
     "output_type": "stream",
     "text": [
      "Error in get_ecg_signal_features: integer division or modulo by zero\n"
     ]
    },
    {
     "name": "stderr",
     "output_type": "stream",
     "text": [
      "Processing patients:  92%|█████████▏| 17396/18868 [23:52<02:24, 10.19it/s]"
     ]
    },
    {
     "name": "stdout",
     "output_type": "stream",
     "text": [
      "Error in get_ecg_signal_features: cannot convert float NaN to integer\n"
     ]
    },
    {
     "name": "stderr",
     "output_type": "stream",
     "text": [
      "Processing patients:  92%|█████████▏| 17400/18868 [23:53<02:38,  9.26it/s]"
     ]
    },
    {
     "name": "stdout",
     "output_type": "stream",
     "text": [
      "Error in get_ecg_signal_features: integer division or modulo by zero\n"
     ]
    },
    {
     "name": "stderr",
     "output_type": "stream",
     "text": [
      "Processing patients:  92%|█████████▏| 17410/18868 [23:54<02:38,  9.23it/s]"
     ]
    },
    {
     "name": "stdout",
     "output_type": "stream",
     "text": [
      "Error in get_ecg_signal_features: cannot convert float NaN to integer\n"
     ]
    },
    {
     "name": "stderr",
     "output_type": "stream",
     "text": [
      "Processing patients:  92%|█████████▏| 17440/18868 [23:56<02:30,  9.51it/s]"
     ]
    },
    {
     "name": "stdout",
     "output_type": "stream",
     "text": [
      "Error in get_ecg_signal_features: cannot convert float NaN to integer\n"
     ]
    },
    {
     "name": "stderr",
     "output_type": "stream",
     "text": [
      "Processing patients:  92%|█████████▏| 17448/18868 [23:57<03:03,  7.73it/s]"
     ]
    },
    {
     "name": "stdout",
     "output_type": "stream",
     "text": [
      "Error in get_ecg_signal_features: cannot convert float NaN to integer\n"
     ]
    },
    {
     "name": "stderr",
     "output_type": "stream",
     "text": [
      "Processing patients:  93%|█████████▎| 17460/18868 [23:58<02:06, 11.17it/s]"
     ]
    },
    {
     "name": "stdout",
     "output_type": "stream",
     "text": [
      "Error in get_ecg_signal_features: cannot convert float NaN to integer\n"
     ]
    },
    {
     "name": "stderr",
     "output_type": "stream",
     "text": [
      "Processing patients:  93%|█████████▎| 17482/18868 [24:00<02:04, 11.12it/s]"
     ]
    },
    {
     "name": "stdout",
     "output_type": "stream",
     "text": [
      "Error in get_ecg_signal_features: cannot convert float NaN to integer\n"
     ]
    },
    {
     "name": "stderr",
     "output_type": "stream",
     "text": [
      "Processing patients:  93%|█████████▎| 17486/18868 [24:00<02:15, 10.23it/s]"
     ]
    },
    {
     "name": "stdout",
     "output_type": "stream",
     "text": [
      "Error in get_ecg_signal_features: cannot convert float NaN to integer\n"
     ]
    },
    {
     "name": "stderr",
     "output_type": "stream",
     "text": [
      "Processing patients:  93%|█████████▎| 17512/18868 [24:02<01:29, 15.18it/s]"
     ]
    },
    {
     "name": "stdout",
     "output_type": "stream",
     "text": [
      "Error in get_ecg_signal_features: cannot convert float NaN to integer\n"
     ]
    },
    {
     "name": "stderr",
     "output_type": "stream",
     "text": [
      "Processing patients:  93%|█████████▎| 17516/18868 [24:03<01:59, 11.36it/s]"
     ]
    },
    {
     "name": "stdout",
     "output_type": "stream",
     "text": [
      "Error in get_ecg_signal_features: cannot convert float NaN to integer\n"
     ]
    },
    {
     "name": "stderr",
     "output_type": "stream",
     "text": [
      "Processing patients:  93%|█████████▎| 17530/18868 [24:03<01:33, 14.37it/s]"
     ]
    },
    {
     "name": "stdout",
     "output_type": "stream",
     "text": [
      "Error in get_ecg_signal_features: cannot convert float NaN to integer\n"
     ]
    },
    {
     "name": "stderr",
     "output_type": "stream",
     "text": [
      "Processing patients:  93%|█████████▎| 17552/18868 [24:05<01:36, 13.58it/s]"
     ]
    },
    {
     "name": "stdout",
     "output_type": "stream",
     "text": [
      "Error in get_ecg_signal_features: integer division or modulo by zero\n"
     ]
    },
    {
     "name": "stderr",
     "output_type": "stream",
     "text": [
      "Processing patients:  93%|█████████▎| 17556/18868 [24:05<01:57, 11.20it/s]"
     ]
    },
    {
     "name": "stdout",
     "output_type": "stream",
     "text": [
      "Error in get_ecg_signal_features: integer division or modulo by zero\n"
     ]
    },
    {
     "name": "stderr",
     "output_type": "stream",
     "text": [
      "Processing patients:  93%|█████████▎| 17566/18868 [24:06<01:41, 12.79it/s]"
     ]
    },
    {
     "name": "stdout",
     "output_type": "stream",
     "text": [
      "Error in get_ecg_signal_features: cannot convert float NaN to integer\n"
     ]
    },
    {
     "name": "stderr",
     "output_type": "stream",
     "text": [
      "Processing patients:  93%|█████████▎| 17584/18868 [24:08<02:00, 10.62it/s]"
     ]
    },
    {
     "name": "stdout",
     "output_type": "stream",
     "text": [
      "Error in get_ecg_signal_features: cannot convert float NaN to integer\n"
     ]
    },
    {
     "name": "stderr",
     "output_type": "stream",
     "text": [
      "Processing patients:  93%|█████████▎| 17602/18868 [24:09<01:51, 11.39it/s]"
     ]
    },
    {
     "name": "stdout",
     "output_type": "stream",
     "text": [
      "Error in get_ecg_signal_features: cannot convert float NaN to integer\n"
     ]
    },
    {
     "name": "stderr",
     "output_type": "stream",
     "text": [
      "Processing patients:  93%|█████████▎| 17606/18868 [24:09<01:43, 12.25it/s]"
     ]
    },
    {
     "name": "stdout",
     "output_type": "stream",
     "text": [
      "Error in get_ecg_signal_features: cannot convert float NaN to integer\n"
     ]
    },
    {
     "name": "stderr",
     "output_type": "stream",
     "text": [
      "Processing patients:  93%|█████████▎| 17633/18868 [24:11<01:16, 16.17it/s]"
     ]
    },
    {
     "name": "stdout",
     "output_type": "stream",
     "text": [
      "Error in get_ecg_signal_features: integer division or modulo by zero\n",
      "Error in get_ecg_signal_features: integer division or modulo by zero\n"
     ]
    },
    {
     "name": "stderr",
     "output_type": "stream",
     "text": [
      "Processing patients:  93%|█████████▎| 17641/18868 [24:12<01:28, 13.82it/s]"
     ]
    },
    {
     "name": "stdout",
     "output_type": "stream",
     "text": [
      "Error in get_ecg_signal_features: cannot convert float NaN to integer\n"
     ]
    },
    {
     "name": "stderr",
     "output_type": "stream",
     "text": [
      "Processing patients:  94%|█████████▎| 17677/18868 [24:14<01:25, 14.00it/s]"
     ]
    },
    {
     "name": "stdout",
     "output_type": "stream",
     "text": [
      "Error in get_ecg_signal_features: integer division or modulo by zero\n"
     ]
    },
    {
     "name": "stderr",
     "output_type": "stream",
     "text": [
      "Processing patients:  94%|█████████▍| 17697/18868 [24:16<01:53, 10.35it/s]"
     ]
    },
    {
     "name": "stdout",
     "output_type": "stream",
     "text": [
      "Error in get_ecg_signal_features: cannot convert float NaN to integer\n"
     ]
    },
    {
     "name": "stderr",
     "output_type": "stream",
     "text": [
      "Processing patients:  94%|█████████▍| 17735/18868 [24:18<01:11, 15.81it/s]"
     ]
    },
    {
     "name": "stdout",
     "output_type": "stream",
     "text": [
      "Error in get_ecg_signal_features: cannot convert float NaN to integer\n"
     ]
    },
    {
     "name": "stderr",
     "output_type": "stream",
     "text": [
      "Processing patients:  94%|█████████▍| 17737/18868 [24:18<01:52, 10.06it/s]"
     ]
    },
    {
     "name": "stdout",
     "output_type": "stream",
     "text": [
      "Error in get_ecg_signal_features: cannot convert float NaN to integer\n"
     ]
    },
    {
     "name": "stderr",
     "output_type": "stream",
     "text": [
      "Processing patients:  94%|█████████▍| 17823/18868 [24:24<01:14, 14.10it/s]"
     ]
    },
    {
     "name": "stdout",
     "output_type": "stream",
     "text": [
      "Error in get_ecg_signal_features: cannot convert float NaN to integer\n"
     ]
    },
    {
     "name": "stderr",
     "output_type": "stream",
     "text": [
      "Processing patients:  95%|█████████▍| 17905/18868 [24:30<01:40,  9.60it/s]"
     ]
    },
    {
     "name": "stdout",
     "output_type": "stream",
     "text": [
      "Error in get_ecg_signal_features: cannot convert float NaN to integer\n"
     ]
    },
    {
     "name": "stderr",
     "output_type": "stream",
     "text": [
      "Processing patients:  95%|█████████▍| 17909/18868 [24:30<01:42,  9.36it/s]"
     ]
    },
    {
     "name": "stdout",
     "output_type": "stream",
     "text": [
      "Error in get_ecg_signal_features: cannot convert float NaN to integer\n"
     ]
    },
    {
     "name": "stderr",
     "output_type": "stream",
     "text": [
      "Processing patients:  95%|█████████▌| 17927/18868 [24:32<01:10, 13.34it/s]"
     ]
    },
    {
     "name": "stdout",
     "output_type": "stream",
     "text": [
      "Error in get_ecg_signal_features: integer division or modulo by zero\n"
     ]
    },
    {
     "name": "stderr",
     "output_type": "stream",
     "text": [
      "Processing patients:  95%|█████████▌| 17969/18868 [24:34<01:13, 12.20it/s]"
     ]
    },
    {
     "name": "stdout",
     "output_type": "stream",
     "text": [
      "Error in get_ecg_signal_features: cannot convert float NaN to integer\n"
     ]
    },
    {
     "name": "stderr",
     "output_type": "stream",
     "text": [
      "Processing patients:  95%|█████████▌| 18003/18868 [24:37<01:01, 14.10it/s]"
     ]
    },
    {
     "name": "stdout",
     "output_type": "stream",
     "text": [
      "Saved batch patient_features_16001_to_18000.parquet\n"
     ]
    },
    {
     "name": "stderr",
     "output_type": "stream",
     "text": [
      "Processing patients:  96%|█████████▌| 18025/18868 [24:38<00:59, 14.24it/s]"
     ]
    },
    {
     "name": "stdout",
     "output_type": "stream",
     "text": [
      "Error in get_ecg_signal_features: cannot convert float NaN to integer\n"
     ]
    },
    {
     "name": "stderr",
     "output_type": "stream",
     "text": [
      "Processing patients:  96%|█████████▌| 18035/18868 [24:39<01:21, 10.23it/s]"
     ]
    },
    {
     "name": "stdout",
     "output_type": "stream",
     "text": [
      "Error in get_ecg_signal_features: cannot convert float NaN to integer\n"
     ]
    },
    {
     "name": "stderr",
     "output_type": "stream",
     "text": [
      "Processing patients:  96%|█████████▌| 18043/18868 [24:40<01:20, 10.26it/s]"
     ]
    },
    {
     "name": "stdout",
     "output_type": "stream",
     "text": [
      "Error in get_ecg_signal_features: cannot convert float NaN to integer\n"
     ]
    },
    {
     "name": "stderr",
     "output_type": "stream",
     "text": [
      "Processing patients:  96%|█████████▋| 18197/18868 [24:51<00:57, 11.64it/s]"
     ]
    },
    {
     "name": "stdout",
     "output_type": "stream",
     "text": [
      "Error in get_ecg_signal_features: cannot convert float NaN to integer\n"
     ]
    },
    {
     "name": "stderr",
     "output_type": "stream",
     "text": [
      "Processing patients:  97%|█████████▋| 18283/18868 [24:58<00:53, 11.02it/s]"
     ]
    },
    {
     "name": "stdout",
     "output_type": "stream",
     "text": [
      "Error in get_ecg_signal_features: cannot convert float NaN to integer\n"
     ]
    },
    {
     "name": "stderr",
     "output_type": "stream",
     "text": [
      "Processing patients:  97%|█████████▋| 18287/18868 [24:58<00:56, 10.37it/s]"
     ]
    },
    {
     "name": "stdout",
     "output_type": "stream",
     "text": [
      "Error in get_ecg_signal_features: cannot convert float NaN to integer\n"
     ]
    },
    {
     "name": "stderr",
     "output_type": "stream",
     "text": [
      "Processing patients:  97%|█████████▋| 18289/18868 [24:59<01:07,  8.53it/s]"
     ]
    },
    {
     "name": "stdout",
     "output_type": "stream",
     "text": [
      "Error in get_ecg_signal_features: cannot convert float NaN to integer\n"
     ]
    },
    {
     "name": "stderr",
     "output_type": "stream",
     "text": [
      "Processing patients:  97%|█████████▋| 18297/18868 [24:59<00:56, 10.18it/s]"
     ]
    },
    {
     "name": "stdout",
     "output_type": "stream",
     "text": [
      "Error in get_ecg_signal_features: cannot convert float NaN to integer\n"
     ]
    },
    {
     "name": "stderr",
     "output_type": "stream",
     "text": [
      "Processing patients:  97%|█████████▋| 18347/18868 [25:03<00:46, 11.16it/s]"
     ]
    },
    {
     "name": "stdout",
     "output_type": "stream",
     "text": [
      "Error in get_ecg_signal_features: cannot convert float NaN to integer\n"
     ]
    },
    {
     "name": "stderr",
     "output_type": "stream",
     "text": [
      "Processing patients:  97%|█████████▋| 18359/18868 [25:04<00:36, 13.95it/s]"
     ]
    },
    {
     "name": "stdout",
     "output_type": "stream",
     "text": [
      "Error in get_ecg_signal_features: integer division or modulo by zero\n"
     ]
    },
    {
     "name": "stderr",
     "output_type": "stream",
     "text": [
      "Processing patients:  97%|█████████▋| 18363/18868 [25:04<00:48, 10.40it/s]"
     ]
    },
    {
     "name": "stdout",
     "output_type": "stream",
     "text": [
      "Error in get_ecg_signal_features: cannot convert float NaN to integer\n"
     ]
    },
    {
     "name": "stderr",
     "output_type": "stream",
     "text": [
      "Processing patients:  98%|█████████▊| 18397/18868 [25:06<00:30, 15.41it/s]"
     ]
    },
    {
     "name": "stdout",
     "output_type": "stream",
     "text": [
      "Error in get_ecg_signal_features: cannot convert float NaN to integer\n"
     ]
    },
    {
     "name": "stderr",
     "output_type": "stream",
     "text": [
      "Processing patients:  98%|█████████▊| 18403/18868 [25:07<00:41, 11.27it/s]"
     ]
    },
    {
     "name": "stdout",
     "output_type": "stream",
     "text": [
      "Error in get_ecg_signal_features: cannot convert float NaN to integer\n"
     ]
    },
    {
     "name": "stderr",
     "output_type": "stream",
     "text": [
      "Processing patients:  98%|█████████▊| 18411/18868 [25:08<00:38, 11.97it/s]"
     ]
    },
    {
     "name": "stdout",
     "output_type": "stream",
     "text": [
      "Error in get_ecg_signal_features: cannot convert float NaN to integer\n"
     ]
    },
    {
     "name": "stderr",
     "output_type": "stream",
     "text": [
      "Processing patients:  98%|█████████▊| 18415/18868 [25:08<00:49,  9.11it/s]"
     ]
    },
    {
     "name": "stdout",
     "output_type": "stream",
     "text": [
      "Error in get_ecg_signal_features: cannot convert float NaN to integer\n"
     ]
    },
    {
     "name": "stderr",
     "output_type": "stream",
     "text": [
      "Processing patients:  98%|█████████▊| 18417/18868 [25:08<00:50,  8.99it/s]"
     ]
    },
    {
     "name": "stdout",
     "output_type": "stream",
     "text": [
      "Error in get_ecg_signal_features: integer division or modulo by zero\n"
     ]
    },
    {
     "name": "stderr",
     "output_type": "stream",
     "text": [
      "Processing patients:  98%|█████████▊| 18488/18868 [25:14<00:30, 12.33it/s]"
     ]
    },
    {
     "name": "stdout",
     "output_type": "stream",
     "text": [
      "Error in get_ecg_signal_features: cannot convert float NaN to integer\n"
     ]
    },
    {
     "name": "stderr",
     "output_type": "stream",
     "text": [
      "Processing patients:  98%|█████████▊| 18502/18868 [25:15<00:26, 14.00it/s]"
     ]
    },
    {
     "name": "stdout",
     "output_type": "stream",
     "text": [
      "Error in get_ecg_signal_features: cannot convert float NaN to integer\n"
     ]
    },
    {
     "name": "stderr",
     "output_type": "stream",
     "text": [
      "Processing patients:  98%|█████████▊| 18508/18868 [25:15<00:27, 13.21it/s]"
     ]
    },
    {
     "name": "stdout",
     "output_type": "stream",
     "text": [
      "Error in get_ecg_signal_features: cannot convert float NaN to integer\n"
     ]
    },
    {
     "name": "stderr",
     "output_type": "stream",
     "text": [
      "Processing patients:  98%|█████████▊| 18524/18868 [25:17<00:35,  9.66it/s]"
     ]
    },
    {
     "name": "stdout",
     "output_type": "stream",
     "text": [
      "Error in get_ecg_signal_features: cannot convert float NaN to integer\n"
     ]
    },
    {
     "name": "stderr",
     "output_type": "stream",
     "text": [
      "Processing patients:  98%|█████████▊| 18556/18868 [25:19<00:24, 12.97it/s]"
     ]
    },
    {
     "name": "stdout",
     "output_type": "stream",
     "text": [
      "Error in get_ecg_signal_features: cannot convert float NaN to integer\n"
     ]
    },
    {
     "name": "stderr",
     "output_type": "stream",
     "text": [
      "Processing patients:  99%|█████████▊| 18586/18868 [25:21<00:27, 10.29it/s]"
     ]
    },
    {
     "name": "stdout",
     "output_type": "stream",
     "text": [
      "Error in get_ecg_signal_features: cannot convert float NaN to integer\n"
     ]
    },
    {
     "name": "stderr",
     "output_type": "stream",
     "text": [
      "Processing patients:  99%|█████████▊| 18598/18868 [25:23<00:28,  9.48it/s]"
     ]
    },
    {
     "name": "stdout",
     "output_type": "stream",
     "text": [
      "Error in get_ecg_signal_features: integer division or modulo by zero\n"
     ]
    },
    {
     "name": "stderr",
     "output_type": "stream",
     "text": [
      "Processing patients:  99%|█████████▊| 18616/18868 [25:24<00:24, 10.48it/s]"
     ]
    },
    {
     "name": "stdout",
     "output_type": "stream",
     "text": [
      "Error in get_ecg_signal_features: cannot convert float NaN to integer\n"
     ]
    },
    {
     "name": "stderr",
     "output_type": "stream",
     "text": [
      "Processing patients:  99%|█████████▊| 18632/18868 [25:25<00:19, 11.99it/s]"
     ]
    },
    {
     "name": "stdout",
     "output_type": "stream",
     "text": [
      "Error in get_ecg_signal_features: cannot convert float NaN to integer\n"
     ]
    },
    {
     "name": "stderr",
     "output_type": "stream",
     "text": [
      "Processing patients:  99%|█████████▉| 18694/18868 [25:30<00:14, 12.18it/s]"
     ]
    },
    {
     "name": "stdout",
     "output_type": "stream",
     "text": [
      "Error in get_ecg_signal_features: cannot convert float NaN to integer\n"
     ]
    },
    {
     "name": "stderr",
     "output_type": "stream",
     "text": [
      "Processing patients:  99%|█████████▉| 18722/18868 [25:32<00:14, 10.25it/s]"
     ]
    },
    {
     "name": "stdout",
     "output_type": "stream",
     "text": [
      "Error in get_ecg_signal_features: integer division or modulo by zero\n"
     ]
    },
    {
     "name": "stderr",
     "output_type": "stream",
     "text": [
      "Processing patients: 100%|█████████▉| 18816/18868 [25:38<00:03, 14.02it/s]"
     ]
    },
    {
     "name": "stdout",
     "output_type": "stream",
     "text": [
      "Error in get_ecg_signal_features: cannot convert float NaN to integer\n"
     ]
    },
    {
     "name": "stderr",
     "output_type": "stream",
     "text": [
      "Processing patients: 100%|█████████▉| 18818/18868 [25:39<00:05,  9.65it/s]"
     ]
    },
    {
     "name": "stdout",
     "output_type": "stream",
     "text": [
      "Error in get_ecg_signal_features: cannot convert float NaN to integer\n"
     ]
    },
    {
     "name": "stderr",
     "output_type": "stream",
     "text": [
      "Processing patients: 100%|█████████▉| 18820/18868 [25:39<00:06,  7.76it/s]"
     ]
    },
    {
     "name": "stdout",
     "output_type": "stream",
     "text": [
      "Error in get_ecg_signal_features: cannot convert float NaN to integer\n"
     ]
    },
    {
     "name": "stderr",
     "output_type": "stream",
     "text": [
      "Processing patients: 100%|█████████▉| 18823/18868 [25:39<00:05,  8.27it/s]"
     ]
    },
    {
     "name": "stdout",
     "output_type": "stream",
     "text": [
      "Error in get_ecg_signal_features: cannot convert float NaN to integer\n"
     ]
    },
    {
     "name": "stderr",
     "output_type": "stream",
     "text": [
      "Processing patients: 100%|██████████| 18868/18868 [25:43<00:00, 12.23it/s]"
     ]
    },
    {
     "name": "stdout",
     "output_type": "stream",
     "text": [
      "Saved batch patient_features_18001_to_18868.parquet\n"
     ]
    },
    {
     "name": "stderr",
     "output_type": "stream",
     "text": [
      "\n"
     ]
    }
   ],
   "source": [
    "get_ecg_signals_features(\n",
    "    processed_dir=path_to_zip/'ptb_xl_npz', \n",
    "    output_dir_features='ptb_xl_features_signal_wavelet', method=\"dwt\", \n",
    "    #ptb_xl_features_signal_morphology ptb_xl_features_signal_hrv ptb_xl_features_signal_asymmetry\n",
    "    #ptb_xl_features_signal_angles, 'ptb_xl_features_signal_deriv', 'ptb_xl_features_signal_HF' wavelet\n",
    "    ####ptb_xl_features_signal_freq\n",
    "    avg_signal=False, show_plot=False, calc_waves_peak=False,\n",
    "    fs=fs, extractors=['wavelet'] #extractors=['morphology', 'hrv', 'asymmetry', 'angles', 'derivative', 'HF']  #'freq'\n",
    ")"
   ]
  },
  {
   "cell_type": "markdown",
   "id": "58dc717e",
   "metadata": {},
   "source": [
    "## subjects info"
   ]
  },
  {
   "cell_type": "code",
   "execution_count": 14,
   "id": "f7576087",
   "metadata": {},
   "outputs": [
    {
     "name": "stderr",
     "output_type": "stream",
     "text": [
      "Extracting subject info: 100%|██████████| 18868/18868 [06:19<00:00, 49.76it/s]\n"
     ]
    },
    {
     "data": {
      "text/html": [
       "<div>\n",
       "<style scoped>\n",
       "    .dataframe tbody tr th:only-of-type {\n",
       "        vertical-align: middle;\n",
       "    }\n",
       "\n",
       "    .dataframe tbody tr th {\n",
       "        vertical-align: top;\n",
       "    }\n",
       "\n",
       "    .dataframe thead th {\n",
       "        text-align: right;\n",
       "    }\n",
       "</style>\n",
       "<table border=\"1\" class=\"dataframe\">\n",
       "  <thead>\n",
       "    <tr style=\"text-align: right;\">\n",
       "      <th></th>\n",
       "      <th>patient_id</th>\n",
       "      <th>target</th>\n",
       "      <th>file_name</th>\n",
       "      <th>age</th>\n",
       "      <th>sex</th>\n",
       "      <th>pacemaker</th>\n",
       "      <th>strat_fold</th>\n",
       "      <th>heart_axis</th>\n",
       "    </tr>\n",
       "  </thead>\n",
       "  <tbody>\n",
       "    <tr>\n",
       "      <th>0</th>\n",
       "      <td>1000</td>\n",
       "      <td>1.0</td>\n",
       "      <td>ecg_1000.npz</td>\n",
       "      <td>86.0</td>\n",
       "      <td>1</td>\n",
       "      <td>NaN</td>\n",
       "      <td>6</td>\n",
       "      <td>NaN</td>\n",
       "    </tr>\n",
       "    <tr>\n",
       "      <th>1</th>\n",
       "      <td>10000</td>\n",
       "      <td>1.0</td>\n",
       "      <td>ecg_10000.npz</td>\n",
       "      <td>51.0</td>\n",
       "      <td>0</td>\n",
       "      <td>NaN</td>\n",
       "      <td>5</td>\n",
       "      <td>LAD</td>\n",
       "    </tr>\n",
       "    <tr>\n",
       "      <th>2</th>\n",
       "      <td>10002</td>\n",
       "      <td>0.0</td>\n",
       "      <td>ecg_10002.npz</td>\n",
       "      <td>73.0</td>\n",
       "      <td>0</td>\n",
       "      <td>NaN</td>\n",
       "      <td>3</td>\n",
       "      <td>ALAD</td>\n",
       "    </tr>\n",
       "    <tr>\n",
       "      <th>3</th>\n",
       "      <td>10003</td>\n",
       "      <td>1.0</td>\n",
       "      <td>ecg_10003.npz</td>\n",
       "      <td>63.0</td>\n",
       "      <td>0</td>\n",
       "      <td>NaN</td>\n",
       "      <td>1</td>\n",
       "      <td>MID</td>\n",
       "    </tr>\n",
       "    <tr>\n",
       "      <th>4</th>\n",
       "      <td>10005</td>\n",
       "      <td>0.0</td>\n",
       "      <td>ecg_10005.npz</td>\n",
       "      <td>76.0</td>\n",
       "      <td>1</td>\n",
       "      <td>NaN</td>\n",
       "      <td>1</td>\n",
       "      <td>MID</td>\n",
       "    </tr>\n",
       "    <tr>\n",
       "      <th>...</th>\n",
       "      <td>...</td>\n",
       "      <td>...</td>\n",
       "      <td>...</td>\n",
       "      <td>...</td>\n",
       "      <td>...</td>\n",
       "      <td>...</td>\n",
       "      <td>...</td>\n",
       "      <td>...</td>\n",
       "    </tr>\n",
       "    <tr>\n",
       "      <th>18863</th>\n",
       "      <td>9995</td>\n",
       "      <td>1.0</td>\n",
       "      <td>ecg_9995.npz</td>\n",
       "      <td>59.0</td>\n",
       "      <td>0</td>\n",
       "      <td>NaN</td>\n",
       "      <td>7</td>\n",
       "      <td>MID</td>\n",
       "    </tr>\n",
       "    <tr>\n",
       "      <th>18864</th>\n",
       "      <td>9996</td>\n",
       "      <td>1.0</td>\n",
       "      <td>ecg_9996.npz</td>\n",
       "      <td>16.0</td>\n",
       "      <td>1</td>\n",
       "      <td>NaN</td>\n",
       "      <td>2</td>\n",
       "      <td>MID</td>\n",
       "    </tr>\n",
       "    <tr>\n",
       "      <th>18865</th>\n",
       "      <td>9997</td>\n",
       "      <td>1.0</td>\n",
       "      <td>ecg_9997.npz</td>\n",
       "      <td>57.0</td>\n",
       "      <td>1</td>\n",
       "      <td>NaN</td>\n",
       "      <td>9</td>\n",
       "      <td>MID</td>\n",
       "    </tr>\n",
       "    <tr>\n",
       "      <th>18866</th>\n",
       "      <td>9998</td>\n",
       "      <td>0.0</td>\n",
       "      <td>ecg_9998.npz</td>\n",
       "      <td>87.0</td>\n",
       "      <td>0</td>\n",
       "      <td>NaN</td>\n",
       "      <td>1</td>\n",
       "      <td>ALAD</td>\n",
       "    </tr>\n",
       "    <tr>\n",
       "      <th>18867</th>\n",
       "      <td>9999</td>\n",
       "      <td>1.0</td>\n",
       "      <td>ecg_9999.npz</td>\n",
       "      <td>65.0</td>\n",
       "      <td>0</td>\n",
       "      <td>NaN</td>\n",
       "      <td>7</td>\n",
       "      <td>MID</td>\n",
       "    </tr>\n",
       "  </tbody>\n",
       "</table>\n",
       "<p>18868 rows × 8 columns</p>\n",
       "</div>"
      ],
      "text/plain": [
       "      patient_id target      file_name   age sex pacemaker strat_fold  \\\n",
       "0           1000    1.0   ecg_1000.npz  86.0   1       NaN          6   \n",
       "1          10000    1.0  ecg_10000.npz  51.0   0       NaN          5   \n",
       "2          10002    0.0  ecg_10002.npz  73.0   0       NaN          3   \n",
       "3          10003    1.0  ecg_10003.npz  63.0   0       NaN          1   \n",
       "4          10005    0.0  ecg_10005.npz  76.0   1       NaN          1   \n",
       "...          ...    ...            ...   ...  ..       ...        ...   \n",
       "18863       9995    1.0   ecg_9995.npz  59.0   0       NaN          7   \n",
       "18864       9996    1.0   ecg_9996.npz  16.0   1       NaN          2   \n",
       "18865       9997    1.0   ecg_9997.npz  57.0   1       NaN          9   \n",
       "18866       9998    0.0   ecg_9998.npz  87.0   0       NaN          1   \n",
       "18867       9999    1.0   ecg_9999.npz  65.0   0       NaN          7   \n",
       "\n",
       "      heart_axis  \n",
       "0            NaN  \n",
       "1            LAD  \n",
       "2           ALAD  \n",
       "3            MID  \n",
       "4            MID  \n",
       "...          ...  \n",
       "18863        MID  \n",
       "18864        MID  \n",
       "18865        MID  \n",
       "18866       ALAD  \n",
       "18867        MID  \n",
       "\n",
       "[18868 rows x 8 columns]"
      ]
     },
     "execution_count": 14,
     "metadata": {},
     "output_type": "execute_result"
    }
   ],
   "source": [
    "extract_subjects_info(processed_dir=path_to_zip/'ptb_xl_npz', npz_files=None)"
   ]
  },
  {
   "cell_type": "markdown",
   "id": "30824156",
   "metadata": {},
   "source": [
    "## wave peaks"
   ]
  },
  {
   "cell_type": "code",
   "execution_count": null,
   "id": "3e56745d",
   "metadata": {},
   "outputs": [],
   "source": [
    "info_wave_peaks = get_waves_quality_stats(processed_dir=path_to_zip)"
   ]
  },
  {
   "cell_type": "code",
   "execution_count": 26,
   "id": "c1c87f9b",
   "metadata": {},
   "outputs": [
    {
     "data": {
      "text/plain": [
       "I_total_r_peaks             18204\n",
       "I_ECG_P_Onsets_missing       3026\n",
       "I_ECG_P_Peaks_missing        1612\n",
       "I_ECG_P_Offsets_missing      1616\n",
       "I_ECG_R_Onsets_missing      18204\n",
       "                            ...  \n",
       "V6_ECG_R_Offsets_missing     9875\n",
       "V6_ECG_T_Onsets_missing      7719\n",
       "V6_ECG_T_Peaks_missing       7533\n",
       "V6_ECG_T_Offsets_missing     9052\n",
       "patient_id                  18204\n",
       "Length: 145, dtype: int64"
      ]
     },
     "execution_count": 26,
     "metadata": {},
     "output_type": "execute_result"
    }
   ],
   "source": [
    "nonzero_counts = info_wave_peaks.ne(0).sum()\n",
    "nonzero_counts"
   ]
  },
  {
   "cell_type": "markdown",
   "id": "2a98e846",
   "metadata": {},
   "source": [
    "# Reading features"
   ]
  },
  {
   "cell_type": "code",
   "execution_count": 34,
   "id": "ae84dd05",
   "metadata": {},
   "outputs": [],
   "source": [
    "ptb_xl_features = pd.read_parquet(path_to_zip / 'ptb_xl_features_signal_morphology')"
   ]
  },
  {
   "cell_type": "code",
   "execution_count": null,
   "id": "ad29e927",
   "metadata": {},
   "outputs": [],
   "source": [
    "#ptb_xl_features = pd.read_parquet(path_to_zip / 'ptb_xl_features')"
   ]
  },
  {
   "cell_type": "code",
   "execution_count": 35,
   "id": "79646182",
   "metadata": {},
   "outputs": [],
   "source": [
    "low_ptb_xl_features = ptb_xl_features.dropna(axis=1, how='all')#.iloc[:200]"
   ]
  },
  {
   "cell_type": "code",
   "execution_count": null,
   "id": "d5e90ada",
   "metadata": {},
   "outputs": [],
   "source": []
  },
  {
   "cell_type": "code",
   "execution_count": null,
   "id": "a0379fca",
   "metadata": {},
   "outputs": [
    {
     "data": {
      "text/plain": [
       "'\\ndef plot_ecg_cycle_with_features(cycle, signal, fs, cycle_num=0):\\n    fig, ax = plt.subplots(figsize=(15, 8))\\n\\n    # 1. Автоматическое определение границ цикла --------------------------------------\\n    available_points = []\\n    for point in [\\'ECG_P_Onsets\\', \\'ECG_Q_Peaks\\', \\'ECG_R_Peaks\\', \\'ECG_S_Peaks\\', \\'ECG_T_Offsets\\']:\\n        if point in cycle and len(cycle[point]) > 0:\\n            available_points.append(int(cycle[point][0]))\\n\\n    if not available_points:\\n        print(f\"Цикл {cycle_num}: нет точек для отрисовки\")\\n        return fig\\n\\n    # Границы цикла (с запасом 10% по краям)\\n    start = max(0, min(available_points) - int(0.1*fs))\\n    end = min(len(signal), max(available_points) + int(0.1*fs))\\n\\n    # 2. Отрисовка сигнала ----------------------------------------------------------\\n    time = np.arange(start, end) / fs\\n    ax.plot(time, signal[start:end], \\'b-\\', linewidth=1.5, label=\\'ЭКГ сигнал\\')\\n\\n    # 3. Разметка точек (только существующие) ---------------------------------------\\n    point_style = {\\n        \\'ECG_P_Onsets\\': (\\'<\\', \\'green\\', \\'P начало\\'),\\n        \\'ECG_P_Peaks\\': (\\'o\\', \\'lime\\', \\'P пик\\'),\\n        \\'ECG_P_Offsets\\': (\\'>\\', \\'darkgreen\\', \\'P конец\\'),\\n        \\'ECG_Q_Peaks\\': (\\'x\\', \\'red\\', \\'Q\\'),\\n        \\'ECG_R_Peaks\\': (\\'o\\', \\'black\\', \\'R\\'),\\n        \\'ECG_S_Peaks\\': (\\'x\\', \\'blue\\', \\'S\\'),\\n        \\'ECG_T_Onsets\\': (\\'<\\', \\'purple\\', \\'T начало\\'),\\n        \\'ECG_T_Peaks\\': (\\'o\\', \\'magenta\\', \\'T пик\\'),\\n        \\'ECG_T_Offsets\\': (\\'>\\', \\'darkviolet\\', \\'T конец\\')\\n    }\\n\\n    for point, (marker, color, label) in point_style.items():\\n        if point in cycle and len(cycle[point]) > 0:\\n            x = cycle[point][0] / fs\\n            y = signal[int(cycle[point][0])]\\n            ax.plot(x, y, marker=marker, color=color, markersize=10, label=label)\\n\\n    # 4. Отрисовка интервалов (только для существующих пар) -------------------------\\n    def draw_interval_if_exists(start_point, end_point, y_pos, label):\\n        if (start_point in cycle and len(cycle[start_point]) > 0 and \\n            end_point in cycle and len(cycle[end_point]) > 0):\\n            x1 = cycle[start_point][0] / fs\\n            x2 = cycle[end_point][0] / fs\\n            ax.add_patch(Rectangle((x1, y_pos), x2-x1, 0.1, alpha=0.3, color=\\'gray\\'))\\n            ax.text((x1+x2)/2, y_pos+0.15, f\\'{label}\\n{(x2-x1)*1000:.1f} мс\\', \\n                    ha=\\'center\\', va=\\'bottom\\', fontsize=9, bbox=dict(facecolor=\\'white\\', alpha=0.7))\\n\\n    y_min = np.min(signal[start:end])\\n    draw_interval_if_exists(\\'ECG_P_Onsets\\', \\'ECG_P_Offsets\\', y_min-0.3, \\'P\\')\\n    draw_interval_if_exists(\\'ECG_Q_Peaks\\', \\'ECG_S_Peaks\\', y_min-0.5, \\'QRS\\')\\n    draw_interval_if_exists(\\'ECG_Q_Peaks\\', \\'ECG_T_Offsets\\', y_min-0.7, \\'QT\\')\\n\\n    # 5. Настройка графика ----------------------------------------------------------\\n    ax.set_xlabel(\\'Время (с)\\', fontsize=12)\\n    ax.set_ylabel(\\'Амплитуда (мВ)\\', fontsize=12)\\n    ax.set_title(f\\'Цикл {cycle_num}\\', fontsize=14)\\n    ax.grid(True, linestyle=\\'--\\', alpha=0.5)\\n\\n    # Убираем дубликаты в легенде\\n    handles, labels = ax.get_legend_handles_labels()\\n    unique_labels = dict(zip(labels, handles))\\n    ax.legend(unique_labels.values(), unique_labels.keys(), loc=\\'upper right\\')\\n\\n    plt.tight_layout()\\n    return fig\\n\\ndef plot_averaged_signal(avg_signal, before_r, after_r, fs):\\n    if avg_signal is None:\\n        print(\"Невозможно построить график: недостаточно данных\")\\n        return\\n\\n    fig, ax = plt.subplots(figsize=(14, 7))\\n\\n    # 1. Временная ось (в мс относительно R-пика)\\n    time = (np.arange(len(avg_signal)) - before_r) / fs * 1000  # мс\\n\\n    # 2. Отрисовка сигнала\\n    ax.plot(time, avg_signal, \\'b-\\', linewidth=2, label=\\'Усредненный ЭКГ\\')\\n\\n    # 3. Разметка ключевых элементов\\n    ax.axvline(x=0, color=\\'r\\', linestyle=\\'--\\', label=\\'R-пик (0 мс)\\')\\n    ax.axvline(x=-before_r, color=\\'gray\\', linestyle=\\':\\', label=f\\'Начало окна (-{before_r/fs*1000:.0f} мс)\\')\\n    ax.axvline(x=after_r, color=\\'gray\\', linestyle=\\':\\', label=f\\'Конец окна (+{after_r/fs*1000:.0f} мс)\\')\\n\\n    # 4. Настройка графика\\n    ax.set_xlabel(\\'Время относительно R-пика (мс)\\', fontsize=12)\\n    ax.set_ylabel(\\'Амплитуда (мВ)\\', fontsize=12)\\n    ax.set_title(f\\'Усредненный PQRST комплекс (окно ±{before_r/fs*1000:.0f}/{after_r/fs*1000:.0f} мс)\\', fontsize=14)\\n    ax.grid(True, linestyle=\\'--\\', alpha=0.5)\\n    ax.legend(loc=\\'upper right\\')\\n\\n    plt.tight_layout()\\n    plt.show()\\n\\ndef plot_averaged_ecg(signal, cycles, fs):\\n    # 1. Подготовка данных для усреднения\\n    r_peaks = [int(cycle[\\'ECG_R_Peaks\\'][0]) for cycle in cycles if \\'ECG_R_Peaks\\' in cycle]\\n    if len(r_peaks) < 2:\\n        print(\"Недостаточно циклов для усреднения\")\\n        return\\n\\n    before_r = int(0.2 * fs)  # 200 мс до R\\n    after_r = int(0.5 * fs)   # 500 мс после R\\n    segments = []\\n\\n    for r in r_peaks:\\n        start = max(0, r - before_r)\\n        end = min(len(signal), r + after_r)\\n        segment = signal[start:end]\\n\\n        # Выравнивание по длине (если циклы у границ сигнала)\\n        if len(segment) < (before_r + after_r):\\n            pad_width = (before_r + after_r) - len(segment)\\n            segment = np.pad(segment, (0, pad_width), mode=\\'constant\\')\\n\\n        segments.append(segment)\\n\\n    # 3. Усреднение и построение\\n    avg_signal = np.mean(segments, axis=0)\\n    time = (np.arange(len(avg_signal)) / fs) - 0.2  # Время относительно R-пика\\n\\n    fig, ax = plt.subplots(figsize=(12, 6))\\n    ax.plot(time, avg_signal, \\'b-\\', linewidth=2, label=\\'Усредненный сигнал\\')\\n\\n    # 4. Разметка характерных точек (медианные положения)\\n    point_labels = {\\n        \\'ECG_P_Peaks\\': (\\'P\\', \\'green\\'),\\n        \\'ECG_Q_Peaks\\': (\\'Q\\', \\'red\\'),\\n        \\'ECG_S_Peaks\\': (\\'S\\', \\'blue\\'),\\n        \\'ECG_T_Peaks\\': (\\'T\\', \\'purple\\')\\n    }\\n\\n    for point_key, (label, color) in point_labels.items():\\n        points = []\\n        for cycle in cycles:\\n            if point_key in cycle and len(cycle[point_key]) > 0:\\n                points.append(cycle[point_key][0])\\n\\n        if len(points) > 0:\\n            median_pos = np.median(points) - r_peaks[0]  # Относительно первого R-пика\\n            median_time = median_pos / fs\\n            y_val = np.interp(median_pos, np.arange(len(avg_signal)), avg_signal)\\n            ax.plot(median_time, y_val, \\'o\\', color=color, markersize=8, label=label)\\n\\n    # 5. Настройка графика\\n    ax.axvline(x=0, color=\\'black\\', linestyle=\\'--\\', label=\\'R-пик\\')\\n    ax.set_xlabel(\\'Время относительно R-пика (с)\\')\\n    ax.set_ylabel(\\'Амплитуда (мВ)\\')\\n    ax.set_title(f\\'Усредненный PQRST комплекс (n={len(cycles)} циклов)\\')\\n    ax.grid(True, linestyle=\\'--\\', alpha=0.6)\\n    ax.legend()\\n\\n    plt.tight_layout()\\n    plt.show()\\n'"
      ]
     },
     "metadata": {},
     "output_type": "display_data"
    }
   ],
   "source": [
    "\n",
    "\"\"\"\n",
    "def plot_ecg_cycle_with_features(cycle, signal, fs, cycle_num=0):\n",
    "    fig, ax = plt.subplots(figsize=(15, 8))\n",
    "    \n",
    "    # 1. Автоматическое определение границ цикла --------------------------------------\n",
    "    available_points = []\n",
    "    for point in ['ECG_P_Onsets', 'ECG_Q_Peaks', 'ECG_R_Peaks', 'ECG_S_Peaks', 'ECG_T_Offsets']:\n",
    "        if point in cycle and len(cycle[point]) > 0:\n",
    "            available_points.append(int(cycle[point][0]))\n",
    "    \n",
    "    if not available_points:\n",
    "        print(f\"Цикл {cycle_num}: нет точек для отрисовки\")\n",
    "        return fig\n",
    "    \n",
    "    # Границы цикла (с запасом 10% по краям)\n",
    "    start = max(0, min(available_points) - int(0.1*fs))\n",
    "    end = min(len(signal), max(available_points) + int(0.1*fs))\n",
    "    \n",
    "    # 2. Отрисовка сигнала ----------------------------------------------------------\n",
    "    time = np.arange(start, end) / fs\n",
    "    ax.plot(time, signal[start:end], 'b-', linewidth=1.5, label='ЭКГ сигнал')\n",
    "    \n",
    "    # 3. Разметка точек (только существующие) ---------------------------------------\n",
    "    point_style = {\n",
    "        'ECG_P_Onsets': ('<', 'green', 'P начало'),\n",
    "        'ECG_P_Peaks': ('o', 'lime', 'P пик'),\n",
    "        'ECG_P_Offsets': ('>', 'darkgreen', 'P конец'),\n",
    "        'ECG_Q_Peaks': ('x', 'red', 'Q'),\n",
    "        'ECG_R_Peaks': ('o', 'black', 'R'),\n",
    "        'ECG_S_Peaks': ('x', 'blue', 'S'),\n",
    "        'ECG_T_Onsets': ('<', 'purple', 'T начало'),\n",
    "        'ECG_T_Peaks': ('o', 'magenta', 'T пик'),\n",
    "        'ECG_T_Offsets': ('>', 'darkviolet', 'T конец')\n",
    "    }\n",
    "    \n",
    "    for point, (marker, color, label) in point_style.items():\n",
    "        if point in cycle and len(cycle[point]) > 0:\n",
    "            x = cycle[point][0] / fs\n",
    "            y = signal[int(cycle[point][0])]\n",
    "            ax.plot(x, y, marker=marker, color=color, markersize=10, label=label)\n",
    "    \n",
    "    # 4. Отрисовка интервалов (только для существующих пар) -------------------------\n",
    "    def draw_interval_if_exists(start_point, end_point, y_pos, label):\n",
    "        if (start_point in cycle and len(cycle[start_point]) > 0 and \n",
    "            end_point in cycle and len(cycle[end_point]) > 0):\n",
    "            x1 = cycle[start_point][0] / fs\n",
    "            x2 = cycle[end_point][0] / fs\n",
    "            ax.add_patch(Rectangle((x1, y_pos), x2-x1, 0.1, alpha=0.3, color='gray'))\n",
    "            ax.text((x1+x2)/2, y_pos+0.15, f'{label}\\n{(x2-x1)*1000:.1f} мс', \n",
    "                    ha='center', va='bottom', fontsize=9, bbox=dict(facecolor='white', alpha=0.7))\n",
    "    \n",
    "    y_min = np.min(signal[start:end])\n",
    "    draw_interval_if_exists('ECG_P_Onsets', 'ECG_P_Offsets', y_min-0.3, 'P')\n",
    "    draw_interval_if_exists('ECG_Q_Peaks', 'ECG_S_Peaks', y_min-0.5, 'QRS')\n",
    "    draw_interval_if_exists('ECG_Q_Peaks', 'ECG_T_Offsets', y_min-0.7, 'QT')\n",
    "    \n",
    "    # 5. Настройка графика ----------------------------------------------------------\n",
    "    ax.set_xlabel('Время (с)', fontsize=12)\n",
    "    ax.set_ylabel('Амплитуда (мВ)', fontsize=12)\n",
    "    ax.set_title(f'Цикл {cycle_num}', fontsize=14)\n",
    "    ax.grid(True, linestyle='--', alpha=0.5)\n",
    "    \n",
    "    # Убираем дубликаты в легенде\n",
    "    handles, labels = ax.get_legend_handles_labels()\n",
    "    unique_labels = dict(zip(labels, handles))\n",
    "    ax.legend(unique_labels.values(), unique_labels.keys(), loc='upper right')\n",
    "    \n",
    "    plt.tight_layout()\n",
    "    return fig\n",
    "\n",
    "def plot_averaged_signal(avg_signal, before_r, after_r, fs):\n",
    "    if avg_signal is None:\n",
    "        print(\"Невозможно построить график: недостаточно данных\")\n",
    "        return\n",
    "    \n",
    "    fig, ax = plt.subplots(figsize=(14, 7))\n",
    "    \n",
    "    # 1. Временная ось (в мс относительно R-пика)\n",
    "    time = (np.arange(len(avg_signal)) - before_r) / fs * 1000  # мс\n",
    "    \n",
    "    # 2. Отрисовка сигнала\n",
    "    ax.plot(time, avg_signal, 'b-', linewidth=2, label='Усредненный ЭКГ')\n",
    "    \n",
    "    # 3. Разметка ключевых элементов\n",
    "    ax.axvline(x=0, color='r', linestyle='--', label='R-пик (0 мс)')\n",
    "    ax.axvline(x=-before_r, color='gray', linestyle=':', label=f'Начало окна (-{before_r/fs*1000:.0f} мс)')\n",
    "    ax.axvline(x=after_r, color='gray', linestyle=':', label=f'Конец окна (+{after_r/fs*1000:.0f} мс)')\n",
    "    \n",
    "    # 4. Настройка графика\n",
    "    ax.set_xlabel('Время относительно R-пика (мс)', fontsize=12)\n",
    "    ax.set_ylabel('Амплитуда (мВ)', fontsize=12)\n",
    "    ax.set_title(f'Усредненный PQRST комплекс (окно ±{before_r/fs*1000:.0f}/{after_r/fs*1000:.0f} мс)', fontsize=14)\n",
    "    ax.grid(True, linestyle='--', alpha=0.5)\n",
    "    ax.legend(loc='upper right')\n",
    "    \n",
    "    plt.tight_layout()\n",
    "    plt.show()\n",
    "\n",
    "def plot_averaged_ecg(signal, cycles, fs):\n",
    "    # 1. Подготовка данных для усреднения\n",
    "    r_peaks = [int(cycle['ECG_R_Peaks'][0]) for cycle in cycles if 'ECG_R_Peaks' in cycle]\n",
    "    if len(r_peaks) < 2:\n",
    "        print(\"Недостаточно циклов для усреднения\")\n",
    "        return\n",
    "    \n",
    "    before_r = int(0.2 * fs)  # 200 мс до R\n",
    "    after_r = int(0.5 * fs)   # 500 мс после R\n",
    "    segments = []\n",
    "    \n",
    "    for r in r_peaks:\n",
    "        start = max(0, r - before_r)\n",
    "        end = min(len(signal), r + after_r)\n",
    "        segment = signal[start:end]\n",
    "        \n",
    "        # Выравнивание по длине (если циклы у границ сигнала)\n",
    "        if len(segment) < (before_r + after_r):\n",
    "            pad_width = (before_r + after_r) - len(segment)\n",
    "            segment = np.pad(segment, (0, pad_width), mode='constant')\n",
    "        \n",
    "        segments.append(segment)\n",
    "    \n",
    "    # 3. Усреднение и построение\n",
    "    avg_signal = np.mean(segments, axis=0)\n",
    "    time = (np.arange(len(avg_signal)) / fs) - 0.2  # Время относительно R-пика\n",
    "    \n",
    "    fig, ax = plt.subplots(figsize=(12, 6))\n",
    "    ax.plot(time, avg_signal, 'b-', linewidth=2, label='Усредненный сигнал')\n",
    "    \n",
    "    # 4. Разметка характерных точек (медианные положения)\n",
    "    point_labels = {\n",
    "        'ECG_P_Peaks': ('P', 'green'),\n",
    "        'ECG_Q_Peaks': ('Q', 'red'),\n",
    "        'ECG_S_Peaks': ('S', 'blue'),\n",
    "        'ECG_T_Peaks': ('T', 'purple')\n",
    "    }\n",
    "    \n",
    "    for point_key, (label, color) in point_labels.items():\n",
    "        points = []\n",
    "        for cycle in cycles:\n",
    "            if point_key in cycle and len(cycle[point_key]) > 0:\n",
    "                points.append(cycle[point_key][0])\n",
    "        \n",
    "        if len(points) > 0:\n",
    "            median_pos = np.median(points) - r_peaks[0]  # Относительно первого R-пика\n",
    "            median_time = median_pos / fs\n",
    "            y_val = np.interp(median_pos, np.arange(len(avg_signal)), avg_signal)\n",
    "            ax.plot(median_time, y_val, 'o', color=color, markersize=8, label=label)\n",
    "    \n",
    "    # 5. Настройка графика\n",
    "    ax.axvline(x=0, color='black', linestyle='--', label='R-пик')\n",
    "    ax.set_xlabel('Время относительно R-пика (с)')\n",
    "    ax.set_ylabel('Амплитуда (мВ)')\n",
    "    ax.set_title(f'Усредненный PQRST комплекс (n={len(cycles)} циклов)')\n",
    "    ax.grid(True, linestyle='--', alpha=0.6)\n",
    "    ax.legend()\n",
    "    \n",
    "    plt.tight_layout()\n",
    "    plt.show()\n",
    "\"\"\""
   ]
  }
 ],
 "metadata": {
  "kernelspec": {
   "display_name": "venv_ecg",
   "language": "python",
   "name": "python3"
  },
  "language_info": {
   "codemirror_mode": {
    "name": "ipython",
    "version": 3
   },
   "file_extension": ".py",
   "mimetype": "text/x-python",
   "name": "python",
   "nbconvert_exporter": "python",
   "pygments_lexer": "ipython3",
   "version": "3.11.9"
  }
 },
 "nbformat": 4,
 "nbformat_minor": 5
}
