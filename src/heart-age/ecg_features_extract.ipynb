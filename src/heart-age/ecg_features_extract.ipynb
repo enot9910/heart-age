{
 "cells": [
  {
   "cell_type": "code",
   "execution_count": 1,
   "id": "58b14058",
   "metadata": {},
   "outputs": [],
   "source": [
    "%load_ext autoreload\n",
    "%autoreload 2\n",
    "from pathlib import Path\n",
    "from ecglib.data import load_ptb_xl\n",
    "from ecglib.data import EcgDataset\n",
    "import pandas as pd"
   ]
  },
  {
   "cell_type": "code",
   "execution_count": 2,
   "id": "1b3bf5e1",
   "metadata": {},
   "outputs": [],
   "source": [
    "import warnings\n",
    "import neurokit2 as nk\n",
    "from neurokit2 import NeuroKitWarning\n",
    "\n",
    "warnings.filterwarnings(\"ignore\") "
   ]
  },
  {
   "cell_type": "code",
   "execution_count": 3,
   "id": "354af49b",
   "metadata": {},
   "outputs": [],
   "source": [
    "from paths import data_dir"
   ]
  },
  {
   "cell_type": "code",
   "execution_count": 4,
   "id": "79ac5bdb",
   "metadata": {},
   "outputs": [],
   "source": [
    "from features_analysis.features_analysis import (\n",
    "    plot_features_vs_age,\n",
    "    calculate_age_correlations\n",
    ")\n",
    "from features_process import (\n",
    "    get_ecg_signals_features,\n",
    ")\n",
    "from subject_process import (\n",
    "    extract_subjects_info\n",
    ")\n",
    "from wave_process import get_waves_quality_stats"
   ]
  },
  {
   "cell_type": "code",
   "execution_count": 5,
   "id": "cfc3f845",
   "metadata": {},
   "outputs": [
    {
     "data": {
      "text/plain": [
       "(Path('C:/Users/lenovo/Desktop/sci/data/ecg'), True)"
      ]
     },
     "execution_count": 5,
     "metadata": {},
     "output_type": "execute_result"
    }
   ],
   "source": [
    "data_dir, data_dir.exists()"
   ]
  },
  {
   "cell_type": "code",
   "execution_count": 6,
   "id": "923eed3a",
   "metadata": {},
   "outputs": [],
   "source": [
    "dataset = 'ptb_xl'\n",
    "path_to_zip=data_dir / dataset\n",
    "frequency = 500\n",
    "\n",
    "channel_names = ['I', 'II', 'III', 'aVR', 'aVL', 'aVF', 'V1', 'V2', 'V3', 'V4', 'V5', 'V6']\n",
    "fs = 500"
   ]
  },
  {
   "cell_type": "markdown",
   "id": "b1e5d367",
   "metadata": {},
   "source": [
    "# Getting features"
   ]
  },
  {
   "cell_type": "markdown",
   "id": "5b9ef434",
   "metadata": {},
   "source": [
    "## signal"
   ]
  },
  {
   "cell_type": "code",
   "execution_count": null,
   "id": "021137fd",
   "metadata": {},
   "outputs": [
    {
     "name": "stdout",
     "output_type": "stream",
     "text": [
      "Found 18868 patient files\n",
      "C:\\Users\\lenovo\\Desktop\\sci\\data\\ecg\\ptb_xl\\ptb_xl_features_signal_deriv\\dwt C:\\Users\\lenovo\\Desktop\\sci\\data\\ecg\\ptb_xl\\ptb_xl_peaks\\dwt\n"
     ]
    },
    {
     "name": "stderr",
     "output_type": "stream",
     "text": [
      "Processing patients:   1%|          | 106/18868 [00:48<1:56:08,  2.69it/s]"
     ]
    },
    {
     "name": "stdout",
     "output_type": "stream",
     "text": [
      "Error in get_ecg_signal_features: integer division or modulo by zero\n"
     ]
    },
    {
     "name": "stderr",
     "output_type": "stream",
     "text": [
      "Processing patients:   1%|          | 122/18868 [00:55<2:36:03,  2.00it/s]"
     ]
    },
    {
     "name": "stdout",
     "output_type": "stream",
     "text": [
      "Error in get_ecg_signal_features: cannot convert float NaN to integer\n"
     ]
    },
    {
     "name": "stderr",
     "output_type": "stream",
     "text": [
      "Processing patients:   1%|          | 133/18868 [01:01<2:27:55,  2.11it/s]"
     ]
    },
    {
     "name": "stdout",
     "output_type": "stream",
     "text": [
      "Error in get_ecg_signal_features: cannot convert float NaN to integer\n"
     ]
    },
    {
     "name": "stderr",
     "output_type": "stream",
     "text": [
      "Processing patients:   1%|          | 136/18868 [01:02<2:38:50,  1.97it/s]"
     ]
    },
    {
     "name": "stdout",
     "output_type": "stream",
     "text": [
      "Error in get_ecg_signal_features: cannot convert float NaN to integer\n"
     ]
    },
    {
     "name": "stderr",
     "output_type": "stream",
     "text": [
      "Processing patients:   1%|          | 161/18868 [01:15<2:27:16,  2.12it/s]"
     ]
    },
    {
     "name": "stdout",
     "output_type": "stream",
     "text": [
      "Error in get_ecg_signal_features: integer division or modulo by zero\n"
     ]
    },
    {
     "name": "stderr",
     "output_type": "stream",
     "text": [
      "Processing patients:   1%|          | 166/18868 [01:17<2:20:52,  2.21it/s]"
     ]
    },
    {
     "name": "stdout",
     "output_type": "stream",
     "text": [
      "Error in get_ecg_signal_features: cannot convert float NaN to integer\n"
     ]
    },
    {
     "name": "stderr",
     "output_type": "stream",
     "text": [
      "Processing patients:   1%|          | 192/18868 [01:28<2:45:51,  1.88it/s]"
     ]
    },
    {
     "name": "stdout",
     "output_type": "stream",
     "text": [
      "Error in get_ecg_signal_features: cannot convert float NaN to integer\n"
     ]
    },
    {
     "name": "stderr",
     "output_type": "stream",
     "text": [
      "Processing patients:   1%|          | 201/18868 [01:33<2:31:19,  2.06it/s]"
     ]
    },
    {
     "name": "stdout",
     "output_type": "stream",
     "text": [
      "Error in get_ecg_signal_features: cannot convert float NaN to integer\n"
     ]
    },
    {
     "name": "stderr",
     "output_type": "stream",
     "text": [
      "Processing patients:   1%|          | 226/18868 [01:45<2:39:31,  1.95it/s]"
     ]
    },
    {
     "name": "stdout",
     "output_type": "stream",
     "text": [
      "Error in get_ecg_signal_features: cannot convert float NaN to integer\n"
     ]
    },
    {
     "name": "stderr",
     "output_type": "stream",
     "text": [
      "Processing patients:   1%|▏         | 281/18868 [02:11<2:35:49,  1.99it/s]"
     ]
    },
    {
     "name": "stdout",
     "output_type": "stream",
     "text": [
      "Error in get_ecg_signal_features: cannot convert float NaN to integer\n"
     ]
    },
    {
     "name": "stderr",
     "output_type": "stream",
     "text": [
      "Processing patients:   2%|▏         | 307/18868 [02:24<2:17:13,  2.25it/s]"
     ]
    },
    {
     "name": "stdout",
     "output_type": "stream",
     "text": [
      "Error in get_ecg_signal_features: integer division or modulo by zero\n"
     ]
    },
    {
     "name": "stderr",
     "output_type": "stream",
     "text": [
      "Processing patients:   2%|▏         | 317/18868 [02:28<2:20:37,  2.20it/s]"
     ]
    },
    {
     "name": "stdout",
     "output_type": "stream",
     "text": [
      "Error in get_ecg_signal_features: cannot convert float NaN to integer\n"
     ]
    },
    {
     "name": "stderr",
     "output_type": "stream",
     "text": [
      "Processing patients:   2%|▏         | 340/18868 [02:39<2:22:11,  2.17it/s]"
     ]
    },
    {
     "name": "stdout",
     "output_type": "stream",
     "text": [
      "Error in get_ecg_signal_features: cannot convert float NaN to integer\n"
     ]
    },
    {
     "name": "stderr",
     "output_type": "stream",
     "text": [
      "Processing patients:   3%|▎         | 485/18868 [03:50<2:21:00,  2.17it/s]"
     ]
    },
    {
     "name": "stdout",
     "output_type": "stream",
     "text": [
      "Error in get_ecg_signal_features: integer division or modulo by zero\n"
     ]
    },
    {
     "name": "stderr",
     "output_type": "stream",
     "text": [
      "Processing patients:   3%|▎         | 542/18868 [04:17<2:39:16,  1.92it/s]"
     ]
    },
    {
     "name": "stdout",
     "output_type": "stream",
     "text": [
      "Error in get_ecg_signal_features: cannot convert float NaN to integer\n"
     ]
    },
    {
     "name": "stderr",
     "output_type": "stream",
     "text": [
      "Processing patients:   3%|▎         | 543/18868 [04:18<2:40:05,  1.91it/s]"
     ]
    },
    {
     "name": "stdout",
     "output_type": "stream",
     "text": [
      "Error in get_ecg_signal_features: cannot convert float NaN to integer\n"
     ]
    },
    {
     "name": "stderr",
     "output_type": "stream",
     "text": [
      "Processing patients:   3%|▎         | 564/18868 [04:27<2:11:51,  2.31it/s]"
     ]
    },
    {
     "name": "stdout",
     "output_type": "stream",
     "text": [
      "Error in get_ecg_signal_features: integer division or modulo by zero\n"
     ]
    },
    {
     "name": "stderr",
     "output_type": "stream",
     "text": [
      "Processing patients:   3%|▎         | 609/18868 [04:49<2:25:41,  2.09it/s]"
     ]
    },
    {
     "name": "stdout",
     "output_type": "stream",
     "text": [
      "Error in get_ecg_signal_features: cannot convert float NaN to integer\n"
     ]
    },
    {
     "name": "stderr",
     "output_type": "stream",
     "text": [
      "Processing patients:   4%|▎         | 680/18868 [05:23<2:24:34,  2.10it/s]"
     ]
    },
    {
     "name": "stdout",
     "output_type": "stream",
     "text": [
      "Error in get_ecg_signal_features: cannot convert float NaN to integer\n"
     ]
    },
    {
     "name": "stderr",
     "output_type": "stream",
     "text": [
      "Processing patients:   4%|▎         | 684/18868 [05:25<2:33:19,  1.98it/s]"
     ]
    },
    {
     "name": "stdout",
     "output_type": "stream",
     "text": [
      "Error in get_ecg_signal_features: integer division or modulo by zero\n"
     ]
    },
    {
     "name": "stderr",
     "output_type": "stream",
     "text": [
      "Processing patients:   4%|▎         | 697/18868 [05:32<2:26:41,  2.06it/s]"
     ]
    }
   ],
   "source": [
    "get_ecg_signals_features(\n",
    "    processed_dir=path_to_zip/'ptb_xl_npz', \n",
    "    output_dir_features='ptb_xl_features_signal_deriv', method=\"dwt\", \n",
    "    #ptb_xl_features_signal_morphology ptb_xl_features_signal_hrv ptb_xl_features_signal_asymmetry ptb_xl_features_signal_angles  \n",
    "    avg_signal=False, show_plot=False, calc_waves_peak=False,\n",
    "    fs=fs, extractors=['derivative'] #extractors=['morphology', 'hrv', 'asymmetry', 'angles', 'derivative']  \n",
    ")"
   ]
  },
  {
   "cell_type": "markdown",
   "id": "58dc717e",
   "metadata": {},
   "source": [
    "## subjects info"
   ]
  },
  {
   "cell_type": "code",
   "execution_count": 11,
   "id": "f7576087",
   "metadata": {},
   "outputs": [
    {
     "name": "stderr",
     "output_type": "stream",
     "text": [
      "Extracting subject info: 100%|██████████| 18868/18868 [04:17<00:00, 73.24it/s]\n"
     ]
    },
    {
     "data": {
      "text/html": [
       "<div>\n",
       "<style scoped>\n",
       "    .dataframe tbody tr th:only-of-type {\n",
       "        vertical-align: middle;\n",
       "    }\n",
       "\n",
       "    .dataframe tbody tr th {\n",
       "        vertical-align: top;\n",
       "    }\n",
       "\n",
       "    .dataframe thead th {\n",
       "        text-align: right;\n",
       "    }\n",
       "</style>\n",
       "<table border=\"1\" class=\"dataframe\">\n",
       "  <thead>\n",
       "    <tr style=\"text-align: right;\">\n",
       "      <th></th>\n",
       "      <th>patient_id</th>\n",
       "      <th>target</th>\n",
       "      <th>file_name</th>\n",
       "      <th>age</th>\n",
       "      <th>sex</th>\n",
       "    </tr>\n",
       "  </thead>\n",
       "  <tbody>\n",
       "    <tr>\n",
       "      <th>0</th>\n",
       "      <td>1000</td>\n",
       "      <td>1.0</td>\n",
       "      <td>ecg_1000.npz</td>\n",
       "      <td>86</td>\n",
       "      <td>1</td>\n",
       "    </tr>\n",
       "    <tr>\n",
       "      <th>1</th>\n",
       "      <td>10000</td>\n",
       "      <td>1.0</td>\n",
       "      <td>ecg_10000.npz</td>\n",
       "      <td>51</td>\n",
       "      <td>0</td>\n",
       "    </tr>\n",
       "    <tr>\n",
       "      <th>2</th>\n",
       "      <td>10002</td>\n",
       "      <td>0.0</td>\n",
       "      <td>ecg_10002.npz</td>\n",
       "      <td>73</td>\n",
       "      <td>0</td>\n",
       "    </tr>\n",
       "    <tr>\n",
       "      <th>3</th>\n",
       "      <td>10003</td>\n",
       "      <td>1.0</td>\n",
       "      <td>ecg_10003.npz</td>\n",
       "      <td>63</td>\n",
       "      <td>0</td>\n",
       "    </tr>\n",
       "    <tr>\n",
       "      <th>4</th>\n",
       "      <td>10005</td>\n",
       "      <td>0.0</td>\n",
       "      <td>ecg_10005.npz</td>\n",
       "      <td>76</td>\n",
       "      <td>1</td>\n",
       "    </tr>\n",
       "    <tr>\n",
       "      <th>...</th>\n",
       "      <td>...</td>\n",
       "      <td>...</td>\n",
       "      <td>...</td>\n",
       "      <td>...</td>\n",
       "      <td>...</td>\n",
       "    </tr>\n",
       "    <tr>\n",
       "      <th>18863</th>\n",
       "      <td>9995</td>\n",
       "      <td>1.0</td>\n",
       "      <td>ecg_9995.npz</td>\n",
       "      <td>59</td>\n",
       "      <td>0</td>\n",
       "    </tr>\n",
       "    <tr>\n",
       "      <th>18864</th>\n",
       "      <td>9996</td>\n",
       "      <td>1.0</td>\n",
       "      <td>ecg_9996.npz</td>\n",
       "      <td>16</td>\n",
       "      <td>1</td>\n",
       "    </tr>\n",
       "    <tr>\n",
       "      <th>18865</th>\n",
       "      <td>9997</td>\n",
       "      <td>1.0</td>\n",
       "      <td>ecg_9997.npz</td>\n",
       "      <td>57</td>\n",
       "      <td>1</td>\n",
       "    </tr>\n",
       "    <tr>\n",
       "      <th>18866</th>\n",
       "      <td>9998</td>\n",
       "      <td>0.0</td>\n",
       "      <td>ecg_9998.npz</td>\n",
       "      <td>87</td>\n",
       "      <td>0</td>\n",
       "    </tr>\n",
       "    <tr>\n",
       "      <th>18867</th>\n",
       "      <td>9999</td>\n",
       "      <td>1.0</td>\n",
       "      <td>ecg_9999.npz</td>\n",
       "      <td>65</td>\n",
       "      <td>0</td>\n",
       "    </tr>\n",
       "  </tbody>\n",
       "</table>\n",
       "<p>18868 rows × 5 columns</p>\n",
       "</div>"
      ],
      "text/plain": [
       "      patient_id target      file_name age sex\n",
       "0           1000    1.0   ecg_1000.npz  86   1\n",
       "1          10000    1.0  ecg_10000.npz  51   0\n",
       "2          10002    0.0  ecg_10002.npz  73   0\n",
       "3          10003    1.0  ecg_10003.npz  63   0\n",
       "4          10005    0.0  ecg_10005.npz  76   1\n",
       "...          ...    ...            ...  ..  ..\n",
       "18863       9995    1.0   ecg_9995.npz  59   0\n",
       "18864       9996    1.0   ecg_9996.npz  16   1\n",
       "18865       9997    1.0   ecg_9997.npz  57   1\n",
       "18866       9998    0.0   ecg_9998.npz  87   0\n",
       "18867       9999    1.0   ecg_9999.npz  65   0\n",
       "\n",
       "[18868 rows x 5 columns]"
      ]
     },
     "execution_count": 11,
     "metadata": {},
     "output_type": "execute_result"
    }
   ],
   "source": [
    "extract_subjects_info(processed_dir=path_to_zip/'ptb_xl_npz', npz_files=None)"
   ]
  },
  {
   "cell_type": "markdown",
   "id": "30824156",
   "metadata": {},
   "source": [
    "## wave peaks"
   ]
  },
  {
   "cell_type": "code",
   "execution_count": 24,
   "id": "8b334108",
   "metadata": {},
   "outputs": [
    {
     "name": "stderr",
     "output_type": "stream",
     "text": [
      "Analyzing waves quality: 100%|██████████| 18204/18204 [01:22<00:00, 219.67it/s]\n"
     ]
    }
   ],
   "source": [
    "info_wave_peaks = get_waves_quality_stats(processed_dir=path_to_zip)"
   ]
  },
  {
   "cell_type": "code",
   "execution_count": 26,
   "id": "c1c87f9b",
   "metadata": {},
   "outputs": [
    {
     "data": {
      "text/plain": [
       "I_total_r_peaks             18204\n",
       "I_ECG_P_Onsets_missing       3026\n",
       "I_ECG_P_Peaks_missing        1612\n",
       "I_ECG_P_Offsets_missing      1616\n",
       "I_ECG_R_Onsets_missing      18204\n",
       "                            ...  \n",
       "V6_ECG_R_Offsets_missing     9875\n",
       "V6_ECG_T_Onsets_missing      7719\n",
       "V6_ECG_T_Peaks_missing       7533\n",
       "V6_ECG_T_Offsets_missing     9052\n",
       "patient_id                  18204\n",
       "Length: 145, dtype: int64"
      ]
     },
     "execution_count": 26,
     "metadata": {},
     "output_type": "execute_result"
    }
   ],
   "source": [
    "nonzero_counts = info_wave_peaks.ne(0).sum()\n",
    "nonzero_counts"
   ]
  },
  {
   "cell_type": "markdown",
   "id": "2a98e846",
   "metadata": {},
   "source": [
    "# Reading features"
   ]
  },
  {
   "cell_type": "code",
   "execution_count": 34,
   "id": "ae84dd05",
   "metadata": {},
   "outputs": [],
   "source": [
    "ptb_xl_features = pd.read_parquet(path_to_zip / 'ptb_xl_features_signal_morphology')"
   ]
  },
  {
   "cell_type": "code",
   "execution_count": null,
   "id": "ad29e927",
   "metadata": {},
   "outputs": [],
   "source": [
    "#ptb_xl_features = pd.read_parquet(path_to_zip / 'ptb_xl_features')"
   ]
  },
  {
   "cell_type": "code",
   "execution_count": 35,
   "id": "79646182",
   "metadata": {},
   "outputs": [],
   "source": [
    "low_ptb_xl_features = ptb_xl_features.dropna(axis=1, how='all')#.iloc[:200]"
   ]
  },
  {
   "cell_type": "code",
   "execution_count": 37,
   "id": "d6e2ef0a",
   "metadata": {},
   "outputs": [
    {
     "data": {
      "text/html": [
       "<div>\n",
       "<style scoped>\n",
       "    .dataframe tbody tr th:only-of-type {\n",
       "        vertical-align: middle;\n",
       "    }\n",
       "\n",
       "    .dataframe tbody tr th {\n",
       "        vertical-align: top;\n",
       "    }\n",
       "\n",
       "    .dataframe thead th {\n",
       "        text-align: right;\n",
       "    }\n",
       "</style>\n",
       "<table border=\"1\" class=\"dataframe\">\n",
       "  <thead>\n",
       "    <tr style=\"text-align: right;\">\n",
       "      <th></th>\n",
       "      <th>patient_id</th>\n",
       "      <th>target</th>\n",
       "      <th>file_name</th>\n",
       "      <th>age</th>\n",
       "      <th>sex</th>\n",
       "      <th>ECG_P_Onsets_amplitude_median_I</th>\n",
       "      <th>ECG_P_Onsets_amplitude_mean_I</th>\n",
       "      <th>ECG_P_Onsets_amplitude_std_I</th>\n",
       "      <th>ECG_P_Onsets_amplitude_q25_I</th>\n",
       "      <th>ECG_P_Onsets_amplitude_q75_I</th>\n",
       "      <th>...</th>\n",
       "      <th>T_area_corrected_q75_V6</th>\n",
       "      <th>T_area_corrected_min_V6</th>\n",
       "      <th>T_area_corrected_max_V6</th>\n",
       "      <th>T_QRS_ratio_median_V6</th>\n",
       "      <th>T_QRS_ratio_mean_V6</th>\n",
       "      <th>T_QRS_ratio_std_V6</th>\n",
       "      <th>T_QRS_ratio_q25_V6</th>\n",
       "      <th>T_QRS_ratio_q75_V6</th>\n",
       "      <th>T_QRS_ratio_min_V6</th>\n",
       "      <th>T_QRS_ratio_max_V6</th>\n",
       "    </tr>\n",
       "  </thead>\n",
       "  <tbody>\n",
       "    <tr>\n",
       "      <th>0</th>\n",
       "      <td>20449</td>\n",
       "      <td>0.0</td>\n",
       "      <td>ecg_20449.npz</td>\n",
       "      <td>300</td>\n",
       "      <td>1</td>\n",
       "      <td>-0.376177</td>\n",
       "      <td>-0.388651</td>\n",
       "      <td>0.158087</td>\n",
       "      <td>-0.479782</td>\n",
       "      <td>-0.303636</td>\n",
       "      <td>...</td>\n",
       "      <td>NaN</td>\n",
       "      <td>NaN</td>\n",
       "      <td>NaN</td>\n",
       "      <td>NaN</td>\n",
       "      <td>NaN</td>\n",
       "      <td>NaN</td>\n",
       "      <td>NaN</td>\n",
       "      <td>NaN</td>\n",
       "      <td>NaN</td>\n",
       "      <td>NaN</td>\n",
       "    </tr>\n",
       "    <tr>\n",
       "      <th>1</th>\n",
       "      <td>2045</td>\n",
       "      <td>1.0</td>\n",
       "      <td>ecg_2045.npz</td>\n",
       "      <td>70</td>\n",
       "      <td>1</td>\n",
       "      <td>-0.274322</td>\n",
       "      <td>-0.317769</td>\n",
       "      <td>0.202480</td>\n",
       "      <td>-0.372930</td>\n",
       "      <td>-0.178484</td>\n",
       "      <td>...</td>\n",
       "      <td>0.139542</td>\n",
       "      <td>0.090375</td>\n",
       "      <td>0.150349</td>\n",
       "      <td>0.825354</td>\n",
       "      <td>0.995727</td>\n",
       "      <td>0.265568</td>\n",
       "      <td>0.798648</td>\n",
       "      <td>1.156839</td>\n",
       "      <td>0.754280</td>\n",
       "      <td>1.443513</td>\n",
       "    </tr>\n",
       "    <tr>\n",
       "      <th>2</th>\n",
       "      <td>20450</td>\n",
       "      <td>1.0</td>\n",
       "      <td>ecg_20450.npz</td>\n",
       "      <td>52</td>\n",
       "      <td>0</td>\n",
       "      <td>-0.252849</td>\n",
       "      <td>-0.361511</td>\n",
       "      <td>0.203665</td>\n",
       "      <td>-0.468281</td>\n",
       "      <td>-0.232139</td>\n",
       "      <td>...</td>\n",
       "      <td>NaN</td>\n",
       "      <td>NaN</td>\n",
       "      <td>NaN</td>\n",
       "      <td>NaN</td>\n",
       "      <td>NaN</td>\n",
       "      <td>NaN</td>\n",
       "      <td>NaN</td>\n",
       "      <td>NaN</td>\n",
       "      <td>NaN</td>\n",
       "      <td>NaN</td>\n",
       "    </tr>\n",
       "    <tr>\n",
       "      <th>3</th>\n",
       "      <td>20451</td>\n",
       "      <td>1.0</td>\n",
       "      <td>ecg_20451.npz</td>\n",
       "      <td>47</td>\n",
       "      <td>0</td>\n",
       "      <td>0.003318</td>\n",
       "      <td>0.005367</td>\n",
       "      <td>0.258168</td>\n",
       "      <td>-0.061164</td>\n",
       "      <td>0.089897</td>\n",
       "      <td>...</td>\n",
       "      <td>0.134529</td>\n",
       "      <td>0.106613</td>\n",
       "      <td>0.177308</td>\n",
       "      <td>1.200154</td>\n",
       "      <td>1.285011</td>\n",
       "      <td>0.209492</td>\n",
       "      <td>1.188469</td>\n",
       "      <td>1.422964</td>\n",
       "      <td>1.004295</td>\n",
       "      <td>1.609174</td>\n",
       "    </tr>\n",
       "    <tr>\n",
       "      <th>4</th>\n",
       "      <td>20451</td>\n",
       "      <td>1.0</td>\n",
       "      <td>ecg_20451.npz</td>\n",
       "      <td>47</td>\n",
       "      <td>0</td>\n",
       "      <td>0.003318</td>\n",
       "      <td>0.005367</td>\n",
       "      <td>0.258168</td>\n",
       "      <td>-0.061164</td>\n",
       "      <td>0.089897</td>\n",
       "      <td>...</td>\n",
       "      <td>0.134529</td>\n",
       "      <td>0.106613</td>\n",
       "      <td>0.177308</td>\n",
       "      <td>1.200154</td>\n",
       "      <td>1.285011</td>\n",
       "      <td>0.209492</td>\n",
       "      <td>1.188469</td>\n",
       "      <td>1.422964</td>\n",
       "      <td>1.004295</td>\n",
       "      <td>1.609174</td>\n",
       "    </tr>\n",
       "    <tr>\n",
       "      <th>...</th>\n",
       "      <td>...</td>\n",
       "      <td>...</td>\n",
       "      <td>...</td>\n",
       "      <td>...</td>\n",
       "      <td>...</td>\n",
       "      <td>...</td>\n",
       "      <td>...</td>\n",
       "      <td>...</td>\n",
       "      <td>...</td>\n",
       "      <td>...</td>\n",
       "      <td>...</td>\n",
       "      <td>...</td>\n",
       "      <td>...</td>\n",
       "      <td>...</td>\n",
       "      <td>...</td>\n",
       "      <td>...</td>\n",
       "      <td>...</td>\n",
       "      <td>...</td>\n",
       "      <td>...</td>\n",
       "      <td>...</td>\n",
       "      <td>...</td>\n",
       "    </tr>\n",
       "    <tr>\n",
       "      <th>18863</th>\n",
       "      <td>20443</td>\n",
       "      <td>1.0</td>\n",
       "      <td>ecg_20443.npz</td>\n",
       "      <td>50</td>\n",
       "      <td>1</td>\n",
       "      <td>-0.248135</td>\n",
       "      <td>-0.224311</td>\n",
       "      <td>0.157821</td>\n",
       "      <td>-0.376982</td>\n",
       "      <td>-0.085447</td>\n",
       "      <td>...</td>\n",
       "      <td>0.066007</td>\n",
       "      <td>0.043937</td>\n",
       "      <td>0.084954</td>\n",
       "      <td>0.485576</td>\n",
       "      <td>0.494633</td>\n",
       "      <td>0.086981</td>\n",
       "      <td>0.446233</td>\n",
       "      <td>0.542887</td>\n",
       "      <td>0.359024</td>\n",
       "      <td>0.633858</td>\n",
       "    </tr>\n",
       "    <tr>\n",
       "      <th>18864</th>\n",
       "      <td>20444</td>\n",
       "      <td>1.0</td>\n",
       "      <td>ecg_20444.npz</td>\n",
       "      <td>69</td>\n",
       "      <td>1</td>\n",
       "      <td>-0.117161</td>\n",
       "      <td>-0.121254</td>\n",
       "      <td>0.177196</td>\n",
       "      <td>-0.197125</td>\n",
       "      <td>0.041040</td>\n",
       "      <td>...</td>\n",
       "      <td>NaN</td>\n",
       "      <td>NaN</td>\n",
       "      <td>NaN</td>\n",
       "      <td>NaN</td>\n",
       "      <td>NaN</td>\n",
       "      <td>NaN</td>\n",
       "      <td>NaN</td>\n",
       "      <td>NaN</td>\n",
       "      <td>NaN</td>\n",
       "      <td>NaN</td>\n",
       "    </tr>\n",
       "    <tr>\n",
       "      <th>18865</th>\n",
       "      <td>20445</td>\n",
       "      <td>1.0</td>\n",
       "      <td>ecg_20445.npz</td>\n",
       "      <td>67</td>\n",
       "      <td>0</td>\n",
       "      <td>-0.047576</td>\n",
       "      <td>0.003549</td>\n",
       "      <td>0.203032</td>\n",
       "      <td>-0.109423</td>\n",
       "      <td>0.171465</td>\n",
       "      <td>...</td>\n",
       "      <td>0.009414</td>\n",
       "      <td>0.009414</td>\n",
       "      <td>0.009414</td>\n",
       "      <td>0.121215</td>\n",
       "      <td>0.121215</td>\n",
       "      <td>0.000000</td>\n",
       "      <td>0.121215</td>\n",
       "      <td>0.121215</td>\n",
       "      <td>0.121215</td>\n",
       "      <td>0.121215</td>\n",
       "    </tr>\n",
       "    <tr>\n",
       "      <th>18866</th>\n",
       "      <td>20446</td>\n",
       "      <td>1.0</td>\n",
       "      <td>ecg_20446.npz</td>\n",
       "      <td>50</td>\n",
       "      <td>1</td>\n",
       "      <td>-0.107781</td>\n",
       "      <td>-0.065668</td>\n",
       "      <td>0.214361</td>\n",
       "      <td>-0.156220</td>\n",
       "      <td>-0.017808</td>\n",
       "      <td>...</td>\n",
       "      <td>NaN</td>\n",
       "      <td>NaN</td>\n",
       "      <td>NaN</td>\n",
       "      <td>NaN</td>\n",
       "      <td>NaN</td>\n",
       "      <td>NaN</td>\n",
       "      <td>NaN</td>\n",
       "      <td>NaN</td>\n",
       "      <td>NaN</td>\n",
       "      <td>NaN</td>\n",
       "    </tr>\n",
       "    <tr>\n",
       "      <th>18867</th>\n",
       "      <td>20447</td>\n",
       "      <td>1.0</td>\n",
       "      <td>ecg_20447.npz</td>\n",
       "      <td>76</td>\n",
       "      <td>0</td>\n",
       "      <td>-0.350970</td>\n",
       "      <td>-0.309960</td>\n",
       "      <td>0.354854</td>\n",
       "      <td>-0.484179</td>\n",
       "      <td>-0.090830</td>\n",
       "      <td>...</td>\n",
       "      <td>0.116411</td>\n",
       "      <td>0.087229</td>\n",
       "      <td>0.123476</td>\n",
       "      <td>0.755443</td>\n",
       "      <td>2.432426</td>\n",
       "      <td>2.979238</td>\n",
       "      <td>0.715199</td>\n",
       "      <td>2.472670</td>\n",
       "      <td>0.627015</td>\n",
       "      <td>7.591802</td>\n",
       "    </tr>\n",
       "  </tbody>\n",
       "</table>\n",
       "<p>18868 rows × 11765 columns</p>\n",
       "</div>"
      ],
      "text/plain": [
       "       patient_id  target      file_name  age  sex  \\\n",
       "0           20449     0.0  ecg_20449.npz  300    1   \n",
       "1            2045     1.0   ecg_2045.npz   70    1   \n",
       "2           20450     1.0  ecg_20450.npz   52    0   \n",
       "3           20451     1.0  ecg_20451.npz   47    0   \n",
       "4           20451     1.0  ecg_20451.npz   47    0   \n",
       "...           ...     ...            ...  ...  ...   \n",
       "18863       20443     1.0  ecg_20443.npz   50    1   \n",
       "18864       20444     1.0  ecg_20444.npz   69    1   \n",
       "18865       20445     1.0  ecg_20445.npz   67    0   \n",
       "18866       20446     1.0  ecg_20446.npz   50    1   \n",
       "18867       20447     1.0  ecg_20447.npz   76    0   \n",
       "\n",
       "       ECG_P_Onsets_amplitude_median_I  ECG_P_Onsets_amplitude_mean_I  \\\n",
       "0                            -0.376177                      -0.388651   \n",
       "1                            -0.274322                      -0.317769   \n",
       "2                            -0.252849                      -0.361511   \n",
       "3                             0.003318                       0.005367   \n",
       "4                             0.003318                       0.005367   \n",
       "...                                ...                            ...   \n",
       "18863                        -0.248135                      -0.224311   \n",
       "18864                        -0.117161                      -0.121254   \n",
       "18865                        -0.047576                       0.003549   \n",
       "18866                        -0.107781                      -0.065668   \n",
       "18867                        -0.350970                      -0.309960   \n",
       "\n",
       "       ECG_P_Onsets_amplitude_std_I  ECG_P_Onsets_amplitude_q25_I  \\\n",
       "0                          0.158087                     -0.479782   \n",
       "1                          0.202480                     -0.372930   \n",
       "2                          0.203665                     -0.468281   \n",
       "3                          0.258168                     -0.061164   \n",
       "4                          0.258168                     -0.061164   \n",
       "...                             ...                           ...   \n",
       "18863                      0.157821                     -0.376982   \n",
       "18864                      0.177196                     -0.197125   \n",
       "18865                      0.203032                     -0.109423   \n",
       "18866                      0.214361                     -0.156220   \n",
       "18867                      0.354854                     -0.484179   \n",
       "\n",
       "       ECG_P_Onsets_amplitude_q75_I  ...  T_area_corrected_q75_V6  \\\n",
       "0                         -0.303636  ...                      NaN   \n",
       "1                         -0.178484  ...                 0.139542   \n",
       "2                         -0.232139  ...                      NaN   \n",
       "3                          0.089897  ...                 0.134529   \n",
       "4                          0.089897  ...                 0.134529   \n",
       "...                             ...  ...                      ...   \n",
       "18863                     -0.085447  ...                 0.066007   \n",
       "18864                      0.041040  ...                      NaN   \n",
       "18865                      0.171465  ...                 0.009414   \n",
       "18866                     -0.017808  ...                      NaN   \n",
       "18867                     -0.090830  ...                 0.116411   \n",
       "\n",
       "       T_area_corrected_min_V6  T_area_corrected_max_V6  \\\n",
       "0                          NaN                      NaN   \n",
       "1                     0.090375                 0.150349   \n",
       "2                          NaN                      NaN   \n",
       "3                     0.106613                 0.177308   \n",
       "4                     0.106613                 0.177308   \n",
       "...                        ...                      ...   \n",
       "18863                 0.043937                 0.084954   \n",
       "18864                      NaN                      NaN   \n",
       "18865                 0.009414                 0.009414   \n",
       "18866                      NaN                      NaN   \n",
       "18867                 0.087229                 0.123476   \n",
       "\n",
       "       T_QRS_ratio_median_V6  T_QRS_ratio_mean_V6  T_QRS_ratio_std_V6  \\\n",
       "0                        NaN                  NaN                 NaN   \n",
       "1                   0.825354             0.995727            0.265568   \n",
       "2                        NaN                  NaN                 NaN   \n",
       "3                   1.200154             1.285011            0.209492   \n",
       "4                   1.200154             1.285011            0.209492   \n",
       "...                      ...                  ...                 ...   \n",
       "18863               0.485576             0.494633            0.086981   \n",
       "18864                    NaN                  NaN                 NaN   \n",
       "18865               0.121215             0.121215            0.000000   \n",
       "18866                    NaN                  NaN                 NaN   \n",
       "18867               0.755443             2.432426            2.979238   \n",
       "\n",
       "       T_QRS_ratio_q25_V6  T_QRS_ratio_q75_V6  T_QRS_ratio_min_V6  \\\n",
       "0                     NaN                 NaN                 NaN   \n",
       "1                0.798648            1.156839            0.754280   \n",
       "2                     NaN                 NaN                 NaN   \n",
       "3                1.188469            1.422964            1.004295   \n",
       "4                1.188469            1.422964            1.004295   \n",
       "...                   ...                 ...                 ...   \n",
       "18863            0.446233            0.542887            0.359024   \n",
       "18864                 NaN                 NaN                 NaN   \n",
       "18865            0.121215            0.121215            0.121215   \n",
       "18866                 NaN                 NaN                 NaN   \n",
       "18867            0.715199            2.472670            0.627015   \n",
       "\n",
       "       T_QRS_ratio_max_V6  \n",
       "0                     NaN  \n",
       "1                1.443513  \n",
       "2                     NaN  \n",
       "3                1.609174  \n",
       "4                1.609174  \n",
       "...                   ...  \n",
       "18863            0.633858  \n",
       "18864                 NaN  \n",
       "18865            0.121215  \n",
       "18866                 NaN  \n",
       "18867            7.591802  \n",
       "\n",
       "[18868 rows x 11765 columns]"
      ]
     },
     "execution_count": 37,
     "metadata": {},
     "output_type": "execute_result"
    }
   ],
   "source": [
    "low_ptb_xl_features.dropna(axis=1, how='all')"
   ]
  },
  {
   "cell_type": "code",
   "execution_count": null,
   "id": "d5e90ada",
   "metadata": {},
   "outputs": [],
   "source": []
  },
  {
   "cell_type": "code",
   "execution_count": null,
   "id": "a0379fca",
   "metadata": {},
   "outputs": [
    {
     "data": {
      "text/plain": [
       "'\\ndef plot_ecg_cycle_with_features(cycle, signal, fs, cycle_num=0):\\n    fig, ax = plt.subplots(figsize=(15, 8))\\n\\n    # 1. Автоматическое определение границ цикла --------------------------------------\\n    available_points = []\\n    for point in [\\'ECG_P_Onsets\\', \\'ECG_Q_Peaks\\', \\'ECG_R_Peaks\\', \\'ECG_S_Peaks\\', \\'ECG_T_Offsets\\']:\\n        if point in cycle and len(cycle[point]) > 0:\\n            available_points.append(int(cycle[point][0]))\\n\\n    if not available_points:\\n        print(f\"Цикл {cycle_num}: нет точек для отрисовки\")\\n        return fig\\n\\n    # Границы цикла (с запасом 10% по краям)\\n    start = max(0, min(available_points) - int(0.1*fs))\\n    end = min(len(signal), max(available_points) + int(0.1*fs))\\n\\n    # 2. Отрисовка сигнала ----------------------------------------------------------\\n    time = np.arange(start, end) / fs\\n    ax.plot(time, signal[start:end], \\'b-\\', linewidth=1.5, label=\\'ЭКГ сигнал\\')\\n\\n    # 3. Разметка точек (только существующие) ---------------------------------------\\n    point_style = {\\n        \\'ECG_P_Onsets\\': (\\'<\\', \\'green\\', \\'P начало\\'),\\n        \\'ECG_P_Peaks\\': (\\'o\\', \\'lime\\', \\'P пик\\'),\\n        \\'ECG_P_Offsets\\': (\\'>\\', \\'darkgreen\\', \\'P конец\\'),\\n        \\'ECG_Q_Peaks\\': (\\'x\\', \\'red\\', \\'Q\\'),\\n        \\'ECG_R_Peaks\\': (\\'o\\', \\'black\\', \\'R\\'),\\n        \\'ECG_S_Peaks\\': (\\'x\\', \\'blue\\', \\'S\\'),\\n        \\'ECG_T_Onsets\\': (\\'<\\', \\'purple\\', \\'T начало\\'),\\n        \\'ECG_T_Peaks\\': (\\'o\\', \\'magenta\\', \\'T пик\\'),\\n        \\'ECG_T_Offsets\\': (\\'>\\', \\'darkviolet\\', \\'T конец\\')\\n    }\\n\\n    for point, (marker, color, label) in point_style.items():\\n        if point in cycle and len(cycle[point]) > 0:\\n            x = cycle[point][0] / fs\\n            y = signal[int(cycle[point][0])]\\n            ax.plot(x, y, marker=marker, color=color, markersize=10, label=label)\\n\\n    # 4. Отрисовка интервалов (только для существующих пар) -------------------------\\n    def draw_interval_if_exists(start_point, end_point, y_pos, label):\\n        if (start_point in cycle and len(cycle[start_point]) > 0 and \\n            end_point in cycle and len(cycle[end_point]) > 0):\\n            x1 = cycle[start_point][0] / fs\\n            x2 = cycle[end_point][0] / fs\\n            ax.add_patch(Rectangle((x1, y_pos), x2-x1, 0.1, alpha=0.3, color=\\'gray\\'))\\n            ax.text((x1+x2)/2, y_pos+0.15, f\\'{label}\\n{(x2-x1)*1000:.1f} мс\\', \\n                    ha=\\'center\\', va=\\'bottom\\', fontsize=9, bbox=dict(facecolor=\\'white\\', alpha=0.7))\\n\\n    y_min = np.min(signal[start:end])\\n    draw_interval_if_exists(\\'ECG_P_Onsets\\', \\'ECG_P_Offsets\\', y_min-0.3, \\'P\\')\\n    draw_interval_if_exists(\\'ECG_Q_Peaks\\', \\'ECG_S_Peaks\\', y_min-0.5, \\'QRS\\')\\n    draw_interval_if_exists(\\'ECG_Q_Peaks\\', \\'ECG_T_Offsets\\', y_min-0.7, \\'QT\\')\\n\\n    # 5. Настройка графика ----------------------------------------------------------\\n    ax.set_xlabel(\\'Время (с)\\', fontsize=12)\\n    ax.set_ylabel(\\'Амплитуда (мВ)\\', fontsize=12)\\n    ax.set_title(f\\'Цикл {cycle_num}\\', fontsize=14)\\n    ax.grid(True, linestyle=\\'--\\', alpha=0.5)\\n\\n    # Убираем дубликаты в легенде\\n    handles, labels = ax.get_legend_handles_labels()\\n    unique_labels = dict(zip(labels, handles))\\n    ax.legend(unique_labels.values(), unique_labels.keys(), loc=\\'upper right\\')\\n\\n    plt.tight_layout()\\n    return fig\\n\\ndef plot_averaged_signal(avg_signal, before_r, after_r, fs):\\n    if avg_signal is None:\\n        print(\"Невозможно построить график: недостаточно данных\")\\n        return\\n\\n    fig, ax = plt.subplots(figsize=(14, 7))\\n\\n    # 1. Временная ось (в мс относительно R-пика)\\n    time = (np.arange(len(avg_signal)) - before_r) / fs * 1000  # мс\\n\\n    # 2. Отрисовка сигнала\\n    ax.plot(time, avg_signal, \\'b-\\', linewidth=2, label=\\'Усредненный ЭКГ\\')\\n\\n    # 3. Разметка ключевых элементов\\n    ax.axvline(x=0, color=\\'r\\', linestyle=\\'--\\', label=\\'R-пик (0 мс)\\')\\n    ax.axvline(x=-before_r, color=\\'gray\\', linestyle=\\':\\', label=f\\'Начало окна (-{before_r/fs*1000:.0f} мс)\\')\\n    ax.axvline(x=after_r, color=\\'gray\\', linestyle=\\':\\', label=f\\'Конец окна (+{after_r/fs*1000:.0f} мс)\\')\\n\\n    # 4. Настройка графика\\n    ax.set_xlabel(\\'Время относительно R-пика (мс)\\', fontsize=12)\\n    ax.set_ylabel(\\'Амплитуда (мВ)\\', fontsize=12)\\n    ax.set_title(f\\'Усредненный PQRST комплекс (окно ±{before_r/fs*1000:.0f}/{after_r/fs*1000:.0f} мс)\\', fontsize=14)\\n    ax.grid(True, linestyle=\\'--\\', alpha=0.5)\\n    ax.legend(loc=\\'upper right\\')\\n\\n    plt.tight_layout()\\n    plt.show()\\n\\ndef plot_averaged_ecg(signal, cycles, fs):\\n    # 1. Подготовка данных для усреднения\\n    r_peaks = [int(cycle[\\'ECG_R_Peaks\\'][0]) for cycle in cycles if \\'ECG_R_Peaks\\' in cycle]\\n    if len(r_peaks) < 2:\\n        print(\"Недостаточно циклов для усреднения\")\\n        return\\n\\n    before_r = int(0.2 * fs)  # 200 мс до R\\n    after_r = int(0.5 * fs)   # 500 мс после R\\n    segments = []\\n\\n    for r in r_peaks:\\n        start = max(0, r - before_r)\\n        end = min(len(signal), r + after_r)\\n        segment = signal[start:end]\\n\\n        # Выравнивание по длине (если циклы у границ сигнала)\\n        if len(segment) < (before_r + after_r):\\n            pad_width = (before_r + after_r) - len(segment)\\n            segment = np.pad(segment, (0, pad_width), mode=\\'constant\\')\\n\\n        segments.append(segment)\\n\\n    # 3. Усреднение и построение\\n    avg_signal = np.mean(segments, axis=0)\\n    time = (np.arange(len(avg_signal)) / fs) - 0.2  # Время относительно R-пика\\n\\n    fig, ax = plt.subplots(figsize=(12, 6))\\n    ax.plot(time, avg_signal, \\'b-\\', linewidth=2, label=\\'Усредненный сигнал\\')\\n\\n    # 4. Разметка характерных точек (медианные положения)\\n    point_labels = {\\n        \\'ECG_P_Peaks\\': (\\'P\\', \\'green\\'),\\n        \\'ECG_Q_Peaks\\': (\\'Q\\', \\'red\\'),\\n        \\'ECG_S_Peaks\\': (\\'S\\', \\'blue\\'),\\n        \\'ECG_T_Peaks\\': (\\'T\\', \\'purple\\')\\n    }\\n\\n    for point_key, (label, color) in point_labels.items():\\n        points = []\\n        for cycle in cycles:\\n            if point_key in cycle and len(cycle[point_key]) > 0:\\n                points.append(cycle[point_key][0])\\n\\n        if len(points) > 0:\\n            median_pos = np.median(points) - r_peaks[0]  # Относительно первого R-пика\\n            median_time = median_pos / fs\\n            y_val = np.interp(median_pos, np.arange(len(avg_signal)), avg_signal)\\n            ax.plot(median_time, y_val, \\'o\\', color=color, markersize=8, label=label)\\n\\n    # 5. Настройка графика\\n    ax.axvline(x=0, color=\\'black\\', linestyle=\\'--\\', label=\\'R-пик\\')\\n    ax.set_xlabel(\\'Время относительно R-пика (с)\\')\\n    ax.set_ylabel(\\'Амплитуда (мВ)\\')\\n    ax.set_title(f\\'Усредненный PQRST комплекс (n={len(cycles)} циклов)\\')\\n    ax.grid(True, linestyle=\\'--\\', alpha=0.6)\\n    ax.legend()\\n\\n    plt.tight_layout()\\n    plt.show()\\n'"
      ]
     },
     "metadata": {},
     "output_type": "display_data"
    }
   ],
   "source": [
    "\n",
    "\"\"\"\n",
    "def plot_ecg_cycle_with_features(cycle, signal, fs, cycle_num=0):\n",
    "    fig, ax = plt.subplots(figsize=(15, 8))\n",
    "    \n",
    "    # 1. Автоматическое определение границ цикла --------------------------------------\n",
    "    available_points = []\n",
    "    for point in ['ECG_P_Onsets', 'ECG_Q_Peaks', 'ECG_R_Peaks', 'ECG_S_Peaks', 'ECG_T_Offsets']:\n",
    "        if point in cycle and len(cycle[point]) > 0:\n",
    "            available_points.append(int(cycle[point][0]))\n",
    "    \n",
    "    if not available_points:\n",
    "        print(f\"Цикл {cycle_num}: нет точек для отрисовки\")\n",
    "        return fig\n",
    "    \n",
    "    # Границы цикла (с запасом 10% по краям)\n",
    "    start = max(0, min(available_points) - int(0.1*fs))\n",
    "    end = min(len(signal), max(available_points) + int(0.1*fs))\n",
    "    \n",
    "    # 2. Отрисовка сигнала ----------------------------------------------------------\n",
    "    time = np.arange(start, end) / fs\n",
    "    ax.plot(time, signal[start:end], 'b-', linewidth=1.5, label='ЭКГ сигнал')\n",
    "    \n",
    "    # 3. Разметка точек (только существующие) ---------------------------------------\n",
    "    point_style = {\n",
    "        'ECG_P_Onsets': ('<', 'green', 'P начало'),\n",
    "        'ECG_P_Peaks': ('o', 'lime', 'P пик'),\n",
    "        'ECG_P_Offsets': ('>', 'darkgreen', 'P конец'),\n",
    "        'ECG_Q_Peaks': ('x', 'red', 'Q'),\n",
    "        'ECG_R_Peaks': ('o', 'black', 'R'),\n",
    "        'ECG_S_Peaks': ('x', 'blue', 'S'),\n",
    "        'ECG_T_Onsets': ('<', 'purple', 'T начало'),\n",
    "        'ECG_T_Peaks': ('o', 'magenta', 'T пик'),\n",
    "        'ECG_T_Offsets': ('>', 'darkviolet', 'T конец')\n",
    "    }\n",
    "    \n",
    "    for point, (marker, color, label) in point_style.items():\n",
    "        if point in cycle and len(cycle[point]) > 0:\n",
    "            x = cycle[point][0] / fs\n",
    "            y = signal[int(cycle[point][0])]\n",
    "            ax.plot(x, y, marker=marker, color=color, markersize=10, label=label)\n",
    "    \n",
    "    # 4. Отрисовка интервалов (только для существующих пар) -------------------------\n",
    "    def draw_interval_if_exists(start_point, end_point, y_pos, label):\n",
    "        if (start_point in cycle and len(cycle[start_point]) > 0 and \n",
    "            end_point in cycle and len(cycle[end_point]) > 0):\n",
    "            x1 = cycle[start_point][0] / fs\n",
    "            x2 = cycle[end_point][0] / fs\n",
    "            ax.add_patch(Rectangle((x1, y_pos), x2-x1, 0.1, alpha=0.3, color='gray'))\n",
    "            ax.text((x1+x2)/2, y_pos+0.15, f'{label}\\n{(x2-x1)*1000:.1f} мс', \n",
    "                    ha='center', va='bottom', fontsize=9, bbox=dict(facecolor='white', alpha=0.7))\n",
    "    \n",
    "    y_min = np.min(signal[start:end])\n",
    "    draw_interval_if_exists('ECG_P_Onsets', 'ECG_P_Offsets', y_min-0.3, 'P')\n",
    "    draw_interval_if_exists('ECG_Q_Peaks', 'ECG_S_Peaks', y_min-0.5, 'QRS')\n",
    "    draw_interval_if_exists('ECG_Q_Peaks', 'ECG_T_Offsets', y_min-0.7, 'QT')\n",
    "    \n",
    "    # 5. Настройка графика ----------------------------------------------------------\n",
    "    ax.set_xlabel('Время (с)', fontsize=12)\n",
    "    ax.set_ylabel('Амплитуда (мВ)', fontsize=12)\n",
    "    ax.set_title(f'Цикл {cycle_num}', fontsize=14)\n",
    "    ax.grid(True, linestyle='--', alpha=0.5)\n",
    "    \n",
    "    # Убираем дубликаты в легенде\n",
    "    handles, labels = ax.get_legend_handles_labels()\n",
    "    unique_labels = dict(zip(labels, handles))\n",
    "    ax.legend(unique_labels.values(), unique_labels.keys(), loc='upper right')\n",
    "    \n",
    "    plt.tight_layout()\n",
    "    return fig\n",
    "\n",
    "def plot_averaged_signal(avg_signal, before_r, after_r, fs):\n",
    "    if avg_signal is None:\n",
    "        print(\"Невозможно построить график: недостаточно данных\")\n",
    "        return\n",
    "    \n",
    "    fig, ax = plt.subplots(figsize=(14, 7))\n",
    "    \n",
    "    # 1. Временная ось (в мс относительно R-пика)\n",
    "    time = (np.arange(len(avg_signal)) - before_r) / fs * 1000  # мс\n",
    "    \n",
    "    # 2. Отрисовка сигнала\n",
    "    ax.plot(time, avg_signal, 'b-', linewidth=2, label='Усредненный ЭКГ')\n",
    "    \n",
    "    # 3. Разметка ключевых элементов\n",
    "    ax.axvline(x=0, color='r', linestyle='--', label='R-пик (0 мс)')\n",
    "    ax.axvline(x=-before_r, color='gray', linestyle=':', label=f'Начало окна (-{before_r/fs*1000:.0f} мс)')\n",
    "    ax.axvline(x=after_r, color='gray', linestyle=':', label=f'Конец окна (+{after_r/fs*1000:.0f} мс)')\n",
    "    \n",
    "    # 4. Настройка графика\n",
    "    ax.set_xlabel('Время относительно R-пика (мс)', fontsize=12)\n",
    "    ax.set_ylabel('Амплитуда (мВ)', fontsize=12)\n",
    "    ax.set_title(f'Усредненный PQRST комплекс (окно ±{before_r/fs*1000:.0f}/{after_r/fs*1000:.0f} мс)', fontsize=14)\n",
    "    ax.grid(True, linestyle='--', alpha=0.5)\n",
    "    ax.legend(loc='upper right')\n",
    "    \n",
    "    plt.tight_layout()\n",
    "    plt.show()\n",
    "\n",
    "def plot_averaged_ecg(signal, cycles, fs):\n",
    "    # 1. Подготовка данных для усреднения\n",
    "    r_peaks = [int(cycle['ECG_R_Peaks'][0]) for cycle in cycles if 'ECG_R_Peaks' in cycle]\n",
    "    if len(r_peaks) < 2:\n",
    "        print(\"Недостаточно циклов для усреднения\")\n",
    "        return\n",
    "    \n",
    "    before_r = int(0.2 * fs)  # 200 мс до R\n",
    "    after_r = int(0.5 * fs)   # 500 мс после R\n",
    "    segments = []\n",
    "    \n",
    "    for r in r_peaks:\n",
    "        start = max(0, r - before_r)\n",
    "        end = min(len(signal), r + after_r)\n",
    "        segment = signal[start:end]\n",
    "        \n",
    "        # Выравнивание по длине (если циклы у границ сигнала)\n",
    "        if len(segment) < (before_r + after_r):\n",
    "            pad_width = (before_r + after_r) - len(segment)\n",
    "            segment = np.pad(segment, (0, pad_width), mode='constant')\n",
    "        \n",
    "        segments.append(segment)\n",
    "    \n",
    "    # 3. Усреднение и построение\n",
    "    avg_signal = np.mean(segments, axis=0)\n",
    "    time = (np.arange(len(avg_signal)) / fs) - 0.2  # Время относительно R-пика\n",
    "    \n",
    "    fig, ax = plt.subplots(figsize=(12, 6))\n",
    "    ax.plot(time, avg_signal, 'b-', linewidth=2, label='Усредненный сигнал')\n",
    "    \n",
    "    # 4. Разметка характерных точек (медианные положения)\n",
    "    point_labels = {\n",
    "        'ECG_P_Peaks': ('P', 'green'),\n",
    "        'ECG_Q_Peaks': ('Q', 'red'),\n",
    "        'ECG_S_Peaks': ('S', 'blue'),\n",
    "        'ECG_T_Peaks': ('T', 'purple')\n",
    "    }\n",
    "    \n",
    "    for point_key, (label, color) in point_labels.items():\n",
    "        points = []\n",
    "        for cycle in cycles:\n",
    "            if point_key in cycle and len(cycle[point_key]) > 0:\n",
    "                points.append(cycle[point_key][0])\n",
    "        \n",
    "        if len(points) > 0:\n",
    "            median_pos = np.median(points) - r_peaks[0]  # Относительно первого R-пика\n",
    "            median_time = median_pos / fs\n",
    "            y_val = np.interp(median_pos, np.arange(len(avg_signal)), avg_signal)\n",
    "            ax.plot(median_time, y_val, 'o', color=color, markersize=8, label=label)\n",
    "    \n",
    "    # 5. Настройка графика\n",
    "    ax.axvline(x=0, color='black', linestyle='--', label='R-пик')\n",
    "    ax.set_xlabel('Время относительно R-пика (с)')\n",
    "    ax.set_ylabel('Амплитуда (мВ)')\n",
    "    ax.set_title(f'Усредненный PQRST комплекс (n={len(cycles)} циклов)')\n",
    "    ax.grid(True, linestyle='--', alpha=0.6)\n",
    "    ax.legend()\n",
    "    \n",
    "    plt.tight_layout()\n",
    "    plt.show()\n",
    "\"\"\""
   ]
  }
 ],
 "metadata": {
  "kernelspec": {
   "display_name": "venv_ecg",
   "language": "python",
   "name": "python3"
  },
  "language_info": {
   "codemirror_mode": {
    "name": "ipython",
    "version": 3
   },
   "file_extension": ".py",
   "mimetype": "text/x-python",
   "name": "python",
   "nbconvert_exporter": "python",
   "pygments_lexer": "ipython3",
   "version": "3.11.9"
  }
 },
 "nbformat": 4,
 "nbformat_minor": 5
}
